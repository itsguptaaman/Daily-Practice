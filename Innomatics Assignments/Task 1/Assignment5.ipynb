{
 "cells": [
  {
   "cell_type": "markdown",
   "id": "8b639890",
   "metadata": {},
   "source": [
    "### Loops\n",
    "\n",
    "Sample Input 0<br>\n",
    "`\n",
    "5\n",
    "`\n",
    "<br>\n",
    "Sample Output 0<br>\n",
    "`\n",
    "0\n",
    "1\n",
    "4\n",
    "9\n",
    "16\n",
    "`\n"
   ]
  },
  {
   "cell_type": "code",
   "execution_count": 1,
   "id": "20132892",
   "metadata": {},
   "outputs": [
    {
     "name": "stdout",
     "output_type": "stream",
     "text": [
      "5\n",
      "0\n",
      "1\n",
      "4\n",
      "9\n",
      "16\n"
     ]
    }
   ],
   "source": [
    "if __name__ == '__main__':\n",
    "    n = int(input())\n",
    "    for i in range(n):\n",
    "        print(i * i)\n"
   ]
  },
  {
   "cell_type": "code",
   "execution_count": null,
   "id": "dbbf29fe",
   "metadata": {},
   "outputs": [],
   "source": []
  }
 ],
 "metadata": {
  "kernelspec": {
   "display_name": "Python 3 (ipykernel)",
   "language": "python",
   "name": "python3"
  },
  "language_info": {
   "codemirror_mode": {
    "name": "ipython",
    "version": 3
   },
   "file_extension": ".py",
   "mimetype": "text/x-python",
   "name": "python",
   "nbconvert_exporter": "python",
   "pygments_lexer": "ipython3",
   "version": "3.9.12"
  }
 },
 "nbformat": 4,
 "nbformat_minor": 5
}
