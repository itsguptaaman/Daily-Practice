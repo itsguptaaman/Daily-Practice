{
 "cells": [
  {
   "cell_type": "code",
   "execution_count": null,
   "id": "5f0e1530",
   "metadata": {},
   "outputs": [],
   "source": [
    "#!/bin/python3\n",
    "\n",
    "import math\n",
    "import os\n",
    "import random\n",
    "import re\n",
    "import sys\n",
    "import string\n",
    "# Complete the solve function below.\n",
    "def solve(s):\n",
    "    return string.capwords(s)\n",
    "\n",
    "if __name__ == '__main__':\n",
    "    fptr = open(os.environ['OUTPUT_PATH'], 'w')\n",
    "\n",
    "    s = input()\n",
    "\n",
    "    result = solve(s)\n",
    "\n",
    "    fptr.write(result + '\\n')\n",
    "\n",
    "    fptr.close()\n"
   ]
  }
 ],
 "metadata": {
  "kernelspec": {
   "display_name": "Python 3 (ipykernel)",
   "language": "python",
   "name": "python3"
  },
  "language_info": {
   "codemirror_mode": {
    "name": "ipython",
    "version": 3
   },
   "file_extension": ".py",
   "mimetype": "text/x-python",
   "name": "python",
   "nbconvert_exporter": "python",
   "pygments_lexer": "ipython3",
   "version": "3.9.12"
  }
 },
 "nbformat": 4,
 "nbformat_minor": 5
}
