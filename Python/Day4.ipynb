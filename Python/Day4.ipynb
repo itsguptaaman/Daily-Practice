{
 "cells": [
  {
   "cell_type": "code",
   "execution_count": null,
   "id": "84e2130b",
   "metadata": {},
   "outputs": [],
   "source": []
  },
  {
   "cell_type": "code",
   "execution_count": 1,
   "id": "4d3fe93c",
   "metadata": {},
   "outputs": [],
   "source": [
    "# Class method as a constructor"
   ]
  },
  {
   "cell_type": "code",
   "execution_count": 2,
   "id": "377dc183",
   "metadata": {},
   "outputs": [
    {
     "name": "stdout",
     "output_type": "stream",
     "text": [
      "Rohan\n",
      "12000\n"
     ]
    }
   ],
   "source": [
    "class Employee:\n",
    "    \n",
    "    def __init__(self, name, salary):\n",
    "        self.name = name\n",
    "        self.salary = salary\n",
    "        \n",
    "    @classmethod\n",
    "    def from_str(cls, string):\n",
    "        return cls(string.split(\"-\")[0], string.split(\"-\")[1])\n",
    "        \n",
    "e = Employee(\"Rohan\", 12000)\n",
    "print(e.name)\n",
    "print(e.salary)\n"
   ]
  },
  {
   "cell_type": "code",
   "execution_count": 3,
   "id": "00622d74",
   "metadata": {},
   "outputs": [
    {
     "name": "stdout",
     "output_type": "stream",
     "text": [
      "Rohan\n",
      "12000\n"
     ]
    }
   ],
   "source": [
    "string = \"Rohan-12000\"\n",
    "e2 = Employee(string.split(\"-\")[0], string.split(\"-\")[1])\n",
    "print(e2.name)\n",
    "print(e2.salary)\n"
   ]
  },
  {
   "cell_type": "code",
   "execution_count": 4,
   "id": "35ff679e",
   "metadata": {},
   "outputs": [
    {
     "name": "stdout",
     "output_type": "stream",
     "text": [
      "Rohan\n",
      "12000\n"
     ]
    }
   ],
   "source": [
    "string = \"Rohan-12000\"\n",
    "e2 = Employee.from_str(string)\n",
    "print(e2.name)\n",
    "print(e2.salary)"
   ]
  },
  {
   "cell_type": "code",
   "execution_count": 5,
   "id": "7f861869",
   "metadata": {},
   "outputs": [
    {
     "data": {
      "text/plain": [
       "['__class__',\n",
       " '__delattr__',\n",
       " '__dict__',\n",
       " '__dir__',\n",
       " '__doc__',\n",
       " '__eq__',\n",
       " '__format__',\n",
       " '__ge__',\n",
       " '__getattribute__',\n",
       " '__gt__',\n",
       " '__hash__',\n",
       " '__init__',\n",
       " '__init_subclass__',\n",
       " '__le__',\n",
       " '__lt__',\n",
       " '__module__',\n",
       " '__ne__',\n",
       " '__new__',\n",
       " '__reduce__',\n",
       " '__reduce_ex__',\n",
       " '__repr__',\n",
       " '__setattr__',\n",
       " '__sizeof__',\n",
       " '__str__',\n",
       " '__subclasshook__',\n",
       " '__weakref__',\n",
       " 'from_str']"
      ]
     },
     "execution_count": 5,
     "metadata": {},
     "output_type": "execute_result"
    }
   ],
   "source": [
    "dir(Employee)"
   ]
  },
  {
   "cell_type": "code",
   "execution_count": 6,
   "id": "e4e44548",
   "metadata": {},
   "outputs": [
    {
     "data": {
      "text/plain": [
       "{'name': 'Rohan', 'salary': '12000'}"
      ]
     },
     "execution_count": 6,
     "metadata": {},
     "output_type": "execute_result"
    }
   ],
   "source": [
    "e2.__dict__"
   ]
  },
  {
   "cell_type": "code",
   "execution_count": 7,
   "id": "5c57fb7e",
   "metadata": {},
   "outputs": [
    {
     "name": "stdout",
     "output_type": "stream",
     "text": [
      "Help on class Employee in module __main__:\n",
      "\n",
      "class Employee(builtins.object)\n",
      " |  Employee(name, salary)\n",
      " |  \n",
      " |  Methods defined here:\n",
      " |  \n",
      " |  __init__(self, name, salary)\n",
      " |      Initialize self.  See help(type(self)) for accurate signature.\n",
      " |  \n",
      " |  ----------------------------------------------------------------------\n",
      " |  Class methods defined here:\n",
      " |  \n",
      " |  from_str(string) from builtins.type\n",
      " |  \n",
      " |  ----------------------------------------------------------------------\n",
      " |  Data descriptors defined here:\n",
      " |  \n",
      " |  __dict__\n",
      " |      dictionary for instance variables (if defined)\n",
      " |  \n",
      " |  __weakref__\n",
      " |      list of weak references to the object (if defined)\n",
      "\n"
     ]
    }
   ],
   "source": [
    "help(Employee)"
   ]
  },
  {
   "cell_type": "code",
   "execution_count": 8,
   "id": "8decf63f",
   "metadata": {},
   "outputs": [],
   "source": [
    "# Super Keyword"
   ]
  },
  {
   "cell_type": "code",
   "execution_count": 9,
   "id": "2ab925dd",
   "metadata": {},
   "outputs": [],
   "source": [
    "class ParentClass:\n",
    "    \n",
    "     def parent_method(self):\n",
    "        print(\"This is the parent method.\")\n",
    "        \n",
    "class ChildClass(ParentClass):\n",
    "    \n",
    "    def parent_method(self):\n",
    "        print( \"Aman\")\n",
    "        super().parent_method()\n",
    "        \n",
    "    def child_method(self):\n",
    "        print(\"This is the childmethod.\")\n",
    "        super().parent_method()\n"
   ]
  },
  {
   "cell_type": "code",
   "execution_count": 10,
   "id": "32609253",
   "metadata": {},
   "outputs": [
    {
     "name": "stdout",
     "output_type": "stream",
     "text": [
      "This is the childmethod.\n",
      "This is the parent method.\n"
     ]
    }
   ],
   "source": [
    "child_object = ChildClass()\n",
    "child_object.child_method()"
   ]
  },
  {
   "cell_type": "code",
   "execution_count": 11,
   "id": "b0aa3f7d",
   "metadata": {},
   "outputs": [
    {
     "name": "stdout",
     "output_type": "stream",
     "text": [
      "Aman\n",
      "This is the parent method.\n"
     ]
    }
   ],
   "source": [
    "child_object.parent_method()"
   ]
  },
  {
   "cell_type": "code",
   "execution_count": 12,
   "id": "a613135c",
   "metadata": {},
   "outputs": [
    {
     "name": "stdout",
     "output_type": "stream",
     "text": [
      "Aman\n",
      "This is the parent method.\n"
     ]
    }
   ],
   "source": [
    "child_object.parent_method()"
   ]
  },
  {
   "cell_type": "code",
   "execution_count": 13,
   "id": "451692ae",
   "metadata": {},
   "outputs": [
    {
     "name": "stdout",
     "output_type": "stream",
     "text": [
      "Harry\n",
      "2345\n",
      "Python\n"
     ]
    }
   ],
   "source": [
    "class Employee:\n",
    "    \n",
    "    def __init__(self, name, id):\n",
    "        self.name = name\n",
    "        self.id = id\n",
    "        \n",
    "class Programmer(Employee):\n",
    "    \n",
    "    def __init__(self, name, id, lang):\n",
    "        super().__init__( name, id)\n",
    "        self. lang = lang\n",
    "        \n",
    "rohan = Employee(\"Rohan Das\", \"420\")\n",
    "harry = Programmer(\"Harry\", \"2345\", \"Python\")\n",
    "print(harry.name)\n",
    "print(harry. id)\n",
    "print(harry.lang)\n"
   ]
  },
  {
   "cell_type": "code",
   "execution_count": 14,
   "id": "7234032c",
   "metadata": {},
   "outputs": [
    {
     "name": "stdout",
     "output_type": "stream",
     "text": [
      "Aman\n",
      "4\n"
     ]
    }
   ],
   "source": [
    "# Magic methods in python\n",
    "class Employee:\n",
    "    name = \"Aman\"\n",
    "    \n",
    "    def __len__(self):\n",
    "        i = 0\n",
    "        for с in self.name:\n",
    "            i += 1\n",
    "        return i\n",
    "    \n",
    "    def __call__(self):\n",
    "        return \"Hey i am good\"\n",
    "    \n",
    "e = Employee()\n",
    "print(e.name)\n",
    "print(len(e))\n"
   ]
  },
  {
   "cell_type": "code",
   "execution_count": 15,
   "id": "2943e4d8",
   "metadata": {},
   "outputs": [
    {
     "data": {
      "text/plain": [
       "'Hey i am good'"
      ]
     },
     "execution_count": 15,
     "metadata": {},
     "output_type": "execute_result"
    }
   ],
   "source": [
    "e()"
   ]
  },
  {
   "cell_type": "code",
   "execution_count": 16,
   "id": "34dc052d",
   "metadata": {},
   "outputs": [
    {
     "name": "stdout",
     "output_type": "stream",
     "text": [
      "3i + 5j + 6k\n",
      "1i + 2j + 9k\n",
      "4i + 7j + 15k\n",
      "<class '__main__.Vector'>\n"
     ]
    }
   ],
   "source": [
    "class Vector:\n",
    "    def __init__(self, i, j, k):\n",
    "        self.i = i\n",
    "        self.j = j\n",
    "        self.k = k \n",
    "        \n",
    "    def __str__(self):\n",
    "         return f\"{self.i}i + {self.j}j + {self.k}k\"\n",
    "\n",
    "    def __add__(self, x):\n",
    "        return Vector(self.i + x.i, self.j + x.j, self.k + x.k)\n",
    "\n",
    "\n",
    "v1 = Vector(3, 5, 6)\n",
    "print(v1)\n",
    "v2 = Vector(1, 2, 9)\n",
    "print(v2)\n",
    "print(v1 + v2)\n",
    "print(type(v1 + v2))"
   ]
  },
  {
   "cell_type": "code",
   "execution_count": 17,
   "id": "7ca19841",
   "metadata": {},
   "outputs": [
    {
     "name": "stdout",
     "output_type": "stream",
     "text": [
      "False\n"
     ]
    }
   ],
   "source": [
    "# Walrus operator\n",
    "a = True\n",
    "print(a:= False)"
   ]
  },
  {
   "cell_type": "code",
   "execution_count": 22,
   "id": "093f8b5b",
   "metadata": {},
   "outputs": [
    {
     "name": "stdout",
     "output_type": "stream",
     "text": [
      "x is greater than y\n"
     ]
    }
   ],
   "source": [
    "x = 15\n",
    "y = 10\n",
    "print(\"x is greater than y\") if x > y else print(\"x is less than y\") if x < y else print(\"X and y are equal\")"
   ]
  },
  {
   "cell_type": "code",
   "execution_count": 24,
   "id": "3568f29f",
   "metadata": {},
   "outputs": [
    {
     "name": "stdout",
     "output_type": "stream",
     "text": [
      "Hello\n"
     ]
    }
   ],
   "source": [
    "x = 1\n",
    "print(\"Hello\") if x == True else print(\"Hii\")"
   ]
  },
  {
   "cell_type": "code",
   "execution_count": 25,
   "id": "b91058bf",
   "metadata": {},
   "outputs": [
    {
     "name": "stdout",
     "output_type": "stream",
     "text": [
      "False\n"
     ]
    }
   ],
   "source": [
    "# Walrus operator\n",
    "a = True\n",
    "print(a:= False)"
   ]
  },
  {
   "cell_type": "code",
   "execution_count": 28,
   "id": "0cc8baea",
   "metadata": {},
   "outputs": [
    {
     "name": "stdout",
     "output_type": "stream",
     "text": [
      "5\n",
      "4\n",
      "3\n",
      "2\n",
      "1\n"
     ]
    },
    {
     "data": {
      "text/plain": [
       "[]"
      ]
     },
     "execution_count": 28,
     "metadata": {},
     "output_type": "execute_result"
    }
   ],
   "source": [
    "l = [1, 2, 3, 4, 5]\n",
    "while (n:= len(l) > 0):\n",
    "    print(l.pop())\n",
    "l"
   ]
  },
  {
   "cell_type": "code",
   "execution_count": 31,
   "id": "404f592a",
   "metadata": {},
   "outputs": [
    {
     "name": "stdout",
     "output_type": "stream",
     "text": [
      "0\n",
      "1\n",
      "2\n",
      "3\n",
      "4\n",
      "5\n"
     ]
    }
   ],
   "source": [
    "x = 0\n",
    "while(x <= 5):\n",
    "    print(x)\n",
    "    x += 1"
   ]
  },
  {
   "cell_type": "code",
   "execution_count": 34,
   "id": "ec4ae05b",
   "metadata": {},
   "outputs": [
    {
     "name": "stdout",
     "output_type": "stream",
     "text": [
      "What food do you like?: Apple\n",
      "What food do you like?: Mango\n",
      "What food do you like?: quit\n"
     ]
    }
   ],
   "source": [
    "foods = list()\n",
    "while True:\n",
    "    food = input(\"What food do you like?: \")\n",
    "    if food == \"quit\":\n",
    "        break\n",
    "    foods.append(food)"
   ]
  },
  {
   "cell_type": "code",
   "execution_count": 36,
   "id": "5d668462",
   "metadata": {},
   "outputs": [
    {
     "data": {
      "text/plain": [
       "['Apple', 'Mango']"
      ]
     },
     "execution_count": 36,
     "metadata": {},
     "output_type": "execute_result"
    }
   ],
   "source": [
    "foods"
   ]
  },
  {
   "cell_type": "code",
   "execution_count": 38,
   "id": "6a9aaf10",
   "metadata": {},
   "outputs": [
    {
     "name": "stdout",
     "output_type": "stream",
     "text": [
      "What food do you like?: Apple\n",
      "What food do you like?: Mango\n",
      "What food do you like?: quit\n"
     ]
    }
   ],
   "source": [
    "foods = list()\n",
    "while (food := input( \"What food do you like?: \")) != \"quit\":\n",
    "     foods.append(food)"
   ]
  },
  {
   "cell_type": "code",
   "execution_count": 39,
   "id": "0b79ad56",
   "metadata": {},
   "outputs": [
    {
     "data": {
      "text/plain": [
       "['Apple', 'Mango']"
      ]
     },
     "execution_count": 39,
     "metadata": {},
     "output_type": "execute_result"
    }
   ],
   "source": [
    "foods"
   ]
  },
  {
   "cell_type": "code",
   "execution_count": null,
   "id": "ec6daa3e",
   "metadata": {},
   "outputs": [],
   "source": []
  },
  {
   "cell_type": "code",
   "execution_count": 40,
   "id": "220acb50",
   "metadata": {},
   "outputs": [],
   "source": [
    "# Generator\n",
    "def my_gen(n):\n",
    "    for i in range(n):\n",
    "        yield i"
   ]
  },
  {
   "cell_type": "code",
   "execution_count": 41,
   "id": "ee059b60",
   "metadata": {},
   "outputs": [],
   "source": [
    "res = my_gen(10)"
   ]
  },
  {
   "cell_type": "code",
   "execution_count": 43,
   "id": "5f14c5a1",
   "metadata": {},
   "outputs": [
    {
     "data": {
      "text/plain": [
       "0"
      ]
     },
     "execution_count": 43,
     "metadata": {},
     "output_type": "execute_result"
    }
   ],
   "source": [
    "next(res)"
   ]
  },
  {
   "cell_type": "code",
   "execution_count": 44,
   "id": "fa8837fa",
   "metadata": {},
   "outputs": [
    {
     "data": {
      "text/plain": [
       "1"
      ]
     },
     "execution_count": 44,
     "metadata": {},
     "output_type": "execute_result"
    }
   ],
   "source": [
    "next(res)"
   ]
  },
  {
   "cell_type": "code",
   "execution_count": 45,
   "id": "a07fe724",
   "metadata": {},
   "outputs": [
    {
     "data": {
      "text/plain": [
       "2"
      ]
     },
     "execution_count": 45,
     "metadata": {},
     "output_type": "execute_result"
    }
   ],
   "source": [
    "next(res)"
   ]
  },
  {
   "cell_type": "code",
   "execution_count": 46,
   "id": "c648bbf1",
   "metadata": {},
   "outputs": [
    {
     "data": {
      "text/plain": [
       "3"
      ]
     },
     "execution_count": 46,
     "metadata": {},
     "output_type": "execute_result"
    }
   ],
   "source": [
    "next(res)"
   ]
  },
  {
   "cell_type": "code",
   "execution_count": 47,
   "id": "c4cd6184",
   "metadata": {},
   "outputs": [
    {
     "data": {
      "text/plain": [
       "4"
      ]
     },
     "execution_count": 47,
     "metadata": {},
     "output_type": "execute_result"
    }
   ],
   "source": [
    "next(res)"
   ]
  },
  {
   "cell_type": "code",
   "execution_count": 48,
   "id": "4ba03a58",
   "metadata": {},
   "outputs": [
    {
     "data": {
      "text/plain": [
       "5"
      ]
     },
     "execution_count": 48,
     "metadata": {},
     "output_type": "execute_result"
    }
   ],
   "source": [
    "next(res)"
   ]
  },
  {
   "cell_type": "code",
   "execution_count": 49,
   "id": "6ed4aa1a",
   "metadata": {},
   "outputs": [
    {
     "data": {
      "text/plain": [
       "6"
      ]
     },
     "execution_count": 49,
     "metadata": {},
     "output_type": "execute_result"
    }
   ],
   "source": [
    "next(res)"
   ]
  },
  {
   "cell_type": "code",
   "execution_count": 50,
   "id": "30624f0f",
   "metadata": {},
   "outputs": [
    {
     "data": {
      "text/plain": [
       "7"
      ]
     },
     "execution_count": 50,
     "metadata": {},
     "output_type": "execute_result"
    }
   ],
   "source": [
    "next(res)"
   ]
  },
  {
   "cell_type": "code",
   "execution_count": 51,
   "id": "49f5ffe1",
   "metadata": {},
   "outputs": [
    {
     "data": {
      "text/plain": [
       "8"
      ]
     },
     "execution_count": 51,
     "metadata": {},
     "output_type": "execute_result"
    }
   ],
   "source": [
    "next(res)"
   ]
  },
  {
   "cell_type": "code",
   "execution_count": 52,
   "id": "75161a45",
   "metadata": {},
   "outputs": [
    {
     "data": {
      "text/plain": [
       "9"
      ]
     },
     "execution_count": 52,
     "metadata": {},
     "output_type": "execute_result"
    }
   ],
   "source": [
    "next(res)"
   ]
  },
  {
   "cell_type": "code",
   "execution_count": 53,
   "id": "be5e8916",
   "metadata": {},
   "outputs": [
    {
     "ename": "StopIteration",
     "evalue": "",
     "output_type": "error",
     "traceback": [
      "\u001b[1;31m---------------------------------------------------------------------------\u001b[0m",
      "\u001b[1;31mStopIteration\u001b[0m                             Traceback (most recent call last)",
      "Cell \u001b[1;32mIn[53], line 1\u001b[0m\n\u001b[1;32m----> 1\u001b[0m \u001b[38;5;28;43mnext\u001b[39;49m\u001b[43m(\u001b[49m\u001b[43mres\u001b[49m\u001b[43m)\u001b[49m\n",
      "\u001b[1;31mStopIteration\u001b[0m: "
     ]
    }
   ],
   "source": [
    "next(res)"
   ]
  },
  {
   "cell_type": "code",
   "execution_count": 61,
   "id": "a5260892",
   "metadata": {},
   "outputs": [],
   "source": [
    "x = (i for i in range(5))"
   ]
  },
  {
   "cell_type": "code",
   "execution_count": 62,
   "id": "c302fda3",
   "metadata": {},
   "outputs": [
    {
     "data": {
      "text/plain": [
       "0"
      ]
     },
     "execution_count": 62,
     "metadata": {},
     "output_type": "execute_result"
    }
   ],
   "source": [
    "next(x)"
   ]
  },
  {
   "cell_type": "code",
   "execution_count": 63,
   "id": "0ace4a47",
   "metadata": {},
   "outputs": [
    {
     "data": {
      "text/plain": [
       "1"
      ]
     },
     "execution_count": 63,
     "metadata": {},
     "output_type": "execute_result"
    }
   ],
   "source": [
    "next(x)"
   ]
  },
  {
   "cell_type": "code",
   "execution_count": 64,
   "id": "2ff0bd96",
   "metadata": {},
   "outputs": [
    {
     "name": "stdout",
     "output_type": "stream",
     "text": [
      "11\n"
     ]
    }
   ],
   "source": [
    "# \n",
    "def outer(x):\n",
    "    def inner(y):\n",
    "        return x + y\n",
    "    return inner\n",
    "\n",
    "add_five = outer(5)\n",
    "result = add_five(6)\n",
    "print(result)  # prints 11"
   ]
  },
  {
   "cell_type": "code",
   "execution_count": null,
   "id": "523836f4",
   "metadata": {},
   "outputs": [],
   "source": []
  },
  {
   "cell_type": "code",
   "execution_count": null,
   "id": "88c20697",
   "metadata": {},
   "outputs": [],
   "source": []
  },
  {
   "cell_type": "code",
   "execution_count": null,
   "id": "ab7b3719",
   "metadata": {},
   "outputs": [],
   "source": []
  },
  {
   "cell_type": "code",
   "execution_count": null,
   "id": "76261bc5",
   "metadata": {},
   "outputs": [],
   "source": []
  }
 ],
 "metadata": {
  "kernelspec": {
   "display_name": "Python 3 (ipykernel)",
   "language": "python",
   "name": "python3"
  },
  "language_info": {
   "codemirror_mode": {
    "name": "ipython",
    "version": 3
   },
   "file_extension": ".py",
   "mimetype": "text/x-python",
   "name": "python",
   "nbconvert_exporter": "python",
   "pygments_lexer": "ipython3",
   "version": "3.10.10"
  }
 },
 "nbformat": 4,
 "nbformat_minor": 5
}
