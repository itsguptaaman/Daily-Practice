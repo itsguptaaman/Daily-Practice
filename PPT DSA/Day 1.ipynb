{
 "cells": [
  {
   "cell_type": "markdown",
   "id": "d643de5f",
   "metadata": {},
   "source": [
    "https://pythontutor.com/visualize.html#mode=edit"
   ]
  },
  {
   "cell_type": "markdown",
   "id": "2925b48a",
   "metadata": {},
   "source": [
    "<aside>\n",
    "💡 **Q1.** Given an array of size N. The task is to find the maximum and the minimum element of the array using the minimum number of comparisons.\n",
    "\n",
    "**Examples:**\n",
    "\n",
    "Input: arr[] = {3, 5, 4, 1, 9}\n",
    "\n",
    "Output: Minimum element is: 1\n",
    "\n",
    "Maximum element is: 9\n",
    "\n",
    "</aside>"
   ]
  },
  {
   "cell_type": "code",
   "execution_count": 4,
   "id": "51b4adca",
   "metadata": {},
   "outputs": [
    {
     "name": "stdout",
     "output_type": "stream",
     "text": [
      "Minimum element is 1\n",
      "Maximum element is 3000\n"
     ]
    }
   ],
   "source": [
    "# Python program of above implementation\n",
    " \n",
    "# structure is used to return two values from minMax()\n",
    " \n",
    "class pair:\n",
    "\tdef __init__(self):\n",
    "\t\tself.min = 0\n",
    "\t\tself.max = 0\n",
    " \n",
    "def getMinMax(arr: list, n: int) -> pair:\n",
    "\tminmax = pair()\n",
    " \n",
    "\t# If there is only one element then return it as min and max both\n",
    "\tif n == 1:\n",
    "\t\tminmax.max = arr[0]\n",
    "\t\tminmax.min = arr[0]\n",
    "\t\treturn minmax\n",
    " \n",
    "\t# If there are more than one elements, then initialize min\n",
    "\t# and max\n",
    "\tif arr[0] > arr[1]:\n",
    "\t\tminmax.max = arr[0]\n",
    "\t\tminmax.min = arr[1]\n",
    "\telse:\n",
    "\t\tminmax.max = arr[1]\n",
    "\t\tminmax.min = arr[0]\n",
    " \n",
    "\tfor i in range(2, n):\n",
    "\t\tif arr[i] > minmax.max:\n",
    "\t\t\tminmax.max = arr[i]\n",
    "\t\telif arr[i] < minmax.min:\n",
    "\t\t\tminmax.min = arr[i]\n",
    " \n",
    "\treturn minmax\n",
    " \n",
    "# Driver Code\n",
    "if __name__ == \"__main__\":\n",
    "\tarr = [1000, 11, 445, 1, 330, 3000]\n",
    "\tarr_size = 6\n",
    "\tminmax = getMinMax(arr, arr_size)\n",
    "\tprint(\"Minimum element is\", minmax.min)\n",
    "\tprint(\"Maximum element is\", minmax.max)"
   ]
  },
  {
   "cell_type": "markdown",
   "id": "29a04686",
   "metadata": {},
   "source": [
    "<aside>\n",
    "💡 **Q2.** You are given an array prices where prices[i] is the price of a given stock on the ith day.\n",
    "\n",
    "You want to maximize your profit by choosing a single day to buy one stock and choosing a different day in the future to sell that stock.\n",
    "\n",
    "Return the maximum profit you can achieve from this transaction. If you cannot achieve any profit, return 0.\n",
    "\n",
    "**Example :**\n",
    "\n",
    "Input: prices = [7,1,5,3,6,4]\n",
    "\n",
    "Output: 5\n",
    "\n",
    "Explanation: Buy on day 2 (price = 1) and sell on day 5 (price = 6), profit = 6-1 = 5.\n",
    "\n",
    "Note that buying on day 2 and selling on day 1 is not allowed because you must buy before you sell.\n",
    "\n",
    "</aside>"
   ]
  },
  {
   "cell_type": "code",
   "execution_count": 5,
   "id": "bab55295",
   "metadata": {},
   "outputs": [
    {
     "data": {
      "text/plain": [
       "5"
      ]
     },
     "execution_count": 5,
     "metadata": {},
     "output_type": "execute_result"
    }
   ],
   "source": [
    "from typing import List\n",
    "class Solution:\n",
    "    def maxProfit(self, prices: List[int]) -> int:\n",
    "        min_price = float('inf')\n",
    "        max_profit = 0\n",
    "        for i in range(len(prices)):\n",
    "            if prices[i] < min_price:\n",
    "                min_price = prices[i]\n",
    "            elif prices[i] - min_price > max_profit:\n",
    "                max_profit = prices[i] - min_price\n",
    " \n",
    "        return max_profit\n",
    "prices = [7, 1, 5, 3, 6, 4]\n",
    "obj = Solution()\n",
    "obj.maxProfit(prices)"
   ]
  },
  {
   "cell_type": "markdown",
   "id": "39a1b71f",
   "metadata": {},
   "source": [
    "<aside>\n",
    "💡 **Q3.** Given an integer array nums, find a subarray that has the largest product, and return the product.\n",
    "\n",
    "The test cases are generated so that the answer will fit in a 32-bit integer.\n",
    "\n",
    "**Example:**\n",
    "\n",
    "Input: nums = [2,3,-2,4]\n",
    "\n",
    "Output: 6\n",
    "\n",
    "Explanation: [2,3] has the largest product 6.\n",
    "\n",
    "**Solution:**\n",
    "\n",
    "</aside>"
   ]
  },
  {
   "cell_type": "code",
   "execution_count": 6,
   "id": "54df8cc5",
   "metadata": {},
   "outputs": [
    {
     "data": {
      "text/plain": [
       "6"
      ]
     },
     "execution_count": 6,
     "metadata": {},
     "output_type": "execute_result"
    }
   ],
   "source": [
    "from typing import List\n",
    "class Solution:\n",
    "    def maxProduct(self, nums: List[int]) -> int:\n",
    "        if len(nums) == 0:\n",
    "            return 0\n",
    " \n",
    "        max_so_far = nums[0]\n",
    "        min_so_far = nums[0]\n",
    "        result = max_so_far\n",
    " \n",
    "        for i in range(1, len(nums)):\n",
    "            curr = nums[i]\n",
    "            temp_max = max(curr, max_so_far * curr, min_so_far * curr)\n",
    "            min_so_far = min(curr, max_so_far * curr, min_so_far * curr)\n",
    " \n",
    "            max_so_far = temp_max\n",
    " \n",
    "            result = max(max_so_far, result)\n",
    " \n",
    "        return result\n",
    "\n",
    "nums = [2,3,-2,4]\n",
    "obj = Solution()\n",
    "obj.maxProduct(nums)"
   ]
  },
  {
   "cell_type": "markdown",
   "id": "1638acbe",
   "metadata": {},
   "source": [
    "<aside>\n",
    "💡 **Q4.** Given an integer array nums, return all the triplets [nums[i], nums[j], nums[k]] such that i != j, i != k, and j != k, and nums[i] + nums[j] + nums[k] == 0.\n",
    "\n",
    "Notice that the solution set must not contain duplicate triplets.\n",
    "\n",
    "**Example:**\n",
    "\n",
    "Input: nums = [-1,0,1,2,-1,-4]\n",
    "\n",
    "Output: [[-1,-1,2],[-1,0,1]]\n",
    "\n",
    "Explanation:\n",
    "\n",
    "nums[0] + nums[1] + nums[2] = (-1) + 0 + 1 = 0.\n",
    "\n",
    "nums[1] + nums[2] + nums[4] = 0 + 1 + (-1) = 0.\n",
    "\n",
    "nums[0] + nums[3] + nums[4] = (-1) + 2 + (-1) = 0.\n",
    "\n",
    "The distinct triplets are [-1,0,1] and [-1,-1,2].\n",
    "\n",
    "Notice that the order of the output and the order of the triplets does not matter.\n",
    "\n",
    "</aside>"
   ]
  },
  {
   "cell_type": "code",
   "execution_count": 10,
   "id": "22fc89f4",
   "metadata": {},
   "outputs": [
    {
     "data": {
      "text/plain": [
       "[[-1, -1, 2], [-1, 0, 1]]"
      ]
     },
     "execution_count": 10,
     "metadata": {},
     "output_type": "execute_result"
    }
   ],
   "source": [
    "from typing import List\n",
    "class Solution:\n",
    "    def threeSum(self, nums: List[int]) -> List[List[int]]:\n",
    "        res = []\n",
    "        nums.sort()\n",
    "        for i in range(len(nums)):\n",
    "            if nums[i] > 0:\n",
    "                break\n",
    "            if i == 0 or nums[i - 1] != nums[i]:\n",
    "                self.twoSumII(nums, i, res)\n",
    "        return res\n",
    " \n",
    "    def twoSumII(self, nums: List[int], i: int, res: List[List[int]]):\n",
    "        lo, hi = i + 1, len(nums) - 1\n",
    "        while (lo < hi):\n",
    "            sum = nums[i] + nums[lo] + nums[hi]\n",
    "            if sum < 0:\n",
    "                lo += 1\n",
    "            elif sum > 0:\n",
    "                hi -= 1\n",
    "            else:\n",
    "                res.append([nums[i], nums[lo], nums[hi]])\n",
    "                lo += 1\n",
    "                hi -= 1\n",
    "                while lo < hi and nums[lo] == nums[lo - 1]:\n",
    "                    lo += 1\n",
    "\n",
    "nums = [-1, 0, 1, 2, -1, -4]\n",
    "obj = Solution()\n",
    "obj.threeSum(nums)"
   ]
  },
  {
   "cell_type": "markdown",
   "id": "94747e7d",
   "metadata": {},
   "source": [
    "<aside>\n",
    "💡 **Q5.** Given an integer array nums and an integer k, return the kth largest element in the array. Note that it is the kth largest element in the sorted order, not the kth distinct element.\n",
    "\n",
    "**Example 1:**\n",
    "\n",
    "Input: nums = [3,2,1,5,6,4], k = 2\n",
    "\n",
    "Output: 5\n",
    "\n",
    "</aside>"
   ]
  },
  {
   "cell_type": "code",
   "execution_count": 14,
   "id": "33ce65b6",
   "metadata": {},
   "outputs": [
    {
     "data": {
      "text/plain": [
       "5"
      ]
     },
     "execution_count": 14,
     "metadata": {},
     "output_type": "execute_result"
    }
   ],
   "source": [
    "import heapq\n",
    "class Solution:\n",
    "    def findKthLargest(self, nums, k):\n",
    "        \"\"\"\n",
    "        :type nums: List[int]\n",
    "        :type k: int\n",
    "        :rtype: int\n",
    "        \"\"\"\n",
    "        return heapq.nlargest(k, nums)[-1]\n",
    "\n",
    "nums = [3,2,1,5,6,4]\n",
    "k = 2\n",
    "obj = Solution()\n",
    "obj.findKthLargest(nums, k)"
   ]
  },
  {
   "cell_type": "markdown",
   "id": "c429d621",
   "metadata": {},
   "source": [
    "<aside>\n",
    "💡 **Q6.** Given an integer array nums and an integer k, return the kth smallest element in the array. Note that it is the kth smallest element in the sorted order, not the kth distinct element.\n",
    "\n",
    "**Example 1:**\n",
    "\n",
    "Input: nums = [3,2,1,5,6,4], k = 2\n",
    "\n",
    "Output: 2\n",
    "\n",
    "</aside>"
   ]
  },
  {
   "cell_type": "code",
   "execution_count": 15,
   "id": "5edc8c5e",
   "metadata": {},
   "outputs": [],
   "source": [
    "import heapq\n",
    " \n",
    "def find_kth_smallest(nums, k):\n",
    "    return heapq.nsmallest(k, nums)[-1]"
   ]
  },
  {
   "cell_type": "code",
   "execution_count": 16,
   "id": "38b7b866",
   "metadata": {},
   "outputs": [
    {
     "data": {
      "text/plain": [
       "2"
      ]
     },
     "execution_count": 16,
     "metadata": {},
     "output_type": "execute_result"
    }
   ],
   "source": [
    "find_kth_smallest(nums, k)"
   ]
  },
  {
   "cell_type": "code",
   "execution_count": null,
   "id": "0812fb26",
   "metadata": {},
   "outputs": [],
   "source": []
  }
 ],
 "metadata": {
  "kernelspec": {
   "display_name": "Python 3 (ipykernel)",
   "language": "python",
   "name": "python3"
  },
  "language_info": {
   "codemirror_mode": {
    "name": "ipython",
    "version": 3
   },
   "file_extension": ".py",
   "mimetype": "text/x-python",
   "name": "python",
   "nbconvert_exporter": "python",
   "pygments_lexer": "ipython3",
   "version": "3.9.12"
  }
 },
 "nbformat": 4,
 "nbformat_minor": 5
}
