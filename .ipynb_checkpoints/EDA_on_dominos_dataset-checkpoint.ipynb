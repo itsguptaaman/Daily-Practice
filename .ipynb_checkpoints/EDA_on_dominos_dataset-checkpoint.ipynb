{
 "cells": [
  {
   "cell_type": "code",
   "execution_count": null,
   "metadata": {
    "id": "im7b6eZ7nt3m"
   },
   "outputs": [],
   "source": [
    "#import libraries\n",
    "import pandas as pd\n",
    "import numpy as np\n",
    "import seaborn as sns\n",
    "import matplotlib.pyplot as plt\n",
    "\n",
    "%matplotlib inline"
   ]
  },
  {
   "cell_type": "code",
   "execution_count": null,
   "metadata": {
    "colab": {
     "base_uri": "https://localhost:8080/",
     "height": 206
    },
    "id": "GXlWL0fvn5Lr",
    "outputId": "c70d4ec5-da8e-424d-a0fa-82e35fa26ef3"
   },
   "outputs": [
    {
     "data": {
      "text/html": [
       "\n",
       "  <div id=\"df-647deb3b-1fe6-42d5-9b48-bb5a3b23e6ae\">\n",
       "    <div class=\"colab-df-container\">\n",
       "      <div>\n",
       "<style scoped>\n",
       "    .dataframe tbody tr th:only-of-type {\n",
       "        vertical-align: middle;\n",
       "    }\n",
       "\n",
       "    .dataframe tbody tr th {\n",
       "        vertical-align: top;\n",
       "    }\n",
       "\n",
       "    .dataframe thead th {\n",
       "        text-align: right;\n",
       "    }\n",
       "</style>\n",
       "<table border=\"1\" class=\"dataframe\">\n",
       "  <thead>\n",
       "    <tr style=\"text-align: right;\">\n",
       "      <th></th>\n",
       "      <th>order_id</th>\n",
       "      <th>order_placed_at</th>\n",
       "      <th>order_delivered_at</th>\n",
       "    </tr>\n",
       "  </thead>\n",
       "  <tbody>\n",
       "    <tr>\n",
       "      <th>0</th>\n",
       "      <td>1523111</td>\n",
       "      <td>2023-03-01 00:00:59</td>\n",
       "      <td>2023-03-01 00:18:07.443132</td>\n",
       "    </tr>\n",
       "    <tr>\n",
       "      <th>1</th>\n",
       "      <td>1523112</td>\n",
       "      <td>2023-03-01 00:03:59</td>\n",
       "      <td>2023-03-01 00:19:34.925241</td>\n",
       "    </tr>\n",
       "    <tr>\n",
       "      <th>2</th>\n",
       "      <td>1523113</td>\n",
       "      <td>2023-03-01 00:07:22</td>\n",
       "      <td>2023-03-01 00:22:28.291385</td>\n",
       "    </tr>\n",
       "    <tr>\n",
       "      <th>3</th>\n",
       "      <td>1523114</td>\n",
       "      <td>2023-03-01 00:07:47</td>\n",
       "      <td>2023-03-01 00:46:19.019399</td>\n",
       "    </tr>\n",
       "    <tr>\n",
       "      <th>4</th>\n",
       "      <td>1523115</td>\n",
       "      <td>2023-03-01 00:09:03</td>\n",
       "      <td>2023-03-01 00:25:13.619056</td>\n",
       "    </tr>\n",
       "  </tbody>\n",
       "</table>\n",
       "</div>\n",
       "      <button class=\"colab-df-convert\" onclick=\"convertToInteractive('df-647deb3b-1fe6-42d5-9b48-bb5a3b23e6ae')\"\n",
       "              title=\"Convert this dataframe to an interactive table.\"\n",
       "              style=\"display:none;\">\n",
       "        \n",
       "  <svg xmlns=\"http://www.w3.org/2000/svg\" height=\"24px\"viewBox=\"0 0 24 24\"\n",
       "       width=\"24px\">\n",
       "    <path d=\"M0 0h24v24H0V0z\" fill=\"none\"/>\n",
       "    <path d=\"M18.56 5.44l.94 2.06.94-2.06 2.06-.94-2.06-.94-.94-2.06-.94 2.06-2.06.94zm-11 1L8.5 8.5l.94-2.06 2.06-.94-2.06-.94L8.5 2.5l-.94 2.06-2.06.94zm10 10l.94 2.06.94-2.06 2.06-.94-2.06-.94-.94-2.06-.94 2.06-2.06.94z\"/><path d=\"M17.41 7.96l-1.37-1.37c-.4-.4-.92-.59-1.43-.59-.52 0-1.04.2-1.43.59L10.3 9.45l-7.72 7.72c-.78.78-.78 2.05 0 2.83L4 21.41c.39.39.9.59 1.41.59.51 0 1.02-.2 1.41-.59l7.78-7.78 2.81-2.81c.8-.78.8-2.07 0-2.86zM5.41 20L4 18.59l7.72-7.72 1.47 1.35L5.41 20z\"/>\n",
       "  </svg>\n",
       "      </button>\n",
       "      \n",
       "  <style>\n",
       "    .colab-df-container {\n",
       "      display:flex;\n",
       "      flex-wrap:wrap;\n",
       "      gap: 12px;\n",
       "    }\n",
       "\n",
       "    .colab-df-convert {\n",
       "      background-color: #E8F0FE;\n",
       "      border: none;\n",
       "      border-radius: 50%;\n",
       "      cursor: pointer;\n",
       "      display: none;\n",
       "      fill: #1967D2;\n",
       "      height: 32px;\n",
       "      padding: 0 0 0 0;\n",
       "      width: 32px;\n",
       "    }\n",
       "\n",
       "    .colab-df-convert:hover {\n",
       "      background-color: #E2EBFA;\n",
       "      box-shadow: 0px 1px 2px rgba(60, 64, 67, 0.3), 0px 1px 3px 1px rgba(60, 64, 67, 0.15);\n",
       "      fill: #174EA6;\n",
       "    }\n",
       "\n",
       "    [theme=dark] .colab-df-convert {\n",
       "      background-color: #3B4455;\n",
       "      fill: #D2E3FC;\n",
       "    }\n",
       "\n",
       "    [theme=dark] .colab-df-convert:hover {\n",
       "      background-color: #434B5C;\n",
       "      box-shadow: 0px 1px 3px 1px rgba(0, 0, 0, 0.15);\n",
       "      filter: drop-shadow(0px 1px 2px rgba(0, 0, 0, 0.3));\n",
       "      fill: #FFFFFF;\n",
       "    }\n",
       "  </style>\n",
       "\n",
       "      <script>\n",
       "        const buttonEl =\n",
       "          document.querySelector('#df-647deb3b-1fe6-42d5-9b48-bb5a3b23e6ae button.colab-df-convert');\n",
       "        buttonEl.style.display =\n",
       "          google.colab.kernel.accessAllowed ? 'block' : 'none';\n",
       "\n",
       "        async function convertToInteractive(key) {\n",
       "          const element = document.querySelector('#df-647deb3b-1fe6-42d5-9b48-bb5a3b23e6ae');\n",
       "          const dataTable =\n",
       "            await google.colab.kernel.invokeFunction('convertToInteractive',\n",
       "                                                     [key], {});\n",
       "          if (!dataTable) return;\n",
       "\n",
       "          const docLinkHtml = 'Like what you see? Visit the ' +\n",
       "            '<a target=\"_blank\" href=https://colab.research.google.com/notebooks/data_table.ipynb>data table notebook</a>'\n",
       "            + ' to learn more about interactive tables.';\n",
       "          element.innerHTML = '';\n",
       "          dataTable['output_type'] = 'display_data';\n",
       "          await google.colab.output.renderOutput(dataTable, element);\n",
       "          const docLink = document.createElement('div');\n",
       "          docLink.innerHTML = docLinkHtml;\n",
       "          element.appendChild(docLink);\n",
       "        }\n",
       "      </script>\n",
       "    </div>\n",
       "  </div>\n",
       "  "
      ],
      "text/plain": [
       "   order_id      order_placed_at          order_delivered_at\n",
       "0   1523111  2023-03-01 00:00:59  2023-03-01 00:18:07.443132\n",
       "1   1523112  2023-03-01 00:03:59  2023-03-01 00:19:34.925241\n",
       "2   1523113  2023-03-01 00:07:22  2023-03-01 00:22:28.291385\n",
       "3   1523114  2023-03-01 00:07:47  2023-03-01 00:46:19.019399\n",
       "4   1523115  2023-03-01 00:09:03  2023-03-01 00:25:13.619056"
      ]
     },
     "execution_count": 131,
     "metadata": {},
     "output_type": "execute_result"
    }
   ],
   "source": [
    "df = pd.read_csv(\"/content/diminos_data.csv\")\n",
    "df.head()"
   ]
  },
  {
   "cell_type": "code",
   "execution_count": null,
   "metadata": {
    "colab": {
     "base_uri": "https://localhost:8080/"
    },
    "id": "D-BkqcgKoZCR",
    "outputId": "718d168c-8282-4dc1-89d8-ae322fd258ff"
   },
   "outputs": [
    {
     "data": {
      "text/plain": [
       "(15000, 3)"
      ]
     },
     "execution_count": 132,
     "metadata": {},
     "output_type": "execute_result"
    }
   ],
   "source": [
    "#ROws and columns in dataset\n",
    "df.shape"
   ]
  },
  {
   "cell_type": "code",
   "execution_count": null,
   "metadata": {
    "id": "hxnaeS7N7u_C"
   },
   "outputs": [],
   "source": []
  },
  {
   "cell_type": "code",
   "execution_count": null,
   "metadata": {
    "colab": {
     "base_uri": "https://localhost:8080/"
    },
    "id": "Ly7FNS4ro0DU",
    "outputId": "9514a8ef-f7b8-4123-8d54-92a9c399926c"
   },
   "outputs": [
    {
     "name": "stdout",
     "output_type": "stream",
     "text": [
      "<class 'pandas.core.frame.DataFrame'>\n",
      "RangeIndex: 15000 entries, 0 to 14999\n",
      "Data columns (total 3 columns):\n",
      " #   Column              Non-Null Count  Dtype \n",
      "---  ------              --------------  ----- \n",
      " 0   order_id            15000 non-null  int64 \n",
      " 1   order_placed_at     15000 non-null  object\n",
      " 2   order_delivered_at  15000 non-null  object\n",
      "dtypes: int64(1), object(2)\n",
      "memory usage: 351.7+ KB\n"
     ]
    }
   ],
   "source": [
    "#Basic info about the dataset\n",
    "df.info()\n"
   ]
  },
  {
   "cell_type": "code",
   "execution_count": null,
   "metadata": {
    "colab": {
     "base_uri": "https://localhost:8080/"
    },
    "id": "5_pH2fv7o4-5",
    "outputId": "7bf97d3f-a3ec-4d59-a551-af052ac4a178"
   },
   "outputs": [
    {
     "data": {
      "text/plain": [
       "order_id              0\n",
       "order_placed_at       0\n",
       "order_delivered_at    0\n",
       "dtype: int64"
      ]
     },
     "execution_count": 134,
     "metadata": {},
     "output_type": "execute_result"
    }
   ],
   "source": [
    "#Missing values\n",
    "df.isnull().sum()"
   ]
  },
  {
   "cell_type": "code",
   "execution_count": null,
   "metadata": {
    "colab": {
     "base_uri": "https://localhost:8080/"
    },
    "id": "hclf5z4Qo_D0",
    "outputId": "43b22cbf-aa69-4154-846f-704528c8af4c"
   },
   "outputs": [
    {
     "data": {
      "text/plain": [
       "0"
      ]
     },
     "execution_count": 135,
     "metadata": {},
     "output_type": "execute_result"
    }
   ],
   "source": [
    "#Duplicated value\n",
    "df.duplicated().sum()"
   ]
  },
  {
   "cell_type": "markdown",
   "metadata": {
    "id": "LUtXIT0zpVF7"
   },
   "source": [
    "#Feature engineering on feature  'order_placed_at', 'order_delivered_at'\n"
   ]
  },
  {
   "cell_type": "code",
   "execution_count": null,
   "metadata": {
    "id": "zepSetPepZOS"
   },
   "outputs": [],
   "source": [
    "df['order_placed_at']=pd.to_datetime(df['order_placed_at'])\n",
    "df['order_delivered_at']=pd.to_datetime(df['order_delivered_at'])"
   ]
  },
  {
   "cell_type": "code",
   "execution_count": null,
   "metadata": {
    "id": "PeN7mbbdEBOq"
   },
   "outputs": [],
   "source": [
    "df['time_taken_for_delivery'] = df['order_delivered_at'] - df['order_placed_at']\n",
    "df['time_taken_for_delivery'] = df['time_taken_for_delivery']/np.timedelta64(1,'m')"
   ]
  },
  {
   "cell_type": "code",
   "execution_count": null,
   "metadata": {
    "colab": {
     "base_uri": "https://localhost:8080/"
    },
    "id": "QxnQ5RFnpqik",
    "outputId": "5dbefc66-e652-4a28-e485-504fa6e80cc2"
   },
   "outputs": [
    {
     "data": {
      "text/plain": [
       "order_id                            int64\n",
       "order_placed_at            datetime64[ns]\n",
       "order_delivered_at         datetime64[ns]\n",
       "time_taken_for_delivery           float64\n",
       "dtype: object"
      ]
     },
     "execution_count": 138,
     "metadata": {},
     "output_type": "execute_result"
    }
   ],
   "source": [
    "df.dtypes"
   ]
  },
  {
   "cell_type": "code",
   "execution_count": null,
   "metadata": {
    "id": "B5pArT7ftGQO"
   },
   "outputs": [],
   "source": [
    "df['order_placed_date']=df['order_placed_at'].dt.date"
   ]
  },
  {
   "cell_type": "code",
   "execution_count": null,
   "metadata": {
    "id": "f2RJhC1BtV7b"
   },
   "outputs": [],
   "source": [
    "df['order_placed_time']=df['order_placed_at'].dt.time"
   ]
  },
  {
   "cell_type": "code",
   "execution_count": null,
   "metadata": {
    "id": "WbzFehUhtXJ6"
   },
   "outputs": [],
   "source": [
    "df['order_delivered_date']=df['order_delivered_at'].dt.date"
   ]
  },
  {
   "cell_type": "code",
   "execution_count": null,
   "metadata": {
    "id": "7nshyYNTtpWT"
   },
   "outputs": [],
   "source": [
    "df['order_delivered_time']=df['order_delivered_at'].dt.time"
   ]
  },
  {
   "cell_type": "code",
   "execution_count": null,
   "metadata": {
    "colab": {
     "base_uri": "https://localhost:8080/",
     "height": 206
    },
    "id": "JI86q1P4773h",
    "outputId": "9d516a0d-9deb-436b-d2bd-345744b4f03b"
   },
   "outputs": [
    {
     "data": {
      "text/html": [
       "\n",
       "  <div id=\"df-9fcd72f2-d9bc-4002-bd4f-aa771cd45bda\">\n",
       "    <div class=\"colab-df-container\">\n",
       "      <div>\n",
       "<style scoped>\n",
       "    .dataframe tbody tr th:only-of-type {\n",
       "        vertical-align: middle;\n",
       "    }\n",
       "\n",
       "    .dataframe tbody tr th {\n",
       "        vertical-align: top;\n",
       "    }\n",
       "\n",
       "    .dataframe thead th {\n",
       "        text-align: right;\n",
       "    }\n",
       "</style>\n",
       "<table border=\"1\" class=\"dataframe\">\n",
       "  <thead>\n",
       "    <tr style=\"text-align: right;\">\n",
       "      <th></th>\n",
       "      <th>order_id</th>\n",
       "      <th>order_placed_at</th>\n",
       "      <th>order_delivered_at</th>\n",
       "      <th>time_taken_for_delivery</th>\n",
       "      <th>order_placed_date</th>\n",
       "      <th>order_placed_time</th>\n",
       "      <th>order_delivered_date</th>\n",
       "      <th>order_delivered_time</th>\n",
       "    </tr>\n",
       "  </thead>\n",
       "  <tbody>\n",
       "    <tr>\n",
       "      <th>0</th>\n",
       "      <td>1523111</td>\n",
       "      <td>2023-03-01 00:00:59</td>\n",
       "      <td>2023-03-01 00:18:07.443132</td>\n",
       "      <td>17.140719</td>\n",
       "      <td>2023-03-01</td>\n",
       "      <td>00:00:59</td>\n",
       "      <td>2023-03-01</td>\n",
       "      <td>00:18:07.443132</td>\n",
       "    </tr>\n",
       "    <tr>\n",
       "      <th>1</th>\n",
       "      <td>1523112</td>\n",
       "      <td>2023-03-01 00:03:59</td>\n",
       "      <td>2023-03-01 00:19:34.925241</td>\n",
       "      <td>15.598754</td>\n",
       "      <td>2023-03-01</td>\n",
       "      <td>00:03:59</td>\n",
       "      <td>2023-03-01</td>\n",
       "      <td>00:19:34.925241</td>\n",
       "    </tr>\n",
       "    <tr>\n",
       "      <th>2</th>\n",
       "      <td>1523113</td>\n",
       "      <td>2023-03-01 00:07:22</td>\n",
       "      <td>2023-03-01 00:22:28.291385</td>\n",
       "      <td>15.104856</td>\n",
       "      <td>2023-03-01</td>\n",
       "      <td>00:07:22</td>\n",
       "      <td>2023-03-01</td>\n",
       "      <td>00:22:28.291385</td>\n",
       "    </tr>\n",
       "    <tr>\n",
       "      <th>3</th>\n",
       "      <td>1523114</td>\n",
       "      <td>2023-03-01 00:07:47</td>\n",
       "      <td>2023-03-01 00:46:19.019399</td>\n",
       "      <td>38.533657</td>\n",
       "      <td>2023-03-01</td>\n",
       "      <td>00:07:47</td>\n",
       "      <td>2023-03-01</td>\n",
       "      <td>00:46:19.019399</td>\n",
       "    </tr>\n",
       "    <tr>\n",
       "      <th>4</th>\n",
       "      <td>1523115</td>\n",
       "      <td>2023-03-01 00:09:03</td>\n",
       "      <td>2023-03-01 00:25:13.619056</td>\n",
       "      <td>16.176984</td>\n",
       "      <td>2023-03-01</td>\n",
       "      <td>00:09:03</td>\n",
       "      <td>2023-03-01</td>\n",
       "      <td>00:25:13.619056</td>\n",
       "    </tr>\n",
       "  </tbody>\n",
       "</table>\n",
       "</div>\n",
       "      <button class=\"colab-df-convert\" onclick=\"convertToInteractive('df-9fcd72f2-d9bc-4002-bd4f-aa771cd45bda')\"\n",
       "              title=\"Convert this dataframe to an interactive table.\"\n",
       "              style=\"display:none;\">\n",
       "        \n",
       "  <svg xmlns=\"http://www.w3.org/2000/svg\" height=\"24px\"viewBox=\"0 0 24 24\"\n",
       "       width=\"24px\">\n",
       "    <path d=\"M0 0h24v24H0V0z\" fill=\"none\"/>\n",
       "    <path d=\"M18.56 5.44l.94 2.06.94-2.06 2.06-.94-2.06-.94-.94-2.06-.94 2.06-2.06.94zm-11 1L8.5 8.5l.94-2.06 2.06-.94-2.06-.94L8.5 2.5l-.94 2.06-2.06.94zm10 10l.94 2.06.94-2.06 2.06-.94-2.06-.94-.94-2.06-.94 2.06-2.06.94z\"/><path d=\"M17.41 7.96l-1.37-1.37c-.4-.4-.92-.59-1.43-.59-.52 0-1.04.2-1.43.59L10.3 9.45l-7.72 7.72c-.78.78-.78 2.05 0 2.83L4 21.41c.39.39.9.59 1.41.59.51 0 1.02-.2 1.41-.59l7.78-7.78 2.81-2.81c.8-.78.8-2.07 0-2.86zM5.41 20L4 18.59l7.72-7.72 1.47 1.35L5.41 20z\"/>\n",
       "  </svg>\n",
       "      </button>\n",
       "      \n",
       "  <style>\n",
       "    .colab-df-container {\n",
       "      display:flex;\n",
       "      flex-wrap:wrap;\n",
       "      gap: 12px;\n",
       "    }\n",
       "\n",
       "    .colab-df-convert {\n",
       "      background-color: #E8F0FE;\n",
       "      border: none;\n",
       "      border-radius: 50%;\n",
       "      cursor: pointer;\n",
       "      display: none;\n",
       "      fill: #1967D2;\n",
       "      height: 32px;\n",
       "      padding: 0 0 0 0;\n",
       "      width: 32px;\n",
       "    }\n",
       "\n",
       "    .colab-df-convert:hover {\n",
       "      background-color: #E2EBFA;\n",
       "      box-shadow: 0px 1px 2px rgba(60, 64, 67, 0.3), 0px 1px 3px 1px rgba(60, 64, 67, 0.15);\n",
       "      fill: #174EA6;\n",
       "    }\n",
       "\n",
       "    [theme=dark] .colab-df-convert {\n",
       "      background-color: #3B4455;\n",
       "      fill: #D2E3FC;\n",
       "    }\n",
       "\n",
       "    [theme=dark] .colab-df-convert:hover {\n",
       "      background-color: #434B5C;\n",
       "      box-shadow: 0px 1px 3px 1px rgba(0, 0, 0, 0.15);\n",
       "      filter: drop-shadow(0px 1px 2px rgba(0, 0, 0, 0.3));\n",
       "      fill: #FFFFFF;\n",
       "    }\n",
       "  </style>\n",
       "\n",
       "      <script>\n",
       "        const buttonEl =\n",
       "          document.querySelector('#df-9fcd72f2-d9bc-4002-bd4f-aa771cd45bda button.colab-df-convert');\n",
       "        buttonEl.style.display =\n",
       "          google.colab.kernel.accessAllowed ? 'block' : 'none';\n",
       "\n",
       "        async function convertToInteractive(key) {\n",
       "          const element = document.querySelector('#df-9fcd72f2-d9bc-4002-bd4f-aa771cd45bda');\n",
       "          const dataTable =\n",
       "            await google.colab.kernel.invokeFunction('convertToInteractive',\n",
       "                                                     [key], {});\n",
       "          if (!dataTable) return;\n",
       "\n",
       "          const docLinkHtml = 'Like what you see? Visit the ' +\n",
       "            '<a target=\"_blank\" href=https://colab.research.google.com/notebooks/data_table.ipynb>data table notebook</a>'\n",
       "            + ' to learn more about interactive tables.';\n",
       "          element.innerHTML = '';\n",
       "          dataTable['output_type'] = 'display_data';\n",
       "          await google.colab.output.renderOutput(dataTable, element);\n",
       "          const docLink = document.createElement('div');\n",
       "          docLink.innerHTML = docLinkHtml;\n",
       "          element.appendChild(docLink);\n",
       "        }\n",
       "      </script>\n",
       "    </div>\n",
       "  </div>\n",
       "  "
      ],
      "text/plain": [
       "   order_id     order_placed_at         order_delivered_at  \\\n",
       "0   1523111 2023-03-01 00:00:59 2023-03-01 00:18:07.443132   \n",
       "1   1523112 2023-03-01 00:03:59 2023-03-01 00:19:34.925241   \n",
       "2   1523113 2023-03-01 00:07:22 2023-03-01 00:22:28.291385   \n",
       "3   1523114 2023-03-01 00:07:47 2023-03-01 00:46:19.019399   \n",
       "4   1523115 2023-03-01 00:09:03 2023-03-01 00:25:13.619056   \n",
       "\n",
       "   time_taken_for_delivery order_placed_date order_placed_time  \\\n",
       "0                17.140719        2023-03-01          00:00:59   \n",
       "1                15.598754        2023-03-01          00:03:59   \n",
       "2                15.104856        2023-03-01          00:07:22   \n",
       "3                38.533657        2023-03-01          00:07:47   \n",
       "4                16.176984        2023-03-01          00:09:03   \n",
       "\n",
       "  order_delivered_date order_delivered_time  \n",
       "0           2023-03-01      00:18:07.443132  \n",
       "1           2023-03-01      00:19:34.925241  \n",
       "2           2023-03-01      00:22:28.291385  \n",
       "3           2023-03-01      00:46:19.019399  \n",
       "4           2023-03-01      00:25:13.619056  "
      ]
     },
     "execution_count": 143,
     "metadata": {},
     "output_type": "execute_result"
    }
   ],
   "source": [
    "df.head()"
   ]
  },
  {
   "cell_type": "markdown",
   "metadata": {
    "id": "2iBJkwA34kkk"
   },
   "source": [
    "Creating New Feature called time_period which will help to traffic of deliveries during differeent period of day"
   ]
  },
  {
   "cell_type": "code",
   "execution_count": null,
   "metadata": {
    "id": "3j8BSzyPwWfH"
   },
   "outputs": [],
   "source": [
    "#time_period feature\n",
    "df['time_period'] = df['order_placed_at'].apply(lambda x: \"late night\" if x.hour > 1 and x.hour <= 4 else (\"Morning\" if x.hour > 4 and x.hour <= 12 else (\"Afternoon\" if x.hour > 12 and x.hour <= 16 else (\"Evening\" if x.hour > 16 and x.hour <=19 else \"night\"))))"
   ]
  },
  {
   "cell_type": "code",
   "execution_count": null,
   "metadata": {
    "colab": {
     "base_uri": "https://localhost:8080/",
     "height": 206
    },
    "id": "-YYi7VCtwWkY",
    "outputId": "196e27b2-72cb-4151-bd26-4458d7ce11c3"
   },
   "outputs": [
    {
     "data": {
      "text/html": [
       "\n",
       "  <div id=\"df-9fdf654c-d14c-4dab-a189-345993b9837f\">\n",
       "    <div class=\"colab-df-container\">\n",
       "      <div>\n",
       "<style scoped>\n",
       "    .dataframe tbody tr th:only-of-type {\n",
       "        vertical-align: middle;\n",
       "    }\n",
       "\n",
       "    .dataframe tbody tr th {\n",
       "        vertical-align: top;\n",
       "    }\n",
       "\n",
       "    .dataframe thead th {\n",
       "        text-align: right;\n",
       "    }\n",
       "</style>\n",
       "<table border=\"1\" class=\"dataframe\">\n",
       "  <thead>\n",
       "    <tr style=\"text-align: right;\">\n",
       "      <th></th>\n",
       "      <th>order_id</th>\n",
       "      <th>order_placed_at</th>\n",
       "      <th>order_delivered_at</th>\n",
       "      <th>time_taken_for_delivery</th>\n",
       "      <th>order_placed_date</th>\n",
       "      <th>order_placed_time</th>\n",
       "      <th>order_delivered_date</th>\n",
       "      <th>order_delivered_time</th>\n",
       "      <th>time_period</th>\n",
       "    </tr>\n",
       "  </thead>\n",
       "  <tbody>\n",
       "    <tr>\n",
       "      <th>0</th>\n",
       "      <td>1523111</td>\n",
       "      <td>2023-03-01 00:00:59</td>\n",
       "      <td>2023-03-01 00:18:07.443132</td>\n",
       "      <td>17.140719</td>\n",
       "      <td>2023-03-01</td>\n",
       "      <td>00:00:59</td>\n",
       "      <td>2023-03-01</td>\n",
       "      <td>00:18:07.443132</td>\n",
       "      <td>night</td>\n",
       "    </tr>\n",
       "    <tr>\n",
       "      <th>1</th>\n",
       "      <td>1523112</td>\n",
       "      <td>2023-03-01 00:03:59</td>\n",
       "      <td>2023-03-01 00:19:34.925241</td>\n",
       "      <td>15.598754</td>\n",
       "      <td>2023-03-01</td>\n",
       "      <td>00:03:59</td>\n",
       "      <td>2023-03-01</td>\n",
       "      <td>00:19:34.925241</td>\n",
       "      <td>night</td>\n",
       "    </tr>\n",
       "    <tr>\n",
       "      <th>2</th>\n",
       "      <td>1523113</td>\n",
       "      <td>2023-03-01 00:07:22</td>\n",
       "      <td>2023-03-01 00:22:28.291385</td>\n",
       "      <td>15.104856</td>\n",
       "      <td>2023-03-01</td>\n",
       "      <td>00:07:22</td>\n",
       "      <td>2023-03-01</td>\n",
       "      <td>00:22:28.291385</td>\n",
       "      <td>night</td>\n",
       "    </tr>\n",
       "    <tr>\n",
       "      <th>3</th>\n",
       "      <td>1523114</td>\n",
       "      <td>2023-03-01 00:07:47</td>\n",
       "      <td>2023-03-01 00:46:19.019399</td>\n",
       "      <td>38.533657</td>\n",
       "      <td>2023-03-01</td>\n",
       "      <td>00:07:47</td>\n",
       "      <td>2023-03-01</td>\n",
       "      <td>00:46:19.019399</td>\n",
       "      <td>night</td>\n",
       "    </tr>\n",
       "    <tr>\n",
       "      <th>4</th>\n",
       "      <td>1523115</td>\n",
       "      <td>2023-03-01 00:09:03</td>\n",
       "      <td>2023-03-01 00:25:13.619056</td>\n",
       "      <td>16.176984</td>\n",
       "      <td>2023-03-01</td>\n",
       "      <td>00:09:03</td>\n",
       "      <td>2023-03-01</td>\n",
       "      <td>00:25:13.619056</td>\n",
       "      <td>night</td>\n",
       "    </tr>\n",
       "  </tbody>\n",
       "</table>\n",
       "</div>\n",
       "      <button class=\"colab-df-convert\" onclick=\"convertToInteractive('df-9fdf654c-d14c-4dab-a189-345993b9837f')\"\n",
       "              title=\"Convert this dataframe to an interactive table.\"\n",
       "              style=\"display:none;\">\n",
       "        \n",
       "  <svg xmlns=\"http://www.w3.org/2000/svg\" height=\"24px\"viewBox=\"0 0 24 24\"\n",
       "       width=\"24px\">\n",
       "    <path d=\"M0 0h24v24H0V0z\" fill=\"none\"/>\n",
       "    <path d=\"M18.56 5.44l.94 2.06.94-2.06 2.06-.94-2.06-.94-.94-2.06-.94 2.06-2.06.94zm-11 1L8.5 8.5l.94-2.06 2.06-.94-2.06-.94L8.5 2.5l-.94 2.06-2.06.94zm10 10l.94 2.06.94-2.06 2.06-.94-2.06-.94-.94-2.06-.94 2.06-2.06.94z\"/><path d=\"M17.41 7.96l-1.37-1.37c-.4-.4-.92-.59-1.43-.59-.52 0-1.04.2-1.43.59L10.3 9.45l-7.72 7.72c-.78.78-.78 2.05 0 2.83L4 21.41c.39.39.9.59 1.41.59.51 0 1.02-.2 1.41-.59l7.78-7.78 2.81-2.81c.8-.78.8-2.07 0-2.86zM5.41 20L4 18.59l7.72-7.72 1.47 1.35L5.41 20z\"/>\n",
       "  </svg>\n",
       "      </button>\n",
       "      \n",
       "  <style>\n",
       "    .colab-df-container {\n",
       "      display:flex;\n",
       "      flex-wrap:wrap;\n",
       "      gap: 12px;\n",
       "    }\n",
       "\n",
       "    .colab-df-convert {\n",
       "      background-color: #E8F0FE;\n",
       "      border: none;\n",
       "      border-radius: 50%;\n",
       "      cursor: pointer;\n",
       "      display: none;\n",
       "      fill: #1967D2;\n",
       "      height: 32px;\n",
       "      padding: 0 0 0 0;\n",
       "      width: 32px;\n",
       "    }\n",
       "\n",
       "    .colab-df-convert:hover {\n",
       "      background-color: #E2EBFA;\n",
       "      box-shadow: 0px 1px 2px rgba(60, 64, 67, 0.3), 0px 1px 3px 1px rgba(60, 64, 67, 0.15);\n",
       "      fill: #174EA6;\n",
       "    }\n",
       "\n",
       "    [theme=dark] .colab-df-convert {\n",
       "      background-color: #3B4455;\n",
       "      fill: #D2E3FC;\n",
       "    }\n",
       "\n",
       "    [theme=dark] .colab-df-convert:hover {\n",
       "      background-color: #434B5C;\n",
       "      box-shadow: 0px 1px 3px 1px rgba(0, 0, 0, 0.15);\n",
       "      filter: drop-shadow(0px 1px 2px rgba(0, 0, 0, 0.3));\n",
       "      fill: #FFFFFF;\n",
       "    }\n",
       "  </style>\n",
       "\n",
       "      <script>\n",
       "        const buttonEl =\n",
       "          document.querySelector('#df-9fdf654c-d14c-4dab-a189-345993b9837f button.colab-df-convert');\n",
       "        buttonEl.style.display =\n",
       "          google.colab.kernel.accessAllowed ? 'block' : 'none';\n",
       "\n",
       "        async function convertToInteractive(key) {\n",
       "          const element = document.querySelector('#df-9fdf654c-d14c-4dab-a189-345993b9837f');\n",
       "          const dataTable =\n",
       "            await google.colab.kernel.invokeFunction('convertToInteractive',\n",
       "                                                     [key], {});\n",
       "          if (!dataTable) return;\n",
       "\n",
       "          const docLinkHtml = 'Like what you see? Visit the ' +\n",
       "            '<a target=\"_blank\" href=https://colab.research.google.com/notebooks/data_table.ipynb>data table notebook</a>'\n",
       "            + ' to learn more about interactive tables.';\n",
       "          element.innerHTML = '';\n",
       "          dataTable['output_type'] = 'display_data';\n",
       "          await google.colab.output.renderOutput(dataTable, element);\n",
       "          const docLink = document.createElement('div');\n",
       "          docLink.innerHTML = docLinkHtml;\n",
       "          element.appendChild(docLink);\n",
       "        }\n",
       "      </script>\n",
       "    </div>\n",
       "  </div>\n",
       "  "
      ],
      "text/plain": [
       "   order_id     order_placed_at         order_delivered_at  \\\n",
       "0   1523111 2023-03-01 00:00:59 2023-03-01 00:18:07.443132   \n",
       "1   1523112 2023-03-01 00:03:59 2023-03-01 00:19:34.925241   \n",
       "2   1523113 2023-03-01 00:07:22 2023-03-01 00:22:28.291385   \n",
       "3   1523114 2023-03-01 00:07:47 2023-03-01 00:46:19.019399   \n",
       "4   1523115 2023-03-01 00:09:03 2023-03-01 00:25:13.619056   \n",
       "\n",
       "   time_taken_for_delivery order_placed_date order_placed_time  \\\n",
       "0                17.140719        2023-03-01          00:00:59   \n",
       "1                15.598754        2023-03-01          00:03:59   \n",
       "2                15.104856        2023-03-01          00:07:22   \n",
       "3                38.533657        2023-03-01          00:07:47   \n",
       "4                16.176984        2023-03-01          00:09:03   \n",
       "\n",
       "  order_delivered_date order_delivered_time time_period  \n",
       "0           2023-03-01      00:18:07.443132       night  \n",
       "1           2023-03-01      00:19:34.925241       night  \n",
       "2           2023-03-01      00:22:28.291385       night  \n",
       "3           2023-03-01      00:46:19.019399       night  \n",
       "4           2023-03-01      00:25:13.619056       night  "
      ]
     },
     "execution_count": 145,
     "metadata": {},
     "output_type": "execute_result"
    }
   ],
   "source": [
    "df.head()"
   ]
  },
  {
   "cell_type": "code",
   "execution_count": null,
   "metadata": {
    "colab": {
     "base_uri": "https://localhost:8080/"
    },
    "id": "w_UIWk_M4-BC",
    "outputId": "03a30d9c-57b1-4415-ed1e-bd7a605f7a8c"
   },
   "outputs": [
    {
     "data": {
      "text/plain": [
       "Morning       5002\n",
       "night         3785\n",
       "Afternoon     2452\n",
       "Evening       1889\n",
       "late night    1872\n",
       "Name: time_period, dtype: int64"
      ]
     },
     "execution_count": 146,
     "metadata": {},
     "output_type": "execute_result"
    }
   ],
   "source": [
    "#countplot for time_period feature\n",
    "df['time_period'].value_counts()"
   ]
  },
  {
   "cell_type": "code",
   "execution_count": null,
   "metadata": {
    "colab": {
     "base_uri": "https://localhost:8080/",
     "height": 467
    },
    "id": "harmZv-c4-D6",
    "outputId": "5952462b-1035-4f68-d1d9-58b6df662512"
   },
   "outputs": [
    {
     "data": {
      "text/plain": [
       "<Axes: xlabel='time_period', ylabel='Count'>"
      ]
     },
     "execution_count": 147,
     "metadata": {},
     "output_type": "execute_result"
    },
    {
     "data": {
      "image/png": "[encoded data removed]",
      "text/plain": [
       "<Figure size 640x480 with 1 Axes>"
      ]
     },
     "metadata": {},
     "output_type": "display_data"
    }
   ],
   "source": [
    "sns.histplot(df['time_period'])"
   ]
  },
  {
   "cell_type": "markdown",
   "metadata": {
    "id": "AR2vnmGi6D32"
   },
   "source": [
    "# Report\n",
    "* during 4am to 12pm (morning) around 5002 orders are placed\n",
    "* follwed by 3785 at night and 2452 at afternoon\n",
    "\n",
    " ### **conclusion** \n",
    " We can put more delivery boys for morning and afternoon shift"
   ]
  },
  {
   "cell_type": "markdown",
   "metadata": {
    "id": "1AgGcjGG8E0j"
   },
   "source": [
    "Dropping feature order_placed_at and order_delivered_at"
   ]
  },
  {
   "cell_type": "code",
   "execution_count": null,
   "metadata": {
    "id": "NvRXsLsR4g-b"
   },
   "outputs": [],
   "source": [
    "df.drop(['order_placed_at', 'order_delivered_at'], axis=1, inplace=True)"
   ]
  },
  {
   "cell_type": "code",
   "execution_count": null,
   "metadata": {
    "colab": {
     "base_uri": "https://localhost:8080/",
     "height": 206
    },
    "id": "HjIKUaOi8kx3",
    "outputId": "1ca1d4db-84f2-48b6-bb8f-57841b9f8994"
   },
   "outputs": [
    {
     "data": {
      "text/html": [
       "\n",
       "  <div id=\"df-834319bb-7c1c-44b9-a5c1-b185fe6e92ef\">\n",
       "    <div class=\"colab-df-container\">\n",
       "      <div>\n",
       "<style scoped>\n",
       "    .dataframe tbody tr th:only-of-type {\n",
       "        vertical-align: middle;\n",
       "    }\n",
       "\n",
       "    .dataframe tbody tr th {\n",
       "        vertical-align: top;\n",
       "    }\n",
       "\n",
       "    .dataframe thead th {\n",
       "        text-align: right;\n",
       "    }\n",
       "</style>\n",
       "<table border=\"1\" class=\"dataframe\">\n",
       "  <thead>\n",
       "    <tr style=\"text-align: right;\">\n",
       "      <th></th>\n",
       "      <th>order_id</th>\n",
       "      <th>time_taken_for_delivery</th>\n",
       "      <th>order_placed_date</th>\n",
       "      <th>order_placed_time</th>\n",
       "      <th>order_delivered_date</th>\n",
       "      <th>order_delivered_time</th>\n",
       "      <th>time_period</th>\n",
       "    </tr>\n",
       "  </thead>\n",
       "  <tbody>\n",
       "    <tr>\n",
       "      <th>0</th>\n",
       "      <td>1523111</td>\n",
       "      <td>17.140719</td>\n",
       "      <td>2023-03-01</td>\n",
       "      <td>00:00:59</td>\n",
       "      <td>2023-03-01</td>\n",
       "      <td>00:18:07.443132</td>\n",
       "      <td>night</td>\n",
       "    </tr>\n",
       "    <tr>\n",
       "      <th>1</th>\n",
       "      <td>1523112</td>\n",
       "      <td>15.598754</td>\n",
       "      <td>2023-03-01</td>\n",
       "      <td>00:03:59</td>\n",
       "      <td>2023-03-01</td>\n",
       "      <td>00:19:34.925241</td>\n",
       "      <td>night</td>\n",
       "    </tr>\n",
       "    <tr>\n",
       "      <th>2</th>\n",
       "      <td>1523113</td>\n",
       "      <td>15.104856</td>\n",
       "      <td>2023-03-01</td>\n",
       "      <td>00:07:22</td>\n",
       "      <td>2023-03-01</td>\n",
       "      <td>00:22:28.291385</td>\n",
       "      <td>night</td>\n",
       "    </tr>\n",
       "    <tr>\n",
       "      <th>3</th>\n",
       "      <td>1523114</td>\n",
       "      <td>38.533657</td>\n",
       "      <td>2023-03-01</td>\n",
       "      <td>00:07:47</td>\n",
       "      <td>2023-03-01</td>\n",
       "      <td>00:46:19.019399</td>\n",
       "      <td>night</td>\n",
       "    </tr>\n",
       "    <tr>\n",
       "      <th>4</th>\n",
       "      <td>1523115</td>\n",
       "      <td>16.176984</td>\n",
       "      <td>2023-03-01</td>\n",
       "      <td>00:09:03</td>\n",
       "      <td>2023-03-01</td>\n",
       "      <td>00:25:13.619056</td>\n",
       "      <td>night</td>\n",
       "    </tr>\n",
       "  </tbody>\n",
       "</table>\n",
       "</div>\n",
       "      <button class=\"colab-df-convert\" onclick=\"convertToInteractive('df-834319bb-7c1c-44b9-a5c1-b185fe6e92ef')\"\n",
       "              title=\"Convert this dataframe to an interactive table.\"\n",
       "              style=\"display:none;\">\n",
       "        \n",
       "  <svg xmlns=\"http://www.w3.org/2000/svg\" height=\"24px\"viewBox=\"0 0 24 24\"\n",
       "       width=\"24px\">\n",
       "    <path d=\"M0 0h24v24H0V0z\" fill=\"none\"/>\n",
       "    <path d=\"M18.56 5.44l.94 2.06.94-2.06 2.06-.94-2.06-.94-.94-2.06-.94 2.06-2.06.94zm-11 1L8.5 8.5l.94-2.06 2.06-.94-2.06-.94L8.5 2.5l-.94 2.06-2.06.94zm10 10l.94 2.06.94-2.06 2.06-.94-2.06-.94-.94-2.06-.94 2.06-2.06.94z\"/><path d=\"M17.41 7.96l-1.37-1.37c-.4-.4-.92-.59-1.43-.59-.52 0-1.04.2-1.43.59L10.3 9.45l-7.72 7.72c-.78.78-.78 2.05 0 2.83L4 21.41c.39.39.9.59 1.41.59.51 0 1.02-.2 1.41-.59l7.78-7.78 2.81-2.81c.8-.78.8-2.07 0-2.86zM5.41 20L4 18.59l7.72-7.72 1.47 1.35L5.41 20z\"/>\n",
       "  </svg>\n",
       "      </button>\n",
       "      \n",
       "  <style>\n",
       "    .colab-df-container {\n",
       "      display:flex;\n",
       "      flex-wrap:wrap;\n",
       "      gap: 12px;\n",
       "    }\n",
       "\n",
       "    .colab-df-convert {\n",
       "      background-color: #E8F0FE;\n",
       "      border: none;\n",
       "      border-radius: 50%;\n",
       "      cursor: pointer;\n",
       "      display: none;\n",
       "      fill: #1967D2;\n",
       "      height: 32px;\n",
       "      padding: 0 0 0 0;\n",
       "      width: 32px;\n",
       "    }\n",
       "\n",
       "    .colab-df-convert:hover {\n",
       "      background-color: #E2EBFA;\n",
       "      box-shadow: 0px 1px 2px rgba(60, 64, 67, 0.3), 0px 1px 3px 1px rgba(60, 64, 67, 0.15);\n",
       "      fill: #174EA6;\n",
       "    }\n",
       "\n",
       "    [theme=dark] .colab-df-convert {\n",
       "      background-color: #3B4455;\n",
       "      fill: #D2E3FC;\n",
       "    }\n",
       "\n",
       "    [theme=dark] .colab-df-convert:hover {\n",
       "      background-color: #434B5C;\n",
       "      box-shadow: 0px 1px 3px 1px rgba(0, 0, 0, 0.15);\n",
       "      filter: drop-shadow(0px 1px 2px rgba(0, 0, 0, 0.3));\n",
       "      fill: #FFFFFF;\n",
       "    }\n",
       "  </style>\n",
       "\n",
       "      <script>\n",
       "        const buttonEl =\n",
       "          document.querySelector('#df-834319bb-7c1c-44b9-a5c1-b185fe6e92ef button.colab-df-convert');\n",
       "        buttonEl.style.display =\n",
       "          google.colab.kernel.accessAllowed ? 'block' : 'none';\n",
       "\n",
       "        async function convertToInteractive(key) {\n",
       "          const element = document.querySelector('#df-834319bb-7c1c-44b9-a5c1-b185fe6e92ef');\n",
       "          const dataTable =\n",
       "            await google.colab.kernel.invokeFunction('convertToInteractive',\n",
       "                                                     [key], {});\n",
       "          if (!dataTable) return;\n",
       "\n",
       "          const docLinkHtml = 'Like what you see? Visit the ' +\n",
       "            '<a target=\"_blank\" href=https://colab.research.google.com/notebooks/data_table.ipynb>data table notebook</a>'\n",
       "            + ' to learn more about interactive tables.';\n",
       "          element.innerHTML = '';\n",
       "          dataTable['output_type'] = 'display_data';\n",
       "          await google.colab.output.renderOutput(dataTable, element);\n",
       "          const docLink = document.createElement('div');\n",
       "          docLink.innerHTML = docLinkHtml;\n",
       "          element.appendChild(docLink);\n",
       "        }\n",
       "      </script>\n",
       "    </div>\n",
       "  </div>\n",
       "  "
      ],
      "text/plain": [
       "   order_id  time_taken_for_delivery order_placed_date order_placed_time  \\\n",
       "0   1523111                17.140719        2023-03-01          00:00:59   \n",
       "1   1523112                15.598754        2023-03-01          00:03:59   \n",
       "2   1523113                15.104856        2023-03-01          00:07:22   \n",
       "3   1523114                38.533657        2023-03-01          00:07:47   \n",
       "4   1523115                16.176984        2023-03-01          00:09:03   \n",
       "\n",
       "  order_delivered_date order_delivered_time time_period  \n",
       "0           2023-03-01      00:18:07.443132       night  \n",
       "1           2023-03-01      00:19:34.925241       night  \n",
       "2           2023-03-01      00:22:28.291385       night  \n",
       "3           2023-03-01      00:46:19.019399       night  \n",
       "4           2023-03-01      00:25:13.619056       night  "
      ]
     },
     "execution_count": 149,
     "metadata": {},
     "output_type": "execute_result"
    }
   ],
   "source": [
    "df.head()"
   ]
  },
  {
   "cell_type": "code",
   "execution_count": null,
   "metadata": {
    "colab": {
     "base_uri": "https://localhost:8080/"
    },
    "id": "hhJ_AtUt_E02",
    "outputId": "11e11c3a-f3ea-4c33-b059-ea5de2d6527f"
   },
   "outputs": [
    {
     "data": {
      "text/plain": [
       "order_id                     int64\n",
       "time_taken_for_delivery    float64\n",
       "order_placed_date           object\n",
       "order_placed_time           object\n",
       "order_delivered_date        object\n",
       "order_delivered_time        object\n",
       "time_period                 object\n",
       "dtype: object"
      ]
     },
     "execution_count": 150,
     "metadata": {},
     "output_type": "execute_result"
    }
   ],
   "source": [
    "df.dtypes"
   ]
  },
  {
   "cell_type": "code",
   "execution_count": null,
   "metadata": {
    "id": "5O2VNcp-tw3l"
   },
   "outputs": [],
   "source": [
    "df['order_placed_day'] =  pd.to_datetime(df['order_placed_date']).dt.day_name()"
   ]
  },
  {
   "cell_type": "code",
   "execution_count": null,
   "metadata": {
    "id": "VmjoZAMQu4Pk"
   },
   "outputs": [],
   "source": [
    "df['order_delivered_day'] =  pd.to_datetime(df['order_delivered_date']).dt.day_name()"
   ]
  },
  {
   "cell_type": "code",
   "execution_count": null,
   "metadata": {
    "colab": {
     "base_uri": "https://localhost:8080/",
     "height": 206
    },
    "id": "E7WN2ZXlu_uO",
    "outputId": "84cef0f0-7c6d-4dd9-8bb7-3efc75d736b6"
   },
   "outputs": [
    {
     "data": {
      "text/html": [
       "\n",
       "  <div id=\"df-b0d2465a-cf99-43d7-825e-333ab494d543\">\n",
       "    <div class=\"colab-df-container\">\n",
       "      <div>\n",
       "<style scoped>\n",
       "    .dataframe tbody tr th:only-of-type {\n",
       "        vertical-align: middle;\n",
       "    }\n",
       "\n",
       "    .dataframe tbody tr th {\n",
       "        vertical-align: top;\n",
       "    }\n",
       "\n",
       "    .dataframe thead th {\n",
       "        text-align: right;\n",
       "    }\n",
       "</style>\n",
       "<table border=\"1\" class=\"dataframe\">\n",
       "  <thead>\n",
       "    <tr style=\"text-align: right;\">\n",
       "      <th></th>\n",
       "      <th>order_id</th>\n",
       "      <th>time_taken_for_delivery</th>\n",
       "      <th>order_placed_date</th>\n",
       "      <th>order_placed_time</th>\n",
       "      <th>order_delivered_date</th>\n",
       "      <th>order_delivered_time</th>\n",
       "      <th>time_period</th>\n",
       "      <th>order_placed_day</th>\n",
       "      <th>order_delivered_day</th>\n",
       "    </tr>\n",
       "  </thead>\n",
       "  <tbody>\n",
       "    <tr>\n",
       "      <th>0</th>\n",
       "      <td>1523111</td>\n",
       "      <td>17.140719</td>\n",
       "      <td>2023-03-01</td>\n",
       "      <td>00:00:59</td>\n",
       "      <td>2023-03-01</td>\n",
       "      <td>00:18:07.443132</td>\n",
       "      <td>night</td>\n",
       "      <td>Wednesday</td>\n",
       "      <td>Wednesday</td>\n",
       "    </tr>\n",
       "    <tr>\n",
       "      <th>1</th>\n",
       "      <td>1523112</td>\n",
       "      <td>15.598754</td>\n",
       "      <td>2023-03-01</td>\n",
       "      <td>00:03:59</td>\n",
       "      <td>2023-03-01</td>\n",
       "      <td>00:19:34.925241</td>\n",
       "      <td>night</td>\n",
       "      <td>Wednesday</td>\n",
       "      <td>Wednesday</td>\n",
       "    </tr>\n",
       "    <tr>\n",
       "      <th>2</th>\n",
       "      <td>1523113</td>\n",
       "      <td>15.104856</td>\n",
       "      <td>2023-03-01</td>\n",
       "      <td>00:07:22</td>\n",
       "      <td>2023-03-01</td>\n",
       "      <td>00:22:28.291385</td>\n",
       "      <td>night</td>\n",
       "      <td>Wednesday</td>\n",
       "      <td>Wednesday</td>\n",
       "    </tr>\n",
       "    <tr>\n",
       "      <th>3</th>\n",
       "      <td>1523114</td>\n",
       "      <td>38.533657</td>\n",
       "      <td>2023-03-01</td>\n",
       "      <td>00:07:47</td>\n",
       "      <td>2023-03-01</td>\n",
       "      <td>00:46:19.019399</td>\n",
       "      <td>night</td>\n",
       "      <td>Wednesday</td>\n",
       "      <td>Wednesday</td>\n",
       "    </tr>\n",
       "    <tr>\n",
       "      <th>4</th>\n",
       "      <td>1523115</td>\n",
       "      <td>16.176984</td>\n",
       "      <td>2023-03-01</td>\n",
       "      <td>00:09:03</td>\n",
       "      <td>2023-03-01</td>\n",
       "      <td>00:25:13.619056</td>\n",
       "      <td>night</td>\n",
       "      <td>Wednesday</td>\n",
       "      <td>Wednesday</td>\n",
       "    </tr>\n",
       "  </tbody>\n",
       "</table>\n",
       "</div>\n",
       "      <button class=\"colab-df-convert\" onclick=\"convertToInteractive('df-b0d2465a-cf99-43d7-825e-333ab494d543')\"\n",
       "              title=\"Convert this dataframe to an interactive table.\"\n",
       "              style=\"display:none;\">\n",
       "        \n",
       "  <svg xmlns=\"http://www.w3.org/2000/svg\" height=\"24px\"viewBox=\"0 0 24 24\"\n",
       "       width=\"24px\">\n",
       "    <path d=\"M0 0h24v24H0V0z\" fill=\"none\"/>\n",
       "    <path d=\"M18.56 5.44l.94 2.06.94-2.06 2.06-.94-2.06-.94-.94-2.06-.94 2.06-2.06.94zm-11 1L8.5 8.5l.94-2.06 2.06-.94-2.06-.94L8.5 2.5l-.94 2.06-2.06.94zm10 10l.94 2.06.94-2.06 2.06-.94-2.06-.94-.94-2.06-.94 2.06-2.06.94z\"/><path d=\"M17.41 7.96l-1.37-1.37c-.4-.4-.92-.59-1.43-.59-.52 0-1.04.2-1.43.59L10.3 9.45l-7.72 7.72c-.78.78-.78 2.05 0 2.83L4 21.41c.39.39.9.59 1.41.59.51 0 1.02-.2 1.41-.59l7.78-7.78 2.81-2.81c.8-.78.8-2.07 0-2.86zM5.41 20L4 18.59l7.72-7.72 1.47 1.35L5.41 20z\"/>\n",
       "  </svg>\n",
       "      </button>\n",
       "      \n",
       "  <style>\n",
       "    .colab-df-container {\n",
       "      display:flex;\n",
       "      flex-wrap:wrap;\n",
       "      gap: 12px;\n",
       "    }\n",
       "\n",
       "    .colab-df-convert {\n",
       "      background-color: #E8F0FE;\n",
       "      border: none;\n",
       "      border-radius: 50%;\n",
       "      cursor: pointer;\n",
       "      display: none;\n",
       "      fill: #1967D2;\n",
       "      height: 32px;\n",
       "      padding: 0 0 0 0;\n",
       "      width: 32px;\n",
       "    }\n",
       "\n",
       "    .colab-df-convert:hover {\n",
       "      background-color: #E2EBFA;\n",
       "      box-shadow: 0px 1px 2px rgba(60, 64, 67, 0.3), 0px 1px 3px 1px rgba(60, 64, 67, 0.15);\n",
       "      fill: #174EA6;\n",
       "    }\n",
       "\n",
       "    [theme=dark] .colab-df-convert {\n",
       "      background-color: #3B4455;\n",
       "      fill: #D2E3FC;\n",
       "    }\n",
       "\n",
       "    [theme=dark] .colab-df-convert:hover {\n",
       "      background-color: #434B5C;\n",
       "      box-shadow: 0px 1px 3px 1px rgba(0, 0, 0, 0.15);\n",
       "      filter: drop-shadow(0px 1px 2px rgba(0, 0, 0, 0.3));\n",
       "      fill: #FFFFFF;\n",
       "    }\n",
       "  </style>\n",
       "\n",
       "      <script>\n",
       "        const buttonEl =\n",
       "          document.querySelector('#df-b0d2465a-cf99-43d7-825e-333ab494d543 button.colab-df-convert');\n",
       "        buttonEl.style.display =\n",
       "          google.colab.kernel.accessAllowed ? 'block' : 'none';\n",
       "\n",
       "        async function convertToInteractive(key) {\n",
       "          const element = document.querySelector('#df-b0d2465a-cf99-43d7-825e-333ab494d543');\n",
       "          const dataTable =\n",
       "            await google.colab.kernel.invokeFunction('convertToInteractive',\n",
       "                                                     [key], {});\n",
       "          if (!dataTable) return;\n",
       "\n",
       "          const docLinkHtml = 'Like what you see? Visit the ' +\n",
       "            '<a target=\"_blank\" href=https://colab.research.google.com/notebooks/data_table.ipynb>data table notebook</a>'\n",
       "            + ' to learn more about interactive tables.';\n",
       "          element.innerHTML = '';\n",
       "          dataTable['output_type'] = 'display_data';\n",
       "          await google.colab.output.renderOutput(dataTable, element);\n",
       "          const docLink = document.createElement('div');\n",
       "          docLink.innerHTML = docLinkHtml;\n",
       "          element.appendChild(docLink);\n",
       "        }\n",
       "      </script>\n",
       "    </div>\n",
       "  </div>\n",
       "  "
      ],
      "text/plain": [
       "   order_id  time_taken_for_delivery order_placed_date order_placed_time  \\\n",
       "0   1523111                17.140719        2023-03-01          00:00:59   \n",
       "1   1523112                15.598754        2023-03-01          00:03:59   \n",
       "2   1523113                15.104856        2023-03-01          00:07:22   \n",
       "3   1523114                38.533657        2023-03-01          00:07:47   \n",
       "4   1523115                16.176984        2023-03-01          00:09:03   \n",
       "\n",
       "  order_delivered_date order_delivered_time time_period order_placed_day  \\\n",
       "0           2023-03-01      00:18:07.443132       night        Wednesday   \n",
       "1           2023-03-01      00:19:34.925241       night        Wednesday   \n",
       "2           2023-03-01      00:22:28.291385       night        Wednesday   \n",
       "3           2023-03-01      00:46:19.019399       night        Wednesday   \n",
       "4           2023-03-01      00:25:13.619056       night        Wednesday   \n",
       "\n",
       "  order_delivered_day  \n",
       "0           Wednesday  \n",
       "1           Wednesday  \n",
       "2           Wednesday  \n",
       "3           Wednesday  \n",
       "4           Wednesday  "
      ]
     },
     "execution_count": 153,
     "metadata": {},
     "output_type": "execute_result"
    }
   ],
   "source": [
    "df.head()"
   ]
  },
  {
   "cell_type": "markdown",
   "metadata": {
    "id": "grvY-VxYAAEb"
   },
   "source": [
    "## Report \n",
    "\n",
    "Anyways delivery time will never be more than 2hr\n",
    "\n",
    "but if customer placed order at 23.50 delivary will be reached on next day that's why we created order_delivered_day feature else order_placed_day feature is enough"
   ]
  },
  {
   "cell_type": "markdown",
   "metadata": {
    "id": "zfHLiMJy10Cc"
   },
   "source": [
    "## **Countplot for order_placed_day**\n"
   ]
  },
  {
   "cell_type": "code",
   "execution_count": null,
   "metadata": {
    "colab": {
     "base_uri": "https://localhost:8080/"
    },
    "id": "T8lynDDID7AX",
    "outputId": "325be28e-4fd1-4717-9ecb-a7566f981a37"
   },
   "outputs": [
    {
     "data": {
      "text/plain": [
       "Thursday     2280\n",
       "Wednesday    2259\n",
       "Monday       2256\n",
       "Friday       2223\n",
       "Saturday     2209\n",
       "Sunday       2191\n",
       "Tuesday      1582\n",
       "Name: order_placed_day, dtype: int64"
      ]
     },
     "execution_count": 154,
     "metadata": {},
     "output_type": "execute_result"
    }
   ],
   "source": [
    "df['order_placed_day'].value_counts()"
   ]
  },
  {
   "cell_type": "code",
   "execution_count": null,
   "metadata": {
    "colab": {
     "base_uri": "https://localhost:8080/",
     "height": 482
    },
    "id": "h6YSrvEUBIEE",
    "outputId": "09884fe1-f104-4ba1-fceb-4fc6e068339d"
   },
   "outputs": [
    {
     "data": {
      "text/plain": [
       "<Axes: xlabel='order_placed_day', ylabel='Count'>"
      ]
     },
     "execution_count": 155,
     "metadata": {},
     "output_type": "execute_result"
    },
    {
     "data": {
      "image/png": "[encoded data removed]",
      "text/plain": [
       "<Figure size 800x500 with 1 Axes>"
      ]
     },
     "metadata": {},
     "output_type": "display_data"
    }
   ],
   "source": [
    "#countplot for feature order_placed_day\n",
    "plt.figure(figsize=(8,5))\n",
    "sns.histplot(df['order_placed_day'])"
   ]
  },
  {
   "cell_type": "markdown",
   "metadata": {
    "id": "9YbIjIIt2v1Y"
   },
   "source": [
    "## **Report**\n",
    "\n",
    "Except **Tuesday** all others day has appox equal number of ordered placed\n",
    "\n",
    "\n",
    "On Tuesday we can give some discount to customers so we can increase ordered on that day to"
   ]
  },
  {
   "cell_type": "code",
   "execution_count": null,
   "metadata": {
    "colab": {
     "base_uri": "https://localhost:8080/",
     "height": 81
    },
    "id": "V38gSwXb1eI4",
    "outputId": "d6166d31-8730-4438-add1-ff97c9f16577"
   },
   "outputs": [
    {
     "data": {
      "text/html": [
       "\n",
       "  <div id=\"df-e1568453-18cf-482f-8d4b-51460eeda010\">\n",
       "    <div class=\"colab-df-container\">\n",
       "      <div>\n",
       "<style scoped>\n",
       "    .dataframe tbody tr th:only-of-type {\n",
       "        vertical-align: middle;\n",
       "    }\n",
       "\n",
       "    .dataframe tbody tr th {\n",
       "        vertical-align: top;\n",
       "    }\n",
       "\n",
       "    .dataframe thead th {\n",
       "        text-align: right;\n",
       "    }\n",
       "</style>\n",
       "<table border=\"1\" class=\"dataframe\">\n",
       "  <thead>\n",
       "    <tr style=\"text-align: right;\">\n",
       "      <th></th>\n",
       "      <th>order_id</th>\n",
       "      <th>time_taken_for_delivery</th>\n",
       "      <th>order_placed_date</th>\n",
       "      <th>order_placed_time</th>\n",
       "      <th>order_delivered_date</th>\n",
       "      <th>order_delivered_time</th>\n",
       "      <th>time_period</th>\n",
       "      <th>order_placed_day</th>\n",
       "      <th>order_delivered_day</th>\n",
       "    </tr>\n",
       "  </thead>\n",
       "  <tbody>\n",
       "    <tr>\n",
       "      <th>0</th>\n",
       "      <td>1523111</td>\n",
       "      <td>17.140719</td>\n",
       "      <td>2023-03-01</td>\n",
       "      <td>00:00:59</td>\n",
       "      <td>2023-03-01</td>\n",
       "      <td>00:18:07.443132</td>\n",
       "      <td>night</td>\n",
       "      <td>Wednesday</td>\n",
       "      <td>Wednesday</td>\n",
       "    </tr>\n",
       "  </tbody>\n",
       "</table>\n",
       "</div>\n",
       "      <button class=\"colab-df-convert\" onclick=\"convertToInteractive('df-e1568453-18cf-482f-8d4b-51460eeda010')\"\n",
       "              title=\"Convert this dataframe to an interactive table.\"\n",
       "              style=\"display:none;\">\n",
       "        \n",
       "  <svg xmlns=\"http://www.w3.org/2000/svg\" height=\"24px\"viewBox=\"0 0 24 24\"\n",
       "       width=\"24px\">\n",
       "    <path d=\"M0 0h24v24H0V0z\" fill=\"none\"/>\n",
       "    <path d=\"M18.56 5.44l.94 2.06.94-2.06 2.06-.94-2.06-.94-.94-2.06-.94 2.06-2.06.94zm-11 1L8.5 8.5l.94-2.06 2.06-.94-2.06-.94L8.5 2.5l-.94 2.06-2.06.94zm10 10l.94 2.06.94-2.06 2.06-.94-2.06-.94-.94-2.06-.94 2.06-2.06.94z\"/><path d=\"M17.41 7.96l-1.37-1.37c-.4-.4-.92-.59-1.43-.59-.52 0-1.04.2-1.43.59L10.3 9.45l-7.72 7.72c-.78.78-.78 2.05 0 2.83L4 21.41c.39.39.9.59 1.41.59.51 0 1.02-.2 1.41-.59l7.78-7.78 2.81-2.81c.8-.78.8-2.07 0-2.86zM5.41 20L4 18.59l7.72-7.72 1.47 1.35L5.41 20z\"/>\n",
       "  </svg>\n",
       "      </button>\n",
       "      \n",
       "  <style>\n",
       "    .colab-df-container {\n",
       "      display:flex;\n",
       "      flex-wrap:wrap;\n",
       "      gap: 12px;\n",
       "    }\n",
       "\n",
       "    .colab-df-convert {\n",
       "      background-color: #E8F0FE;\n",
       "      border: none;\n",
       "      border-radius: 50%;\n",
       "      cursor: pointer;\n",
       "      display: none;\n",
       "      fill: #1967D2;\n",
       "      height: 32px;\n",
       "      padding: 0 0 0 0;\n",
       "      width: 32px;\n",
       "    }\n",
       "\n",
       "    .colab-df-convert:hover {\n",
       "      background-color: #E2EBFA;\n",
       "      box-shadow: 0px 1px 2px rgba(60, 64, 67, 0.3), 0px 1px 3px 1px rgba(60, 64, 67, 0.15);\n",
       "      fill: #174EA6;\n",
       "    }\n",
       "\n",
       "    [theme=dark] .colab-df-convert {\n",
       "      background-color: #3B4455;\n",
       "      fill: #D2E3FC;\n",
       "    }\n",
       "\n",
       "    [theme=dark] .colab-df-convert:hover {\n",
       "      background-color: #434B5C;\n",
       "      box-shadow: 0px 1px 3px 1px rgba(0, 0, 0, 0.15);\n",
       "      filter: drop-shadow(0px 1px 2px rgba(0, 0, 0, 0.3));\n",
       "      fill: #FFFFFF;\n",
       "    }\n",
       "  </style>\n",
       "\n",
       "      <script>\n",
       "        const buttonEl =\n",
       "          document.querySelector('#df-e1568453-18cf-482f-8d4b-51460eeda010 button.colab-df-convert');\n",
       "        buttonEl.style.display =\n",
       "          google.colab.kernel.accessAllowed ? 'block' : 'none';\n",
       "\n",
       "        async function convertToInteractive(key) {\n",
       "          const element = document.querySelector('#df-e1568453-18cf-482f-8d4b-51460eeda010');\n",
       "          const dataTable =\n",
       "            await google.colab.kernel.invokeFunction('convertToInteractive',\n",
       "                                                     [key], {});\n",
       "          if (!dataTable) return;\n",
       "\n",
       "          const docLinkHtml = 'Like what you see? Visit the ' +\n",
       "            '<a target=\"_blank\" href=https://colab.research.google.com/notebooks/data_table.ipynb>data table notebook</a>'\n",
       "            + ' to learn more about interactive tables.';\n",
       "          element.innerHTML = '';\n",
       "          dataTable['output_type'] = 'display_data';\n",
       "          await google.colab.output.renderOutput(dataTable, element);\n",
       "          const docLink = document.createElement('div');\n",
       "          docLink.innerHTML = docLinkHtml;\n",
       "          element.appendChild(docLink);\n",
       "        }\n",
       "      </script>\n",
       "    </div>\n",
       "  </div>\n",
       "  "
      ],
      "text/plain": [
       "   order_id  time_taken_for_delivery order_placed_date order_placed_time  \\\n",
       "0   1523111                17.140719        2023-03-01          00:00:59   \n",
       "\n",
       "  order_delivered_date order_delivered_time time_period order_placed_day  \\\n",
       "0           2023-03-01      00:18:07.443132       night        Wednesday   \n",
       "\n",
       "  order_delivered_day  \n",
       "0           Wednesday  "
      ]
     },
     "execution_count": 156,
     "metadata": {},
     "output_type": "execute_result"
    }
   ],
   "source": [
    "df.head(1)"
   ]
  },
  {
   "cell_type": "code",
   "execution_count": null,
   "metadata": {
    "colab": {
     "base_uri": "https://localhost:8080/"
    },
    "id": "Gh9a_Auh98SY",
    "outputId": "f00ccabc-c029-4e10-bd90-103a5e707562"
   },
   "outputs": [
    {
     "data": {
      "text/plain": [
       "order_id                     int64\n",
       "time_taken_for_delivery    float64\n",
       "order_placed_date           object\n",
       "order_placed_time           object\n",
       "order_delivered_date        object\n",
       "order_delivered_time        object\n",
       "time_period                 object\n",
       "order_placed_day            object\n",
       "order_delivered_day         object\n",
       "dtype: object"
      ]
     },
     "execution_count": 157,
     "metadata": {},
     "output_type": "execute_result"
    }
   ],
   "source": [
    "df.dtypes"
   ]
  },
  {
   "cell_type": "code",
   "execution_count": null,
   "metadata": {
    "colab": {
     "base_uri": "https://localhost:8080/"
    },
    "id": "LqorNcTKCKnQ",
    "outputId": "ca0baa12-19fb-44b6-8db3-8ee9d7f1d860"
   },
   "outputs": [
    {
     "data": {
      "text/plain": [
       "15.000010333333334"
      ]
     },
     "execution_count": 158,
     "metadata": {},
     "output_type": "execute_result"
    }
   ],
   "source": [
    "#analysing feature time_taken_for_delivery\n",
    "df['time_taken_for_delivery'].min()"
   ]
  },
  {
   "cell_type": "code",
   "execution_count": null,
   "metadata": {
    "colab": {
     "base_uri": "https://localhost:8080/"
    },
    "id": "9lrXD_HuF43L",
    "outputId": "28ac789d-3efd-44ac-f5ef-f85dcb809c21"
   },
   "outputs": [
    {
     "data": {
      "text/plain": [
       "20.49938932646778"
      ]
     },
     "execution_count": 159,
     "metadata": {},
     "output_type": "execute_result"
    }
   ],
   "source": [
    "df['time_taken_for_delivery'].mean()"
   ]
  },
  {
   "cell_type": "code",
   "execution_count": null,
   "metadata": {
    "colab": {
     "base_uri": "https://localhost:8080/"
    },
    "id": "pDsa6Y2GG8d5",
    "outputId": "60cc586f-2110-423c-e5c0-f7ca2f91e1ba"
   },
   "outputs": [
    {
     "data": {
      "text/plain": [
       "15.797986066666667"
      ]
     },
     "execution_count": 160,
     "metadata": {},
     "output_type": "execute_result"
    }
   ],
   "source": [
    "df['time_taken_for_delivery'].median()"
   ]
  },
  {
   "cell_type": "code",
   "execution_count": null,
   "metadata": {
    "colab": {
     "base_uri": "https://localhost:8080/"
    },
    "id": "dy5tfZMrHAXV",
    "outputId": "1505a2a8-c248-4ab9-b797-89ff6037287a"
   },
   "outputs": [
    {
     "data": {
      "text/plain": [
       "7299.831374933333"
      ]
     },
     "execution_count": 161,
     "metadata": {},
     "output_type": "execute_result"
    }
   ],
   "source": [
    "df['time_taken_for_delivery'].max()"
   ]
  },
  {
   "cell_type": "code",
   "execution_count": null,
   "metadata": {
    "colab": {
     "base_uri": "https://localhost:8080/"
    },
    "id": "j6wbjiNfHMUb",
    "outputId": "71cf00c2-769e-405a-f398-72b16cf7b45f"
   },
   "outputs": [
    {
     "data": {
      "text/plain": [
       "27.261043996666658"
      ]
     },
     "execution_count": 162,
     "metadata": {},
     "output_type": "execute_result"
    }
   ],
   "source": [
    "df['time_taken_for_delivery'].quantile(0.95)"
   ]
  },
  {
   "cell_type": "code",
   "execution_count": null,
   "metadata": {
    "colab": {
     "base_uri": "https://localhost:8080/",
     "height": 462
    },
    "id": "HDoXJSjhHc4U",
    "outputId": "44b48efc-c216-44cd-df91-606d761d2d79"
   },
   "outputs": [
    {
     "data": {
      "text/plain": [
       "<Axes: >"
      ]
     },
     "execution_count": 163,
     "metadata": {},
     "output_type": "execute_result"
    },
    {
     "data": {
      "image/png": "[encoded data removed]",
      "text/plain": [
       "<Figure size 1200x500 with 1 Axes>"
      ]
     },
     "metadata": {},
     "output_type": "display_data"
    }
   ],
   "source": [
    "plt.figure(figsize=(12,5))\n",
    "sns.boxplot(df['time_taken_for_delivery'])"
   ]
  },
  {
   "cell_type": "code",
   "execution_count": null,
   "metadata": {
    "colab": {
     "base_uri": "https://localhost:8080/",
     "height": 523
    },
    "id": "SKfND03rrW5F",
    "outputId": "c675c296-81ac-4671-e93a-d384b6326d5f"
   },
   "outputs": [
    {
     "data": {
      "text/plain": [
       "<seaborn.axisgrid.FacetGrid at 0x7f92aec4c3a0>"
      ]
     },
     "execution_count": 164,
     "metadata": {},
     "output_type": "execute_result"
    },
    {
     "data": {
      "image/png": "[encoded data removed]",
      "text/plain": [
       "<Figure size 500x500 with 1 Axes>"
      ]
     },
     "metadata": {},
     "output_type": "display_data"
    }
   ],
   "source": [
    "sns.displot(df['time_taken_for_delivery'], kind='kde')"
   ]
  },
  {
   "cell_type": "code",
   "execution_count": null,
   "metadata": {
    "colab": {
     "base_uri": "https://localhost:8080/"
    },
    "id": "tWoAY-dSHpVY",
    "outputId": "c536c6d8-2ba0-427a-fca7-41133619c9ed"
   },
   "outputs": [
    {
     "name": "stdout",
     "output_type": "stream",
     "text": [
      "Out of 15k deliveries 604 deliveries are late\n"
     ]
    }
   ],
   "source": [
    "count=0\n",
    "for i in df['time_taken_for_delivery']:\n",
    "  if i > 30.00:\n",
    "    count=count+1\n",
    "print(f\"Out of 15k deliveries {count} deliveries are late\")\n",
    "    "
   ]
  },
  {
   "cell_type": "code",
   "execution_count": null,
   "metadata": {
    "colab": {
     "base_uri": "https://localhost:8080/"
    },
    "id": "wUGKxK0OIThL",
    "outputId": "7d016ee5-982e-4803-d228-d9c5bd1c53eb"
   },
   "outputs": [
    {
     "data": {
      "text/plain": [
       "(15000, 9)"
      ]
     },
     "execution_count": 166,
     "metadata": {},
     "output_type": "execute_result"
    }
   ],
   "source": [
    "df.shape"
   ]
  },
  {
   "cell_type": "code",
   "execution_count": null,
   "metadata": {
    "colab": {
     "base_uri": "https://localhost:8080/"
    },
    "id": "162qyjC6IntQ",
    "outputId": "562c9821-dbde-417a-97de-1d1daa52cadc"
   },
   "outputs": [
    {
     "data": {
      "text/plain": [
       "4.026666666666666"
      ]
     },
     "execution_count": 167,
     "metadata": {},
     "output_type": "execute_result"
    }
   ],
   "source": [
    "(604/df.shape[0])*100"
   ]
  },
  {
   "cell_type": "code",
   "execution_count": null,
   "metadata": {
    "colab": {
     "base_uri": "https://localhost:8080/",
     "height": 206
    },
    "id": "xtMkqDBMIthP",
    "outputId": "56a2f5ea-f8df-4f18-ddbd-747d2aab6cac"
   },
   "outputs": [
    {
     "data": {
      "text/html": [
       "\n",
       "  <div id=\"df-a76d44db-762b-4d4f-becd-51520101b883\">\n",
       "    <div class=\"colab-df-container\">\n",
       "      <div>\n",
       "<style scoped>\n",
       "    .dataframe tbody tr th:only-of-type {\n",
       "        vertical-align: middle;\n",
       "    }\n",
       "\n",
       "    .dataframe tbody tr th {\n",
       "        vertical-align: top;\n",
       "    }\n",
       "\n",
       "    .dataframe thead th {\n",
       "        text-align: right;\n",
       "    }\n",
       "</style>\n",
       "<table border=\"1\" class=\"dataframe\">\n",
       "  <thead>\n",
       "    <tr style=\"text-align: right;\">\n",
       "      <th></th>\n",
       "      <th>order_id</th>\n",
       "      <th>time_taken_for_delivery</th>\n",
       "      <th>order_placed_date</th>\n",
       "      <th>order_placed_time</th>\n",
       "      <th>order_delivered_date</th>\n",
       "      <th>order_delivered_time</th>\n",
       "      <th>time_period</th>\n",
       "      <th>order_placed_day</th>\n",
       "      <th>order_delivered_day</th>\n",
       "    </tr>\n",
       "  </thead>\n",
       "  <tbody>\n",
       "    <tr>\n",
       "      <th>4165</th>\n",
       "      <td>1527276</td>\n",
       "      <td>5867.434753</td>\n",
       "      <td>2023-03-08</td>\n",
       "      <td>09:46:43</td>\n",
       "      <td>2023-03-12</td>\n",
       "      <td>11:34:09.085175</td>\n",
       "      <td>Morning</td>\n",
       "      <td>Wednesday</td>\n",
       "      <td>Sunday</td>\n",
       "    </tr>\n",
       "    <tr>\n",
       "      <th>5499</th>\n",
       "      <td>1528610</td>\n",
       "      <td>7299.831375</td>\n",
       "      <td>2023-03-10</td>\n",
       "      <td>17:06:22</td>\n",
       "      <td>2023-03-15</td>\n",
       "      <td>18:46:11.882496</td>\n",
       "      <td>Evening</td>\n",
       "      <td>Friday</td>\n",
       "      <td>Wednesday</td>\n",
       "    </tr>\n",
       "    <tr>\n",
       "      <th>10007</th>\n",
       "      <td>1533118</td>\n",
       "      <td>2883.124250</td>\n",
       "      <td>2023-03-19</td>\n",
       "      <td>00:56:34</td>\n",
       "      <td>2023-03-21</td>\n",
       "      <td>00:59:41.454974</td>\n",
       "      <td>night</td>\n",
       "      <td>Sunday</td>\n",
       "      <td>Tuesday</td>\n",
       "    </tr>\n",
       "    <tr>\n",
       "      <th>10225</th>\n",
       "      <td>1533336</td>\n",
       "      <td>4485.891210</td>\n",
       "      <td>2023-03-19</td>\n",
       "      <td>11:07:32</td>\n",
       "      <td>2023-03-22</td>\n",
       "      <td>13:53:25.472592</td>\n",
       "      <td>Morning</td>\n",
       "      <td>Sunday</td>\n",
       "      <td>Wednesday</td>\n",
       "    </tr>\n",
       "    <tr>\n",
       "      <th>14155</th>\n",
       "      <td>1537266</td>\n",
       "      <td>3888.444088</td>\n",
       "      <td>2023-03-26</td>\n",
       "      <td>09:54:24</td>\n",
       "      <td>2023-03-29</td>\n",
       "      <td>02:42:50.645252</td>\n",
       "      <td>Morning</td>\n",
       "      <td>Sunday</td>\n",
       "      <td>Wednesday</td>\n",
       "    </tr>\n",
       "  </tbody>\n",
       "</table>\n",
       "</div>\n",
       "      <button class=\"colab-df-convert\" onclick=\"convertToInteractive('df-a76d44db-762b-4d4f-becd-51520101b883')\"\n",
       "              title=\"Convert this dataframe to an interactive table.\"\n",
       "              style=\"display:none;\">\n",
       "        \n",
       "  <svg xmlns=\"http://www.w3.org/2000/svg\" height=\"24px\"viewBox=\"0 0 24 24\"\n",
       "       width=\"24px\">\n",
       "    <path d=\"M0 0h24v24H0V0z\" fill=\"none\"/>\n",
       "    <path d=\"M18.56 5.44l.94 2.06.94-2.06 2.06-.94-2.06-.94-.94-2.06-.94 2.06-2.06.94zm-11 1L8.5 8.5l.94-2.06 2.06-.94-2.06-.94L8.5 2.5l-.94 2.06-2.06.94zm10 10l.94 2.06.94-2.06 2.06-.94-2.06-.94-.94-2.06-.94 2.06-2.06.94z\"/><path d=\"M17.41 7.96l-1.37-1.37c-.4-.4-.92-.59-1.43-.59-.52 0-1.04.2-1.43.59L10.3 9.45l-7.72 7.72c-.78.78-.78 2.05 0 2.83L4 21.41c.39.39.9.59 1.41.59.51 0 1.02-.2 1.41-.59l7.78-7.78 2.81-2.81c.8-.78.8-2.07 0-2.86zM5.41 20L4 18.59l7.72-7.72 1.47 1.35L5.41 20z\"/>\n",
       "  </svg>\n",
       "      </button>\n",
       "      \n",
       "  <style>\n",
       "    .colab-df-container {\n",
       "      display:flex;\n",
       "      flex-wrap:wrap;\n",
       "      gap: 12px;\n",
       "    }\n",
       "\n",
       "    .colab-df-convert {\n",
       "      background-color: #E8F0FE;\n",
       "      border: none;\n",
       "      border-radius: 50%;\n",
       "      cursor: pointer;\n",
       "      display: none;\n",
       "      fill: #1967D2;\n",
       "      height: 32px;\n",
       "      padding: 0 0 0 0;\n",
       "      width: 32px;\n",
       "    }\n",
       "\n",
       "    .colab-df-convert:hover {\n",
       "      background-color: #E2EBFA;\n",
       "      box-shadow: 0px 1px 2px rgba(60, 64, 67, 0.3), 0px 1px 3px 1px rgba(60, 64, 67, 0.15);\n",
       "      fill: #174EA6;\n",
       "    }\n",
       "\n",
       "    [theme=dark] .colab-df-convert {\n",
       "      background-color: #3B4455;\n",
       "      fill: #D2E3FC;\n",
       "    }\n",
       "\n",
       "    [theme=dark] .colab-df-convert:hover {\n",
       "      background-color: #434B5C;\n",
       "      box-shadow: 0px 1px 3px 1px rgba(0, 0, 0, 0.15);\n",
       "      filter: drop-shadow(0px 1px 2px rgba(0, 0, 0, 0.3));\n",
       "      fill: #FFFFFF;\n",
       "    }\n",
       "  </style>\n",
       "\n",
       "      <script>\n",
       "        const buttonEl =\n",
       "          document.querySelector('#df-a76d44db-762b-4d4f-becd-51520101b883 button.colab-df-convert');\n",
       "        buttonEl.style.display =\n",
       "          google.colab.kernel.accessAllowed ? 'block' : 'none';\n",
       "\n",
       "        async function convertToInteractive(key) {\n",
       "          const element = document.querySelector('#df-a76d44db-762b-4d4f-becd-51520101b883');\n",
       "          const dataTable =\n",
       "            await google.colab.kernel.invokeFunction('convertToInteractive',\n",
       "                                                     [key], {});\n",
       "          if (!dataTable) return;\n",
       "\n",
       "          const docLinkHtml = 'Like what you see? Visit the ' +\n",
       "            '<a target=\"_blank\" href=https://colab.research.google.com/notebooks/data_table.ipynb>data table notebook</a>'\n",
       "            + ' to learn more about interactive tables.';\n",
       "          element.innerHTML = '';\n",
       "          dataTable['output_type'] = 'display_data';\n",
       "          await google.colab.output.renderOutput(dataTable, element);\n",
       "          const docLink = document.createElement('div');\n",
       "          docLink.innerHTML = docLinkHtml;\n",
       "          element.appendChild(docLink);\n",
       "        }\n",
       "      </script>\n",
       "    </div>\n",
       "  </div>\n",
       "  "
      ],
      "text/plain": [
       "       order_id  time_taken_for_delivery order_placed_date order_placed_time  \\\n",
       "4165    1527276              5867.434753        2023-03-08          09:46:43   \n",
       "5499    1528610              7299.831375        2023-03-10          17:06:22   \n",
       "10007   1533118              2883.124250        2023-03-19          00:56:34   \n",
       "10225   1533336              4485.891210        2023-03-19          11:07:32   \n",
       "14155   1537266              3888.444088        2023-03-26          09:54:24   \n",
       "\n",
       "      order_delivered_date order_delivered_time time_period order_placed_day  \\\n",
       "4165            2023-03-12      11:34:09.085175     Morning        Wednesday   \n",
       "5499            2023-03-15      18:46:11.882496     Evening           Friday   \n",
       "10007           2023-03-21      00:59:41.454974       night           Sunday   \n",
       "10225           2023-03-22      13:53:25.472592     Morning           Sunday   \n",
       "14155           2023-03-29      02:42:50.645252     Morning           Sunday   \n",
       "\n",
       "      order_delivered_day  \n",
       "4165               Sunday  \n",
       "5499            Wednesday  \n",
       "10007             Tuesday  \n",
       "10225           Wednesday  \n",
       "14155           Wednesday  "
      ]
     },
     "execution_count": 168,
     "metadata": {},
     "output_type": "execute_result"
    }
   ],
   "source": [
    "pd.set_option(\"display.max.rows\", None)\n",
    "df[df['time_taken_for_delivery']>1440]\n"
   ]
  },
  {
   "cell_type": "markdown",
   "metadata": {
    "id": "pNPfbRXVXLWA"
   },
   "source": [
    "# Report \n",
    "* Fastest order delivered in 15mins (lowest time taken for one delivery)\n",
    "* Highest time taken for one delivery is 7299mins (might be chance this order is placed through IRCTC service and the delivery is missied after next station avalible dominos restaurant they delivered the order)\n",
    "* Average time for one delivery is 20.49mins\n",
    "* 95% of the deliveries are delivered in time which is good for u kanav sir\n",
    "* 4.02% deliveries are late which is less compare to on time delivered percentage\n",
    "* 5 deliveries took more than 1day time to delivered"
   ]
  },
  {
   "cell_type": "markdown",
   "metadata": {
    "id": "80NMDtEz78q4"
   },
   "source": [
    "Final report:\n",
    "\n",
    "\n",
    "* Most orders (5002) are placed at morning time between 4am - 12pm.\n",
    "* Except tuesday all others day has apporox equal number of order placed\n",
    "* Avg time taken for the one delivery is 20.49mins\n",
    "* 95% of the order are delivered in time which is good news\n",
    "* 5 deliveries took more than 1day time to delivered\n",
    "\n",
    "Conclusion:\n",
    "\n",
    "* We can put more delivery boys in morning and afternoon as the no. of orders are more\n",
    "* We can give some discount on Tuesday to increase the no.of order\n",
    "* atlast your shop is running all good kanav sir give us pizza party\n",
    "\n",
    "\n"
   ]
  },
  {
   "cell_type": "code",
   "execution_count": null,
   "metadata": {
    "id": "RnNUAzPo9543"
   },
   "outputs": [],
   "source": []
  }
 ],
 "metadata": {
  "colab": {
   "provenance": []
  },
  "kernelspec": {
   "display_name": "Python 3 (ipykernel)",
   "language": "python",
   "name": "python3"
  },
  "language_info": {
   "codemirror_mode": {
    "name": "ipython",
    "version": 3
   },
   "file_extension": ".py",
   "mimetype": "text/x-python",
   "name": "python",
   "nbconvert_exporter": "python",
   "pygments_lexer": "ipython3",
   "version": "3.9.12"
  }
 },
 "nbformat": 4,
 "nbformat_minor": 1
}
