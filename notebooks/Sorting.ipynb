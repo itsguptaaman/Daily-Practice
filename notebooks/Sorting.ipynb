{
 "cells": [
  {
   "cell_type": "code",
   "execution_count": 1,
   "id": "6ad1b9db",
   "metadata": {},
   "outputs": [],
   "source": [
    "from time import time"
   ]
  },
  {
   "cell_type": "code",
   "execution_count": 2,
   "id": "71c89de9",
   "metadata": {},
   "outputs": [],
   "source": [
    "def bubble_sort(l):\n",
    "    for i in range(len(l)):\n",
    "        for j in range(len(l) - 1):\n",
    "            if l[i] < l[j]:\n",
    "                l[i], l[j] = l[j], l[i]\n",
    "    return l"
   ]
  },
  {
   "cell_type": "code",
   "execution_count": 3,
   "id": "d4b0adcd",
   "metadata": {},
   "outputs": [
    {
     "name": "stdout",
     "output_type": "stream",
     "text": [
      "0.0\n"
     ]
    }
   ],
   "source": [
    "initial = time()\n",
    "for i in range(100):\n",
    "    l = [70, 20, 50, 0, 90, 85, 15]\n",
    "#     print(bubble_sort(l))\n",
    "final = time()\n",
    "print(final - initial)"
   ]
  },
  {
   "cell_type": "code",
   "execution_count": 4,
   "id": "14d68034",
   "metadata": {},
   "outputs": [],
   "source": [
    "def bubbleSort(arr):\n",
    "    n = len(arr)\n",
    "    for i in range(n):\n",
    "        for j in range(n - i - 1):\n",
    "            if arr[j] > arr[j + 1]:\n",
    "                # Swapping\n",
    "                arr[j], arr[j + 1] = arr[j + 1], arr[j]\n",
    "    return arr           \n",
    "        "
   ]
  },
  {
   "cell_type": "code",
   "execution_count": 5,
   "id": "996a80cf",
   "metadata": {},
   "outputs": [
    {
     "name": "stdout",
     "output_type": "stream",
     "text": [
      "0.0\n"
     ]
    }
   ],
   "source": [
    "initial = time()\n",
    "for i in range(100):\n",
    "    arr = [70, 20, 50, 30, 90, 5, 15]\n",
    "    bubbleSort(arr)\n",
    "final = time()\n",
    "print(final - initial)"
   ]
  },
  {
   "cell_type": "code",
   "execution_count": 6,
   "id": "266ec415",
   "metadata": {},
   "outputs": [],
   "source": [
    "## Assignment:0, 1 and 2 --> Sort without applying any sorting algorithm\n",
    "## 1, 1, 0, 2, 2, 1 --> 0, 1, 1, 1, 2, 2, 2\n"
   ]
  },
  {
   "cell_type": "code",
   "execution_count": 7,
   "id": "1f168556",
   "metadata": {},
   "outputs": [],
   "source": [
    "# l = [1, 1, 0, 2, 2, 1]\n",
    "# l1 = []\n",
    "# for i in l:\n",
    "#     if i in l1:\n",
    "    "
   ]
  },
  {
   "cell_type": "code",
   "execution_count": null,
   "id": "dd5da812",
   "metadata": {},
   "outputs": [],
   "source": []
  },
  {
   "cell_type": "code",
   "execution_count": null,
   "id": "c6bb22fd",
   "metadata": {},
   "outputs": [],
   "source": []
  }
 ],
 "metadata": {
  "kernelspec": {
   "display_name": "Python 3 (ipykernel)",
   "language": "python",
   "name": "python3"
  },
  "language_info": {
   "codemirror_mode": {
    "name": "ipython",
    "version": 3
   },
   "file_extension": ".py",
   "mimetype": "text/x-python",
   "name": "python",
   "nbconvert_exporter": "python",
   "pygments_lexer": "ipython3",
   "version": "3.9.12"
  }
 },
 "nbformat": 4,
 "nbformat_minor": 5
}
