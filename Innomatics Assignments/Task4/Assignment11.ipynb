{
 "cells": [
  {
   "cell_type": "code",
   "execution_count": null,
   "id": "2788c6b4",
   "metadata": {},
   "outputs": [],
   "source": []
  },
  {
   "cell_type": "code",
   "execution_count": null,
   "id": "57653493",
   "metadata": {},
   "outputs": [],
   "source": [
    "de"
   ]
  },
  {
   "cell_type": "code",
   "execution_count": 9,
   "id": "f5bdf22f",
   "metadata": {},
   "outputs": [
    {
     "name": "stdout",
     "output_type": "stream",
     "text": [
      "17\n",
      "1\t1\t1\t1b0\n",
      "2\t2\t2\t01b0\n",
      "3\t3\t3\t11b0\n",
      "4\t4\t4\t001b0\n",
      "5\t5\t5\t101b0\n",
      "6\t6\t6\t011b0\n",
      "7\t7\t7\t111b0\n",
      "8\t10\t8\t0001b0\n",
      "9\t11\t9\t1001b0\n",
      "10\t12\tA\t0101b0\n",
      "11\t13\tB\t1101b0\n",
      "12\t14\tC\t0011b0\n",
      "13\t15\tD\t1011b0\n",
      "14\t16\tE\t0111b0\n",
      "15\t17\tF\t1111b0\n",
      "16\t20\t10\t00001b0\n",
      "17\t21\t11\t10001b0\n"
     ]
    }
   ],
   "source": [
    "def print_formatted(number):\n",
    "    for i in range(1, number+1):\n",
    "        print(f\"{i}\\t{oct(i)[2:]}\\t{hex(i)[2:].upper()}\\t{bin(i)[::-1]}\")\n",
    "\n",
    "if __name__ == '__main__':\n",
    "    n = int(input())\n",
    "    print_formatted(n)"
   ]
  },
  {
   "cell_type": "code",
   "execution_count": 17,
   "id": "d849a4ff",
   "metadata": {},
   "outputs": [],
   "source": [
    "def print_formatted(number):\n",
    "#     Number = int(input())\n",
    "    l = len(bin(number)) - 2\n",
    "    for i in range(1, number + 1):\n",
    "        f = \"\"\n",
    "        for c in \"doXb\":\n",
    "            if f:\n",
    "                f += \" \"\n",
    "            f += \"{:>\" + str(l) + c + \"}\"\n",
    "        print(f.format(i, i, i, i))"
   ]
  },
  {
   "cell_type": "code",
   "execution_count": 18,
   "id": "cd9e1b2a",
   "metadata": {},
   "outputs": [
    {
     "name": "stdout",
     "output_type": "stream",
     "text": [
      "5\n",
      "    1     1     1     1\n",
      "    2     2     2    10\n",
      "    3     3     3    11\n",
      "    4     4     4   100\n",
      "    5     5     5   101\n",
      "    6     6     6   110\n",
      "    7     7     7   111\n",
      "    8    10     8  1000\n",
      "    9    11     9  1001\n",
      "   10    12     A  1010\n",
      "   11    13     B  1011\n",
      "   12    14     C  1100\n",
      "   13    15     D  1101\n",
      "   14    16     E  1110\n",
      "   15    17     F  1111\n",
      "   16    20    10 10000\n",
      "   17    21    11 10001\n"
     ]
    }
   ],
   "source": [
    "print_formatted(17)"
   ]
  },
  {
   "cell_type": "code",
   "execution_count": null,
   "id": "9a5cc57a",
   "metadata": {},
   "outputs": [],
   "source": []
  }
 ],
 "metadata": {
  "kernelspec": {
   "display_name": "Python 3 (ipykernel)",
   "language": "python",
   "name": "python3"
  },
  "language_info": {
   "codemirror_mode": {
    "name": "ipython",
    "version": 3
   },
   "file_extension": ".py",
   "mimetype": "text/x-python",
   "name": "python",
   "nbconvert_exporter": "python",
   "pygments_lexer": "ipython3",
   "version": "3.9.12"
  }
 },
 "nbformat": 4,
 "nbformat_minor": 5
}
