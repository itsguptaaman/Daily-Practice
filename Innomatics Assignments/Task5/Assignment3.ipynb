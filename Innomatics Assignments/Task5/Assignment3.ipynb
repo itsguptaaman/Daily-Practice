{
 "cells": [
  {
   "cell_type": "code",
   "execution_count": null,
   "id": "adb6b5eb",
   "metadata": {},
   "outputs": [],
   "source": []
  },
  {
   "cell_type": "code",
   "execution_count": 33,
   "id": "f437bff2",
   "metadata": {},
   "outputs": [
    {
     "name": "stdout",
     "output_type": "stream",
     "text": [
      "5\n",
      "1.414\n",
      "True\n",
      "+.5486468\n",
      "True\n",
      "0.5.0\n",
      "False\n",
      "1+1.0\n",
      "False\n",
      "0\n"
     ]
    }
   ],
   "source": [
    "import re\n",
    "\n",
    "no = int(input())\n",
    "for i in range(no):\n",
    "    x = input()\n",
    "    try:\n",
    "        if float(x):\n",
    "            print(\"True\")\n",
    "        else:\n",
    "            print(\"False\")\n",
    "    except Exception as e:\n",
    "        print(\"False\")\n",
    "\n"
   ]
  },
  {
   "cell_type": "code",
   "execution_count": 32,
   "id": "79629a60",
   "metadata": {},
   "outputs": [
    {
     "data": {
      "text/plain": [
       "4.0"
      ]
     },
     "execution_count": 32,
     "metadata": {},
     "output_type": "execute_result"
    }
   ],
   "source": [
    "float(s)"
   ]
  },
  {
   "cell_type": "code",
   "execution_count": 29,
   "id": "460d2ee3",
   "metadata": {},
   "outputs": [
    {
     "data": {
      "text/plain": [
       "'4.0000'"
      ]
     },
     "execution_count": 29,
     "metadata": {},
     "output_type": "execute_result"
    }
   ],
   "source": [
    "s = \"4.0000\"\n",
    "s.isdecimal()\n"
   ]
  },
  {
   "cell_type": "code",
   "execution_count": null,
   "id": "825e7146",
   "metadata": {},
   "outputs": [],
   "source": [
    "re.findall(\"[0-9.]+\", x)[0]"
   ]
  }
 ],
 "metadata": {
  "kernelspec": {
   "display_name": "Python 3 (ipykernel)",
   "language": "python",
   "name": "python3"
  },
  "language_info": {
   "codemirror_mode": {
    "name": "ipython",
    "version": 3
   },
   "file_extension": ".py",
   "mimetype": "text/x-python",
   "name": "python",
   "nbconvert_exporter": "python",
   "pygments_lexer": "ipython3",
   "version": "3.9.12"
  }
 },
 "nbformat": 4,
 "nbformat_minor": 5
}
