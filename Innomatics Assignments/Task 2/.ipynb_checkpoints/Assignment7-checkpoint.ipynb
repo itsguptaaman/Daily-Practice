{
 "cells": [
  {
   "cell_type": "code",
   "execution_count": null,
   "id": "df7758fc",
   "metadata": {},
   "outputs": [],
   "source": []
  },
  {
   "cell_type": "code",
   "execution_count": 2,
   "id": "64cbfb3d",
   "metadata": {},
   "outputs": [
    {
     "name": "stdout",
     "output_type": "stream",
     "text": [
      "9\n",
      "1 2 3 4 5 6 7 8 9\n",
      "['1', '2', '3', '4', '5', '6', '7', '8', '9']\n"
     ]
    }
   ],
   "source": [
    "gen_no = int(input())\n",
    "s = input()\n",
    "l = s.split()\n"
   ]
  },
  {
   "cell_type": "code",
   "execution_count": 3,
   "id": "943c2352",
   "metadata": {},
   "outputs": [],
   "source": [
    "l = [ int(i) for i in l]"
   ]
  },
  {
   "cell_type": "code",
   "execution_count": 5,
   "id": "276b76b2",
   "metadata": {},
   "outputs": [
    {
     "data": {
      "text/plain": [
       "{1, 2, 3, 4, 5, 6, 7, 8, 9}"
      ]
     },
     "execution_count": 5,
     "metadata": {},
     "output_type": "execute_result"
    }
   ],
   "source": [
    "s = set(l)"
   ]
  },
  {
   "cell_type": "code",
   "execution_count": null,
   "id": "db253500",
   "metadata": {},
   "outputs": [],
   "source": [
    "no = int(input())\n",
    "for i in range(no):\n",
    "    np = input()\n",
    "    li = inp.split()\n",
    "    if li[0] == \"pop\":\n",
    "        s.pop()\n",
    "    elif li[0] == \"remove\":\n",
    "        s.remove(int(li[1]))\n",
    "    elif li[0] == \"discard\":\n",
    "        s.discard(int(li[1]))"
   ]
  },
  {
   "cell_type": "markdown",
   "id": "31276efa",
   "metadata": {},
   "source": [
    "pop\n",
    "remove 9\n",
    "discard 9\n",
    "discard 8\n",
    "remove 7\n",
    "pop \n",
    "discard 6\n",
    "remove 5\n",
    "pop \n",
    "discard 5"
   ]
  },
  {
   "cell_type": "code",
   "execution_count": 18,
   "id": "fe9b91f1",
   "metadata": {},
   "outputs": [
    {
     "name": "stdout",
     "output_type": "stream",
     "text": [
      "10\n",
      "0 1 2 3 4 5 6 7 8 9\n",
      "12\n",
      "remove 1\n",
      "pop\n",
      "pop\n",
      "discard 1\n",
      "discard 2\n",
      "remove 6\n",
      "pop\n",
      "discard 6\n",
      "discard 8\n",
      "discard 3\n",
      "discard 1\n",
      "discard 0\n",
      "4\n"
     ]
    }
   ],
   "source": [
    "# Enter your code here. Read input from STDIN. Print output to STDOUT\n",
    "gen_no = int(input())\n",
    "s = input()\n",
    "l = s.split()\n",
    "l = [ int(i) for i in l]\n",
    "s = set(l)\n",
    "try:\n",
    "    no = int(input())\n",
    "    for i in range(no):\n",
    "        inp = input()\n",
    "        li = inp.split()\n",
    "        if li[0] == \"pop\":\n",
    "            s.pop()\n",
    "        elif li[0] == \"remove\":\n",
    "            s.remove(int(li[1]))\n",
    "        elif li[0] == \"discard\":\n",
    "            s.discard(int(li[1]))\n",
    "    out = [i for i in s]\n",
    "    print(sum(out))\n",
    "except Exception as e:\n",
    "    print(0)"
   ]
  },
  {
   "cell_type": "code",
   "execution_count": 7,
   "id": "1700d6c8",
   "metadata": {},
   "outputs": [
    {
     "data": {
      "text/plain": [
       "{4}"
      ]
     },
     "execution_count": 7,
     "metadata": {},
     "output_type": "execute_result"
    }
   ],
   "source": [
    "    10\n",
    "\n",
    "    0 1 2 3 4 5 6 7 8 9\n",
    "\n",
    "    12\n",
    "\n",
    "    remove 1\n",
    "\n",
    "    pop\n",
    "\n",
    "    pop\n",
    "\n",
    "    discard 1\n",
    "\n",
    "    discard 2\n",
    "\n",
    "    remove 6\n",
    "\n",
    "    pop\n",
    "\n",
    "    discard 6\n",
    "\n",
    "    discard 8\n",
    "\n",
    "    discard 3\n",
    "\n",
    "    discard 1\n",
    "\n",
    "    discard 0"
   ]
  },
  {
   "cell_type": "code",
   "execution_count": 16,
   "id": "dea01bd9",
   "metadata": {},
   "outputs": [],
   "source": []
  },
  {
   "cell_type": "code",
   "execution_count": null,
   "id": "f614655d",
   "metadata": {},
   "outputs": [],
   "source": []
  }
 ],
 "metadata": {
  "kernelspec": {
   "display_name": "Python 3 (ipykernel)",
   "language": "python",
   "name": "python3"
  },
  "language_info": {
   "codemirror_mode": {
    "name": "ipython",
    "version": 3
   },
   "file_extension": ".py",
   "mimetype": "text/x-python",
   "name": "python",
   "nbconvert_exporter": "python",
   "pygments_lexer": "ipython3",
   "version": "3.9.12"
  }
 },
 "nbformat": 4,
 "nbformat_minor": 5
}
