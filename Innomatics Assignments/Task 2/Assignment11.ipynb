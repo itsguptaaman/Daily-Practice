{
 "cells": [
  {
   "cell_type": "code",
   "execution_count": null,
   "id": "1d95b7d6",
   "metadata": {},
   "outputs": [],
   "source": []
  },
  {
   "cell_type": "code",
   "execution_count": 1,
   "id": "917f3586",
   "metadata": {},
   "outputs": [
    {
     "name": "stdout",
     "output_type": "stream",
     "text": [
      "16\n",
      "1 2 3 4 5 6 7 8 9 10 11 12 13 14 24 52\n"
     ]
    }
   ],
   "source": [
    "# Enter your code here. Read input from STDIN. Print output to STDOUT\n",
    "_ = int(input())\n",
    "s = set(map(int, input().split()))\n",
    "no = int(input())\n",
    "\n",
    "for i in range(no):\n",
    "    \n",
    "    x = input().split()\n",
    "    \n",
    "    if x[0] == \"update\":\n",
    "        l = map(int, input().split())\n",
    "        s.update(l)\n",
    "    \n",
    "    elif x[0] == \"intersection_update\":\n",
    "        l = map(int, input().split())\n",
    "        s.intersection_update(l)\n",
    "        \n",
    "    elif x[0] == \"difference_update\":\n",
    "        l = map(int, input().split())\n",
    "        s.difference_update(l)\n",
    "        \n",
    "    elif x[0] == \"symmetric_difference_update\":\n",
    "        l = map(int, input().split())\n",
    "        s.symmetric_difference_update(l)\n",
    "        \n",
    "print(sum(s))"
   ]
  },
  {
   "cell_type": "code",
   "execution_count": 3,
   "id": "331a8490",
   "metadata": {},
   "outputs": [],
   "source": [
    "s.intersection_update([2, 3, 5, 6, 8, 9, 1, 4, 7, 11])"
   ]
  },
  {
   "cell_type": "code",
   "execution_count": 4,
   "id": "76fea89c",
   "metadata": {},
   "outputs": [
    {
     "data": {
      "text/plain": [
       "{1, 2, 3, 4, 5, 6, 7, 8, 9, 11}"
      ]
     },
     "execution_count": 4,
     "metadata": {},
     "output_type": "execute_result"
    }
   ],
   "source": [
    "s"
   ]
  },
  {
   "cell_type": "code",
   "execution_count": 5,
   "id": "1dd50dd9",
   "metadata": {},
   "outputs": [],
   "source": [
    "s.update([55, 56])"
   ]
  },
  {
   "cell_type": "code",
   "execution_count": 6,
   "id": "2ff99635",
   "metadata": {},
   "outputs": [
    {
     "data": {
      "text/plain": [
       "{1, 2, 3, 4, 5, 6, 7, 8, 9, 11, 55, 56}"
      ]
     },
     "execution_count": 6,
     "metadata": {},
     "output_type": "execute_result"
    }
   ],
   "source": [
    "s"
   ]
  },
  {
   "cell_type": "code",
   "execution_count": 7,
   "id": "80ef1b2c",
   "metadata": {},
   "outputs": [],
   "source": [
    "s.symmetric_difference_update([22, 7, 35, 62, 58])"
   ]
  },
  {
   "cell_type": "code",
   "execution_count": 8,
   "id": "1b4f5e8d",
   "metadata": {},
   "outputs": [
    {
     "data": {
      "text/plain": [
       "{1, 2, 3, 4, 5, 6, 8, 9, 11, 22, 35, 55, 56, 58, 62}"
      ]
     },
     "execution_count": 8,
     "metadata": {},
     "output_type": "execute_result"
    }
   ],
   "source": [
    "s"
   ]
  },
  {
   "cell_type": "code",
   "execution_count": 9,
   "id": "4e4e8bb8",
   "metadata": {},
   "outputs": [],
   "source": [
    "s.difference_update([11, 22, 35, 55, 58, 62, 66])"
   ]
  },
  {
   "cell_type": "code",
   "execution_count": 11,
   "id": "1c1ea076",
   "metadata": {},
   "outputs": [
    {
     "data": {
      "text/plain": [
       "94"
      ]
     },
     "execution_count": 11,
     "metadata": {},
     "output_type": "execute_result"
    }
   ],
   "source": [
    "sum(s)"
   ]
  },
  {
   "cell_type": "code",
   "execution_count": null,
   "id": "78b1eff8",
   "metadata": {},
   "outputs": [],
   "source": []
  }
 ],
 "metadata": {
  "kernelspec": {
   "display_name": "Python 3 (ipykernel)",
   "language": "python",
   "name": "python3"
  },
  "language_info": {
   "codemirror_mode": {
    "name": "ipython",
    "version": 3
   },
   "file_extension": ".py",
   "mimetype": "text/x-python",
   "name": "python",
   "nbconvert_exporter": "python",
   "pygments_lexer": "ipython3",
   "version": "3.9.12"
  }
 },
 "nbformat": 4,
 "nbformat_minor": 5
}
