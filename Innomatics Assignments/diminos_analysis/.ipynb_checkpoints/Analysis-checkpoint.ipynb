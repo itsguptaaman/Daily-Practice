{
 "cells": [
  {
   "cell_type": "code",
   "execution_count": 1,
   "id": "1a20f05a",
   "metadata": {},
   "outputs": [],
   "source": [
    "# Importing the libraries\n",
    "import numpy as np\n",
    "import pandas as pd"
   ]
  },
  {
   "cell_type": "code",
   "execution_count": 2,
   "id": "d81d4fa8",
   "metadata": {},
   "outputs": [],
   "source": [
    "# Reading the dataset\n",
    "df = pd.read_csv(\"diminos_data.csv\")"
   ]
  },
  {
   "cell_type": "code",
   "execution_count": 3,
   "id": "25873587",
   "metadata": {},
   "outputs": [],
   "source": [
    "data = df.copy()"
   ]
  },
  {
   "cell_type": "code",
   "execution_count": 4,
   "id": "df663857",
   "metadata": {},
   "outputs": [
    {
     "data": {
      "text/html": [
       "<div>\n",
       "<style scoped>\n",
       "    .dataframe tbody tr th:only-of-type {\n",
       "        vertical-align: middle;\n",
       "    }\n",
       "\n",
       "    .dataframe tbody tr th {\n",
       "        vertical-align: top;\n",
       "    }\n",
       "\n",
       "    .dataframe thead th {\n",
       "        text-align: right;\n",
       "    }\n",
       "</style>\n",
       "<table border=\"1\" class=\"dataframe\">\n",
       "  <thead>\n",
       "    <tr style=\"text-align: right;\">\n",
       "      <th></th>\n",
       "      <th>order_id</th>\n",
       "      <th>order_placed_at</th>\n",
       "      <th>order_delivered_at</th>\n",
       "    </tr>\n",
       "  </thead>\n",
       "  <tbody>\n",
       "    <tr>\n",
       "      <th>530</th>\n",
       "      <td>1523641</td>\n",
       "      <td>2023-03-01 23:02:11</td>\n",
       "      <td>2023-03-01 23:17:17.584619</td>\n",
       "    </tr>\n",
       "    <tr>\n",
       "      <th>72</th>\n",
       "      <td>1523183</td>\n",
       "      <td>2023-03-01 02:52:37</td>\n",
       "      <td>2023-03-01 03:11:56.767246</td>\n",
       "    </tr>\n",
       "    <tr>\n",
       "      <th>410</th>\n",
       "      <td>1523521</td>\n",
       "      <td>2023-03-01 18:23:00</td>\n",
       "      <td>2023-03-01 18:39:58.678906</td>\n",
       "    </tr>\n",
       "    <tr>\n",
       "      <th>2326</th>\n",
       "      <td>1525437</td>\n",
       "      <td>2023-03-05 03:38:08</td>\n",
       "      <td>2023-03-05 03:53:20.947083</td>\n",
       "    </tr>\n",
       "    <tr>\n",
       "      <th>12516</th>\n",
       "      <td>1535627</td>\n",
       "      <td>2023-03-23 11:54:31</td>\n",
       "      <td>2023-03-23 12:15:30.471783</td>\n",
       "    </tr>\n",
       "  </tbody>\n",
       "</table>\n",
       "</div>"
      ],
      "text/plain": [
       "       order_id      order_placed_at          order_delivered_at\n",
       "530     1523641  2023-03-01 23:02:11  2023-03-01 23:17:17.584619\n",
       "72      1523183  2023-03-01 02:52:37  2023-03-01 03:11:56.767246\n",
       "410     1523521  2023-03-01 18:23:00  2023-03-01 18:39:58.678906\n",
       "2326    1525437  2023-03-05 03:38:08  2023-03-05 03:53:20.947083\n",
       "12516   1535627  2023-03-23 11:54:31  2023-03-23 12:15:30.471783"
      ]
     },
     "execution_count": 4,
     "metadata": {},
     "output_type": "execute_result"
    }
   ],
   "source": [
    "# 5 sample of the dataset\n",
    "df.sample(5)"
   ]
  },
  {
   "cell_type": "code",
   "execution_count": 5,
   "id": "c364a2f8",
   "metadata": {
    "scrolled": true
   },
   "outputs": [
    {
     "data": {
      "text/plain": [
       "(15000, 3)"
      ]
     },
     "execution_count": 5,
     "metadata": {},
     "output_type": "execute_result"
    }
   ],
   "source": [
    "# Shape of the dataset\n",
    "df.shape"
   ]
  },
  {
   "cell_type": "code",
   "execution_count": 6,
   "id": "a6554aa7",
   "metadata": {},
   "outputs": [
    {
     "data": {
      "text/html": [
       "<div>\n",
       "<style scoped>\n",
       "    .dataframe tbody tr th:only-of-type {\n",
       "        vertical-align: middle;\n",
       "    }\n",
       "\n",
       "    .dataframe tbody tr th {\n",
       "        vertical-align: top;\n",
       "    }\n",
       "\n",
       "    .dataframe thead th {\n",
       "        text-align: right;\n",
       "    }\n",
       "</style>\n",
       "<table border=\"1\" class=\"dataframe\">\n",
       "  <thead>\n",
       "    <tr style=\"text-align: right;\">\n",
       "      <th></th>\n",
       "      <th>order_id</th>\n",
       "      <th>order_placed_at</th>\n",
       "      <th>order_delivered_at</th>\n",
       "    </tr>\n",
       "  </thead>\n",
       "  <tbody>\n",
       "    <tr>\n",
       "      <th>0</th>\n",
       "      <td>1523111</td>\n",
       "      <td>2023-03-01 00:00:59</td>\n",
       "      <td>2023-03-01 00:18:07.443132</td>\n",
       "    </tr>\n",
       "    <tr>\n",
       "      <th>1</th>\n",
       "      <td>1523112</td>\n",
       "      <td>2023-03-01 00:03:59</td>\n",
       "      <td>2023-03-01 00:19:34.925241</td>\n",
       "    </tr>\n",
       "    <tr>\n",
       "      <th>2</th>\n",
       "      <td>1523113</td>\n",
       "      <td>2023-03-01 00:07:22</td>\n",
       "      <td>2023-03-01 00:22:28.291385</td>\n",
       "    </tr>\n",
       "    <tr>\n",
       "      <th>3</th>\n",
       "      <td>1523114</td>\n",
       "      <td>2023-03-01 00:07:47</td>\n",
       "      <td>2023-03-01 00:46:19.019399</td>\n",
       "    </tr>\n",
       "    <tr>\n",
       "      <th>4</th>\n",
       "      <td>1523115</td>\n",
       "      <td>2023-03-01 00:09:03</td>\n",
       "      <td>2023-03-01 00:25:13.619056</td>\n",
       "    </tr>\n",
       "  </tbody>\n",
       "</table>\n",
       "</div>"
      ],
      "text/plain": [
       "   order_id      order_placed_at          order_delivered_at\n",
       "0   1523111  2023-03-01 00:00:59  2023-03-01 00:18:07.443132\n",
       "1   1523112  2023-03-01 00:03:59  2023-03-01 00:19:34.925241\n",
       "2   1523113  2023-03-01 00:07:22  2023-03-01 00:22:28.291385\n",
       "3   1523114  2023-03-01 00:07:47  2023-03-01 00:46:19.019399\n",
       "4   1523115  2023-03-01 00:09:03  2023-03-01 00:25:13.619056"
      ]
     },
     "execution_count": 6,
     "metadata": {},
     "output_type": "execute_result"
    }
   ],
   "source": [
    "# Top 5 rows\n",
    "df.head()"
   ]
  },
  {
   "cell_type": "code",
   "execution_count": 7,
   "id": "fff84afc",
   "metadata": {},
   "outputs": [
    {
     "name": "stdout",
     "output_type": "stream",
     "text": [
      "<class 'pandas.core.frame.DataFrame'>\n",
      "RangeIndex: 15000 entries, 0 to 14999\n",
      "Data columns (total 3 columns):\n",
      " #   Column              Non-Null Count  Dtype \n",
      "---  ------              --------------  ----- \n",
      " 0   order_id            15000 non-null  int64 \n",
      " 1   order_placed_at     15000 non-null  object\n",
      " 2   order_delivered_at  15000 non-null  object\n",
      "dtypes: int64(1), object(2)\n",
      "memory usage: 351.7+ KB\n"
     ]
    }
   ],
   "source": [
    "# Info of the dataset\n",
    "df.info()"
   ]
  },
  {
   "cell_type": "code",
   "execution_count": 8,
   "id": "2da3a02c",
   "metadata": {},
   "outputs": [],
   "source": [
    "# Type casting the columns to date time\n",
    "df[\"order_placed_at\"] = pd.to_datetime(df[\"order_placed_at\"])\n",
    "df[\"order_delivered_at\"] = pd.to_datetime(df[\"order_delivered_at\"])"
   ]
  },
  {
   "cell_type": "code",
   "execution_count": 9,
   "id": "9a4c34bb",
   "metadata": {},
   "outputs": [
    {
     "data": {
      "text/plain": [
       "order_id                       int64\n",
       "order_placed_at       datetime64[ns]\n",
       "order_delivered_at    datetime64[ns]\n",
       "dtype: object"
      ]
     },
     "execution_count": 9,
     "metadata": {},
     "output_type": "execute_result"
    }
   ],
   "source": [
    "# Checking data types\n",
    "df.dtypes"
   ]
  },
  {
   "cell_type": "code",
   "execution_count": 10,
   "id": "53fb8de1",
   "metadata": {},
   "outputs": [
    {
     "data": {
      "text/plain": [
       "0         1\n",
       "1         1\n",
       "2         1\n",
       "3         1\n",
       "4         1\n",
       "         ..\n",
       "14995    27\n",
       "14996    27\n",
       "14997    27\n",
       "14998    27\n",
       "14999    27\n",
       "Name: order_placed_at, Length: 15000, dtype: int64"
      ]
     },
     "execution_count": 10,
     "metadata": {},
     "output_type": "execute_result"
    }
   ],
   "source": [
    "# Day of a month\n",
    "df[\"order_placed_at\"].dt.day"
   ]
  },
  {
   "cell_type": "code",
   "execution_count": 11,
   "id": "420e330c",
   "metadata": {},
   "outputs": [
    {
     "data": {
      "text/plain": [
       "0        3\n",
       "1        3\n",
       "2        3\n",
       "3        3\n",
       "4        3\n",
       "        ..\n",
       "14995    3\n",
       "14996    3\n",
       "14997    3\n",
       "14998    3\n",
       "14999    3\n",
       "Name: order_placed_at, Length: 15000, dtype: int64"
      ]
     },
     "execution_count": 11,
     "metadata": {},
     "output_type": "execute_result"
    }
   ],
   "source": [
    "# number of a month\n",
    "df[\"order_placed_at\"].dt.month"
   ]
  },
  {
   "cell_type": "code",
   "execution_count": 12,
   "id": "1cbc4cd6",
   "metadata": {},
   "outputs": [
    {
     "data": {
      "text/plain": [
       "0        2023\n",
       "1        2023\n",
       "2        2023\n",
       "3        2023\n",
       "4        2023\n",
       "         ... \n",
       "14995    2023\n",
       "14996    2023\n",
       "14997    2023\n",
       "14998    2023\n",
       "14999    2023\n",
       "Name: order_placed_at, Length: 15000, dtype: int64"
      ]
     },
     "execution_count": 12,
     "metadata": {},
     "output_type": "execute_result"
    }
   ],
   "source": [
    "# Year\n",
    "df[\"order_placed_at\"].dt.year"
   ]
  },
  {
   "cell_type": "code",
   "execution_count": 13,
   "id": "b7d85b10",
   "metadata": {},
   "outputs": [
    {
     "name": "stderr",
     "output_type": "stream",
     "text": [
      "C:\\Users\\Aman\\AppData\\Local\\Temp\\ipykernel_8272\\4283900171.py:2: FutureWarning: Series.dt.weekofyear and Series.dt.week have been deprecated. Please use Series.dt.isocalendar().week instead.\n",
      "  df[\"order_placed_at\"].dt.week\n"
     ]
    },
    {
     "data": {
      "text/plain": [
       "0         9\n",
       "1         9\n",
       "2         9\n",
       "3         9\n",
       "4         9\n",
       "         ..\n",
       "14995    13\n",
       "14996    13\n",
       "14997    13\n",
       "14998    13\n",
       "14999    13\n",
       "Name: order_placed_at, Length: 15000, dtype: int64"
      ]
     },
     "execution_count": 13,
     "metadata": {},
     "output_type": "execute_result"
    }
   ],
   "source": [
    "# week of a Year\n",
    "df[\"order_placed_at\"].dt.week"
   ]
  },
  {
   "cell_type": "code",
   "execution_count": 14,
   "id": "ab77f8e0",
   "metadata": {},
   "outputs": [
    {
     "name": "stderr",
     "output_type": "stream",
     "text": [
      "C:\\Users\\Aman\\AppData\\Local\\Temp\\ipykernel_8272\\4283900171.py:2: FutureWarning: Series.dt.weekofyear and Series.dt.week have been deprecated. Please use Series.dt.isocalendar().week instead.\n",
      "  df[\"order_placed_at\"].dt.week\n"
     ]
    },
    {
     "data": {
      "text/plain": [
       "0         9\n",
       "1         9\n",
       "2         9\n",
       "3         9\n",
       "4         9\n",
       "         ..\n",
       "14995    13\n",
       "14996    13\n",
       "14997    13\n",
       "14998    13\n",
       "14999    13\n",
       "Name: order_placed_at, Length: 15000, dtype: int64"
      ]
     },
     "execution_count": 14,
     "metadata": {},
     "output_type": "execute_result"
    }
   ],
   "source": [
    "# week of a Year\n",
    "df[\"order_placed_at\"].dt.week"
   ]
  },
  {
   "cell_type": "code",
   "execution_count": 15,
   "id": "4177ef1b",
   "metadata": {},
   "outputs": [
    {
     "name": "stderr",
     "output_type": "stream",
     "text": [
      "C:\\Users\\Aman\\AppData\\Local\\Temp\\ipykernel_8272\\1060568195.py:2: FutureWarning: Series.dt.weekofyear and Series.dt.week have been deprecated. Please use Series.dt.isocalendar().week instead.\n",
      "  df[\"order_placed_at\"].dt.week - 8\n"
     ]
    },
    {
     "data": {
      "text/plain": [
       "0        1\n",
       "1        1\n",
       "2        1\n",
       "3        1\n",
       "4        1\n",
       "        ..\n",
       "14995    5\n",
       "14996    5\n",
       "14997    5\n",
       "14998    5\n",
       "14999    5\n",
       "Name: order_placed_at, Length: 15000, dtype: int64"
      ]
     },
     "execution_count": 15,
     "metadata": {},
     "output_type": "execute_result"
    }
   ],
   "source": [
    "# week of a Month\n",
    "df[\"order_placed_at\"].dt.week - 8"
   ]
  },
  {
   "cell_type": "code",
   "execution_count": 16,
   "id": "afa7db04",
   "metadata": {},
   "outputs": [
    {
     "data": {
      "text/plain": [
       "0        2\n",
       "1        2\n",
       "2        2\n",
       "3        2\n",
       "4        2\n",
       "        ..\n",
       "14995    0\n",
       "14996    0\n",
       "14997    0\n",
       "14998    0\n",
       "14999    0\n",
       "Name: order_placed_at, Length: 15000, dtype: int64"
      ]
     },
     "execution_count": 16,
     "metadata": {},
     "output_type": "execute_result"
    }
   ],
   "source": [
    "# DAy of week \n",
    "df[\"order_placed_at\"].dt.dayofweek"
   ]
  },
  {
   "cell_type": "code",
   "execution_count": 17,
   "id": "29e0cb17",
   "metadata": {},
   "outputs": [],
   "source": [
    "# Creating a new column\n",
    "df[\"day_of_week\"] = df[\"order_placed_at\"].dt.day_name()\n",
    "df[\"day_of_month\"] = df[\"order_placed_at\"].dt.day"
   ]
  },
  {
   "cell_type": "code",
   "execution_count": 18,
   "id": "2b7fb7d4",
   "metadata": {},
   "outputs": [
    {
     "data": {
      "text/html": [
       "<div>\n",
       "<style scoped>\n",
       "    .dataframe tbody tr th:only-of-type {\n",
       "        vertical-align: middle;\n",
       "    }\n",
       "\n",
       "    .dataframe tbody tr th {\n",
       "        vertical-align: top;\n",
       "    }\n",
       "\n",
       "    .dataframe thead th {\n",
       "        text-align: right;\n",
       "    }\n",
       "</style>\n",
       "<table border=\"1\" class=\"dataframe\">\n",
       "  <thead>\n",
       "    <tr style=\"text-align: right;\">\n",
       "      <th></th>\n",
       "      <th>order_id</th>\n",
       "      <th>order_placed_at</th>\n",
       "      <th>order_delivered_at</th>\n",
       "      <th>day_of_week</th>\n",
       "      <th>day_of_month</th>\n",
       "    </tr>\n",
       "  </thead>\n",
       "  <tbody>\n",
       "    <tr>\n",
       "      <th>0</th>\n",
       "      <td>1523111</td>\n",
       "      <td>2023-03-01 00:00:59</td>\n",
       "      <td>2023-03-01 00:18:07.443132</td>\n",
       "      <td>Wednesday</td>\n",
       "      <td>1</td>\n",
       "    </tr>\n",
       "    <tr>\n",
       "      <th>1</th>\n",
       "      <td>1523112</td>\n",
       "      <td>2023-03-01 00:03:59</td>\n",
       "      <td>2023-03-01 00:19:34.925241</td>\n",
       "      <td>Wednesday</td>\n",
       "      <td>1</td>\n",
       "    </tr>\n",
       "    <tr>\n",
       "      <th>2</th>\n",
       "      <td>1523113</td>\n",
       "      <td>2023-03-01 00:07:22</td>\n",
       "      <td>2023-03-01 00:22:28.291385</td>\n",
       "      <td>Wednesday</td>\n",
       "      <td>1</td>\n",
       "    </tr>\n",
       "    <tr>\n",
       "      <th>3</th>\n",
       "      <td>1523114</td>\n",
       "      <td>2023-03-01 00:07:47</td>\n",
       "      <td>2023-03-01 00:46:19.019399</td>\n",
       "      <td>Wednesday</td>\n",
       "      <td>1</td>\n",
       "    </tr>\n",
       "    <tr>\n",
       "      <th>4</th>\n",
       "      <td>1523115</td>\n",
       "      <td>2023-03-01 00:09:03</td>\n",
       "      <td>2023-03-01 00:25:13.619056</td>\n",
       "      <td>Wednesday</td>\n",
       "      <td>1</td>\n",
       "    </tr>\n",
       "  </tbody>\n",
       "</table>\n",
       "</div>"
      ],
      "text/plain": [
       "   order_id     order_placed_at         order_delivered_at day_of_week  \\\n",
       "0   1523111 2023-03-01 00:00:59 2023-03-01 00:18:07.443132   Wednesday   \n",
       "1   1523112 2023-03-01 00:03:59 2023-03-01 00:19:34.925241   Wednesday   \n",
       "2   1523113 2023-03-01 00:07:22 2023-03-01 00:22:28.291385   Wednesday   \n",
       "3   1523114 2023-03-01 00:07:47 2023-03-01 00:46:19.019399   Wednesday   \n",
       "4   1523115 2023-03-01 00:09:03 2023-03-01 00:25:13.619056   Wednesday   \n",
       "\n",
       "   day_of_month  \n",
       "0             1  \n",
       "1             1  \n",
       "2             1  \n",
       "3             1  \n",
       "4             1  "
      ]
     },
     "execution_count": 18,
     "metadata": {},
     "output_type": "execute_result"
    }
   ],
   "source": [
    "df.head()"
   ]
  },
  {
   "cell_type": "code",
   "execution_count": 19,
   "id": "4ecb3a34",
   "metadata": {},
   "outputs": [
    {
     "data": {
      "text/html": [
       "<div>\n",
       "<style scoped>\n",
       "    .dataframe tbody tr th:only-of-type {\n",
       "        vertical-align: middle;\n",
       "    }\n",
       "\n",
       "    .dataframe tbody tr th {\n",
       "        vertical-align: top;\n",
       "    }\n",
       "\n",
       "    .dataframe thead th {\n",
       "        text-align: right;\n",
       "    }\n",
       "</style>\n",
       "<table border=\"1\" class=\"dataframe\">\n",
       "  <thead>\n",
       "    <tr style=\"text-align: right;\">\n",
       "      <th></th>\n",
       "      <th>order_id</th>\n",
       "      <th>order_placed_at</th>\n",
       "      <th>order_delivered_at</th>\n",
       "      <th>day_of_week</th>\n",
       "      <th>day_of_month</th>\n",
       "    </tr>\n",
       "  </thead>\n",
       "  <tbody>\n",
       "    <tr>\n",
       "      <th>14995</th>\n",
       "      <td>1538106</td>\n",
       "      <td>2023-03-27 23:37:05</td>\n",
       "      <td>2023-03-27 23:52:37.409378</td>\n",
       "      <td>Monday</td>\n",
       "      <td>27</td>\n",
       "    </tr>\n",
       "    <tr>\n",
       "      <th>14996</th>\n",
       "      <td>1538107</td>\n",
       "      <td>2023-03-27 23:47:38</td>\n",
       "      <td>2023-03-28 00:04:22.672912</td>\n",
       "      <td>Monday</td>\n",
       "      <td>27</td>\n",
       "    </tr>\n",
       "    <tr>\n",
       "      <th>14997</th>\n",
       "      <td>1538108</td>\n",
       "      <td>2023-03-27 23:50:16</td>\n",
       "      <td>2023-03-28 00:05:40.676238</td>\n",
       "      <td>Monday</td>\n",
       "      <td>27</td>\n",
       "    </tr>\n",
       "    <tr>\n",
       "      <th>14998</th>\n",
       "      <td>1538109</td>\n",
       "      <td>2023-03-27 23:52:44</td>\n",
       "      <td>2023-03-28 00:08:41.810358</td>\n",
       "      <td>Monday</td>\n",
       "      <td>27</td>\n",
       "    </tr>\n",
       "    <tr>\n",
       "      <th>14999</th>\n",
       "      <td>1538110</td>\n",
       "      <td>2023-03-27 23:58:20</td>\n",
       "      <td>2023-03-28 00:13:42.499311</td>\n",
       "      <td>Monday</td>\n",
       "      <td>27</td>\n",
       "    </tr>\n",
       "  </tbody>\n",
       "</table>\n",
       "</div>"
      ],
      "text/plain": [
       "       order_id     order_placed_at         order_delivered_at day_of_week  \\\n",
       "14995   1538106 2023-03-27 23:37:05 2023-03-27 23:52:37.409378      Monday   \n",
       "14996   1538107 2023-03-27 23:47:38 2023-03-28 00:04:22.672912      Monday   \n",
       "14997   1538108 2023-03-27 23:50:16 2023-03-28 00:05:40.676238      Monday   \n",
       "14998   1538109 2023-03-27 23:52:44 2023-03-28 00:08:41.810358      Monday   \n",
       "14999   1538110 2023-03-27 23:58:20 2023-03-28 00:13:42.499311      Monday   \n",
       "\n",
       "       day_of_month  \n",
       "14995            27  \n",
       "14996            27  \n",
       "14997            27  \n",
       "14998            27  \n",
       "14999            27  "
      ]
     },
     "execution_count": 19,
     "metadata": {},
     "output_type": "execute_result"
    }
   ],
   "source": [
    "df.tail()"
   ]
  },
  {
   "cell_type": "code",
   "execution_count": 20,
   "id": "6f41123a",
   "metadata": {},
   "outputs": [
    {
     "data": {
      "text/plain": [
       "20    597\n",
       "22    591\n",
       "2     588\n",
       "10    587\n",
       "23    583\n",
       "6     582\n",
       "12    582\n",
       "8     578\n",
       "7     570\n",
       "4     567\n",
       "24    565\n",
       "9     564\n",
       "18    559\n",
       "27    551\n",
       "5     551\n",
       "1     550\n",
       "25    547\n",
       "16    545\n",
       "15    540\n",
       "17    537\n",
       "11    536\n",
       "3     534\n",
       "26    532\n",
       "19    526\n",
       "13    526\n",
       "21    520\n",
       "14    492\n",
       "Name: day_of_month, dtype: int64"
      ]
     },
     "execution_count": 20,
     "metadata": {},
     "output_type": "execute_result"
    }
   ],
   "source": [
    "# Checking on what day we have maximum orders\n",
    "df[\"day_of_month\"].value_counts()"
   ]
  },
  {
   "cell_type": "code",
   "execution_count": 21,
   "id": "cb581405",
   "metadata": {},
   "outputs": [
    {
     "data": {
      "text/plain": [
       "<AxesSubplot:>"
      ]
     },
     "execution_count": 21,
     "metadata": {},
     "output_type": "execute_result"
    },
    {
     "data": {
      "image/png": "[encoded data removed]",
      "text/plain": [
       "<Figure size 720x504 with 1 Axes>"
      ]
     },
     "metadata": {
      "needs_background": "light"
     },
     "output_type": "display_data"
    }
   ],
   "source": [
    "# Ploting the graph\n",
    "df[\"day_of_month\"].value_counts().sort_index().plot(kind = \"barh\", figsize=(10, 7))"
   ]
  },
  {
   "cell_type": "code",
   "execution_count": 22,
   "id": "732c1e86",
   "metadata": {},
   "outputs": [
    {
     "data": {
      "text/plain": [
       "<AxesSubplot:>"
      ]
     },
     "execution_count": 22,
     "metadata": {},
     "output_type": "execute_result"
    },
    {
     "data": {
      "image/png": "[encoded data removed]",
      "text/plain": [
       "<Figure size 432x288 with 1 Axes>"
      ]
     },
     "metadata": {
      "needs_background": "light"
     },
     "output_type": "display_data"
    }
   ],
   "source": [
    "# Values are not sorted\n",
    "df[\"day_of_month\"].value_counts().plot(kind=\"line\")"
   ]
  },
  {
   "cell_type": "code",
   "execution_count": 23,
   "id": "723af8ae",
   "metadata": {},
   "outputs": [
    {
     "data": {
      "text/plain": [
       "<AxesSubplot:>"
      ]
     },
     "execution_count": 23,
     "metadata": {},
     "output_type": "execute_result"
    },
    {
     "data": {
      "image/png": "[encoded data removed]",
      "text/plain": [
       "<Figure size 1080x360 with 1 Axes>"
      ]
     },
     "metadata": {
      "needs_background": "light"
     },
     "output_type": "display_data"
    }
   ],
   "source": [
    "df[\"day_of_month\"].value_counts().sort_index().plot(kind=\"line\", figsize=(15, 5))"
   ]
  },
  {
   "cell_type": "code",
   "execution_count": 24,
   "id": "d734b2fb",
   "metadata": {},
   "outputs": [
    {
     "data": {
      "text/plain": [
       "Thursday     2280\n",
       "Wednesday    2259\n",
       "Monday       2256\n",
       "Friday       2223\n",
       "Saturday     2209\n",
       "Sunday       2191\n",
       "Tuesday      1582\n",
       "Name: day_of_week, dtype: int64"
      ]
     },
     "execution_count": 24,
     "metadata": {},
     "output_type": "execute_result"
    }
   ],
   "source": [
    "df[\"day_of_week\"].value_counts()"
   ]
  },
  {
   "cell_type": "code",
   "execution_count": 25,
   "id": "bc58d70a",
   "metadata": {},
   "outputs": [
    {
     "data": {
      "text/plain": [
       "<AxesSubplot:>"
      ]
     },
     "execution_count": 25,
     "metadata": {},
     "output_type": "execute_result"
    },
    {
     "data": {
      "image/png": "[encoded data removed]",
      "text/plain": [
       "<Figure size 720x360 with 1 Axes>"
      ]
     },
     "metadata": {
      "needs_background": "light"
     },
     "output_type": "display_data"
    }
   ],
   "source": [
    "df[\"day_of_week\"].value_counts().plot(kind=\"bar\", figsize=(10, 5))"
   ]
  },
  {
   "cell_type": "code",
   "execution_count": 26,
   "id": "1b722386",
   "metadata": {},
   "outputs": [
    {
     "data": {
      "text/html": [
       "<div>\n",
       "<style scoped>\n",
       "    .dataframe tbody tr th:only-of-type {\n",
       "        vertical-align: middle;\n",
       "    }\n",
       "\n",
       "    .dataframe tbody tr th {\n",
       "        vertical-align: top;\n",
       "    }\n",
       "\n",
       "    .dataframe thead th {\n",
       "        text-align: right;\n",
       "    }\n",
       "</style>\n",
       "<table border=\"1\" class=\"dataframe\">\n",
       "  <thead>\n",
       "    <tr style=\"text-align: right;\">\n",
       "      <th></th>\n",
       "      <th>order_id</th>\n",
       "      <th>order_placed_at</th>\n",
       "      <th>order_delivered_at</th>\n",
       "      <th>day_of_week</th>\n",
       "      <th>day_of_month</th>\n",
       "    </tr>\n",
       "  </thead>\n",
       "  <tbody>\n",
       "    <tr>\n",
       "      <th>0</th>\n",
       "      <td>1523111</td>\n",
       "      <td>2023-03-01 00:00:59</td>\n",
       "      <td>2023-03-01 00:18:07.443132</td>\n",
       "      <td>Wednesday</td>\n",
       "      <td>1</td>\n",
       "    </tr>\n",
       "    <tr>\n",
       "      <th>1</th>\n",
       "      <td>1523112</td>\n",
       "      <td>2023-03-01 00:03:59</td>\n",
       "      <td>2023-03-01 00:19:34.925241</td>\n",
       "      <td>Wednesday</td>\n",
       "      <td>1</td>\n",
       "    </tr>\n",
       "    <tr>\n",
       "      <th>2</th>\n",
       "      <td>1523113</td>\n",
       "      <td>2023-03-01 00:07:22</td>\n",
       "      <td>2023-03-01 00:22:28.291385</td>\n",
       "      <td>Wednesday</td>\n",
       "      <td>1</td>\n",
       "    </tr>\n",
       "    <tr>\n",
       "      <th>3</th>\n",
       "      <td>1523114</td>\n",
       "      <td>2023-03-01 00:07:47</td>\n",
       "      <td>2023-03-01 00:46:19.019399</td>\n",
       "      <td>Wednesday</td>\n",
       "      <td>1</td>\n",
       "    </tr>\n",
       "    <tr>\n",
       "      <th>4</th>\n",
       "      <td>1523115</td>\n",
       "      <td>2023-03-01 00:09:03</td>\n",
       "      <td>2023-03-01 00:25:13.619056</td>\n",
       "      <td>Wednesday</td>\n",
       "      <td>1</td>\n",
       "    </tr>\n",
       "  </tbody>\n",
       "</table>\n",
       "</div>"
      ],
      "text/plain": [
       "   order_id     order_placed_at         order_delivered_at day_of_week  \\\n",
       "0   1523111 2023-03-01 00:00:59 2023-03-01 00:18:07.443132   Wednesday   \n",
       "1   1523112 2023-03-01 00:03:59 2023-03-01 00:19:34.925241   Wednesday   \n",
       "2   1523113 2023-03-01 00:07:22 2023-03-01 00:22:28.291385   Wednesday   \n",
       "3   1523114 2023-03-01 00:07:47 2023-03-01 00:46:19.019399   Wednesday   \n",
       "4   1523115 2023-03-01 00:09:03 2023-03-01 00:25:13.619056   Wednesday   \n",
       "\n",
       "   day_of_month  \n",
       "0             1  \n",
       "1             1  \n",
       "2             1  \n",
       "3             1  \n",
       "4             1  "
      ]
     },
     "execution_count": 26,
     "metadata": {},
     "output_type": "execute_result"
    }
   ],
   "source": [
    "df.head()"
   ]
  },
  {
   "cell_type": "code",
   "execution_count": 27,
   "id": "538c2fd6",
   "metadata": {},
   "outputs": [],
   "source": [
    "# Creating a column delivery time\n",
    "df[\"delivery_time\"] = df[\"order_delivered_at\"] - df[\"order_placed_at\"]"
   ]
  },
  {
   "cell_type": "code",
   "execution_count": 28,
   "id": "91d3cfe5",
   "metadata": {},
   "outputs": [
    {
     "data": {
      "text/html": [
       "<div>\n",
       "<style scoped>\n",
       "    .dataframe tbody tr th:only-of-type {\n",
       "        vertical-align: middle;\n",
       "    }\n",
       "\n",
       "    .dataframe tbody tr th {\n",
       "        vertical-align: top;\n",
       "    }\n",
       "\n",
       "    .dataframe thead th {\n",
       "        text-align: right;\n",
       "    }\n",
       "</style>\n",
       "<table border=\"1\" class=\"dataframe\">\n",
       "  <thead>\n",
       "    <tr style=\"text-align: right;\">\n",
       "      <th></th>\n",
       "      <th>order_id</th>\n",
       "      <th>order_placed_at</th>\n",
       "      <th>order_delivered_at</th>\n",
       "      <th>day_of_week</th>\n",
       "      <th>day_of_month</th>\n",
       "      <th>delivery_time</th>\n",
       "    </tr>\n",
       "  </thead>\n",
       "  <tbody>\n",
       "    <tr>\n",
       "      <th>0</th>\n",
       "      <td>1523111</td>\n",
       "      <td>2023-03-01 00:00:59</td>\n",
       "      <td>2023-03-01 00:18:07.443132</td>\n",
       "      <td>Wednesday</td>\n",
       "      <td>1</td>\n",
       "      <td>0 days 00:17:08.443132</td>\n",
       "    </tr>\n",
       "    <tr>\n",
       "      <th>1</th>\n",
       "      <td>1523112</td>\n",
       "      <td>2023-03-01 00:03:59</td>\n",
       "      <td>2023-03-01 00:19:34.925241</td>\n",
       "      <td>Wednesday</td>\n",
       "      <td>1</td>\n",
       "      <td>0 days 00:15:35.925241</td>\n",
       "    </tr>\n",
       "    <tr>\n",
       "      <th>2</th>\n",
       "      <td>1523113</td>\n",
       "      <td>2023-03-01 00:07:22</td>\n",
       "      <td>2023-03-01 00:22:28.291385</td>\n",
       "      <td>Wednesday</td>\n",
       "      <td>1</td>\n",
       "      <td>0 days 00:15:06.291385</td>\n",
       "    </tr>\n",
       "    <tr>\n",
       "      <th>3</th>\n",
       "      <td>1523114</td>\n",
       "      <td>2023-03-01 00:07:47</td>\n",
       "      <td>2023-03-01 00:46:19.019399</td>\n",
       "      <td>Wednesday</td>\n",
       "      <td>1</td>\n",
       "      <td>0 days 00:38:32.019399</td>\n",
       "    </tr>\n",
       "    <tr>\n",
       "      <th>4</th>\n",
       "      <td>1523115</td>\n",
       "      <td>2023-03-01 00:09:03</td>\n",
       "      <td>2023-03-01 00:25:13.619056</td>\n",
       "      <td>Wednesday</td>\n",
       "      <td>1</td>\n",
       "      <td>0 days 00:16:10.619056</td>\n",
       "    </tr>\n",
       "  </tbody>\n",
       "</table>\n",
       "</div>"
      ],
      "text/plain": [
       "   order_id     order_placed_at         order_delivered_at day_of_week  \\\n",
       "0   1523111 2023-03-01 00:00:59 2023-03-01 00:18:07.443132   Wednesday   \n",
       "1   1523112 2023-03-01 00:03:59 2023-03-01 00:19:34.925241   Wednesday   \n",
       "2   1523113 2023-03-01 00:07:22 2023-03-01 00:22:28.291385   Wednesday   \n",
       "3   1523114 2023-03-01 00:07:47 2023-03-01 00:46:19.019399   Wednesday   \n",
       "4   1523115 2023-03-01 00:09:03 2023-03-01 00:25:13.619056   Wednesday   \n",
       "\n",
       "   day_of_month          delivery_time  \n",
       "0             1 0 days 00:17:08.443132  \n",
       "1             1 0 days 00:15:35.925241  \n",
       "2             1 0 days 00:15:06.291385  \n",
       "3             1 0 days 00:38:32.019399  \n",
       "4             1 0 days 00:16:10.619056  "
      ]
     },
     "execution_count": 28,
     "metadata": {},
     "output_type": "execute_result"
    }
   ],
   "source": [
    "df.head()"
   ]
  },
  {
   "cell_type": "code",
   "execution_count": 29,
   "id": "b1f39d74",
   "metadata": {},
   "outputs": [],
   "source": [
    "# Delivery time in mintutes\n",
    "df[\"delivery_time\"] = df[\"delivery_time\"].dt.total_seconds() / 60"
   ]
  },
  {
   "cell_type": "code",
   "execution_count": 30,
   "id": "0229a115",
   "metadata": {},
   "outputs": [
    {
     "data": {
      "text/plain": [
       "order_id                       int64\n",
       "order_placed_at       datetime64[ns]\n",
       "order_delivered_at    datetime64[ns]\n",
       "day_of_week                   object\n",
       "day_of_month                   int64\n",
       "delivery_time                float64\n",
       "dtype: object"
      ]
     },
     "execution_count": 30,
     "metadata": {},
     "output_type": "execute_result"
    }
   ],
   "source": [
    "df.dtypes"
   ]
  },
  {
   "cell_type": "code",
   "execution_count": 31,
   "id": "0d5c083f",
   "metadata": {},
   "outputs": [
    {
     "data": {
      "text/plain": [
       "(20.499389326467778, 15.797986066666667)"
      ]
     },
     "execution_count": 31,
     "metadata": {},
     "output_type": "execute_result"
    }
   ],
   "source": [
    "df[\"delivery_time\"].mean(), df[\"delivery_time\"].median()"
   ]
  },
  {
   "cell_type": "code",
   "execution_count": 32,
   "id": "67935e26",
   "metadata": {},
   "outputs": [
    {
     "data": {
      "text/plain": [
       "count    15000.000000\n",
       "mean        20.499389\n",
       "std         96.160362\n",
       "min         15.000010\n",
       "25%         15.274826\n",
       "50%         15.797986\n",
       "75%         17.279661\n",
       "max       7299.831375\n",
       "Name: delivery_time, dtype: float64"
      ]
     },
     "execution_count": 32,
     "metadata": {},
     "output_type": "execute_result"
    }
   ],
   "source": [
    "df[\"delivery_time\"].describe()"
   ]
  },
  {
   "cell_type": "code",
   "execution_count": 33,
   "id": "068583fd",
   "metadata": {},
   "outputs": [
    {
     "data": {
      "text/plain": [
       "17.27966090416667"
      ]
     },
     "execution_count": 33,
     "metadata": {},
     "output_type": "execute_result"
    }
   ],
   "source": [
    "df[\"delivery_time\"].quantile(0.75)"
   ]
  },
  {
   "cell_type": "code",
   "execution_count": 34,
   "id": "4f845eef",
   "metadata": {},
   "outputs": [
    {
     "data": {
      "text/plain": [
       "<AxesSubplot:>"
      ]
     },
     "execution_count": 34,
     "metadata": {},
     "output_type": "execute_result"
    },
    {
     "data": {
      "image/png": "[encoded data removed]",
      "text/plain": [
       "<Figure size 432x288 with 1 Axes>"
      ]
     },
     "metadata": {
      "needs_background": "light"
     },
     "output_type": "display_data"
    }
   ],
   "source": [
    "df[\"delivery_time\"].plot(kind=\"box\")"
   ]
  },
  {
   "cell_type": "code",
   "execution_count": 35,
   "id": "52981b1c",
   "metadata": {},
   "outputs": [],
   "source": [
    "df = df[df[\"delivery_time\"] < 40]"
   ]
  },
  {
   "cell_type": "code",
   "execution_count": 36,
   "id": "ac1a820d",
   "metadata": {},
   "outputs": [
    {
     "data": {
      "text/plain": [
       "<AxesSubplot:>"
      ]
     },
     "execution_count": 36,
     "metadata": {},
     "output_type": "execute_result"
    },
    {
     "data": {
      "image/png": "[encoded data removed]",
      "text/plain": [
       "<Figure size 432x288 with 1 Axes>"
      ]
     },
     "metadata": {
      "needs_background": "light"
     },
     "output_type": "display_data"
    }
   ],
   "source": [
    "df[\"delivery_time\"].plot(kind=\"box\")"
   ]
  },
  {
   "cell_type": "code",
   "execution_count": 37,
   "id": "c196355e",
   "metadata": {},
   "outputs": [
    {
     "data": {
      "text/plain": [
       "23.596276583333314"
      ]
     },
     "execution_count": 37,
     "metadata": {},
     "output_type": "execute_result"
    }
   ],
   "source": [
    "df[\"delivery_time\"].quantile(0.95)"
   ]
  },
  {
   "cell_type": "code",
   "execution_count": 38,
   "id": "d8004252",
   "metadata": {},
   "outputs": [
    {
     "data": {
      "text/plain": [
       "(14669, 6)"
      ]
     },
     "execution_count": 38,
     "metadata": {},
     "output_type": "execute_result"
    }
   ],
   "source": [
    "df.shape"
   ]
  },
  {
   "cell_type": "code",
   "execution_count": 39,
   "id": "61833ce6",
   "metadata": {},
   "outputs": [
    {
     "data": {
      "text/plain": [
       "(226, 6)"
      ]
     },
     "execution_count": 39,
     "metadata": {},
     "output_type": "execute_result"
    }
   ],
   "source": [
    "df[df[\"delivery_time\"] > 31].shape"
   ]
  },
  {
   "cell_type": "code",
   "execution_count": 41,
   "id": "170df9c7",
   "metadata": {},
   "outputs": [],
   "source": [
    "# Some more analysis\n",
    "df[\"order_placed_date\"] = df[\"order_delivered_at\"].dt.date"
   ]
  },
  {
   "cell_type": "code",
   "execution_count": 42,
   "id": "3a25f40d",
   "metadata": {},
   "outputs": [],
   "source": [
    "df['order_placed_time'] = df['order_placed_at'].dt.time"
   ]
  },
  {
   "cell_type": "code",
   "execution_count": 43,
   "id": "97fbb2a3",
   "metadata": {},
   "outputs": [],
   "source": [
    "df['order_delivered_date'] = df['order_delivered_at'].dt.date"
   ]
  },
  {
   "cell_type": "code",
   "execution_count": 44,
   "id": "4197e58d",
   "metadata": {},
   "outputs": [],
   "source": [
    "df['order_delivered_time'] = df['order_delivered_at'].dt.time"
   ]
  },
  {
   "cell_type": "code",
   "execution_count": 45,
   "id": "413e4955",
   "metadata": {},
   "outputs": [
    {
     "data": {
      "text/html": [
       "<div>\n",
       "<style scoped>\n",
       "    .dataframe tbody tr th:only-of-type {\n",
       "        vertical-align: middle;\n",
       "    }\n",
       "\n",
       "    .dataframe tbody tr th {\n",
       "        vertical-align: top;\n",
       "    }\n",
       "\n",
       "    .dataframe thead th {\n",
       "        text-align: right;\n",
       "    }\n",
       "</style>\n",
       "<table border=\"1\" class=\"dataframe\">\n",
       "  <thead>\n",
       "    <tr style=\"text-align: right;\">\n",
       "      <th></th>\n",
       "      <th>order_id</th>\n",
       "      <th>order_placed_at</th>\n",
       "      <th>order_delivered_at</th>\n",
       "      <th>day_of_week</th>\n",
       "      <th>day_of_month</th>\n",
       "      <th>delivery_time</th>\n",
       "      <th>order_placed_date</th>\n",
       "      <th>order_placed_time</th>\n",
       "      <th>order_delivered_date</th>\n",
       "      <th>order_delivered_time</th>\n",
       "    </tr>\n",
       "  </thead>\n",
       "  <tbody>\n",
       "    <tr>\n",
       "      <th>0</th>\n",
       "      <td>1523111</td>\n",
       "      <td>2023-03-01 00:00:59</td>\n",
       "      <td>2023-03-01 00:18:07.443132</td>\n",
       "      <td>Wednesday</td>\n",
       "      <td>1</td>\n",
       "      <td>17.140719</td>\n",
       "      <td>2023-03-01</td>\n",
       "      <td>00:00:59</td>\n",
       "      <td>2023-03-01</td>\n",
       "      <td>00:18:07.443132</td>\n",
       "    </tr>\n",
       "    <tr>\n",
       "      <th>1</th>\n",
       "      <td>1523112</td>\n",
       "      <td>2023-03-01 00:03:59</td>\n",
       "      <td>2023-03-01 00:19:34.925241</td>\n",
       "      <td>Wednesday</td>\n",
       "      <td>1</td>\n",
       "      <td>15.598754</td>\n",
       "      <td>2023-03-01</td>\n",
       "      <td>00:03:59</td>\n",
       "      <td>2023-03-01</td>\n",
       "      <td>00:19:34.925241</td>\n",
       "    </tr>\n",
       "    <tr>\n",
       "      <th>2</th>\n",
       "      <td>1523113</td>\n",
       "      <td>2023-03-01 00:07:22</td>\n",
       "      <td>2023-03-01 00:22:28.291385</td>\n",
       "      <td>Wednesday</td>\n",
       "      <td>1</td>\n",
       "      <td>15.104856</td>\n",
       "      <td>2023-03-01</td>\n",
       "      <td>00:07:22</td>\n",
       "      <td>2023-03-01</td>\n",
       "      <td>00:22:28.291385</td>\n",
       "    </tr>\n",
       "    <tr>\n",
       "      <th>3</th>\n",
       "      <td>1523114</td>\n",
       "      <td>2023-03-01 00:07:47</td>\n",
       "      <td>2023-03-01 00:46:19.019399</td>\n",
       "      <td>Wednesday</td>\n",
       "      <td>1</td>\n",
       "      <td>38.533657</td>\n",
       "      <td>2023-03-01</td>\n",
       "      <td>00:07:47</td>\n",
       "      <td>2023-03-01</td>\n",
       "      <td>00:46:19.019399</td>\n",
       "    </tr>\n",
       "    <tr>\n",
       "      <th>4</th>\n",
       "      <td>1523115</td>\n",
       "      <td>2023-03-01 00:09:03</td>\n",
       "      <td>2023-03-01 00:25:13.619056</td>\n",
       "      <td>Wednesday</td>\n",
       "      <td>1</td>\n",
       "      <td>16.176984</td>\n",
       "      <td>2023-03-01</td>\n",
       "      <td>00:09:03</td>\n",
       "      <td>2023-03-01</td>\n",
       "      <td>00:25:13.619056</td>\n",
       "    </tr>\n",
       "  </tbody>\n",
       "</table>\n",
       "</div>"
      ],
      "text/plain": [
       "   order_id     order_placed_at         order_delivered_at day_of_week  \\\n",
       "0   1523111 2023-03-01 00:00:59 2023-03-01 00:18:07.443132   Wednesday   \n",
       "1   1523112 2023-03-01 00:03:59 2023-03-01 00:19:34.925241   Wednesday   \n",
       "2   1523113 2023-03-01 00:07:22 2023-03-01 00:22:28.291385   Wednesday   \n",
       "3   1523114 2023-03-01 00:07:47 2023-03-01 00:46:19.019399   Wednesday   \n",
       "4   1523115 2023-03-01 00:09:03 2023-03-01 00:25:13.619056   Wednesday   \n",
       "\n",
       "   day_of_month  delivery_time order_placed_date order_placed_time  \\\n",
       "0             1      17.140719        2023-03-01          00:00:59   \n",
       "1             1      15.598754        2023-03-01          00:03:59   \n",
       "2             1      15.104856        2023-03-01          00:07:22   \n",
       "3             1      38.533657        2023-03-01          00:07:47   \n",
       "4             1      16.176984        2023-03-01          00:09:03   \n",
       "\n",
       "  order_delivered_date order_delivered_time  \n",
       "0           2023-03-01      00:18:07.443132  \n",
       "1           2023-03-01      00:19:34.925241  \n",
       "2           2023-03-01      00:22:28.291385  \n",
       "3           2023-03-01      00:46:19.019399  \n",
       "4           2023-03-01      00:25:13.619056  "
      ]
     },
     "execution_count": 45,
     "metadata": {},
     "output_type": "execute_result"
    }
   ],
   "source": [
    "df.head()"
   ]
  },
  {
   "cell_type": "code",
   "execution_count": 46,
   "id": "aacb3a83",
   "metadata": {},
   "outputs": [],
   "source": [
    "#time_period feature\n",
    "df['time_period'] = df['order_placed_at'].apply(lambda x: \"late night\" if x.hour > 1 and x.hour <= 4 else (\"Morning\" if x.hour > 4 and x.hour <= 12 else (\"Afternoon\" if x.hour > 12 and x.hour <= 16 else (\"Evening\" if x.hour > 16 and x.hour <=19 else \"night\"))))"
   ]
  },
  {
   "cell_type": "code",
   "execution_count": 51,
   "id": "dec73f17",
   "metadata": {},
   "outputs": [],
   "source": [
    "import seaborn as sns"
   ]
  },
  {
   "cell_type": "code",
   "execution_count": 52,
   "id": "fb4deaf6",
   "metadata": {},
   "outputs": [
    {
     "data": {
      "text/plain": [
       "<AxesSubplot:xlabel='time_period', ylabel='Count'>"
      ]
     },
     "execution_count": 52,
     "metadata": {},
     "output_type": "execute_result"
    },
    {
     "data": {
      "image/png": "[encoded data removed]",
      "text/plain": [
       "<Figure size 432x288 with 1 Axes>"
      ]
     },
     "metadata": {
      "needs_background": "light"
     },
     "output_type": "display_data"
    }
   ],
   "source": [
    "sns.histplot(df['time_period'])"
   ]
  },
  {
   "cell_type": "markdown",
   "id": "e29a0fea",
   "metadata": {},
   "source": [
    "### Observation\n",
    "* during 4am to 12pm (morning) around 5002 orders are placed\n",
    "* follwed by 3785 at night and 2452 at afternoon\n",
    "\n",
    " ### **conclusion** \n",
    " We can put more delivery boys for morning and afternoon shift"
   ]
  },
  {
   "cell_type": "code",
   "execution_count": 53,
   "id": "aa5176ff",
   "metadata": {},
   "outputs": [],
   "source": [
    "# Dropping feature order_placed_at and order_delivered_at\n",
    "df.drop(['order_placed_at', 'order_delivered_at'], axis=1, inplace=True)"
   ]
  },
  {
   "cell_type": "code",
   "execution_count": 56,
   "id": "b509ef76",
   "metadata": {},
   "outputs": [
    {
     "data": {
      "text/html": [
       "<div>\n",
       "<style scoped>\n",
       "    .dataframe tbody tr th:only-of-type {\n",
       "        vertical-align: middle;\n",
       "    }\n",
       "\n",
       "    .dataframe tbody tr th {\n",
       "        vertical-align: top;\n",
       "    }\n",
       "\n",
       "    .dataframe thead th {\n",
       "        text-align: right;\n",
       "    }\n",
       "</style>\n",
       "<table border=\"1\" class=\"dataframe\">\n",
       "  <thead>\n",
       "    <tr style=\"text-align: right;\">\n",
       "      <th></th>\n",
       "      <th>order_id</th>\n",
       "      <th>day_of_week</th>\n",
       "      <th>day_of_month</th>\n",
       "      <th>delivery_time</th>\n",
       "      <th>order_placed_date</th>\n",
       "      <th>order_placed_time</th>\n",
       "      <th>order_delivered_date</th>\n",
       "      <th>order_delivered_time</th>\n",
       "      <th>time_period</th>\n",
       "    </tr>\n",
       "  </thead>\n",
       "  <tbody>\n",
       "    <tr>\n",
       "      <th>0</th>\n",
       "      <td>1523111</td>\n",
       "      <td>Wednesday</td>\n",
       "      <td>1</td>\n",
       "      <td>17.140719</td>\n",
       "      <td>2023-03-01</td>\n",
       "      <td>00:00:59</td>\n",
       "      <td>2023-03-01</td>\n",
       "      <td>00:18:07.443132</td>\n",
       "      <td>night</td>\n",
       "    </tr>\n",
       "    <tr>\n",
       "      <th>1</th>\n",
       "      <td>1523112</td>\n",
       "      <td>Wednesday</td>\n",
       "      <td>1</td>\n",
       "      <td>15.598754</td>\n",
       "      <td>2023-03-01</td>\n",
       "      <td>00:03:59</td>\n",
       "      <td>2023-03-01</td>\n",
       "      <td>00:19:34.925241</td>\n",
       "      <td>night</td>\n",
       "    </tr>\n",
       "    <tr>\n",
       "      <th>2</th>\n",
       "      <td>1523113</td>\n",
       "      <td>Wednesday</td>\n",
       "      <td>1</td>\n",
       "      <td>15.104856</td>\n",
       "      <td>2023-03-01</td>\n",
       "      <td>00:07:22</td>\n",
       "      <td>2023-03-01</td>\n",
       "      <td>00:22:28.291385</td>\n",
       "      <td>night</td>\n",
       "    </tr>\n",
       "    <tr>\n",
       "      <th>3</th>\n",
       "      <td>1523114</td>\n",
       "      <td>Wednesday</td>\n",
       "      <td>1</td>\n",
       "      <td>38.533657</td>\n",
       "      <td>2023-03-01</td>\n",
       "      <td>00:07:47</td>\n",
       "      <td>2023-03-01</td>\n",
       "      <td>00:46:19.019399</td>\n",
       "      <td>night</td>\n",
       "    </tr>\n",
       "    <tr>\n",
       "      <th>4</th>\n",
       "      <td>1523115</td>\n",
       "      <td>Wednesday</td>\n",
       "      <td>1</td>\n",
       "      <td>16.176984</td>\n",
       "      <td>2023-03-01</td>\n",
       "      <td>00:09:03</td>\n",
       "      <td>2023-03-01</td>\n",
       "      <td>00:25:13.619056</td>\n",
       "      <td>night</td>\n",
       "    </tr>\n",
       "  </tbody>\n",
       "</table>\n",
       "</div>"
      ],
      "text/plain": [
       "   order_id day_of_week  day_of_month  delivery_time order_placed_date  \\\n",
       "0   1523111   Wednesday             1      17.140719        2023-03-01   \n",
       "1   1523112   Wednesday             1      15.598754        2023-03-01   \n",
       "2   1523113   Wednesday             1      15.104856        2023-03-01   \n",
       "3   1523114   Wednesday             1      38.533657        2023-03-01   \n",
       "4   1523115   Wednesday             1      16.176984        2023-03-01   \n",
       "\n",
       "  order_placed_time order_delivered_date order_delivered_time time_period  \n",
       "0          00:00:59           2023-03-01      00:18:07.443132       night  \n",
       "1          00:03:59           2023-03-01      00:19:34.925241       night  \n",
       "2          00:07:22           2023-03-01      00:22:28.291385       night  \n",
       "3          00:07:47           2023-03-01      00:46:19.019399       night  \n",
       "4          00:09:03           2023-03-01      00:25:13.619056       night  "
      ]
     },
     "execution_count": 56,
     "metadata": {},
     "output_type": "execute_result"
    }
   ],
   "source": [
    "df.head()"
   ]
  },
  {
   "cell_type": "code",
   "execution_count": 57,
   "id": "77976f76",
   "metadata": {},
   "outputs": [],
   "source": [
    "df['order_placed_day'] =  pd.to_datetime(df['order_placed_date']).dt.day_name()"
   ]
  },
  {
   "cell_type": "code",
   "execution_count": 58,
   "id": "7aaf7f35",
   "metadata": {},
   "outputs": [],
   "source": [
    "df['order_delivered_day'] =  pd.to_datetime(df['order_delivered_date']).dt.day_name()"
   ]
  },
  {
   "cell_type": "markdown",
   "id": "d600c231",
   "metadata": {},
   "source": [
    "#### Report \n",
    "\n",
    "Anyways delivery time will never be more than 2hr\n",
    "\n",
    "but if customer placed order at 23.50 delivary will be reached on next day that's why we created order_delivered_day feature else order_placed_day feature is enough"
   ]
  },
  {
   "cell_type": "markdown",
   "id": "b42e193c",
   "metadata": {},
   "source": [
    "**Countplot for order_placed_day**"
   ]
  },
  {
   "cell_type": "code",
   "execution_count": 60,
   "id": "d31dbcd3",
   "metadata": {},
   "outputs": [
    {
     "data": {
      "text/plain": [
       "Thursday     2227\n",
       "Wednesday    2210\n",
       "Friday       2190\n",
       "Monday       2183\n",
       "Saturday     2162\n",
       "Sunday       2144\n",
       "Tuesday      1553\n",
       "Name: order_placed_day, dtype: int64"
      ]
     },
     "execution_count": 60,
     "metadata": {},
     "output_type": "execute_result"
    }
   ],
   "source": [
    "df['order_placed_day'].value_counts()"
   ]
  },
  {
   "cell_type": "code",
   "execution_count": 62,
   "id": "d1c93d2a",
   "metadata": {},
   "outputs": [
    {
     "data": {
      "text/plain": [
       "<AxesSubplot:xlabel='order_placed_day', ylabel='Count'>"
      ]
     },
     "execution_count": 62,
     "metadata": {},
     "output_type": "execute_result"
    },
    {
     "data": {
      "image/png": "[encoded data removed]",
      "text/plain": [
       "<Figure size 432x288 with 1 Axes>"
      ]
     },
     "metadata": {
      "needs_background": "light"
     },
     "output_type": "display_data"
    }
   ],
   "source": [
    "#countplot for feature order_placed_day\n",
    "sns.histplot(df['order_placed_day'])"
   ]
  },
  {
   "cell_type": "markdown",
   "id": "e06d7bf2",
   "metadata": {},
   "source": [
    "**Report**\n",
    "\n",
    "Except Tuesday all others day has appox equal number of ordered placed\n",
    "\n",
    "On Tuesday we can give some discount to customers so we can increase ordered on that day to"
   ]
  },
  {
   "cell_type": "code",
   "execution_count": null,
   "id": "4c68f55d",
   "metadata": {},
   "outputs": [],
   "source": []
  }
 ],
 "metadata": {
  "kernelspec": {
   "display_name": "Python 3 (ipykernel)",
   "language": "python",
   "name": "python3"
  },
  "language_info": {
   "codemirror_mode": {
    "name": "ipython",
    "version": 3
   },
   "file_extension": ".py",
   "mimetype": "text/x-python",
   "name": "python",
   "nbconvert_exporter": "python",
   "pygments_lexer": "ipython3",
   "version": "3.9.12"
  }
 },
 "nbformat": 4,
 "nbformat_minor": 5
}
