{
 "cells": [
  {
   "cell_type": "code",
   "execution_count": null,
   "id": "e62a8793",
   "metadata": {},
   "outputs": [],
   "source": []
  },
  {
   "cell_type": "code",
   "execution_count": 2,
   "id": "aebb5f2a",
   "metadata": {},
   "outputs": [],
   "source": [
    "def minion_game(string):\n",
    "    kevin, stuart = 0, 0\n",
    "    vowels = 'AEIOU'\n",
    "    n = len(string)\n",
    "    for i, c in enumerate(string):\n",
    "        if vowels.find(c) != -1:\n",
    "            kevin += n - i\n",
    "        else:\n",
    "            stuart += n - i\n",
    "    if kevin - stuart != 0:\n",
    "        print(f'Kevin {kevin}' if kevin > stuart else f'Stuart {stuart}')\n",
    "    else:\n",
    "        print('Draw')"
   ]
  },
  {
   "cell_type": "code",
   "execution_count": null,
   "id": "eecff7fe",
   "metadata": {},
   "outputs": [],
   "source": []
  },
  {
   "cell_type": "code",
   "execution_count": null,
   "id": "4ae05994",
   "metadata": {},
   "outputs": [],
   "source": []
  },
  {
   "cell_type": "code",
   "execution_count": null,
   "id": "b6254553",
   "metadata": {},
   "outputs": [],
   "source": []
  }
 ],
 "metadata": {
  "kernelspec": {
   "display_name": "Python 3 (ipykernel)",
   "language": "python",
   "name": "python3"
  },
  "language_info": {
   "codemirror_mode": {
    "name": "ipython",
    "version": 3
   },
   "file_extension": ".py",
   "mimetype": "text/x-python",
   "name": "python",
   "nbconvert_exporter": "python",
   "pygments_lexer": "ipython3",
   "version": "3.9.12"
  }
 },
 "nbformat": 4,
 "nbformat_minor": 5
}
