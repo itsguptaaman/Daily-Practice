{
 "cells": [
  {
   "cell_type": "markdown",
   "id": "676bea80",
   "metadata": {},
   "source": [
    "\n",
    "Output Format\n",
    "\n",
    "Print Weird if the number is weird. Otherwise, print Not Weird.\n",
    "\n",
    "Sample Input 0\n",
    "\n",
    "`3`\n",
    "\n",
    "Sample Output 0\n",
    "\n",
    "`Weird`\n",
    "\n",
    "Explanation 0\n",
    "\n",
    "\n",
    "is odd and odd numbers are weird, so print Weird.\n",
    "\n",
    "Sample Input 1\n",
    "\n",
    "`24`\n",
    "\n",
    "Sample Output 1\n",
    "\n",
    "`Not Weird`\n",
    "\n"
   ]
  },
  {
   "cell_type": "code",
   "execution_count": 1,
   "id": "e9b6fc62",
   "metadata": {},
   "outputs": [
    {
     "name": "stdout",
     "output_type": "stream",
     "text": [
      "3\n",
      "Weird\n"
     ]
    }
   ],
   "source": [
    "#!/bin/python3\n",
    "\n",
    "import math\n",
    "import os\n",
    "import random\n",
    "import re\n",
    "import sys\n",
    "\n",
    "\n",
    "\n",
    "if __name__ == '__main__':\n",
    "    n = int(input().strip())\n",
    "    \n",
    "    if n % 2 != 0:\n",
    "        print(\"Weird\")\n",
    "    \n",
    "    elif (n % 2 == 0) and (n >= 2 and n <= 5):\n",
    "        print(\"Not Weird\")\n",
    "    \n",
    "    elif (n % 2 == 0) and (n >= 6 and n <= 20):\n",
    "        print(\"Weird\")\n",
    "    \n",
    "    elif (n % 2 == 0) and (n >= 20):\n",
    "        print(\"Not Weird\")\n"
   ]
  },
  {
   "cell_type": "code",
   "execution_count": null,
   "id": "3a94df3f",
   "metadata": {},
   "outputs": [],
   "source": []
  }
 ],
 "metadata": {
  "kernelspec": {
   "display_name": "Python 3 (ipykernel)",
   "language": "python",
   "name": "python3"
  },
  "language_info": {
   "codemirror_mode": {
    "name": "ipython",
    "version": 3
   },
   "file_extension": ".py",
   "mimetype": "text/x-python",
   "name": "python",
   "nbconvert_exporter": "python",
   "pygments_lexer": "ipython3",
   "version": "3.9.12"
  }
 },
 "nbformat": 4,
 "nbformat_minor": 5
}
