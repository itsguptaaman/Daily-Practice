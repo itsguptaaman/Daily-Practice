{
 "cells": [
  {
   "cell_type": "code",
   "execution_count": null,
   "id": "3dfcd76b",
   "metadata": {},
   "outputs": [],
   "source": [
    "n1 = int(input())\n",
    "s1 = set(map(int, input().split()))\n",
    "n2 = int(input())\n",
    "s2 = set(map(int, input().split()))\n",
    "s3 = s1.symmetric_difference(s2)\n",
    "print(len(s3))"
   ]
  },
  {
   "cell_type": "code",
   "execution_count": null,
   "id": "2327c012",
   "metadata": {},
   "outputs": [],
   "source": []
  }
 ],
 "metadata": {
  "kernelspec": {
   "display_name": "Python 3 (ipykernel)",
   "language": "python",
   "name": "python3"
  },
  "language_info": {
   "codemirror_mode": {
    "name": "ipython",
    "version": 3
   },
   "file_extension": ".py",
   "mimetype": "text/x-python",
   "name": "python",
   "nbconvert_exporter": "python",
   "pygments_lexer": "ipython3",
   "version": "3.9.12"
  }
 },
 "nbformat": 4,
 "nbformat_minor": 5
}
