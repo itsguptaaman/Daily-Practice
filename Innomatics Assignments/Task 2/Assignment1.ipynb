{
 "cells": [
  {
   "cell_type": "markdown",
   "id": "d6f57def",
   "metadata": {},
   "source": [
    "### Nested List task"
   ]
  },
  {
   "cell_type": "code",
   "execution_count": null,
   "id": "e0916bed",
   "metadata": {},
   "outputs": [],
   "source": []
  },
  {
   "cell_type": "code",
   "execution_count": 9,
   "id": "14f22fe3",
   "metadata": {},
   "outputs": [
    {
     "name": "stdout",
     "output_type": "stream",
     "text": [
      "5\n",
      "Harry\n",
      "37.21\n",
      "Berry\n",
      "37.21\n",
      "Tina\n",
      "37.2\n",
      "Akriti\n",
      "41\n",
      "Harsh\n",
      "39\n"
     ]
    }
   ],
   "source": [
    "if __name__ == '__main__':\n",
    "    student_grade = []\n",
    "    for _ in range(int(input())):\n",
    "        name = input()\n",
    "        score = float(input())\n",
    "        student_grade.append([name, score])\n",
    "    sorted_scored = sorted(list(set(x[1] for x in student_grade)))\n",
    "    # For second lowest\n",
    "    second_lowest = sorted_scored[1]\n",
    "    \n",
    "    low_final_list = []\n",
    "    for i in student_grade:\n",
    "        if second_lowest == i[1]:\n",
    "            low_final_list.append(i[0])\n",
    "    \n",
    "    for i in sorted(low_final_list):\n",
    "        print(i)"
   ]
  },
  {
   "cell_type": "code",
   "execution_count": null,
   "id": "8b8c99d8",
   "metadata": {},
   "outputs": [],
   "source": []
  },
  {
   "cell_type": "code",
   "execution_count": 11,
   "id": "1097694a",
   "metadata": {},
   "outputs": [
    {
     "data": {
      "text/plain": [
       "[['Harry', 37.21],\n",
       " ['Berry', 37.21],\n",
       " ['Tina', 37.2],\n",
       " ['Akriti', 41.0],\n",
       " ['Harsh', 39.0]]"
      ]
     },
     "execution_count": 11,
     "metadata": {},
     "output_type": "execute_result"
    }
   ],
   "source": [
    "student_grade"
   ]
  },
  {
   "cell_type": "code",
   "execution_count": 15,
   "id": "4ddc3f3e",
   "metadata": {},
   "outputs": [
    {
     "data": {
      "text/plain": [
       "[37.2, 37.21, 39.0, 41.0]"
      ]
     },
     "execution_count": 15,
     "metadata": {},
     "output_type": "execute_result"
    }
   ],
   "source": [
    "sorted(list(set(x[1] for x in student_grade)))"
   ]
  }
 ],
 "metadata": {
  "kernelspec": {
   "display_name": "Python 3 (ipykernel)",
   "language": "python",
   "name": "python3"
  },
  "language_info": {
   "codemirror_mode": {
    "name": "ipython",
    "version": 3
   },
   "file_extension": ".py",
   "mimetype": "text/x-python",
   "name": "python",
   "nbconvert_exporter": "python",
   "pygments_lexer": "ipython3",
   "version": "3.9.12"
  }
 },
 "nbformat": 4,
 "nbformat_minor": 5
}
