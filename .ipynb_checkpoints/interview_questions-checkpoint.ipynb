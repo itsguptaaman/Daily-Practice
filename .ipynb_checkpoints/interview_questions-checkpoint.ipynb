{
 "cells": [
  {
   "cell_type": "code",
   "execution_count": 1,
   "id": "0b258ed9",
   "metadata": {},
   "outputs": [],
   "source": [
    "dt = {'data': [\n",
    "    {\n",
    "        'l1': 3,\n",
    "        'l2': [\n",
    "            {\n",
    "                'b1':12,\n",
    "                'l1':2\n",
    "            },\n",
    "            {\n",
    "                'b1':12,\n",
    "                'c1':[\n",
    "                    {\n",
    "                        'l1': 4\n",
    "                    }\n",
    "                ]\n",
    "            }\n",
    "        ]\n",
    "    },\n",
    "    {\n",
    "        'j1': [ {'k1': {\n",
    "            'l1':5\n",
    "        }}]\n",
    "    }\n",
    "]}"
   ]
  },
  {
   "cell_type": "code",
   "execution_count": 2,
   "id": "969641f2",
   "metadata": {},
   "outputs": [
    {
     "data": {
      "text/plain": [
       "{'data': [{'l1': 3,\n",
       "   'l2': [{'b1': 12, 'l1': 2}, {'b1': 12, 'c1': [{'l1': 4}]}]},\n",
       "  {'j1': [{'k1': {'l1': 5}}]}]}"
      ]
     },
     "execution_count": 2,
     "metadata": {},
     "output_type": "execute_result"
    }
   ],
   "source": [
    "dt"
   ]
  },
  {
   "cell_type": "code",
   "execution_count": 5,
   "id": "c6df6d6a",
   "metadata": {},
   "outputs": [],
   "source": [
    "# Extract all the values of l1 element\n",
    "\n",
    "def find_l1(dt):\n",
    "    try:\n",
    "        if isinstance(dt, dict):\n",
    "            if \"l1\" in dt:\n",
    "                print(dt[\"l1\"])\n",
    "            for k, v in dt.items():\n",
    "                find_l1(v)\n",
    "                \n",
    "        elif isinstance(dt, list):\n",
    "            for i in dt:\n",
    "                find_l1(i)\n",
    "        \n",
    "    except Exception as e:\n",
    "        print(e)"
   ]
  },
  {
   "cell_type": "code",
   "execution_count": 6,
   "id": "087ca985",
   "metadata": {},
   "outputs": [
    {
     "name": "stdout",
     "output_type": "stream",
     "text": [
      "3\n",
      "2\n",
      "4\n",
      "5\n"
     ]
    }
   ],
   "source": [
    "find_l1(dt)"
   ]
  },
  {
   "cell_type": "code",
   "execution_count": 7,
   "id": "dc3b9eaa",
   "metadata": {},
   "outputs": [],
   "source": [
    "# add all the numbers in a list\n",
    "l =  ['a1c2b','21ang','92c','451c',2,{\"23\":\"4a3\",\"a\":\"cd2\"}]"
   ]
  },
  {
   "cell_type": "code",
   "execution_count": 8,
   "id": "2758b48f",
   "metadata": {},
   "outputs": [
    {
     "name": "stdout",
     "output_type": "stream",
     "text": [
      "['a1c2b', '21ang', '92c', '451c', 2, {'23': '4a3', 'a': 'cd2'}]\n"
     ]
    }
   ],
   "source": [
    "s = str(l)\n",
    "print(s)"
   ]
  },
  {
   "cell_type": "code",
   "execution_count": 9,
   "id": "15712023",
   "metadata": {},
   "outputs": [
    {
     "data": {
      "text/plain": [
       "['1', '2', '2', '1', '9', '2', '4', '5', '1', '2', '2', '3', '4', '3', '2']"
      ]
     },
     "execution_count": 9,
     "metadata": {},
     "output_type": "execute_result"
    }
   ],
   "source": [
    "import re\n",
    "result = re.findall(\"[0-9]\", s)\n",
    "result"
   ]
  },
  {
   "cell_type": "code",
   "execution_count": 11,
   "id": "efcf9330",
   "metadata": {},
   "outputs": [
    {
     "data": {
      "text/plain": [
       "43"
      ]
     },
     "execution_count": 11,
     "metadata": {},
     "output_type": "execute_result"
    }
   ],
   "source": [
    "# if we want single numbers then\n",
    "result = [int(i) for i in result]\n",
    "sum(result)"
   ]
  },
  {
   "cell_type": "code",
   "execution_count": 13,
   "id": "9b60435e",
   "metadata": {},
   "outputs": [
    {
     "data": {
      "text/plain": [
       "['1', '2', '21', '92', '451', '2', '23', '4', '3', '2']"
      ]
     },
     "execution_count": 13,
     "metadata": {},
     "output_type": "execute_result"
    }
   ],
   "source": [
    "# if we want one or more occurances of a number\n",
    "result = re.findall(\"[0-9]+\", s)\n",
    "result"
   ]
  },
  {
   "cell_type": "code",
   "execution_count": 14,
   "id": "5800e0b2",
   "metadata": {},
   "outputs": [
    {
     "data": {
      "text/plain": [
       "601"
      ]
     },
     "execution_count": 14,
     "metadata": {},
     "output_type": "execute_result"
    }
   ],
   "source": [
    "result = [int(i) for i in result]\n",
    "sum(result)"
   ]
  },
  {
   "cell_type": "code",
   "execution_count": 15,
   "id": "c77e4837",
   "metadata": {},
   "outputs": [
    {
     "data": {
      "text/plain": [
       "[[], [], [], [], []]"
      ]
     },
     "execution_count": 15,
     "metadata": {},
     "output_type": "execute_result"
    }
   ],
   "source": [
    "# What will be the output of the following code\n",
    "[[]] * 5\n",
    "# Ans:- [[], [], [], [], []]"
   ]
  },
  {
   "cell_type": "code",
   "execution_count": 18,
   "id": "a008b791",
   "metadata": {},
   "outputs": [],
   "source": [
    "# Count the elemensts in a lis\n",
    "l = [1, 2, 3, 1, 1, 2, 1, 3, 1, 4, 1]\n",
    "\n",
    "def num_count(l):\n",
    "    try:\n",
    "        l1 = l.copy()\n",
    "        dt = {}\n",
    "        for i in l:\n",
    "            if i not in dt:\n",
    "                dt[i] = 1\n",
    "            else:\n",
    "                dt[i] += 1\n",
    "        return dt\n",
    "\n",
    "    except Exception as e:\n",
    "        print(e)"
   ]
  },
  {
   "cell_type": "code",
   "execution_count": 19,
   "id": "d4493e3e",
   "metadata": {},
   "outputs": [
    {
     "data": {
      "text/plain": [
       "{1: 6, 2: 2, 3: 2, 4: 1}"
      ]
     },
     "execution_count": 19,
     "metadata": {},
     "output_type": "execute_result"
    }
   ],
   "source": [
    "num_count(l)"
   ]
  },
  {
   "cell_type": "code",
   "execution_count": 27,
   "id": "52bf79dc",
   "metadata": {},
   "outputs": [],
   "source": [
    "# Sort the elements in a list:\n",
    "def sort(l):\n",
    "    try:\n",
    "        l1 = l.copy()\n",
    "        for i in range(len(l)):\n",
    "            for j in range(len(l) - 1):\n",
    "                if l[i] < l[j]:\n",
    "                    l[i], l[j] = l[j], l[i]\n",
    "        return l\n",
    "        \n",
    "    except Exception as e:\n",
    "        print(e)"
   ]
  },
  {
   "cell_type": "code",
   "execution_count": 28,
   "id": "cda30d65",
   "metadata": {},
   "outputs": [
    {
     "data": {
      "text/plain": [
       "[1, 1, 1, 1, 1, 1, 2, 2, 3, 3, 4]"
      ]
     },
     "execution_count": 28,
     "metadata": {},
     "output_type": "execute_result"
    }
   ],
   "source": [
    "# Time complexity is O(n^2)\n",
    "sort(l)"
   ]
  },
  {
   "cell_type": "code",
   "execution_count": null,
   "id": "50bfe2ab",
   "metadata": {},
   "outputs": [],
   "source": []
  },
  {
   "cell_type": "code",
   "execution_count": null,
   "id": "286cd6e6",
   "metadata": {},
   "outputs": [],
   "source": []
  },
  {
   "cell_type": "code",
   "execution_count": null,
   "id": "2f5f2a98",
   "metadata": {},
   "outputs": [],
   "source": []
  },
  {
   "cell_type": "code",
   "execution_count": null,
   "id": "08097d82",
   "metadata": {},
   "outputs": [],
   "source": []
  },
  {
   "cell_type": "code",
   "execution_count": null,
   "id": "5edebfd3",
   "metadata": {},
   "outputs": [],
   "source": []
  },
  {
   "cell_type": "code",
   "execution_count": null,
   "id": "5459893b",
   "metadata": {},
   "outputs": [],
   "source": []
  },
  {
   "cell_type": "code",
   "execution_count": null,
   "id": "1d2bd1cf",
   "metadata": {},
   "outputs": [],
   "source": []
  },
  {
   "cell_type": "code",
   "execution_count": null,
   "id": "3a1e357d",
   "metadata": {},
   "outputs": [],
   "source": []
  },
  {
   "cell_type": "code",
   "execution_count": null,
   "id": "04df7ba6",
   "metadata": {},
   "outputs": [],
   "source": []
  }
 ],
 "metadata": {
  "kernelspec": {
   "display_name": "Python 3 (ipykernel)",
   "language": "python",
   "name": "python3"
  },
  "language_info": {
   "codemirror_mode": {
    "name": "ipython",
    "version": 3
   },
   "file_extension": ".py",
   "mimetype": "text/x-python",
   "name": "python",
   "nbconvert_exporter": "python",
   "pygments_lexer": "ipython3",
   "version": "3.9.12"
  }
 },
 "nbformat": 4,
 "nbformat_minor": 5
}
