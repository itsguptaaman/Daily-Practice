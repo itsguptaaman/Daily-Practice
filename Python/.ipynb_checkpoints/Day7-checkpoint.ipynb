{
 "cells": [
  {
   "cell_type": "code",
   "execution_count": 1,
   "id": "cbec0985",
   "metadata": {},
   "outputs": [
    {
     "name": "stdout",
     "output_type": "stream",
     "text": [
      " Volume in drive C is OS\n",
      " Volume Serial Number is 5283-A9D9\n",
      "\n",
      " Directory of C:\\Users\\Aman\\Downloads\\python_daily\\Python\n",
      "\n",
      "30-06-2023  23:15    <DIR>          .\n",
      "30-06-2023  23:15    <DIR>          ..\n",
      "30-06-2023  23:15    <DIR>          .ipynb_checkpoints\n",
      "16-06-2023  23:05             8,040 Day1.ipynb\n",
      "18-06-2023  01:26            18,458 Day2.ipynb\n",
      "18-06-2023  23:57             4,046 Day3.ipynb\n",
      "20-06-2023  23:34            19,486 Day4.ipynb\n",
      "21-06-2023  19:15            44,026 Day5.ipynb\n",
      "30-06-2023  23:15                72 Day7.ipynb\n",
      "23-06-2023  23:17    <DIR>          FASTAPI_PROJECT\n",
      "               6 File(s)         94,128 bytes\n",
      "               4 Dir(s)  380,071,116,800 bytes free\n"
     ]
    }
   ],
   "source": [
    "%ls"
   ]
  },
  {
   "cell_type": "code",
   "execution_count": 2,
   "id": "cb56741b",
   "metadata": {},
   "outputs": [
    {
     "data": {
      "text/plain": [
       "'C:\\\\Users\\\\Aman\\\\Downloads\\\\python_daily\\\\Python'"
      ]
     },
     "execution_count": 2,
     "metadata": {},
     "output_type": "execute_result"
    }
   ],
   "source": [
    "%pwd"
   ]
  },
  {
   "cell_type": "code",
   "execution_count": 4,
   "id": "3fa15052",
   "metadata": {},
   "outputs": [],
   "source": [
    "# Decorators"
   ]
  },
  {
   "cell_type": "code",
   "execution_count": 13,
   "id": "324e8a18",
   "metadata": {},
   "outputs": [],
   "source": [
    "def function(func):\n",
    "    def inner(name):\n",
    "        result = func(name)\n",
    "        return result + \" I am Python.\"\n",
    "    return inner\n",
    "\n",
    "@function\n",
    "def greet_me(name):\n",
    "    return f\"Hello {name}!\""
   ]
  },
  {
   "cell_type": "code",
   "execution_count": 14,
   "id": "5bbea6c6",
   "metadata": {},
   "outputs": [
    {
     "data": {
      "text/plain": [
       "'Hello Aman! I am Python.'"
      ]
     },
     "execution_count": 14,
     "metadata": {},
     "output_type": "execute_result"
    }
   ],
   "source": [
    "greet_me(\"Aman\")"
   ]
  },
  {
   "cell_type": "code",
   "execution_count": null,
   "id": "8276bf9b",
   "metadata": {},
   "outputs": [],
   "source": []
  }
 ],
 "metadata": {
  "kernelspec": {
   "display_name": "Python 3 (ipykernel)",
   "language": "python",
   "name": "python3"
  },
  "language_info": {
   "codemirror_mode": {
    "name": "ipython",
    "version": 3
   },
   "file_extension": ".py",
   "mimetype": "text/x-python",
   "name": "python",
   "nbconvert_exporter": "python",
   "pygments_lexer": "ipython3",
   "version": "3.10.10"
  }
 },
 "nbformat": 4,
 "nbformat_minor": 5
}
