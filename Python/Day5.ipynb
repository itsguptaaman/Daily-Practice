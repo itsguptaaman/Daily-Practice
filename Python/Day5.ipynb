{
 "cells": [
  {
   "cell_type": "code",
   "execution_count": null,
   "id": "b66271e6",
   "metadata": {},
   "outputs": [],
   "source": [
    "# Function caching"
   ]
  },
  {
   "cell_type": "code",
   "execution_count": null,
   "id": "ce48924b",
   "metadata": {},
   "outputs": [],
   "source": [
    "import functools\n",
    "import time\n",
    "\n",
    "@functools.lru_cache(maxsize=None)\n",
    "def fx(n):\n",
    "    time.sleep(5)\n",
    "    return n*5\n",
    "                                "
   ]
  },
  {
   "cell_type": "code",
   "execution_count": null,
   "id": "a828adba",
   "metadata": {},
   "outputs": [],
   "source": [
    "print(fx(20))\n",
    "print(\"done for 20\")\n",
    "print(fx(2))\n",
    "print(\"done for 2\")\n",
    "print(fx(3))\n",
    "print(\"done for 3\")\n",
    "print(fx(10))\n",
    "print(\"done for 10\")"
   ]
  },
  {
   "cell_type": "code",
   "execution_count": null,
   "id": "219def42",
   "metadata": {},
   "outputs": [],
   "source": [
    "print(fx(20))\n",
    "print(\"done for 20\")\n",
    "print(fx(2))\n",
    "print(\"done for 2\")\n",
    "print(fx(3))\n",
    "print(\"done for 3\")\n",
    "print(fx(10))\n",
    "print(\"done for 10\")"
   ]
  },
  {
   "cell_type": "code",
   "execution_count": null,
   "id": "2a77ed17",
   "metadata": {},
   "outputs": [],
   "source": [
    "# Regex\n",
    "import re"
   ]
  },
  {
   "cell_type": "code",
   "execution_count": null,
   "id": "9ea40d9e",
   "metadata": {},
   "outputs": [],
   "source": [
    "s = \"Aman Gupta\""
   ]
  },
  {
   "cell_type": "code",
   "execution_count": null,
   "id": "f1a38745",
   "metadata": {},
   "outputs": [],
   "source": [
    "pattern = r\"[A-Z]+uido\"\n",
    "text = \"\"\"\n",
    "Python was conceived in the late 1980s[43] by Guido Auido van Rossum at Centrum Wiskunde & Informatica (CWI) in the Netherlands as a successor to the ABC programming language, which was inspired by SETL,[44] capable of exception handling and interfacing with the Amoeba operating system.[13] Its implementation began in December 1989.[45] Van Rossum shouldered sole responsibility for the project, as the lead developer, until 12 July 2018, when he announced his \"permanent vacation\" from his responsibilities as Python's \"benevolent dictator for life\", a title the Python community bestowed upon him to reflect his long-term commitment as the project's chief decision-maker.[46] In January 2019, active Python core developers elected a five-member Steering Council to lead the project.[47][48]\n",
    "\"\"\""
   ]
  },
  {
   "cell_type": "code",
   "execution_count": null,
   "id": "90e54e6f",
   "metadata": {},
   "outputs": [],
   "source": [
    "# Match first occurance\n",
    "match = re.search(pattern, text)\n",
    "match"
   ]
  },
  {
   "cell_type": "code",
   "execution_count": null,
   "id": "9121507a",
   "metadata": {},
   "outputs": [],
   "source": [
    "# For all the occurance\n",
    "match = re.finditer(pattern, text)\n",
    "for m in match:\n",
    "    print(m)\n",
    "    print(text[m.span()[0] : m.span()[1]])"
   ]
  },
  {
   "cell_type": "code",
   "execution_count": null,
   "id": "28be3a3b",
   "metadata": {},
   "outputs": [],
   "source": [
    "re.findall(pattern, text)"
   ]
  },
  {
   "cell_type": "code",
   "execution_count": null,
   "id": "29a02ada",
   "metadata": {},
   "outputs": [],
   "source": [
    "# AsyncoIO"
   ]
  },
  {
   "cell_type": "code",
   "execution_count": null,
   "id": "facde1d8",
   "metadata": {},
   "outputs": [],
   "source": [
    "import asyncio\n",
    "\n",
    "async def function1():\n",
    "    await asyncio.sleep(1)\n",
    "    print(\"func 1\")\n",
    "    return \"Hello\"\n",
    "\n",
    "async def function2():\n",
    "    await asyncio.sleep(1)\n",
    "    print(\"func 2\")\n",
    "\n",
    "async def function3():\n",
    "    await asyncio.sleep(4)\n",
    "    print(\"func 3\")\n",
    "\n",
    "async def main():\n",
    "    task = asyncio.create_task(function1())\n",
    "#     await function1()\n",
    "    await function2()\n",
    "    await function3()\n",
    "\n",
    "await main()"
   ]
  },
  {
   "cell_type": "code",
   "execution_count": null,
   "id": "b2c15fe9",
   "metadata": {},
   "outputs": [],
   "source": [
    "async def main():\n",
    "    L = await asyncio.gather(function1(), function2(), function3())\n",
    "    print(L)\n",
    "await main()"
   ]
  },
  {
   "cell_type": "code",
   "execution_count": null,
   "id": "3434210f",
   "metadata": {},
   "outputs": [],
   "source": [
    "# Threading\n",
    "import threading"
   ]
  },
  {
   "cell_type": "code",
   "execution_count": null,
   "id": "d7288516",
   "metadata": {},
   "outputs": [],
   "source": [
    "def func(seconds):\n",
    "    print(f\"sleeping for {seconds} sec\")\n",
    "    time.sleep(seconds)\n"
   ]
  },
  {
   "cell_type": "code",
   "execution_count": null,
   "id": "298f9bb9",
   "metadata": {},
   "outputs": [],
   "source": [
    "%%time\n",
    "func(4)\n",
    "func(2)\n",
    "func(3)"
   ]
  },
  {
   "cell_type": "code",
   "execution_count": null,
   "id": "d40d9ffc",
   "metadata": {},
   "outputs": [],
   "source": [
    "t1 = threading.Thread(target=func, args=[4])\n",
    "t2 = threading.Thread(target=func, args=[3])\n",
    "t3 = threading.Thread(target=func, args=[1])"
   ]
  },
  {
   "cell_type": "code",
   "execution_count": null,
   "id": "b9125cfd",
   "metadata": {},
   "outputs": [],
   "source": [
    "%%time\n",
    "t1.start()\n",
    "t2.start()\n",
    "t3.start()\n",
    "\n",
    "# Wait until task is completed\n",
    "t1.join()\n",
    "t2.join()\n",
    "t3.join()"
   ]
  },
  {
   "cell_type": "code",
   "execution_count": null,
   "id": "db713d67",
   "metadata": {},
   "outputs": [],
   "source": [
    "time2 = time.perf_counter()"
   ]
  },
  {
   "cell_type": "code",
   "execution_count": null,
   "id": "c53c8c52",
   "metadata": {},
   "outputs": [],
   "source": [
    "from concurrent.futures import ThreadPoolExecutor"
   ]
  },
  {
   "cell_type": "code",
   "execution_count": null,
   "id": "8d04a634",
   "metadata": {},
   "outputs": [],
   "source": [
    "def poolingDemo():\n",
    "    with ThreadPoolExecutor(max_workers=1) as executor:\n",
    "#         future1 = executor.submit(func, 3)\n",
    "#         future2 = executor.submit(func, 2)\n",
    "#         future3 = executor.submit(func, 5)\n",
    "#         print(future2.result())\n",
    "#         print(future1.result())\n",
    "#         print(future3.result())\n",
    "            l = [3, 5, 1, 2]\n",
    "            results = executor.map(func, l)\n",
    "            for result in results:\n",
    "                print(result)\n",
    "\n",
    "poolingDemo()\n"
   ]
  },
  {
   "cell_type": "code",
   "execution_count": null,
   "id": "e88b32bf",
   "metadata": {},
   "outputs": [],
   "source": [
    "# Multiprocessing"
   ]
  },
  {
   "cell_type": "code",
   "execution_count": null,
   "id": "ea75bfb4",
   "metadata": {},
   "outputs": [],
   "source": [
    "import multiprocessing\n",
    "import requests\n",
    "from pathlib import Path\n",
    "import sys"
   ]
  },
  {
   "cell_type": "code",
   "execution_count": null,
   "id": "4df680cb",
   "metadata": {},
   "outputs": [],
   "source": [
    "def downloadFile(url, name):\n",
    "    print(f\"Started Downloading {name}\")\n",
    "    sys.stdout.flush()\n",
    "    response = requests.get(url)\n",
    "    Path(\"images\").mkdir(parents=True, exist_ok=True)\n",
    "    open(f\"images/file{name}.jpg\", \"wb\").write(response.content)\n",
    "    print(f\"Finished Downloading {name}\")\n",
    "    sys.stdout.flush()\n",
    "\n",
    "url = \"https://picsum.photos/2000/3000\"\n",
    "pros = []\n",
    "for i in range(5):\n",
    "#     downloadFile(url, i)\n",
    "    p = multiprocessing.Process(target=downloadFile, args=[url, i])\n",
    "    p.start()\n",
    "    pros.append(p)\n",
    "for p in pros:\n",
    "    p.join()"
   ]
  },
  {
   "cell_type": "code",
   "execution_count": null,
   "id": "bc6bcd32",
   "metadata": {},
   "outputs": [],
   "source": [
    "url = \"https://picsum.photos/2000/3000\"\n",
    "pros = []\n",
    "for i in range(5):\n",
    "    p = multiprocessing.Process(target=downloadFile, args=[url, i])\n",
    "    p.start()\n",
    "    pros.append(p)\n",
    "for p in pros:\n",
    "    p.join()"
   ]
  },
  {
   "cell_type": "code",
   "execution_count": null,
   "id": "cc55cb73",
   "metadata": {},
   "outputs": [],
   "source": [
    "l = [i for i in range(60)]"
   ]
  },
  {
   "cell_type": "code",
   "execution_count": null,
   "id": "f4a59cc6",
   "metadata": {},
   "outputs": [],
   "source": [
    "import concurrent.futures"
   ]
  },
  {
   "cell_type": "code",
   "execution_count": null,
   "id": "56cbf857",
   "metadata": {},
   "outputs": [],
   "source": [
    "with concurrent.futures.ProcessPoolExecutor() as executor:\n",
    "    l1 = [i for i in range(60)]\n",
    "    l2 = [i for i in range(60)]\n",
    "    results = executor.map(downloadFile, url, l)\n",
    "    for i in results:\n",
    "        print(r)"
   ]
  },
  {
   "cell_type": "code",
   "execution_count": 1,
   "id": "c082b8e1",
   "metadata": {},
   "outputs": [],
   "source": [
    "# Namespace in Python\n",
    "x = 4"
   ]
  },
  {
   "cell_type": "code",
   "execution_count": 2,
   "id": "e930cc04",
   "metadata": {},
   "outputs": [
    {
     "data": {
      "text/plain": [
       "4"
      ]
     },
     "execution_count": 2,
     "metadata": {},
     "output_type": "execute_result"
    }
   ],
   "source": [
    "x"
   ]
  },
  {
   "cell_type": "code",
   "execution_count": 3,
   "id": "8815dc7d",
   "metadata": {},
   "outputs": [
    {
     "data": {
      "text/plain": [
       "5"
      ]
     },
     "execution_count": 3,
     "metadata": {},
     "output_type": "execute_result"
    }
   ],
   "source": [
    "x = 5\n",
    "x"
   ]
  },
  {
   "cell_type": "code",
   "execution_count": 6,
   "id": "2ab65d83",
   "metadata": {},
   "outputs": [
    {
     "data": {
      "text/plain": [
       "(4, 5)"
      ]
     },
     "execution_count": 6,
     "metadata": {},
     "output_type": "execute_result"
    }
   ],
   "source": [
    "x = 4; y = 5\n",
    "x, y"
   ]
  },
  {
   "cell_type": "code",
   "execution_count": null,
   "id": "344aea13",
   "metadata": {},
   "outputs": [],
   "source": [
    "# There are three types of name space\n",
    "# 1. Local \n",
    "# 2. Global\n",
    "# 3. Built In"
   ]
  },
  {
   "cell_type": "code",
   "execution_count": 7,
   "id": "ae0a101d",
   "metadata": {},
   "outputs": [],
   "source": [
    "# Valiable scope \n",
    "def f1():\n",
    "    a = 4\n",
    "    print(a)"
   ]
  },
  {
   "cell_type": "code",
   "execution_count": 8,
   "id": "f8879a42",
   "metadata": {},
   "outputs": [
    {
     "name": "stdout",
     "output_type": "stream",
     "text": [
      "4\n"
     ]
    }
   ],
   "source": [
    "f1()"
   ]
  },
  {
   "cell_type": "code",
   "execution_count": 9,
   "id": "3c000b4f",
   "metadata": {},
   "outputs": [
    {
     "ename": "NameError",
     "evalue": "name 'a' is not defined",
     "output_type": "error",
     "traceback": [
      "\u001b[1;31m---------------------------------------------------------------------------\u001b[0m",
      "\u001b[1;31mNameError\u001b[0m                                 Traceback (most recent call last)",
      "Cell \u001b[1;32mIn[9], line 1\u001b[0m\n\u001b[1;32m----> 1\u001b[0m \u001b[43ma\u001b[49m\n",
      "\u001b[1;31mNameError\u001b[0m: name 'a' is not defined"
     ]
    }
   ],
   "source": [
    "a"
   ]
  },
  {
   "cell_type": "markdown",
   "id": "f5a685c2",
   "metadata": {},
   "source": [
    "#### Types of scope in Variables (LEGB rule)\n",
    "* 1. Local\n",
    "* 2. Global\n",
    "* 3. Enclosed\n",
    "* 4. Built In"
   ]
  },
  {
   "cell_type": "code",
   "execution_count": 10,
   "id": "64d742a4",
   "metadata": {},
   "outputs": [
    {
     "data": {
      "text/plain": [
       "['In',\n",
       " 'Out',\n",
       " '_',\n",
       " '_2',\n",
       " '_3',\n",
       " '_6',\n",
       " '__',\n",
       " '___',\n",
       " '__builtin__',\n",
       " '__builtins__',\n",
       " '__doc__',\n",
       " '__loader__',\n",
       " '__name__',\n",
       " '__package__',\n",
       " '__spec__',\n",
       " '_dh',\n",
       " '_i',\n",
       " '_i1',\n",
       " '_i10',\n",
       " '_i2',\n",
       " '_i3',\n",
       " '_i4',\n",
       " '_i5',\n",
       " '_i6',\n",
       " '_i7',\n",
       " '_i8',\n",
       " '_i9',\n",
       " '_ih',\n",
       " '_ii',\n",
       " '_iii',\n",
       " '_oh',\n",
       " 'exit',\n",
       " 'f1',\n",
       " 'get_ipython',\n",
       " 'open',\n",
       " 'quit',\n",
       " 'x',\n",
       " 'y']"
      ]
     },
     "execution_count": 10,
     "metadata": {},
     "output_type": "execute_result"
    }
   ],
   "source": [
    "# List of names\n",
    "dir()"
   ]
  },
  {
   "cell_type": "code",
   "execution_count": 14,
   "id": "2738bf20",
   "metadata": {},
   "outputs": [
    {
     "name": "stdout",
     "output_type": "stream",
     "text": [
      "Initially ['In', 'Out', '_', '_10', '_2', '_3', '_6', '__', '___', '__builtin__', '__builtins__', '__doc__', '__loader__', '__name__', '__package__', '__spec__', '_dh', '_i', '_i1', '_i10', '_i11', '_i12', '_i13', '_i14', '_i2', '_i3', '_i4', '_i5', '_i6', '_i7', '_i8', '_i9', '_ih', '_ii', '_iii', '_oh', 'exit', 'f1', 'get_ipython', 'num', 'open', 'quit', 'x', 'y']\n",
      "----------------------------------------------------------------------------------------------------\n",
      "Inside the function ['n']\n",
      "----------------------------------------------------------------------------------------------------\n",
      "Outsside the function ['In', 'Out', '_', '_10', '_2', '_3', '_6', '__', '___', '__builtin__', '__builtins__', '__doc__', '__loader__', '__name__', '__package__', '__spec__', '_dh', '_i', '_i1', '_i10', '_i11', '_i12', '_i13', '_i14', '_i2', '_i3', '_i4', '_i5', '_i6', '_i7', '_i8', '_i9', '_ih', '_ii', '_iii', '_oh', 'exit', 'f1', 'get_ipython', 'num', 'open', 'quit', 'x', 'y']\n"
     ]
    }
   ],
   "source": [
    "print(f\"Initially {dir()}\")\n",
    "print(\"-\" * 100)\n",
    "num = 20\n",
    "def f1():\n",
    "    n = 10\n",
    "    print(f\"Inside the function {dir()}\")\n",
    "    print(\"-\" * 100)\n",
    "f1() \n",
    "print(f\"Outsside the function {dir()}\")\n"
   ]
  },
  {
   "cell_type": "markdown",
   "id": "33c3bd64",
   "metadata": {},
   "source": [
    "### LEGB\n",
    "\n",
    "* Local scope :- Contains Names Defined inside the current function.\n",
    "* Global scope :- Contains Names Defined at the top level of the script or module.\n",
    "* Enclosed scope :- Contains Names Defined inside any and all enclosed function.\n",
    "* Built In :- Contains Names built_in to the python language.\n"
   ]
  },
  {
   "cell_type": "code",
   "execution_count": 21,
   "id": "bf86be41",
   "metadata": {},
   "outputs": [
    {
     "name": "stdout",
     "output_type": "stream",
     "text": [
      "10\n",
      "11\n",
      "15\n",
      "11\n"
     ]
    }
   ],
   "source": [
    "y = 10 # Global\n",
    "def inner():\n",
    "    x = 4 # Local\n",
    "    global y\n",
    "    y = y + 1\n",
    "    print(y)\n",
    "    print(x + y)\n",
    "print(y)    \n",
    "inner()\n",
    "print(y)"
   ]
  },
  {
   "cell_type": "code",
   "execution_count": 32,
   "id": "c41109cd",
   "metadata": {},
   "outputs": [
    {
     "name": "stdout",
     "output_type": "stream",
     "text": [
      "x: 4\n",
      "inside the function y: 10 and z is 5\n",
      "z: 5\n"
     ]
    }
   ],
   "source": [
    "# Builtin names can be access anywhere\n",
    "\n",
    "y = 10 # Global scope\n",
    "def outer():\n",
    "    z = 4 # Enclosing scope\n",
    "    def inner():\n",
    "        x = 4 # Local scope\n",
    "        nonlocal z\n",
    "        z = z + 1\n",
    "        print(\"x:\", x)\n",
    "        print(\"inside the function y:\", y, \"and z is\", z)\n",
    "    inner()\n",
    "    print(\"z:\", z)\n",
    "outer()"
   ]
  },
  {
   "cell_type": "code",
   "execution_count": null,
   "id": "c74d1468",
   "metadata": {},
   "outputs": [],
   "source": [
    "# Python will search varibles in LEGB order if varible not found then it will give error"
   ]
  },
  {
   "cell_type": "code",
   "execution_count": 1,
   "id": "61e3067f",
   "metadata": {},
   "outputs": [
    {
     "name": "stdout",
     "output_type": "stream",
     "text": [
      "x is 5\n"
     ]
    }
   ],
   "source": [
    "x = 5\n",
    "def fun():\n",
    "#     x = 10\n",
    "    def inner():\n",
    "#         x = 15\n",
    "        print(f\"x is {x}\")\n",
    "    inner()\n",
    "fun()"
   ]
  },
  {
   "cell_type": "code",
   "execution_count": 2,
   "id": "c4429924",
   "metadata": {},
   "outputs": [],
   "source": [
    "# Closures"
   ]
  },
  {
   "cell_type": "code",
   "execution_count": 3,
   "id": "cc674d31",
   "metadata": {},
   "outputs": [
    {
     "name": "stdout",
     "output_type": "stream",
     "text": [
      "3\n"
     ]
    }
   ],
   "source": [
    "# Nested functions\n",
    "def outer():\n",
    "    x = 3\n",
    "    def inner():\n",
    "        print(x)\n",
    "    inner()\n",
    "outer()"
   ]
  },
  {
   "cell_type": "code",
   "execution_count": 4,
   "id": "2ca49107",
   "metadata": {},
   "outputs": [
    {
     "name": "stdout",
     "output_type": "stream",
     "text": [
      "Hey\n"
     ]
    }
   ],
   "source": [
    "# Functions are objects\n",
    "def f1():\n",
    "    print(\"Hey\")\n",
    "f1()"
   ]
  },
  {
   "cell_type": "code",
   "execution_count": 5,
   "id": "b303ba5e",
   "metadata": {},
   "outputs": [
    {
     "data": {
      "text/plain": [
       "<function __main__.f1()>"
      ]
     },
     "execution_count": 5,
     "metadata": {},
     "output_type": "execute_result"
    }
   ],
   "source": [
    "f1"
   ]
  },
  {
   "cell_type": "code",
   "execution_count": 6,
   "id": "bcb8fd9d",
   "metadata": {},
   "outputs": [
    {
     "name": "stdout",
     "output_type": "stream",
     "text": [
      "Hey\n"
     ]
    }
   ],
   "source": [
    "obj = f1\n",
    "obj()"
   ]
  },
  {
   "cell_type": "code",
   "execution_count": 8,
   "id": "e3a5e1fe",
   "metadata": {},
   "outputs": [
    {
     "ename": "NameError",
     "evalue": "name 'inner' is not defined",
     "output_type": "error",
     "traceback": [
      "\u001b[1;31m---------------------------------------------------------------------------\u001b[0m",
      "\u001b[1;31mNameError\u001b[0m                                 Traceback (most recent call last)",
      "Cell \u001b[1;32mIn[8], line 6\u001b[0m\n\u001b[0;32m      3\u001b[0m     \u001b[38;5;28;01mdef\u001b[39;00m \u001b[38;5;21minner\u001b[39m():\n\u001b[0;32m      4\u001b[0m         \u001b[38;5;28mprint\u001b[39m(x)\n\u001b[1;32m----> 6\u001b[0m \u001b[43minner\u001b[49m()\n\u001b[0;32m      7\u001b[0m outer()\n",
      "\u001b[1;31mNameError\u001b[0m: name 'inner' is not defined"
     ]
    }
   ],
   "source": [
    "def outer():\n",
    "    x = 3\n",
    "    def inner():\n",
    "        print(x)\n",
    "        \n",
    "inner()\n",
    "outer()"
   ]
  },
  {
   "cell_type": "code",
   "execution_count": 13,
   "id": "db25c6f9",
   "metadata": {},
   "outputs": [],
   "source": [
    "def outer():\n",
    "    x = 3\n",
    "    def inner():\n",
    "        print(x)\n",
    "        return x + 5\n",
    "    return inner\n",
    "\n",
    "res = outer()"
   ]
  },
  {
   "cell_type": "code",
   "execution_count": 14,
   "id": "0594dd7e",
   "metadata": {},
   "outputs": [
    {
     "name": "stdout",
     "output_type": "stream",
     "text": [
      "<function outer.<locals>.inner at 0x00000295BD8EE680>\n"
     ]
    }
   ],
   "source": [
    "print(res)"
   ]
  },
  {
   "cell_type": "code",
   "execution_count": 16,
   "id": "0be3c8f2",
   "metadata": {},
   "outputs": [
    {
     "data": {
      "text/plain": [
       "'inner'"
      ]
     },
     "execution_count": 16,
     "metadata": {},
     "output_type": "execute_result"
    }
   ],
   "source": [
    "res.__name__"
   ]
  },
  {
   "cell_type": "code",
   "execution_count": 17,
   "id": "1dbedf16",
   "metadata": {},
   "outputs": [
    {
     "name": "stdout",
     "output_type": "stream",
     "text": [
      "3\n"
     ]
    },
    {
     "data": {
      "text/plain": [
       "8"
      ]
     },
     "execution_count": 17,
     "metadata": {},
     "output_type": "execute_result"
    }
   ],
   "source": [
    "# This technique is called as Closures\n",
    "res()"
   ]
  },
  {
   "cell_type": "code",
   "execution_count": 20,
   "id": "f4a5be70",
   "metadata": {},
   "outputs": [
    {
     "name": "stdout",
     "output_type": "stream",
     "text": [
      "hello\n"
     ]
    }
   ],
   "source": [
    "def outer():\n",
    "    msg = \"hello\"\n",
    "    def inner ():\n",
    "        print (msg)\n",
    "    return inner\n",
    "a = outer ()\n",
    "a()"
   ]
  },
  {
   "cell_type": "markdown",
   "id": "fa9d72e0",
   "metadata": {},
   "source": [
    "#### Decorators :- Any callable python object that is used to modify a function or a class\n"
   ]
  },
  {
   "cell_type": "code",
   "execution_count": null,
   "id": "de7a24c6",
   "metadata": {},
   "outputs": [],
   "source": [
    "# Types of Decorators\n",
    "# 1. Function decorator\n",
    "# 2. Class Decorator"
   ]
  },
  {
   "cell_type": "code",
   "execution_count": null,
   "id": "d44a94f2",
   "metadata": {},
   "outputs": [],
   "source": [
    "# Nested function\n",
    "# Function decorator\n",
    "# Function can return another function\n",
    "# Function names are refrences\n",
    "# We can use a function as a parameter for another function"
   ]
  },
  {
   "cell_type": "code",
   "execution_count": 27,
   "id": "0b0ecce6",
   "metadata": {},
   "outputs": [
    {
     "name": "stdout",
     "output_type": "stream",
     "text": [
      "<function outer.<locals>.inner at 0x00000295BF9E4A60>\n"
     ]
    },
    {
     "data": {
      "text/plain": [
       "'inner'"
      ]
     },
     "execution_count": 27,
     "metadata": {},
     "output_type": "execute_result"
    }
   ],
   "source": [
    "def outer():\n",
    "    x = 3\n",
    "    def inner():\n",
    "        y = 3\n",
    "        result = x+y\n",
    "        return result\n",
    "    return inner\n",
    "a = outer()\n",
    "print(a)\n",
    "a.__name__"
   ]
  },
  {
   "cell_type": "code",
   "execution_count": 28,
   "id": "4e1c6e78",
   "metadata": {},
   "outputs": [
    {
     "name": "stdout",
     "output_type": "stream",
     "text": [
      "Hi i am function 2 now i will call function1\n",
      "Hey i am function1\n"
     ]
    }
   ],
   "source": [
    "# Function as a parameter\n",
    "\n",
    "def func1():\n",
    "    print(\"Hey i am function1\")\n",
    "\n",
    "def func2(func):\n",
    "    print(\"Hi i am function 2 now i will call function1\")\n",
    "    func()\n",
    "\n",
    "func2(func1)"
   ]
  },
  {
   "cell_type": "code",
   "execution_count": 37,
   "id": "e934b8b8",
   "metadata": {},
   "outputs": [
    {
     "data": {
      "text/plain": [
       "'GOOD MORNING'"
      ]
     },
     "execution_count": 37,
     "metadata": {},
     "output_type": "execute_result"
    }
   ],
   "source": [
    "# Now Decorators\n",
    "\n",
    "\n",
    "def str_upper(func):\n",
    "    def inner():\n",
    "        str1 = func()\n",
    "        return str1.upper()\n",
    "    return inner\n",
    "\n",
    "@str_upper\n",
    "def print_str():\n",
    "    return \"Good morning\"\n",
    "\n",
    "# res = str_upper(print_str)\n",
    "# res()"
   ]
  },
  {
   "cell_type": "code",
   "execution_count": 54,
   "id": "60c30fc8",
   "metadata": {},
   "outputs": [
    {
     "name": "stdout",
     "output_type": "stream",
     "text": [
      "25\n"
     ]
    }
   ],
   "source": [
    "\n",
    "def add_five(func):\n",
    "    def inner(no):\n",
    "        res = func(no) + 5\n",
    "        return res\n",
    "    return inner\n",
    "\n",
    "@add_five\n",
    "def return_num(no):\n",
    "    return no\n",
    "\n",
    "x = return_num(20)\n",
    "print(x)"
   ]
  },
  {
   "cell_type": "code",
   "execution_count": 56,
   "id": "d02989f1",
   "metadata": {},
   "outputs": [
    {
     "name": "stdout",
     "output_type": "stream",
     "text": [
      "Cant divide by zero\n"
     ]
    }
   ],
   "source": [
    "def zero_error(func):\n",
    "    def inner(x, y):\n",
    "        if y == 0:\n",
    "            return \"Cant divide by zero\"\n",
    "        else:\n",
    "            return a / b\n",
    "    return inner\n",
    "\n",
    "@zero_error\n",
    "def divide(a, b):\n",
    "    return a / b\n",
    "\n",
    "print(divide(5, 0))"
   ]
  },
  {
   "cell_type": "markdown",
   "id": "3a871699",
   "metadata": {},
   "source": [
    "* Condition to create a decorator\n",
    "1. need to take a function as parameter\n",
    "2. Add functionality to the function\n",
    "3. function need to return another function\n"
   ]
  },
  {
   "cell_type": "code",
   "execution_count": 59,
   "id": "b5daaaf7",
   "metadata": {},
   "outputs": [
    {
     "name": "stdout",
     "output_type": "stream",
     "text": [
      "GOOD MORNING\n"
     ]
    }
   ],
   "source": [
    "# This not a decoratir because it is returning value\n",
    "def str_upper(func):\n",
    "    str1 = func()\n",
    "    return str1.upper()\n",
    "\n",
    "@str_upper\n",
    "def print_str():\n",
    "    return \"Good morning\"\n",
    "\n",
    "print(print_str)"
   ]
  },
  {
   "cell_type": "code",
   "execution_count": 60,
   "id": "79a983fe",
   "metadata": {},
   "outputs": [
    {
     "name": "stdout",
     "output_type": "stream",
     "text": [
      "GOOD MORNING\n"
     ]
    }
   ],
   "source": [
    "# This is correct way of doing it\n",
    "def str_upper(func):\n",
    "    def wrapper():\n",
    "        str1 = func()\n",
    "        return str1.upper()\n",
    "    return wrapper\n",
    "\n",
    "@str_upper\n",
    "def print_str():\n",
    "    return \"Good morning\"\n",
    "\n",
    "print(print_str())"
   ]
  },
  {
   "cell_type": "code",
   "execution_count": null,
   "id": "87f51753",
   "metadata": {},
   "outputs": [],
   "source": [
    "# 1. Mutiple decorators in a single function\n",
    "# 2. Decorators containing parameters \n",
    "# 3. Single decorator on multiple function"
   ]
  },
  {
   "cell_type": "code",
   "execution_count": null,
   "id": "29e1fc76",
   "metadata": {},
   "outputs": [],
   "source": [
    "# 1. Mutiple decorators in a single function"
   ]
  },
  {
   "cell_type": "code",
   "execution_count": 61,
   "id": "4b5d77ae",
   "metadata": {},
   "outputs": [
    {
     "data": {
      "text/plain": [
       "['GOOD', 'MORNING']"
      ]
     },
     "execution_count": 61,
     "metadata": {},
     "output_type": "execute_result"
    }
   ],
   "source": [
    "def upper_dec(fun):\n",
    "    def inner():\n",
    "        res = fun()\n",
    "        return res.upper()\n",
    "    return inner\n",
    "\n",
    "def split_dec(fun):\n",
    "    def wrapper():\n",
    "        res = fun()\n",
    "        return res.split()\n",
    "    return wrapper\n",
    "    \n",
    "@split_dec\n",
    "@upper_dec\n",
    "def ordinary():\n",
    "    return \"good morning\"\n",
    "\n",
    "ordinary()"
   ]
  },
  {
   "cell_type": "code",
   "execution_count": 63,
   "id": "8ff208be",
   "metadata": {},
   "outputs": [
    {
     "name": "stdout",
     "output_type": "stream",
     "text": [
      "first second good morning second first\n"
     ]
    }
   ],
   "source": [
    "def upper_d(func):\n",
    "    def inner():\n",
    "        return \"first \" + func() + \" first\"\n",
    "    return inner\n",
    "def split_d(func) :\n",
    "    def wrapper():\n",
    "        return \"second \" + func() + \" second\"\n",
    "    return wrapper\n",
    "@upper_d\n",
    "@split_d\n",
    "def ordinary():\n",
    "    return \"good morning\"\n",
    "print(ordinary())\n"
   ]
  },
  {
   "cell_type": "code",
   "execution_count": 66,
   "id": "1c2f2005",
   "metadata": {},
   "outputs": [
    {
     "name": "stdout",
     "output_type": "stream",
     "text": [
      "good morning Aman\n"
     ]
    }
   ],
   "source": [
    "def outer(expr):\n",
    "    def upper_d(func):\n",
    "        def inner():\n",
    "            return func() + expr\n",
    "        return inner\n",
    "    return upper_d\n",
    "\n",
    "\n",
    "@outer(\"Aman\")\n",
    "def ordinary():\n",
    "    return \"good morning \"\n",
    "print(ordinary())\n"
   ]
  },
  {
   "cell_type": "code",
   "execution_count": 77,
   "id": "caff4d36",
   "metadata": {},
   "outputs": [
    {
     "name": "stdout",
     "output_type": "stream",
     "text": [
      "2.0\n"
     ]
    },
    {
     "data": {
      "text/plain": [
       "'Give proper input!!!'"
      ]
     },
     "execution_count": 77,
     "metadata": {},
     "output_type": "execute_result"
    }
   ],
   "source": [
    "def div_decorator(func):\n",
    "    def inner(*args):\n",
    "        list1 =[]\n",
    "        list1 = args[1:] \n",
    "        for i in list1:\n",
    "            if i==0:\n",
    "                return \"Give proper input!!!\"\n",
    "        return func (*args)\n",
    "    return inner\n",
    "\n",
    "\n",
    "@div_decorator\n",
    "def div1 (a, b):\n",
    "     return a / b\n",
    "\n",
    "@div_decorator\n",
    "def div2 (a, b, c):\n",
    "     return a / b / c\n",
    "\n",
    "\n",
    "print(div1(10, 5))\n",
    "div2(10, 4, 0)"
   ]
  },
  {
   "cell_type": "code",
   "execution_count": 78,
   "id": "4ec25312",
   "metadata": {},
   "outputs": [],
   "source": [
    "import functools"
   ]
  },
  {
   "cell_type": "code",
   "execution_count": 83,
   "id": "8190787e",
   "metadata": {},
   "outputs": [
    {
     "name": "stdout",
     "output_type": "stream",
     "text": [
      "GOOD MORNING\n"
     ]
    }
   ],
   "source": [
    "# This is correct way of doing it\n",
    "def str_upper(func):\n",
    "    @functools.wraps(func)\n",
    "    def wrapper():\n",
    "        str1 = func()\n",
    "        return str1.upper()\n",
    "    return wrapper\n",
    "\n",
    "@str_upper\n",
    "def print_str():\n",
    "    return \"Good morning\"\n",
    "\n",
    "print(print_str())"
   ]
  },
  {
   "cell_type": "code",
   "execution_count": 82,
   "id": "857ede6a",
   "metadata": {},
   "outputs": [
    {
     "data": {
      "text/plain": [
       "'wrapper'"
      ]
     },
     "execution_count": 82,
     "metadata": {},
     "output_type": "execute_result"
    }
   ],
   "source": [
    "print_str.__name__"
   ]
  },
  {
   "cell_type": "code",
   "execution_count": 84,
   "id": "0120e01c",
   "metadata": {},
   "outputs": [
    {
     "data": {
      "text/plain": [
       "'print_str'"
      ]
     },
     "execution_count": 84,
     "metadata": {},
     "output_type": "execute_result"
    }
   ],
   "source": [
    "print_str.__name__"
   ]
  },
  {
   "cell_type": "code",
   "execution_count": 94,
   "id": "55693e29",
   "metadata": {},
   "outputs": [],
   "source": [
    "def name_checker(meth):\n",
    "    def inner(self):\n",
    "        if self.name == \"Aman\":\n",
    "            print(\"Hey my name is also same!!!\")\n",
    "        else:\n",
    "            meth(self)\n",
    "    return inner\n",
    "    \n",
    "class Printing:\n",
    "    def __init__(self, name):\n",
    "        self.name = name \n",
    "    \n",
    "    @name_checker\n",
    "    def print_name(self):\n",
    "        print(f\"Name is {self.name}\")\n",
    "        \n",
    "    def __call__(self):\n",
    "        print(f\"Name is {self.name}\")"
   ]
  },
  {
   "cell_type": "code",
   "execution_count": 95,
   "id": "0d572ef1",
   "metadata": {},
   "outputs": [
    {
     "name": "stdout",
     "output_type": "stream",
     "text": [
      "Hey my name is also same!!!\n"
     ]
    }
   ],
   "source": [
    "p = Printing(\"Aman\")\n",
    "p.print_name()"
   ]
  },
  {
   "cell_type": "code",
   "execution_count": 96,
   "id": "ed9334f0",
   "metadata": {},
   "outputs": [
    {
     "name": "stdout",
     "output_type": "stream",
     "text": [
      "Name is aman\n"
     ]
    }
   ],
   "source": [
    "p = Printing(\"aman\")\n",
    "p.print_name()"
   ]
  },
  {
   "cell_type": "code",
   "execution_count": 97,
   "id": "8e3c7e2b",
   "metadata": {},
   "outputs": [
    {
     "name": "stdout",
     "output_type": "stream",
     "text": [
      "Name is aman\n"
     ]
    }
   ],
   "source": [
    "p()"
   ]
  },
  {
   "cell_type": "code",
   "execution_count": 99,
   "id": "67584249",
   "metadata": {},
   "outputs": [],
   "source": [
    "class Decorator:\n",
    "    def __init__(self, func):\n",
    "            self.func = func\n",
    "    \n",
    "    def __call__(self):\n",
    "        str1 = self.func()\n",
    "        return str1.upper()\n",
    "@Decorator\n",
    "def greet():\n",
    "    return \"good morning\"\n"
   ]
  },
  {
   "cell_type": "code",
   "execution_count": 100,
   "id": "10c3093c",
   "metadata": {},
   "outputs": [
    {
     "data": {
      "text/plain": [
       "'GOOD MORNING'"
      ]
     },
     "execution_count": 100,
     "metadata": {},
     "output_type": "execute_result"
    }
   ],
   "source": [
    "greet()"
   ]
  },
  {
   "cell_type": "code",
   "execution_count": 111,
   "id": "e0e156f8",
   "metadata": {},
   "outputs": [
    {
     "name": "stdout",
     "output_type": "stream",
     "text": [
      "10.0\n",
      "You cant divide change the input\n"
     ]
    }
   ],
   "source": [
    "class CheckDivision:\n",
    "    def __init__(self, func):\n",
    "        self.func = func\n",
    "    \n",
    "    def __call__(self, *args, **kwargs):\n",
    "        list1 = list(args[1:])\n",
    "        for i in list1:\n",
    "            if i == 0:\n",
    "                return \"You cant divide change the input\"\n",
    "        \n",
    "        else:\n",
    "            return self.func(*args, **kwargs)\n",
    "\n",
    "@CheckDivision\n",
    "def div(a, b):\n",
    "    return a / b\n",
    "\n",
    "@CheckDivision\n",
    "def div1(a, b, c):\n",
    "    return a / b / c\n",
    "\n",
    "print(div(10, 1))\n",
    "print(div1(10, 1, 0))"
   ]
  },
  {
   "cell_type": "code",
   "execution_count": null,
   "id": "0e59b1ab",
   "metadata": {},
   "outputs": [],
   "source": []
  },
  {
   "cell_type": "code",
   "execution_count": 126,
   "id": "87d08214",
   "metadata": {},
   "outputs": [
    {
     "name": "stdout",
     "output_type": "stream",
     "text": [
      "Aman\n",
      "A\n",
      "Aman got grade A\n"
     ]
    }
   ],
   "source": [
    "class Students:\n",
    "    def __init__(self, name, grade):\n",
    "        self.name = name\n",
    "        self.grade = grade\n",
    "    \n",
    "    @property\n",
    "    def msg(self):\n",
    "        return self.name + \" got grade \" + self.grade\n",
    "    \n",
    "    @msg.setter\n",
    "    def msg(self, msg):\n",
    "        sent = msg.split(\" \")\n",
    "        self.name = sent[0]\n",
    "        self.grade = sent[-1]\n",
    "    \n",
    "stu = Students(\"Aman\", \"B\")\n",
    "stu.msg = \"Aman got grade A\"\n",
    "print(stu.name)\n",
    "print(stu.grade)\n",
    "print(stu.msg)"
   ]
  },
  {
   "cell_type": "code",
   "execution_count": 137,
   "id": "29823f28",
   "metadata": {},
   "outputs": [],
   "source": [
    "\n",
    "class Student:\n",
    "    def __init__(self, marks):\n",
    "        self.__marks = marks\n",
    "        \n",
    "    def percent(self):\n",
    "        return (self.__marks / 600) * 100\n",
    "    \n",
    "    @property\n",
    "    def marks(self):\n",
    "        return self.__marks\n",
    "    \n",
    "    @marks.setter\n",
    "    def marks(self, value) :\n",
    "        if value < 0 or value > 600:\n",
    "            print (\"can't set value stick to previous value!!!\")\n",
    "        else:\n",
    "            print (\"setting value:\", value)\n",
    "            self.__marks = value\n"
   ]
  },
  {
   "cell_type": "code",
   "execution_count": 140,
   "id": "ec2dafb4",
   "metadata": {},
   "outputs": [],
   "source": [
    "\n",
    "class Student:\n",
    "    def __init__(self, marks):\n",
    "        self.__marks = marks\n",
    "        \n",
    "    def percent(self):\n",
    "        return (self.__marks / 600) * 100\n",
    "    \n",
    "    def getter(self):\n",
    "        return self.__marks\n",
    "    \n",
    "    def setter(self, value) :\n",
    "        if value < 0 or value > 600:\n",
    "            print (\"can't set value stick to previous value!!!\")\n",
    "        else:\n",
    "            print (\"setting value:\", value)\n",
    "            self.__marks = value\n",
    "            \n",
    "    marks = property(getter, setter)"
   ]
  },
  {
   "cell_type": "code",
   "execution_count": 142,
   "id": "41b8bdb0",
   "metadata": {},
   "outputs": [
    {
     "name": "stdout",
     "output_type": "stream",
     "text": [
      "setting value: 401\n",
      "401\n",
      "66.83333333333333 %\n"
     ]
    }
   ],
   "source": [
    "s = Student(400)\n",
    "s.marks = 401\n",
    "print(s.marks)\n",
    "print(s.percent(),\"%\")"
   ]
  },
  {
   "cell_type": "code",
   "execution_count": 143,
   "id": "80d54c08",
   "metadata": {},
   "outputs": [],
   "source": [
    "from dataclasses import dataclass\n",
    "\n",
    "@dataclass\n",
    "class Person:\n",
    "    name: str\n",
    "    age: int\n",
    "\n",
    "obj1 = Person(\"Aman\", 23)"
   ]
  },
  {
   "cell_type": "code",
   "execution_count": 144,
   "id": "d21e3c8d",
   "metadata": {},
   "outputs": [
    {
     "data": {
      "text/plain": [
       "'Aman'"
      ]
     },
     "execution_count": 144,
     "metadata": {},
     "output_type": "execute_result"
    }
   ],
   "source": [
    "obj1.name"
   ]
  },
  {
   "cell_type": "code",
   "execution_count": 145,
   "id": "a913ef1e",
   "metadata": {},
   "outputs": [
    {
     "data": {
      "text/plain": [
       "23"
      ]
     },
     "execution_count": 145,
     "metadata": {},
     "output_type": "execute_result"
    }
   ],
   "source": [
    "obj1.age"
   ]
  },
  {
   "cell_type": "code",
   "execution_count": 146,
   "id": "903235d7",
   "metadata": {},
   "outputs": [
    {
     "data": {
      "text/plain": [
       "Person(name='Aman', age=23)"
      ]
     },
     "execution_count": 146,
     "metadata": {},
     "output_type": "execute_result"
    }
   ],
   "source": [
    "obj1"
   ]
  },
  {
   "cell_type": "code",
   "execution_count": 148,
   "id": "7b4d4638",
   "metadata": {},
   "outputs": [],
   "source": [
    "@dataclass\n",
    "class Person:\n",
    "    name: str\n",
    "    age: int\n",
    "    profession:str = \"AI\"\n",
    "    \n",
    "obj1 = Person(\"Aman\", 23)"
   ]
  },
  {
   "cell_type": "code",
   "execution_count": 149,
   "id": "2d0dc4b8",
   "metadata": {},
   "outputs": [
    {
     "data": {
      "text/plain": [
       "Person(name='Aman', age=23, profession='AI')"
      ]
     },
     "execution_count": 149,
     "metadata": {},
     "output_type": "execute_result"
    }
   ],
   "source": [
    "obj1"
   ]
  },
  {
   "cell_type": "code",
   "execution_count": 150,
   "id": "cab08401",
   "metadata": {},
   "outputs": [
    {
     "name": "stdout",
     "output_type": "stream",
     "text": [
      "Point(x=3, y=4)\n"
     ]
    }
   ],
   "source": [
    "## Immutable class\n",
    "\n",
    "@dataclass(frozen=True)\n",
    "class Point:\n",
    "    x: int\n",
    "    y: int\n",
    "\n",
    "point = Point(3, 4)\n",
    "print(point)\n"
   ]
  },
  {
   "cell_type": "code",
   "execution_count": 151,
   "id": "5fdcf08b",
   "metadata": {},
   "outputs": [
    {
     "ename": "FrozenInstanceError",
     "evalue": "cannot assign to field 'x'",
     "output_type": "error",
     "traceback": [
      "\u001b[1;31m---------------------------------------------------------------------------\u001b[0m",
      "\u001b[1;31mFrozenInstanceError\u001b[0m                       Traceback (most recent call last)",
      "Cell \u001b[1;32mIn[151], line 1\u001b[0m\n\u001b[1;32m----> 1\u001b[0m \u001b[43mpoint\u001b[49m\u001b[38;5;241;43m.\u001b[39;49m\u001b[43mx\u001b[49m \u001b[38;5;241m=\u001b[39m \u001b[38;5;241m3.5\u001b[39m\n",
      "File \u001b[1;32m<string>:4\u001b[0m, in \u001b[0;36m__setattr__\u001b[1;34m(self, name, value)\u001b[0m\n",
      "\u001b[1;31mFrozenInstanceError\u001b[0m: cannot assign to field 'x'"
     ]
    }
   ],
   "source": [
    "point.x = 3.5"
   ]
  },
  {
   "cell_type": "code",
   "execution_count": 154,
   "id": "a03c96a4",
   "metadata": {},
   "outputs": [],
   "source": [
    "# Inheritance\n",
    "@dataclass\n",
    "class Person:\n",
    "    name: str\n",
    "    age: int\n",
    "\n",
    "@dataclass\n",
    "class Employee(Person):\n",
    "    employee_id: str\n",
    "    department: str"
   ]
  },
  {
   "cell_type": "code",
   "execution_count": 153,
   "id": "a404c998",
   "metadata": {},
   "outputs": [],
   "source": [
    "p1 = Person(\"Aman\", 23)"
   ]
  },
  {
   "cell_type": "code",
   "execution_count": 156,
   "id": "57cb25dc",
   "metadata": {},
   "outputs": [],
   "source": [
    "e1 = Employee(\"Aman\", 23, \"12231\", \"AI\")"
   ]
  },
  {
   "cell_type": "code",
   "execution_count": 157,
   "id": "8de53e75",
   "metadata": {},
   "outputs": [
    {
     "data": {
      "text/plain": [
       "Employee(name='Aman', age=23, employee_id='12231', department='AI')"
      ]
     },
     "execution_count": 157,
     "metadata": {},
     "output_type": "execute_result"
    }
   ],
   "source": [
    "e1"
   ]
  },
  {
   "cell_type": "code",
   "execution_count": 159,
   "id": "61118c32",
   "metadata": {},
   "outputs": [],
   "source": [
    "#nested data class\n",
    "\n",
    "@dataclass\n",
    "class Address:\n",
    "    street: str\n",
    "    city: str\n",
    "    zip_code: str\n",
    "\n",
    "\n",
    "@dataclass\n",
    "class Person:\n",
    "    name: str\n",
    "    age: str\n",
    "    address: Address\n"
   ]
  },
  {
   "cell_type": "code",
   "execution_count": 163,
   "id": "f3613ffd",
   "metadata": {},
   "outputs": [],
   "source": [
    "p11 = Address(\"041\", \"MUM\", \"00051\")\n",
    "p12 = Person(\"Aman\", 21, p11)"
   ]
  },
  {
   "cell_type": "code",
   "execution_count": 164,
   "id": "990f2c99",
   "metadata": {},
   "outputs": [
    {
     "data": {
      "text/plain": [
       "Person(name='Aman', age=21, address=Address(street='041', city='MUM', zip_code='00051'))"
      ]
     },
     "execution_count": 164,
     "metadata": {},
     "output_type": "execute_result"
    }
   ],
   "source": [
    "p12"
   ]
  },
  {
   "cell_type": "code",
   "execution_count": null,
   "id": "1b03c4e2",
   "metadata": {},
   "outputs": [],
   "source": []
  }
 ],
 "metadata": {
  "kernelspec": {
   "display_name": "Python 3 (ipykernel)",
   "language": "python",
   "name": "python3"
  },
  "language_info": {
   "codemirror_mode": {
    "name": "ipython",
    "version": 3
   },
   "file_extension": ".py",
   "mimetype": "text/x-python",
   "name": "python",
   "nbconvert_exporter": "python",
   "pygments_lexer": "ipython3",
   "version": "3.10.10"
  }
 },
 "nbformat": 4,
 "nbformat_minor": 5
}
