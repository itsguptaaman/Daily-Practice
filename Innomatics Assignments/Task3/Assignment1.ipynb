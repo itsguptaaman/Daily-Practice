{
 "cells": [
  {
   "cell_type": "code",
   "execution_count": 1,
   "id": "9a142e3a",
   "metadata": {},
   "outputs": [],
   "source": [
    "# Polar cordinates"
   ]
  },
  {
   "cell_type": "code",
   "execution_count": 9,
   "id": "49434549",
   "metadata": {
    "scrolled": true
   },
   "outputs": [
    {
     "name": "stdout",
     "output_type": "stream",
     "text": [
      "1+2j\n"
     ]
    }
   ],
   "source": [
    "from cmath import phase\n",
    "inp = complex(input())"
   ]
  },
  {
   "cell_type": "code",
   "execution_count": 11,
   "id": "3b7d7348",
   "metadata": {},
   "outputs": [
    {
     "name": "stdout",
     "output_type": "stream",
     "text": [
      "1.2257782833130983\n"
     ]
    }
   ],
   "source": [
    "print(phase(inp))"
   ]
  },
  {
   "cell_type": "code",
   "execution_count": 12,
   "id": "73cfc7fc",
   "metadata": {},
   "outputs": [],
   "source": [
    "r = inp.real + inp.imag"
   ]
  },
  {
   "cell_type": "code",
   "execution_count": 14,
   "id": "4671fc62",
   "metadata": {},
   "outputs": [
    {
     "data": {
      "text/plain": [
       "0.0"
      ]
     },
     "execution_count": 14,
     "metadata": {},
     "output_type": "execute_result"
    }
   ],
   "source": [
    "phase(r*2)"
   ]
  },
  {
   "cell_type": "code",
   "execution_count": null,
   "id": "9f4aacf5",
   "metadata": {},
   "outputs": [],
   "source": []
  }
 ],
 "metadata": {
  "kernelspec": {
   "display_name": "Python 3 (ipykernel)",
   "language": "python",
   "name": "python3"
  },
  "language_info": {
   "codemirror_mode": {
    "name": "ipython",
    "version": 3
   },
   "file_extension": ".py",
   "mimetype": "text/x-python",
   "name": "python",
   "nbconvert_exporter": "python",
   "pygments_lexer": "ipython3",
   "version": "3.9.12"
  }
 },
 "nbformat": 4,
 "nbformat_minor": 5
}
