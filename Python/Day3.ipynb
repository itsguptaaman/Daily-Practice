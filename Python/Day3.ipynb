{
 "cells": [
  {
   "cell_type": "code",
   "execution_count": 1,
   "id": "f1efc60b",
   "metadata": {},
   "outputs": [],
   "source": [
    "# Instance variable vs class variable"
   ]
  },
  {
   "cell_type": "code",
   "execution_count": 2,
   "id": "e0ea180e",
   "metadata": {},
   "outputs": [
    {
     "name": "stdout",
     "output_type": "stream",
     "text": [
      "The name of the Employee is Aman and raise amount in Apple is 0.02 and numer of empley in company is 1\n"
     ]
    }
   ],
   "source": [
    "class Employee:\n",
    "    \n",
    "    company_name = \"Apple\"\n",
    "    no_of_employe = 0\n",
    "    \n",
    "    def __init__(self, name):\n",
    "        self.name = name\n",
    "        self.raise_amout = 0.02\n",
    "        Employee.no_of_employe += 1\n",
    "        \n",
    "    def showDetails(self):\n",
    "        print(f\"The name of the Employee is {self.name} and raise amount in {self.company_name} is {self.raise_amout} and numer of empley in company is {self.no_of_employe}\")\n",
    "\n",
    "emp1 = Employee(\"Aman\")\n",
    "emp1.showDetails()\n",
    "Employee.company_name = \"Google\""
   ]
  },
  {
   "cell_type": "code",
   "execution_count": 3,
   "id": "d10ab369",
   "metadata": {},
   "outputs": [
    {
     "name": "stdout",
     "output_type": "stream",
     "text": [
      "The name of the Employee is Aman and raise amount in Apple India is 0.5 and numer of empley in company is 1\n"
     ]
    }
   ],
   "source": [
    "# emp1.showDetails() This is converted to\n",
    "emp1.raise_amout = 0.5\n",
    "emp1.company_name = \"Apple India\"\n",
    "Employee.showDetails(emp1)"
   ]
  },
  {
   "cell_type": "code",
   "execution_count": 4,
   "id": "f0cbc6e3",
   "metadata": {},
   "outputs": [
    {
     "name": "stdout",
     "output_type": "stream",
     "text": [
      "The name of the Employee is Nikhil and raise amount in Google is 0.02 and numer of empley in company is 2\n"
     ]
    }
   ],
   "source": [
    "emp2 = Employee(\"Nikhil\")\n",
    "emp2.showDetails()"
   ]
  },
  {
   "cell_type": "code",
   "execution_count": 5,
   "id": "6cf593c1",
   "metadata": {},
   "outputs": [],
   "source": [
    "# Class method"
   ]
  },
  {
   "cell_type": "code",
   "execution_count": 10,
   "id": "b555ddfb",
   "metadata": {},
   "outputs": [
    {
     "name": "stdout",
     "output_type": "stream",
     "text": [
      "The name is Aman and company is Apple\n",
      "The name is Aman and company is Tesla\n"
     ]
    }
   ],
   "source": [
    "class Employee:\n",
    "    company = \"Apple\"\n",
    "    \n",
    "    def show(self):\n",
    "        print(f\"The name is {self.name} and company is {self.company}\")\n",
    "    \n",
    "    @classmethod\n",
    "    def changeCompany(cls, newCompany):\n",
    "         cls.company = newCompany\n",
    "e1 = Employee()\n",
    "e1.name = \"Aman\"\n",
    "e1.show()\n",
    "e1.changeCompany(\"Tesla\")\n",
    "e1.show()"
   ]
  },
  {
   "cell_type": "code",
   "execution_count": 11,
   "id": "06acc5bf",
   "metadata": {},
   "outputs": [
    {
     "data": {
      "text/plain": [
       "'Tesla'"
      ]
     },
     "execution_count": 11,
     "metadata": {},
     "output_type": "execute_result"
    }
   ],
   "source": [
    "Employee.company"
   ]
  },
  {
   "cell_type": "code",
   "execution_count": null,
   "id": "7a1489d6",
   "metadata": {},
   "outputs": [],
   "source": []
  },
  {
   "cell_type": "code",
   "execution_count": null,
   "id": "318c6725",
   "metadata": {},
   "outputs": [],
   "source": []
  }
 ],
 "metadata": {
  "kernelspec": {
   "display_name": "Python 3 (ipykernel)",
   "language": "python",
   "name": "python3"
  },
  "language_info": {
   "codemirror_mode": {
    "name": "ipython",
    "version": 3
   },
   "file_extension": ".py",
   "mimetype": "text/x-python",
   "name": "python",
   "nbconvert_exporter": "python",
   "pygments_lexer": "ipython3",
   "version": "3.10.10"
  }
 },
 "nbformat": 4,
 "nbformat_minor": 5
}
