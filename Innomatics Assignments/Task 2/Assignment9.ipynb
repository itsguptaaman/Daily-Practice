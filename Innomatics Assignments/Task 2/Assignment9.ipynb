{
 "cells": [
  {
   "cell_type": "code",
   "execution_count": 1,
   "id": "ce9e13f3",
   "metadata": {},
   "outputs": [
    {
     "name": "stdout",
     "output_type": "stream",
     "text": [
      "5\n",
      "1 2 3 6 5 4 4 2 5 3 6 1 6 5 3 2 4 1 2 5 1 4 3 6 8 4 3 1 5 6 2 \n"
     ]
    }
   ],
   "source": [
    "N = int(input())\n",
    "\n",
    "storage = map(int, input().split())\n",
    "storage = sorted(storage)"
   ]
  },
  {
   "cell_type": "code",
   "execution_count": 2,
   "id": "20d5e32f",
   "metadata": {},
   "outputs": [
    {
     "name": "stdout",
     "output_type": "stream",
     "text": [
      "8\n"
     ]
    }
   ],
   "source": [
    "for i in range(len(storage)):\n",
    "    if(i != len(storage) - 1):\n",
    "        if(storage[i] != storage[i - 1] and storage[i] != storage[i + 1]):\n",
    "            print(storage[i])\n",
    "            break\n",
    "    else:\n",
    "        print(storage[i])"
   ]
  },
  {
   "cell_type": "code",
   "execution_count": null,
   "id": "5df2d1ff",
   "metadata": {},
   "outputs": [],
   "source": []
  },
  {
   "cell_type": "code",
   "execution_count": null,
   "id": "a5c0e694",
   "metadata": {},
   "outputs": [],
   "source": []
  }
 ],
 "metadata": {
  "kernelspec": {
   "display_name": "Python 3 (ipykernel)",
   "language": "python",
   "name": "python3"
  },
  "language_info": {
   "codemirror_mode": {
    "name": "ipython",
    "version": 3
   },
   "file_extension": ".py",
   "mimetype": "text/x-python",
   "name": "python",
   "nbconvert_exporter": "python",
   "pygments_lexer": "ipython3",
   "version": "3.9.12"
  }
 },
 "nbformat": 4,
 "nbformat_minor": 5
}
