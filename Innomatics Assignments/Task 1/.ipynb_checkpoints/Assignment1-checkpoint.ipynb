{
 "cells": [
  {
   "cell_type": "markdown",
   "id": "89b0ce9f",
   "metadata": {},
   "source": [
    "### Hello world program\n",
    "Sample Output 0 <br>\n",
    "`Hello, World!`"
   ]
  },
  {
   "cell_type": "code",
   "execution_count": 1,
   "id": "05e09c02",
   "metadata": {},
   "outputs": [
    {
     "name": "stdout",
     "output_type": "stream",
     "text": [
      "Hello, World!\n"
     ]
    }
   ],
   "source": [
    "if __name__ == '__main__':\n",
    "    my_string = \"Hello, World!\"\n",
    "    print(my_string)"
   ]
  },
  {
   "cell_type": "code",
   "execution_count": null,
   "id": "3d67314b",
   "metadata": {},
   "outputs": [],
   "source": []
  }
 ],
 "metadata": {
  "kernelspec": {
   "display_name": "Python 3 (ipykernel)",
   "language": "python",
   "name": "python3"
  },
  "language_info": {
   "codemirror_mode": {
    "name": "ipython",
    "version": 3
   },
   "file_extension": ".py",
   "mimetype": "text/x-python",
   "name": "python",
   "nbconvert_exporter": "python",
   "pygments_lexer": "ipython3",
   "version": "3.9.12"
  }
 },
 "nbformat": 4,
 "nbformat_minor": 5
}
