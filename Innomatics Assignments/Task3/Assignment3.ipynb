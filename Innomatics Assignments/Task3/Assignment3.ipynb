{
 "cells": [
  {
   "cell_type": "code",
   "execution_count": null,
   "id": "00c7088c",
   "metadata": {},
   "outputs": [],
   "source": []
  },
  {
   "cell_type": "code",
   "execution_count": 2,
   "id": "730597f2",
   "metadata": {},
   "outputs": [
    {
     "name": "stdout",
     "output_type": "stream",
     "text": [
      "177\n",
      "10\n",
      "17\n",
      "7\n"
     ]
    }
   ],
   "source": [
    "def rem(a, b):\n",
    "    return a % b\n",
    "\n",
    "x = int(input())\n",
    "y = int(input())\n",
    "z = x // y\n",
    "result = rem(x, y)\n",
    "print(z)\n",
    "print(result)\n",
    "print(tuple(re))"
   ]
  },
  {
   "cell_type": "code",
   "execution_count": null,
   "id": "97d884c6",
   "metadata": {},
   "outputs": [],
   "source": []
  }
 ],
 "metadata": {
  "kernelspec": {
   "display_name": "Python 3 (ipykernel)",
   "language": "python",
   "name": "python3"
  },
  "language_info": {
   "codemirror_mode": {
    "name": "ipython",
    "version": 3
   },
   "file_extension": ".py",
   "mimetype": "text/x-python",
   "name": "python",
   "nbconvert_exporter": "python",
   "pygments_lexer": "ipython3",
   "version": "3.9.12"
  }
 },
 "nbformat": 4,
 "nbformat_minor": 5
}
