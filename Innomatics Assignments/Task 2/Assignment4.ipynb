{
 "cells": [
  {
   "cell_type": "markdown",
   "id": "13e9245e",
   "metadata": {},
   "source": [
    "### List"
   ]
  },
  {
   "cell_type": "code",
   "execution_count": null,
   "id": "3f5ff43d",
   "metadata": {},
   "outputs": [
    {
     "name": "stdout",
     "output_type": "stream",
     "text": [
      "12\n",
      "insert 0 5\n",
      "insert 1 10\n",
      "insert 0 6\n",
      "print\n",
      "[6, 5, 10]\n",
      "remove 6\n",
      "append 9\n",
      "append 1\n",
      "sort\n",
      "print\n",
      "[1, 5, 9, 10]\n",
      "reverse\n",
      "print\n",
      "[10, 9, 5, 1]\n"
     ]
    }
   ],
   "source": [
    "if __name__ == '__main__':\n",
    "    N = int(input())\n",
    "    l = []\n",
    "    for i in range(N):\n",
    "        inp = input()\n",
    "        li = inp.split()\n",
    "\n",
    "        if li[0] == \"insert\":\n",
    "            l.insert(int(li[1]), int(li[2]))\n",
    "        elif li[0] == \"print\":\n",
    "            print(l)\n",
    "        elif li[0] == \"remove\":\n",
    "            l.remove(int(li[1]))\n",
    "        elif li[0] == \"append\":\n",
    "            l.append(int(li[1]))\n",
    "        elif li[0] == \"sort\":\n",
    "            l.sort()\n",
    "        elif li[0] == \"pop\":\n",
    "            l.pop()\n",
    "        elif li[0] == \"reverse\":\n",
    "            l.reverse()\n",
    "    "
   ]
  },
  {
   "cell_type": "code",
   "execution_count": 5,
   "id": "c2ee5f55",
   "metadata": {},
   "outputs": [
    {
     "name": "stdout",
     "output_type": "stream",
     "text": [
      "inset 1 2\n",
      "['inset', '1', '2']\n"
     ]
    }
   ],
   "source": [
    "for i in range(N):\n",
    "    inp = input()\n",
    "    li = inp.split()\n",
    "    print(li)\n",
    "    if li[0] == \"insert\":\n",
    "        l.insert(int(li[1]), int(li[2]))\n",
    "    elif li[0] == \"print\":\n",
    "        print(l)\n",
    "    elif li[0] == \"remove\":\n",
    "        l.remove(int(li[1]), int(li[2]))\n",
    "    elif li[0] == \"append\":\n",
    "        l.append(int(li[1]), int(li[2]))\n",
    "    elif li[0] == \"sort\":\n",
    "        l.sort()\n",
    "    elif li[0] == \"pop\":\n",
    "        l.pop(int(li[1]), int(li[2]))\n",
    "    elif li[0] == \"reverse\":\n",
    "        l.reverse()\n",
    "    "
   ]
  },
  {
   "cell_type": "code",
   "execution_count": null,
   "id": "a9721455",
   "metadata": {},
   "outputs": [],
   "source": []
  }
 ],
 "metadata": {
  "kernelspec": {
   "display_name": "Python 3 (ipykernel)",
   "language": "python",
   "name": "python3"
  },
  "language_info": {
   "codemirror_mode": {
    "name": "ipython",
    "version": 3
   },
   "file_extension": ".py",
   "mimetype": "text/x-python",
   "name": "python",
   "nbconvert_exporter": "python",
   "pygments_lexer": "ipython3",
   "version": "3.9.12"
  }
 },
 "nbformat": 4,
 "nbformat_minor": 5
}
