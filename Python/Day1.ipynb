{
 "cells": [
  {
   "cell_type": "code",
   "execution_count": 1,
   "id": "89ffe9f7",
   "metadata": {},
   "outputs": [
    {
     "name": "stdout",
     "output_type": "stream",
     "text": [
      "Python 3.10.10\n"
     ]
    }
   ],
   "source": [
    "!python --version"
   ]
  },
  {
   "cell_type": "code",
   "execution_count": 2,
   "id": "913af0ec",
   "metadata": {},
   "outputs": [
    {
     "name": "stdout",
     "output_type": "stream",
     "text": [
      "Enter the value of x :3\n",
      "X is 3\n"
     ]
    }
   ],
   "source": [
    "# Match case in python\n",
    "\n",
    "x = int(input(\"Enter the value of x :\"))\n",
    "match x:\n",
    "      case 1:\n",
    "        print(\"X is 2\")\n",
    "\n",
    "      case 2:\n",
    "        print(\"X is 2\")\n",
    "\n",
    "      case 3:\n",
    "        print(\"X is 3\")\n",
    "\n",
    "      case 4:\n",
    "        print(\"X is 4\")\n",
    "\n",
    "      case _ if x < 10:\n",
    "        print(\"X is < 10\")\n",
    "\n",
    "      case _ if x!=90:\n",
    "        print(x, \"is not 90\")\n",
    "\n",
    "      case _ if x!=80:\n",
    "        print(x)\n"
   ]
  },
  {
   "cell_type": "code",
   "execution_count": 3,
   "id": "3d899bd1",
   "metadata": {},
   "outputs": [
    {
     "name": "stdout",
     "output_type": "stream",
     "text": [
      "0\n",
      "1\n",
      "2\n",
      "3\n",
      "4\n"
     ]
    }
   ],
   "source": [
    "# For else in python\n",
    "for i in range(6):\n",
    "  print(i)\n",
    "  if i == 4:\n",
    "    break\n",
    "\n",
    "else:\n",
    "  print(\"This will print in end\")"
   ]
  },
  {
   "cell_type": "code",
   "execution_count": 4,
   "id": "fcb2686a",
   "metadata": {},
   "outputs": [
    {
     "name": "stdout",
     "output_type": "stream",
     "text": [
      "0\n",
      "1\n",
      "2\n",
      "3\n",
      "4\n",
      "5\n",
      "This will print in end\n"
     ]
    }
   ],
   "source": [
    "for i in range(6):\n",
    "  print(i)\n",
    "\n",
    "else:\n",
    "  print(\"This will print in end\")"
   ]
  },
  {
   "cell_type": "code",
   "execution_count": 5,
   "id": "d20308cc",
   "metadata": {},
   "outputs": [
    {
     "name": "stdout",
     "output_type": "stream",
     "text": [
      "0\n",
      "1\n",
      "2\n",
      "3\n",
      "4\n"
     ]
    }
   ],
   "source": [
    "# While else loop\n",
    "i = 0\n",
    "while i < 7:\n",
    "  print(i)\n",
    "  if i == 4:\n",
    "    break\n",
    "  i +=1\n",
    "\n",
    "else:\n",
    "  print(\"This will print in end\")"
   ]
  },
  {
   "cell_type": "code",
   "execution_count": 6,
   "id": "5ea5db53",
   "metadata": {},
   "outputs": [
    {
     "name": "stdout",
     "output_type": "stream",
     "text": [
      "0\n",
      "1\n",
      "2\n",
      "3\n",
      "4\n",
      "5\n",
      "6\n",
      "This will print in end\n"
     ]
    }
   ],
   "source": [
    "i = 0\n",
    "while i < 7:\n",
    "  print(i)\n",
    "  i +=1\n",
    "\n",
    "else:\n",
    "  print(\"This will print in end\")"
   ]
  },
  {
   "cell_type": "code",
   "execution_count": 7,
   "id": "ae7c14c0",
   "metadata": {},
   "outputs": [
    {
     "name": "stdout",
     "output_type": "stream",
     "text": [
      "Enter the number:5\n",
      "Table of 5 is \n",
      "--------------------\n",
      "5 x 1 = 5\n",
      "5 x 2 = 10\n",
      "5 x 3 = 15\n",
      "5 x 4 = 20\n",
      "5 x 5 = 25\n",
      "5 x 6 = 30\n",
      "5 x 7 = 35\n",
      "5 x 8 = 40\n",
      "5 x 9 = 45\n",
      "5 x 10 = 50\n",
      "--------------------\n",
      "End of program\n"
     ]
    }
   ],
   "source": [
    "# Exception Handelling\n",
    "try:\n",
    "    a = int(input(\"Enter the number:\"))\n",
    "    print(f\"Table of {a} is \")\n",
    "    print(\"-\" * 20)\n",
    "    for i in range(1, 11):\n",
    "        print(f\"{a} x {i} = {i * a}\")       \n",
    "    print(\"-\" * 20)\n",
    "except:\n",
    "    print(\"Input is not valid\")\n",
    "    \n",
    "print(\"End of program\")"
   ]
  },
  {
   "cell_type": "code",
   "execution_count": 9,
   "id": "02e04368",
   "metadata": {},
   "outputs": [
    {
     "name": "stdout",
     "output_type": "stream",
     "text": [
      "Enter the number:\n",
      "Input is not valid\n",
      "I am always executed\n"
     ]
    }
   ],
   "source": [
    "# Exception Handelling and finally\n",
    "try:\n",
    "    a = int(input(\"Enter the number:\"))\n",
    "    print(f\"Table of {a} is \")\n",
    "    print(\"-\" * 20)\n",
    "    for i in range(1, 11):\n",
    "        print(f\"{a} x {i} = {i * a}\")       \n",
    "    print(\"-\" * 20)\n",
    "except:\n",
    "    print(\"Input is not valid\")\n",
    "\n",
    "finally:\n",
    "    print(\"I am always executed\")"
   ]
  },
  {
   "cell_type": "code",
   "execution_count": 12,
   "id": "16279b43",
   "metadata": {},
   "outputs": [
    {
     "name": "stdout",
     "output_type": "stream",
     "text": [
      "Enter the index: 5\n",
      "Some error occurred\n",
      "I am always executed\n"
     ]
    }
   ],
   "source": [
    "def func1():\n",
    "    try:\n",
    "        l = [1, 5, 6, 7]\n",
    "        i = int(input(\"Enter the index: \"))\n",
    "        print(l[i])\n",
    "        return 1\n",
    "    except:\n",
    "        print( \"Some error occurred\")\n",
    "        return 0\n",
    "    finally:\n",
    "        print(\"I am always executed\")\n",
    "  # print(\"I am always executed\")\n",
    "x = func1()"
   ]
  },
  {
   "cell_type": "code",
   "execution_count": 16,
   "id": "7ba1555b",
   "metadata": {},
   "outputs": [
    {
     "name": "stdout",
     "output_type": "stream",
     "text": [
      "Enter any value between 5 and 9 :10\n"
     ]
    },
    {
     "ename": "ValueError",
     "evalue": "Value should be between 5 and 9",
     "output_type": "error",
     "traceback": [
      "\u001b[1;31m---------------------------------------------------------------------------\u001b[0m",
      "\u001b[1;31mValueError\u001b[0m                                Traceback (most recent call last)",
      "Cell \u001b[1;32mIn[16], line 4\u001b[0m\n\u001b[0;32m      2\u001b[0m a \u001b[38;5;241m=\u001b[39m \u001b[38;5;28mint\u001b[39m(\u001b[38;5;28minput\u001b[39m(\u001b[38;5;124m\"\u001b[39m\u001b[38;5;124mEnter any value between 5 and 9 :\u001b[39m\u001b[38;5;124m\"\u001b[39m))\n\u001b[0;32m      3\u001b[0m \u001b[38;5;28;01mif\u001b[39;00m a \u001b[38;5;241m>\u001b[39m \u001b[38;5;241m5\u001b[39m \u001b[38;5;129;01mor\u001b[39;00m a \u001b[38;5;241m<\u001b[39m \u001b[38;5;241m9\u001b[39m:\n\u001b[1;32m----> 4\u001b[0m     \u001b[38;5;28;01mraise\u001b[39;00m \u001b[38;5;167;01mValueError\u001b[39;00m(\u001b[38;5;124m\"\u001b[39m\u001b[38;5;124mValue should be between 5 and 9\u001b[39m\u001b[38;5;124m\"\u001b[39m)\n",
      "\u001b[1;31mValueError\u001b[0m: Value should be between 5 and 9"
     ]
    }
   ],
   "source": [
    "# Custom Errors\n",
    "a = int(input(\"Enter any value between 5 and 9 :\"))\n",
    "if a > 5 or a < 9:\n",
    "    raise ValueError(\"Value should be between 5 and 9\")"
   ]
  },
  {
   "cell_type": "code",
   "execution_count": null,
   "id": "296b4ad6",
   "metadata": {},
   "outputs": [],
   "source": []
  },
  {
   "cell_type": "code",
   "execution_count": null,
   "id": "f3f5192c",
   "metadata": {},
   "outputs": [],
   "source": []
  },
  {
   "cell_type": "code",
   "execution_count": null,
   "id": "ce35fceb",
   "metadata": {},
   "outputs": [],
   "source": []
  }
 ],
 "metadata": {
  "kernelspec": {
   "display_name": "Python 3 (ipykernel)",
   "language": "python",
   "name": "python3"
  },
  "language_info": {
   "codemirror_mode": {
    "name": "ipython",
    "version": 3
   },
   "file_extension": ".py",
   "mimetype": "text/x-python",
   "name": "python",
   "nbconvert_exporter": "python",
   "pygments_lexer": "ipython3",
   "version": "3.10.10"
  }
 },
 "nbformat": 4,
 "nbformat_minor": 5
}
