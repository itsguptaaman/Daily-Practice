{
 "cells": [
  {
   "cell_type": "markdown",
   "id": "ca83ee30",
   "metadata": {},
   "source": [
    "### Numpy :- Problem Solving "
   ]
  },
  {
   "cell_type": "code",
   "execution_count": 1,
   "id": "9591c277",
   "metadata": {},
   "outputs": [],
   "source": [
    "import numpy as np"
   ]
  },
  {
   "cell_type": "code",
   "execution_count": 2,
   "id": "d33252ef",
   "metadata": {},
   "outputs": [
    {
     "data": {
      "text/plain": [
       "(2, 3)"
      ]
     },
     "execution_count": 2,
     "metadata": {},
     "output_type": "execute_result"
    }
   ],
   "source": [
    "arr1 = np.array([[1, 2, 3], [4, 5, 6]])\n",
    "arr1.shape"
   ]
  },
  {
   "cell_type": "code",
   "execution_count": 3,
   "id": "8d3b156f",
   "metadata": {},
   "outputs": [
    {
     "data": {
      "text/plain": [
       "(3,)"
      ]
     },
     "execution_count": 3,
     "metadata": {},
     "output_type": "execute_result"
    }
   ],
   "source": [
    "arr2 = np.array([0, 1, 0])\n",
    "arr2.shape"
   ]
  },
  {
   "cell_type": "code",
   "execution_count": 4,
   "id": "c280590b",
   "metadata": {},
   "outputs": [
    {
     "data": {
      "text/plain": [
       "array([[1, 3, 3],\n",
       "       [4, 6, 6]])"
      ]
     },
     "execution_count": 4,
     "metadata": {},
     "output_type": "execute_result"
    }
   ],
   "source": [
    "arr1 + arr2"
   ]
  },
  {
   "cell_type": "code",
   "execution_count": 5,
   "id": "2b3fac2a",
   "metadata": {
    "scrolled": true
   },
   "outputs": [
    {
     "data": {
      "text/plain": [
       "array([[2, 3, 4],\n",
       "       [5, 6, 7]])"
      ]
     },
     "execution_count": 5,
     "metadata": {},
     "output_type": "execute_result"
    }
   ],
   "source": [
    "arr1 + [1]"
   ]
  },
  {
   "cell_type": "code",
   "execution_count": 6,
   "id": "814fb1bb",
   "metadata": {},
   "outputs": [
    {
     "ename": "ValueError",
     "evalue": "operands could not be broadcast together with shapes (2,3) (2,) ",
     "output_type": "error",
     "traceback": [
      "\u001b[1;31m---------------------------------------------------------------------------\u001b[0m",
      "\u001b[1;31mValueError\u001b[0m                                Traceback (most recent call last)",
      "Input \u001b[1;32mIn [6]\u001b[0m, in \u001b[0;36m<cell line: 1>\u001b[1;34m()\u001b[0m\n\u001b[1;32m----> 1\u001b[0m \u001b[43marr1\u001b[49m\u001b[43m \u001b[49m\u001b[38;5;241;43m+\u001b[39;49m\u001b[43m \u001b[49m\u001b[43m[\u001b[49m\u001b[38;5;241;43m1\u001b[39;49m\u001b[43m,\u001b[49m\u001b[43m \u001b[49m\u001b[38;5;241;43m2\u001b[39;49m\u001b[43m]\u001b[49m\n",
      "\u001b[1;31mValueError\u001b[0m: operands could not be broadcast together with shapes (2,3) (2,) "
     ]
    }
   ],
   "source": [
    "arr1 + [1, 2]"
   ]
  },
  {
   "cell_type": "code",
   "execution_count": null,
   "id": "ea8e0fed",
   "metadata": {},
   "outputs": [],
   "source": [
    "arr1 + [[1], [2], [0]]"
   ]
  },
  {
   "cell_type": "code",
   "execution_count": 7,
   "id": "1e75c780",
   "metadata": {},
   "outputs": [
    {
     "data": {
      "text/plain": [
       "(3, 1)"
      ]
     },
     "execution_count": 7,
     "metadata": {},
     "output_type": "execute_result"
    }
   ],
   "source": [
    "np.array([[1], [2], [0]]).shape"
   ]
  },
  {
   "cell_type": "markdown",
   "id": "75a87580",
   "metadata": {},
   "source": [
    "## Broadcasting\n",
    "**Rules :- Start Matching the dimenstion backwords (Right to Left)**\n",
    "* Compatable :- If same number appears or if one of them is one (1).<br><br>\n",
    "* Incompatable :- Otherwise"
   ]
  },
  {
   "cell_type": "code",
   "execution_count": 8,
   "id": "92da7013",
   "metadata": {},
   "outputs": [],
   "source": [
    "arr3 = np.array([[1, 2, 3], [4, 5, 6]])\n",
    "arr4 = np.array([1, 2, 3])"
   ]
  },
  {
   "cell_type": "code",
   "execution_count": 9,
   "id": "8231b8e2",
   "metadata": {},
   "outputs": [
    {
     "data": {
      "text/plain": [
       "((2, 3), (3,))"
      ]
     },
     "execution_count": 9,
     "metadata": {},
     "output_type": "execute_result"
    }
   ],
   "source": [
    "arr3.shape, arr4.shape"
   ]
  },
  {
   "cell_type": "code",
   "execution_count": 10,
   "id": "93e6f806",
   "metadata": {},
   "outputs": [
    {
     "data": {
      "text/plain": [
       "array([[2, 4, 6],\n",
       "       [5, 7, 9]])"
      ]
     },
     "execution_count": 10,
     "metadata": {},
     "output_type": "execute_result"
    }
   ],
   "source": [
    "arr3 + arr4"
   ]
  },
  {
   "cell_type": "code",
   "execution_count": 11,
   "id": "a02324a4",
   "metadata": {},
   "outputs": [
    {
     "data": {
      "text/plain": [
       "((2, 3), (2, 1))"
      ]
     },
     "execution_count": 11,
     "metadata": {},
     "output_type": "execute_result"
    }
   ],
   "source": [
    "arr5 = np.array([[1, 2, 3], [4, 5, 6]])\n",
    "arr6 = np.array([[1], [2]])\n",
    "arr5.shape, arr6.shape"
   ]
  },
  {
   "cell_type": "code",
   "execution_count": 12,
   "id": "e4f927c7",
   "metadata": {},
   "outputs": [
    {
     "data": {
      "text/plain": [
       "array([[2, 3, 4],\n",
       "       [6, 7, 8]])"
      ]
     },
     "execution_count": 12,
     "metadata": {},
     "output_type": "execute_result"
    }
   ],
   "source": [
    "arr5 + arr6"
   ]
  },
  {
   "cell_type": "code",
   "execution_count": 13,
   "id": "242ce2d9",
   "metadata": {},
   "outputs": [
    {
     "data": {
      "text/plain": [
       "((2, 3), (1,))"
      ]
     },
     "execution_count": 13,
     "metadata": {},
     "output_type": "execute_result"
    }
   ],
   "source": [
    "arr_1 = np.array([[1, 2, 3], [4, 5, 6]])\n",
    "arr_2 = np.array([1])\n",
    "arr_1.shape, arr_2.shape"
   ]
  },
  {
   "cell_type": "code",
   "execution_count": 14,
   "id": "cb054348",
   "metadata": {
    "scrolled": true
   },
   "outputs": [
    {
     "data": {
      "text/plain": [
       "array([[1, 3, 3],\n",
       "       [4, 6, 6]])"
      ]
     },
     "execution_count": 14,
     "metadata": {},
     "output_type": "execute_result"
    }
   ],
   "source": [
    "arr_1 + arr2"
   ]
  },
  {
   "cell_type": "code",
   "execution_count": 15,
   "id": "99ac92c2",
   "metadata": {
    "scrolled": true
   },
   "outputs": [
    {
     "data": {
      "text/plain": [
       "((5,), (4,))"
      ]
     },
     "execution_count": 15,
     "metadata": {},
     "output_type": "execute_result"
    }
   ],
   "source": [
    "arr_1 = np.array([1, 2, 3, 4, 5])\n",
    "arr_2 = np.array([1, 2, 3, 4])\n",
    "arr_1.shape, arr_2.shape"
   ]
  },
  {
   "cell_type": "code",
   "execution_count": 16,
   "id": "a303bfc7",
   "metadata": {},
   "outputs": [
    {
     "ename": "ValueError",
     "evalue": "operands could not be broadcast together with shapes (5,) (4,) ",
     "output_type": "error",
     "traceback": [
      "\u001b[1;31m---------------------------------------------------------------------------\u001b[0m",
      "\u001b[1;31mValueError\u001b[0m                                Traceback (most recent call last)",
      "Input \u001b[1;32mIn [16]\u001b[0m, in \u001b[0;36m<cell line: 1>\u001b[1;34m()\u001b[0m\n\u001b[1;32m----> 1\u001b[0m \u001b[43marr_1\u001b[49m\u001b[43m \u001b[49m\u001b[38;5;241;43m+\u001b[39;49m\u001b[43m \u001b[49m\u001b[43marr_2\u001b[49m\n",
      "\u001b[1;31mValueError\u001b[0m: operands could not be broadcast together with shapes (5,) (4,) "
     ]
    }
   ],
   "source": [
    "arr_1 + arr_2"
   ]
  },
  {
   "cell_type": "code",
   "execution_count": 17,
   "id": "5aa1e204",
   "metadata": {},
   "outputs": [
    {
     "name": "stdout",
     "output_type": "stream",
     "text": [
      "(5, 1) (4,)\n"
     ]
    }
   ],
   "source": [
    "arr_1 = np.array([[1], [2], [3], [4], [5]])\n",
    "arr_2 = np.array([1, 2, 3, 4])\n",
    "print(arr_1.shape, arr_2.shape)"
   ]
  },
  {
   "cell_type": "code",
   "execution_count": 18,
   "id": "6da59731",
   "metadata": {},
   "outputs": [
    {
     "data": {
      "text/plain": [
       "array([[2, 3, 4, 5],\n",
       "       [3, 4, 5, 6],\n",
       "       [4, 5, 6, 7],\n",
       "       [5, 6, 7, 8],\n",
       "       [6, 7, 8, 9]])"
      ]
     },
     "execution_count": 18,
     "metadata": {},
     "output_type": "execute_result"
    }
   ],
   "source": [
    "arr_1 + arr_2"
   ]
  },
  {
   "cell_type": "code",
   "execution_count": 19,
   "id": "740cd694",
   "metadata": {},
   "outputs": [
    {
     "name": "stdout",
     "output_type": "stream",
     "text": [
      "[[ 1  2  3  4]\n",
      " [ 2  4  6  8]\n",
      " [ 3  6  9 12]\n",
      " [ 4  8 12 16]\n",
      " [ 5 10 15 20]]\n"
     ]
    }
   ],
   "source": [
    "arr_1 = np.array([[1], [2], [3], [4], [5]])\n",
    "arr_2 = np.array([1, 2, 3, 4])\n",
    "print(arr_1 * arr_2)"
   ]
  },
  {
   "cell_type": "code",
   "execution_count": 20,
   "id": "77c55207",
   "metadata": {},
   "outputs": [
    {
     "data": {
      "text/plain": [
       "array([[ 1,  2,  3,  4],\n",
       "       [ 2,  4,  6,  8],\n",
       "       [ 3,  6,  9, 12],\n",
       "       [ 4,  8, 12, 16],\n",
       "       [ 5, 10, 15, 20]])"
      ]
     },
     "execution_count": 20,
     "metadata": {},
     "output_type": "execute_result"
    }
   ],
   "source": [
    "arr_1.dot(arr_2.reshape(1, -1))"
   ]
  },
  {
   "cell_type": "code",
   "execution_count": 21,
   "id": "973a42cd",
   "metadata": {},
   "outputs": [
    {
     "data": {
      "text/plain": [
       "array([[0, 1, 0],\n",
       "       [0, 2, 0],\n",
       "       [0, 3, 0],\n",
       "       [0, 4, 0],\n",
       "       [0, 5, 0]])"
      ]
     },
     "execution_count": 21,
     "metadata": {},
     "output_type": "execute_result"
    }
   ],
   "source": [
    "np.matmul(arr_1, arr2.reshape(1, -1))"
   ]
  },
  {
   "cell_type": "markdown",
   "id": "621e8d5e",
   "metadata": {},
   "source": [
    "### Question: Randomly generate a matrix of shape (1Million, 2) and perform below mentioned operations :\n",
    "\n",
    "a. Find the distances between each 2-Dimensional data point from the centroid (i.e. mean) of the given dataset. Append the newly calculated distances as new column with the given dataset.\n",
    "\n",
    "b. Given any data point, generate 3 closest neighbors from it.\n"
   ]
  },
  {
   "cell_type": "code",
   "execution_count": 2,
   "id": "6b40585d",
   "metadata": {},
   "outputs": [],
   "source": [
    "# Step 1 :- Generate a random data\n",
    "arr = np.random.rand(1000000, 2)"
   ]
  },
  {
   "cell_type": "code",
   "execution_count": 3,
   "id": "d0efc1fb",
   "metadata": {},
   "outputs": [
    {
     "data": {
      "text/plain": [
       "(1000000, 2)"
      ]
     },
     "execution_count": 3,
     "metadata": {},
     "output_type": "execute_result"
    }
   ],
   "source": [
    "arr.shape"
   ]
  },
  {
   "cell_type": "code",
   "execution_count": 4,
   "id": "1e4b90f2",
   "metadata": {},
   "outputs": [],
   "source": [
    "# Step 2 :- Compute the centeroid\n",
    "centeroid = np.mean(arr, axis=0)"
   ]
  },
  {
   "cell_type": "code",
   "execution_count": 5,
   "id": "40014ac2",
   "metadata": {},
   "outputs": [
    {
     "data": {
      "text/plain": [
       "((2,), array([0.50030837, 0.49965002]))"
      ]
     },
     "execution_count": 5,
     "metadata": {},
     "output_type": "execute_result"
    }
   ],
   "source": [
    "centeroid.shape, centeroid"
   ]
  },
  {
   "cell_type": "code",
   "execution_count": 6,
   "id": "e7e555f4",
   "metadata": {},
   "outputs": [],
   "source": [
    "# Step3 :- Compute the Distances btn each 2d datapoint and the centeroid\n",
    "d = np.sqrt(np.sum((arr - centeroid) ** 2, axis=1))"
   ]
  },
  {
   "cell_type": "code",
   "execution_count": 7,
   "id": "ee86d188",
   "metadata": {},
   "outputs": [
    {
     "data": {
      "text/plain": [
       "(1000000,)"
      ]
     },
     "execution_count": 7,
     "metadata": {},
     "output_type": "execute_result"
    }
   ],
   "source": [
    "d.shape"
   ]
  },
  {
   "cell_type": "code",
   "execution_count": 8,
   "id": "71e2886e",
   "metadata": {},
   "outputs": [
    {
     "data": {
      "text/plain": [
       "array([0.52250972, 0.49817231, 0.39495643, ..., 0.50228219, 0.50392388,\n",
       "       0.35281207])"
      ]
     },
     "execution_count": 8,
     "metadata": {},
     "output_type": "execute_result"
    }
   ],
   "source": [
    "d"
   ]
  },
  {
   "cell_type": "code",
   "execution_count": 9,
   "id": "e8321f27",
   "metadata": {},
   "outputs": [
    {
     "data": {
      "text/plain": [
       "array([[0.84354182, 0.89361348],\n",
       "       [0.22755154, 0.91651854],\n",
       "       [0.89030265, 0.43723971],\n",
       "       ...,\n",
       "       [0.62668286, 0.98577437],\n",
       "       [0.75101031, 0.06251409],\n",
       "       [0.77863124, 0.71647421]])"
      ]
     },
     "execution_count": 9,
     "metadata": {},
     "output_type": "execute_result"
    }
   ],
   "source": [
    "arr"
   ]
  },
  {
   "cell_type": "code",
   "execution_count": 10,
   "id": "2af50ff1",
   "metadata": {},
   "outputs": [
    {
     "data": {
      "text/plain": [
       "(1000000, 1)"
      ]
     },
     "execution_count": 10,
     "metadata": {},
     "output_type": "execute_result"
    }
   ],
   "source": [
    "# Reshaping the \n",
    "d.reshape(-1, 1).shape"
   ]
  },
  {
   "cell_type": "code",
   "execution_count": 13,
   "id": "0dedb766",
   "metadata": {},
   "outputs": [],
   "source": [
    "new_arr = np.hstack([arr, d.reshape(-1, 1)])"
   ]
  },
  {
   "cell_type": "code",
   "execution_count": 14,
   "id": "1e2e6e26",
   "metadata": {},
   "outputs": [
    {
     "data": {
      "text/plain": [
       "(1000000, 3)"
      ]
     },
     "execution_count": 14,
     "metadata": {},
     "output_type": "execute_result"
    }
   ],
   "source": [
    "new_arr.shape"
   ]
  },
  {
   "cell_type": "code",
   "execution_count": 18,
   "id": "1acc65d3",
   "metadata": {},
   "outputs": [
    {
     "data": {
      "text/plain": [
       "array([742987, 143773, 164494], dtype=int64)"
      ]
     },
     "execution_count": 18,
     "metadata": {},
     "output_type": "execute_result"
    }
   ],
   "source": [
    "# Args-sort will give the index \n",
    "d.argsort()[:3]"
   ]
  },
  {
   "cell_type": "code",
   "execution_count": 16,
   "id": "4597c328",
   "metadata": {},
   "outputs": [
    {
     "data": {
      "text/plain": [
       "array([[5.00532806e-01, 4.99767820e-01, 2.53473329e-04],\n",
       "       [5.00779697e-01, 4.99682457e-01, 4.72441477e-04],\n",
       "       [4.99782836e-01, 4.99801199e-01, 5.46848595e-04]])"
      ]
     },
     "execution_count": 16,
     "metadata": {},
     "output_type": "execute_result"
    }
   ],
   "source": [
    "new_arr[d.argsort()][:3]"
   ]
  },
  {
   "cell_type": "code",
   "execution_count": null,
   "id": "9f508d74",
   "metadata": {},
   "outputs": [],
   "source": []
  },
  {
   "cell_type": "code",
   "execution_count": null,
   "id": "ceb6c1b2",
   "metadata": {},
   "outputs": [],
   "source": []
  },
  {
   "cell_type": "code",
   "execution_count": null,
   "id": "957b0899",
   "metadata": {},
   "outputs": [],
   "source": []
  },
  {
   "cell_type": "code",
   "execution_count": 35,
   "id": "a9ef8629",
   "metadata": {},
   "outputs": [],
   "source": [
    "# Concating the distance array in new array\n",
    "new_arr = np.column_stack((arr, d))"
   ]
  },
  {
   "cell_type": "code",
   "execution_count": 36,
   "id": "c2a4b8e6",
   "metadata": {},
   "outputs": [],
   "source": [
    "# Find indices of 3 closest neighbors from centroid\n",
    "closest_neighbors_indices = np.argsort(d)[1:4]"
   ]
  },
  {
   "cell_type": "code",
   "execution_count": 37,
   "id": "d17d07ac",
   "metadata": {},
   "outputs": [],
   "source": [
    "# Extract coordinates and distances of closest neighbors\n",
    "closest_neighbors = arr[closest_neighbors_indices]\n",
    "closest_neighbors_distances = d[closest_neighbors_indices]"
   ]
  },
  {
   "cell_type": "code",
   "execution_count": 38,
   "id": "ebd2e702",
   "metadata": {},
   "outputs": [
    {
     "name": "stdout",
     "output_type": "stream",
     "text": [
      "[[0.50008092 0.5003501 ]\n",
      " [0.49908634 0.50008257]\n",
      " [0.49939932 0.50094779]]\n",
      "[0.00037914 0.00085374 0.00108945]\n"
     ]
    }
   ],
   "source": [
    "print(closest_neighbors)\n",
    "print(closest_neighbors_distances)"
   ]
  },
  {
   "cell_type": "code",
   "execution_count": null,
   "id": "ab865b17",
   "metadata": {},
   "outputs": [],
   "source": []
  }
 ],
 "metadata": {
  "kernelspec": {
   "display_name": "Python 3 (ipykernel)",
   "language": "python",
   "name": "python3"
  },
  "language_info": {
   "codemirror_mode": {
    "name": "ipython",
    "version": 3
   },
   "file_extension": ".py",
   "mimetype": "text/x-python",
   "name": "python",
   "nbconvert_exporter": "python",
   "pygments_lexer": "ipython3",
   "version": "3.9.12"
  }
 },
 "nbformat": 4,
 "nbformat_minor": 5
}
