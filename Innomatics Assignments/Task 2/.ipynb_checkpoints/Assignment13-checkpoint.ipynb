{
 "cells": [
  {
   "cell_type": "code",
   "execution_count": 3,
   "id": "e2173e8f",
   "metadata": {},
   "outputs": [],
   "source": [
    "t = int(input())\n",
    "for i in range(t):\n",
    "    l = []\n",
    "    l1 = []\n",
    "    c = 0\n",
    "    n1 = int(input())\n",
    "    l = list(map(int, input().split()))\n",
    "    n2 = int(input())\n",
    "    l1 = list(map(int,input().split()))\n",
    "    for i in l:\n",
    "        if i in l1:\n",
    "            c = c + 1\n",
    "    if c == len(l):\n",
    "        print(True)\n",
    "    else:\n",
    "        print(False)  "
   ]
  },
  {
   "cell_type": "code",
   "execution_count": null,
   "id": "5a02c070",
   "metadata": {},
   "outputs": [],
   "source": []
  },
  {
   "cell_type": "code",
   "execution_count": null,
   "id": "b49124ce",
   "metadata": {},
   "outputs": [],
   "source": []
  },
  {
   "cell_type": "code",
   "execution_count": null,
   "id": "35d3bfad",
   "metadata": {},
   "outputs": [],
   "source": []
  }
 ],
 "metadata": {
  "kernelspec": {
   "display_name": "Python 3 (ipykernel)",
   "language": "python",
   "name": "python3"
  },
  "language_info": {
   "codemirror_mode": {
    "name": "ipython",
    "version": 3
   },
   "file_extension": ".py",
   "mimetype": "text/x-python",
   "name": "python",
   "nbconvert_exporter": "python",
   "pygments_lexer": "ipython3",
   "version": "3.9.12"
  }
 },
 "nbformat": 4,
 "nbformat_minor": 5
}
