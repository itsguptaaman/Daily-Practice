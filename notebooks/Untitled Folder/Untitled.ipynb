{
 "cells": [
  {
   "cell_type": "code",
   "execution_count": null,
   "id": "511cd1dc",
   "metadata": {},
   "outputs": [],
   "source": []
  },
  {
   "cell_type": "code",
   "execution_count": 1,
   "id": "78981979",
   "metadata": {},
   "outputs": [],
   "source": [
    "import os"
   ]
  },
  {
   "cell_type": "code",
   "execution_count": 6,
   "id": "95027799",
   "metadata": {},
   "outputs": [],
   "source": [
    "book = os.listdir(\"Books/Fiction\")"
   ]
  },
  {
   "cell_type": "code",
   "execution_count": 26,
   "id": "2614d4b9",
   "metadata": {},
   "outputs": [
    {
     "data": {
      "text/plain": [
       "['harry_potter.txt']"
      ]
     },
     "execution_count": 26,
     "metadata": {},
     "output_type": "execute_result"
    }
   ],
   "source": [
    "book"
   ]
  },
  {
   "cell_type": "code",
   "execution_count": 18,
   "id": "97fb28e3",
   "metadata": {},
   "outputs": [],
   "source": [
    "path = \"Books/Fiction\"+book[0]"
   ]
  },
  {
   "cell_type": "code",
   "execution_count": 19,
   "id": "adcccc37",
   "metadata": {},
   "outputs": [
    {
     "data": {
      "text/plain": [
       "'Books/Fictionharry_potter.txt'"
      ]
     },
     "execution_count": 19,
     "metadata": {},
     "output_type": "execute_result"
    }
   ],
   "source": [
    "path"
   ]
  },
  {
   "cell_type": "code",
   "execution_count": 32,
   "id": "3ea280fb",
   "metadata": {},
   "outputs": [],
   "source": [
    "s = \"This is a harry poter harry harry harry\"\n",
    "l = s.split()"
   ]
  },
  {
   "cell_type": "code",
   "execution_count": 33,
   "id": "dc7b2595",
   "metadata": {},
   "outputs": [],
   "source": [
    "dt = {}\n",
    "for i in l:\n",
    "    if i not in dt:\n",
    "        dt[i] = 1\n",
    "    else:\n",
    "        dt[i] += 1"
   ]
  },
  {
   "cell_type": "code",
   "execution_count": 38,
   "id": "3d357cca",
   "metadata": {},
   "outputs": [],
   "source": [
    "from collections import Counter\n",
    "co = Counter(dt)"
   ]
  },
  {
   "cell_type": "code",
   "execution_count": 40,
   "id": "f193f17a",
   "metadata": {
    "scrolled": true
   },
   "outputs": [
    {
     "data": {
      "text/plain": [
       "('harry', 4)"
      ]
     },
     "execution_count": 40,
     "metadata": {},
     "output_type": "execute_result"
    }
   ],
   "source": [
    "co.most_common()[0]"
   ]
  },
  {
   "cell_type": "code",
   "execution_count": null,
   "id": "6e42c5fb",
   "metadata": {},
   "outputs": [],
   "source": [
    "C1 = [\"cust1\", \"cust2\", \"cust5\", \"cust8\"]\n",
    "C2 = [\"cust2\", \"cust8\", \"cust9\"]\n",
    "C3 = [\"cust9\", \"cust3\", \"cust7\"]\n"
   ]
  },
  {
   "cell_type": "code",
   "execution_count": null,
   "id": "0cf79491",
   "metadata": {},
   "outputs": [],
   "source": [
    "if "
   ]
  },
  {
   "cell_type": "code",
   "execution_count": null,
   "id": "7ef1b4a4",
   "metadata": {},
   "outputs": [],
   "source": [
    "for i in C1:\n",
    "    for j in C2:\n",
    "        for k in C3:\n",
    "            if  in (C1 and C2) or (C2 and C3):\n",
    "                "
   ]
  },
  {
   "cell_type": "code",
   "execution_count": null,
   "id": "a32827ee",
   "metadata": {},
   "outputs": [],
   "source": []
  },
  {
   "cell_type": "code",
   "execution_count": null,
   "id": "957e18e7",
   "metadata": {},
   "outputs": [],
   "source": []
  },
  {
   "cell_type": "code",
   "execution_count": 34,
   "id": "bdf411ed",
   "metadata": {},
   "outputs": [
    {
     "data": {
      "text/plain": [
       "{'This': 1, 'is': 1, 'a': 1, 'harry': 4, 'poter': 1}"
      ]
     },
     "execution_count": 34,
     "metadata": {},
     "output_type": "execute_result"
    }
   ],
   "source": [
    "dt"
   ]
  },
  {
   "cell_type": "code",
   "execution_count": null,
   "id": "d9777d37",
   "metadata": {},
   "outputs": [],
   "source": []
  },
  {
   "cell_type": "code",
   "execution_count": 21,
   "id": "d2576574",
   "metadata": {},
   "outputs": [
    {
     "data": {
      "text/plain": [
       "'C:\\\\Users\\\\Aman\\\\Downloads\\\\Untitled Folder'"
      ]
     },
     "execution_count": 21,
     "metadata": {},
     "output_type": "execute_result"
    }
   ],
   "source": [
    "os.getcwd()"
   ]
  },
  {
   "cell_type": "code",
   "execution_count": 25,
   "id": "7e837680",
   "metadata": {},
   "outputs": [
    {
     "ename": "FileNotFoundError",
     "evalue": "[Errno 2] No such file or directory: 'Books/Fictionharry_potter.txt'",
     "output_type": "error",
     "traceback": [
      "\u001b[1;31m---------------------------------------------------------------------------\u001b[0m",
      "\u001b[1;31mFileNotFoundError\u001b[0m                         Traceback (most recent call last)",
      "Input \u001b[1;32mIn [25]\u001b[0m, in \u001b[0;36m<cell line: 1>\u001b[1;34m()\u001b[0m\n\u001b[1;32m----> 1\u001b[0m \u001b[38;5;28;01mwith\u001b[39;00m \u001b[38;5;28;43mopen\u001b[39;49m\u001b[43m(\u001b[49m\u001b[43mpath\u001b[49m\u001b[43m,\u001b[49m\u001b[43m \u001b[49m\u001b[38;5;124;43m\"\u001b[39;49m\u001b[38;5;124;43mr\u001b[39;49m\u001b[38;5;124;43m\"\u001b[39;49m\u001b[43m)\u001b[49m \u001b[38;5;28;01mas\u001b[39;00m data:\n\u001b[0;32m      2\u001b[0m     \u001b[38;5;28mprint\u001b[39m(data)\n",
      "\u001b[1;31mFileNotFoundError\u001b[0m: [Errno 2] No such file or directory: 'Books/Fictionharry_potter.txt'"
     ]
    }
   ],
   "source": [
    "with open(path, \"r\") as data:\n",
    "    print(data)"
   ]
  },
  {
   "cell_type": "code",
   "execution_count": null,
   "id": "fc4d61d9",
   "metadata": {},
   "outputs": [],
   "source": []
  },
  {
   "cell_type": "code",
   "execution_count": null,
   "id": "faa983dc",
   "metadata": {},
   "outputs": [],
   "source": [
    "f = open(\"harr\")"
   ]
  },
  {
   "cell_type": "code",
   "execution_count": null,
   "id": "4b1f506e",
   "metadata": {},
   "outputs": [],
   "source": [
    "def word_name():\n",
    "    os.listdir()"
   ]
  }
 ],
 "metadata": {
  "kernelspec": {
   "display_name": "Python 3 (ipykernel)",
   "language": "python",
   "name": "python3"
  },
  "language_info": {
   "codemirror_mode": {
    "name": "ipython",
    "version": 3
   },
   "file_extension": ".py",
   "mimetype": "text/x-python",
   "name": "python",
   "nbconvert_exporter": "python",
   "pygments_lexer": "ipython3",
   "version": "3.9.12"
  }
 },
 "nbformat": 4,
 "nbformat_minor": 5
}
