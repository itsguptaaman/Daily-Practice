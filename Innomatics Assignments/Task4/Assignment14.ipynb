{
 "cells": [
  {
   "cell_type": "code",
   "execution_count": null,
   "id": "a9f5e43c",
   "metadata": {},
   "outputs": [],
   "source": []
  },
  {
   "cell_type": "code",
   "execution_count": 12,
   "id": "c82f0ce3",
   "metadata": {},
   "outputs": [],
   "source": [
    "\n",
    "for i in range(3):\n",
    "    "
   ]
  },
  {
   "cell_type": "code",
   "execution_count": 3,
   "id": "038a807b",
   "metadata": {},
   "outputs": [],
   "source": [
    "string = \"AABCAAADA\"\n",
    "# string = [i for i in string]"
   ]
  },
  {
   "cell_type": "code",
   "execution_count": 29,
   "id": "16cc1c10",
   "metadata": {},
   "outputs": [],
   "source": [
    "main_list = []\n",
    "for i in range(0, len(string), 3):\n",
    "    sub_list= [string[i : i+3]]\n",
    "    for i in sub_list:\n",
    "        main_list.append(set(i))"
   ]
  },
  {
   "cell_type": "code",
   "execution_count": 20,
   "id": "8e295a24",
   "metadata": {},
   "outputs": [
    {
     "data": {
      "text/plain": [
       "[['AAB'], ['CAA'], ['ADA']]"
      ]
     },
     "execution_count": 20,
     "metadata": {},
     "output_type": "execute_result"
    }
   ],
   "source": [
    "main_list"
   ]
  },
  {
   "cell_type": "code",
   "execution_count": 2,
   "id": "70149251",
   "metadata": {},
   "outputs": [
    {
     "name": "stdout",
     "output_type": "stream",
     "text": [
      "AABCAAADA\n",
      "3\n"
     ]
    }
   ],
   "source": [
    "def merge_the_tools(string, k):\n",
    "    print(*(''.join(dict.fromkeys(string[i: i + k])) for i in range(0, len(string), k)), sep='\\n')\n",
    "\n",
    "if __name__ == '__main__':\n",
    "    string, k = input(), int(input())\n",
    "    merge_the_tools(string, k)"
   ]
  },
  {
   "cell_type": "code",
   "execution_count": null,
   "id": "9176c491",
   "metadata": {},
   "outputs": [],
   "source": [
    "*(''.join(dict.fromkeys(string[i: i + k])) for i in range(0, len(string), k)), sep='\\n'"
   ]
  },
  {
   "cell_type": "code",
   "execution_count": 9,
   "id": "1f0b1518",
   "metadata": {},
   "outputs": [
    {
     "ename": "AttributeError",
     "evalue": "type object 'dict' has no attribute 'formkeys'",
     "output_type": "error",
     "traceback": [
      "\u001b[1;31m---------------------------------------------------------------------------\u001b[0m",
      "\u001b[1;31mAttributeError\u001b[0m                            Traceback (most recent call last)",
      "Input \u001b[1;32mIn [9]\u001b[0m, in \u001b[0;36m<cell line: 1>\u001b[1;34m()\u001b[0m\n\u001b[1;32m----> 1\u001b[0m \u001b[38;5;124m'\u001b[39m\u001b[38;5;124m'\u001b[39m\u001b[38;5;241m.\u001b[39mjoin(\u001b[38;5;28;43mdict\u001b[39;49m\u001b[38;5;241;43m.\u001b[39;49m\u001b[43mformkeys\u001b[49m(string[\u001b[38;5;241m1\u001b[39m: \u001b[38;5;241m1\u001b[39m \u001b[38;5;241m+\u001b[39m k]))\n",
      "\u001b[1;31mAttributeError\u001b[0m: type object 'dict' has no attribute 'formkeys'"
     ]
    }
   ],
   "source": [
    "''.join(dict.formkeys(string[1: 1 + k]))"
   ]
  },
  {
   "cell_type": "code",
   "execution_count": null,
   "id": "7d69ce6c",
   "metadata": {},
   "outputs": [],
   "source": []
  }
 ],
 "metadata": {
  "kernelspec": {
   "display_name": "Python 3 (ipykernel)",
   "language": "python",
   "name": "python3"
  },
  "language_info": {
   "codemirror_mode": {
    "name": "ipython",
    "version": 3
   },
   "file_extension": ".py",
   "mimetype": "text/x-python",
   "name": "python",
   "nbconvert_exporter": "python",
   "pygments_lexer": "ipython3",
   "version": "3.9.12"
  }
 },
 "nbformat": 4,
 "nbformat_minor": 5
}
