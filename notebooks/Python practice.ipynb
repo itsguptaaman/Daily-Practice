{
 "cells": [
  {
   "cell_type": "markdown",
   "id": "87ae3584",
   "metadata": {},
   "source": [
    "* syntax for short hand if else\n",
    "\n",
    "code l if condition else code 2"
   ]
  },
  {
   "cell_type": "code",
   "execution_count": 4,
   "id": "49798646",
   "metadata": {},
   "outputs": [
    {
     "name": "stdout",
     "output_type": "stream",
     "text": [
      "Enter a number:-1\n"
     ]
    },
    {
     "data": {
      "text/plain": [
       "'Non positive'"
      ]
     },
     "execution_count": 4,
     "metadata": {},
     "output_type": "execute_result"
    }
   ],
   "source": [
    "# Write a pythen program to check whether a given number is positive or non positive???\n",
    "x = int(input(\"Enter a number:\"))\n",
    "res = \"Positive\" if x > 0 else \"Non positive\"\n",
    "res"
   ]
  },
  {
   "cell_type": "code",
   "execution_count": 32,
   "id": "b8e45c5a",
   "metadata": {},
   "outputs": [
    {
     "name": "stdout",
     "output_type": "stream",
     "text": [
      "Enter the number :1+2j\n"
     ]
    }
   ],
   "source": [
    "x = eval(input(\"Enter the number :\"))"
   ]
  },
  {
   "cell_type": "code",
   "execution_count": 33,
   "id": "0999ed7b",
   "metadata": {},
   "outputs": [
    {
     "data": {
      "text/plain": [
       "complex"
      ]
     },
     "execution_count": 33,
     "metadata": {},
     "output_type": "execute_result"
    }
   ],
   "source": [
    "type(x)"
   ]
  },
  {
   "cell_type": "code",
   "execution_count": 39,
   "id": "acc39177",
   "metadata": {},
   "outputs": [
    {
     "name": "stdout",
     "output_type": "stream",
     "text": [
      "Enter the number :2.2\n",
      "2.2 is of <class 'float'>\n"
     ]
    }
   ],
   "source": [
    "x = input(\"Enter the number :\")\n",
    "try:\n",
    "    x = eval(x)\n",
    "except Exception as e:\n",
    "    pass\n",
    "\n",
    "print(x,\"is of\",type(x))"
   ]
  },
  {
   "cell_type": "code",
   "execution_count": 40,
   "id": "c4cfc965",
   "metadata": {},
   "outputs": [
    {
     "name": "stdout",
     "output_type": "stream",
     "text": [
      "Python 3.9.12\n"
     ]
    }
   ],
   "source": [
    "!python --version"
   ]
  },
  {
   "cell_type": "code",
   "execution_count": null,
   "id": "10b4f6fe",
   "metadata": {},
   "outputs": [],
   "source": []
  }
 ],
 "metadata": {
  "kernelspec": {
   "display_name": "Python 3 (ipykernel)",
   "language": "python",
   "name": "python3"
  },
  "language_info": {
   "codemirror_mode": {
    "name": "ipython",
    "version": 3
   },
   "file_extension": ".py",
   "mimetype": "text/x-python",
   "name": "python",
   "nbconvert_exporter": "python",
   "pygments_lexer": "ipython3",
   "version": "3.9.12"
  }
 },
 "nbformat": 4,
 "nbformat_minor": 5
}
