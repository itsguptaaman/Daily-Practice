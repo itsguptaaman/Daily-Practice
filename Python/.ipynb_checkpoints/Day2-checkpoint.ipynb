{
 "cells": [
  {
   "cell_type": "code",
   "execution_count": 1,
   "id": "a68170d3",
   "metadata": {},
   "outputs": [],
   "source": [
    "# Short hand If and else"
   ]
  },
  {
   "cell_type": "code",
   "execution_count": 2,
   "id": "0110042d",
   "metadata": {},
   "outputs": [
    {
     "name": "stdout",
     "output_type": "stream",
     "text": [
      "a = 3303 is greater than b = 330\n"
     ]
    }
   ],
   "source": [
    "a = 3303\n",
    "b = 330\n",
    "\n",
    "print(f\"a = {a} is greater than b = {b}\") if a > b else print(f\"b = {b} is greater than a = {a}\") if b > a else print(\"Both are equal\")"
   ]
  },
  {
   "cell_type": "code",
   "execution_count": 3,
   "id": "f5e3956b",
   "metadata": {},
   "outputs": [
    {
     "name": "stdout",
     "output_type": "stream",
     "text": [
      "9\n"
     ]
    }
   ],
   "source": [
    "c = 9 if a > b else 0\n",
    "print(c)"
   ]
  },
  {
   "cell_type": "code",
   "execution_count": 4,
   "id": "d7e92571",
   "metadata": {},
   "outputs": [
    {
     "name": "stdout",
     "output_type": "stream",
     "text": [
      "12\n",
      "57\n",
      "32\n",
      "98\n",
      "Hello, world!\n",
      "12\n",
      "15\n",
      "1\n",
      "4\n"
     ]
    }
   ],
   "source": [
    "# Enumerates in python\n",
    "marks = [12, 57, 32, 98, 12, 15, 1, 4]\n",
    "\n",
    "for index, mark in enumerate(marks):\n",
    "    print(mark)\n",
    "    if index == 3:\n",
    "        print(\"Hello, world!\")"
   ]
  },
  {
   "cell_type": "code",
   "execution_count": 5,
   "id": "fdc32a5a",
   "metadata": {},
   "outputs": [
    {
     "name": "stdout",
     "output_type": "stream",
     "text": [
      "1\n",
      "2\n",
      "3\n",
      "Hello, world!\n",
      "4\n",
      "5\n",
      "6\n",
      "7\n",
      "8\n"
     ]
    }
   ],
   "source": [
    "# Making index=1 \n",
    "marks = [12, 57, 32, 98, 12, 15, 1, 4]\n",
    "\n",
    "for index, mark in enumerate(marks, start=1):\n",
    "    print(index)\n",
    "    if index == 3:\n",
    "        print(\"Hello, world!\")"
   ]
  },
  {
   "cell_type": "code",
   "execution_count": 6,
   "id": "441d1231",
   "metadata": {},
   "outputs": [],
   "source": [
    "from math import sqrt, pi"
   ]
  },
  {
   "cell_type": "code",
   "execution_count": 7,
   "id": "099a2301",
   "metadata": {},
   "outputs": [
    {
     "data": {
      "text/plain": [
       "6.283185307179586"
      ]
     },
     "execution_count": 7,
     "metadata": {},
     "output_type": "execute_result"
    }
   ],
   "source": [
    "result = sqrt(4) * pi\n",
    "result"
   ]
  },
  {
   "cell_type": "code",
   "execution_count": 8,
   "id": "c4fcf899",
   "metadata": {},
   "outputs": [],
   "source": [
    "# To import all the functions and method in math\n",
    "from math import *"
   ]
  },
  {
   "cell_type": "code",
   "execution_count": 9,
   "id": "a5a807c8",
   "metadata": {},
   "outputs": [
    {
     "name": "stdout",
     "output_type": "stream",
     "text": [
      "3.141592653589793\n"
     ]
    }
   ],
   "source": [
    "# Using alias\n",
    "import math as m\n",
    "print(m.pi)"
   ]
  },
  {
   "cell_type": "code",
   "execution_count": 10,
   "id": "af7720ed",
   "metadata": {},
   "outputs": [],
   "source": [
    "from math import sqrt as s"
   ]
  },
  {
   "cell_type": "code",
   "execution_count": 11,
   "id": "5892db8d",
   "metadata": {},
   "outputs": [
    {
     "data": {
      "text/plain": [
       "2.0"
      ]
     },
     "execution_count": 11,
     "metadata": {},
     "output_type": "execute_result"
    }
   ],
   "source": [
    "s(4)"
   ]
  },
  {
   "cell_type": "code",
   "execution_count": 12,
   "id": "e3c743d0",
   "metadata": {},
   "outputs": [
    {
     "data": {
      "text/plain": [
       "['__doc__',\n",
       " '__loader__',\n",
       " '__name__',\n",
       " '__package__',\n",
       " '__spec__',\n",
       " 'acos',\n",
       " 'acosh',\n",
       " 'asin',\n",
       " 'asinh',\n",
       " 'atan',\n",
       " 'atan2',\n",
       " 'atanh',\n",
       " 'ceil',\n",
       " 'comb',\n",
       " 'copysign',\n",
       " 'cos',\n",
       " 'cosh',\n",
       " 'degrees',\n",
       " 'dist',\n",
       " 'e',\n",
       " 'erf',\n",
       " 'erfc',\n",
       " 'exp',\n",
       " 'expm1',\n",
       " 'fabs',\n",
       " 'factorial',\n",
       " 'floor',\n",
       " 'fmod',\n",
       " 'frexp',\n",
       " 'fsum',\n",
       " 'gamma',\n",
       " 'gcd',\n",
       " 'hypot',\n",
       " 'inf',\n",
       " 'isclose',\n",
       " 'isfinite',\n",
       " 'isinf',\n",
       " 'isnan',\n",
       " 'isqrt',\n",
       " 'lcm',\n",
       " 'ldexp',\n",
       " 'lgamma',\n",
       " 'log',\n",
       " 'log10',\n",
       " 'log1p',\n",
       " 'log2',\n",
       " 'modf',\n",
       " 'nan',\n",
       " 'nextafter',\n",
       " 'perm',\n",
       " 'pi',\n",
       " 'pow',\n",
       " 'prod',\n",
       " 'radians',\n",
       " 'remainder',\n",
       " 'sin',\n",
       " 'sinh',\n",
       " 'sqrt',\n",
       " 'tan',\n",
       " 'tanh',\n",
       " 'tau',\n",
       " 'trunc',\n",
       " 'ulp']"
      ]
     },
     "execution_count": 12,
     "metadata": {},
     "output_type": "execute_result"
    }
   ],
   "source": [
    "# Checking all the methods and functions inside math\n",
    "import math\n",
    "dir(math)"
   ]
  },
  {
   "cell_type": "code",
   "execution_count": 13,
   "id": "6182c590",
   "metadata": {},
   "outputs": [
    {
     "data": {
      "text/plain": [
       "float"
      ]
     },
     "execution_count": 13,
     "metadata": {},
     "output_type": "execute_result"
    }
   ],
   "source": [
    "type(math.nan)"
   ]
  },
  {
   "cell_type": "code",
   "execution_count": 14,
   "id": "5c034c20",
   "metadata": {},
   "outputs": [
    {
     "data": {
      "text/plain": [
       "'__main__'"
      ]
     },
     "execution_count": 14,
     "metadata": {},
     "output_type": "execute_result"
    }
   ],
   "source": [
    "__name__"
   ]
  },
  {
   "cell_type": "code",
   "execution_count": 17,
   "id": "fe5ce410",
   "metadata": {},
   "outputs": [
    {
     "name": "stdout",
     "output_type": "stream",
     "text": [
      "4\n",
      "The global x is 4\n",
      "The local x is 5\n",
      "Hello world!\n",
      "The global x is 4\n"
     ]
    }
   ],
   "source": [
    "# Local and Global variables\n",
    "x = 4\n",
    "print(x)\n",
    "\n",
    "def hello():\n",
    "    x = 5\n",
    "    print(f\"The local x is {x}\")\n",
    "    print(\"Hello world!\")\n",
    "\n",
    "print(f\"The global x is {x}\")\n",
    "hello()\n",
    "print(f\"The global x is {x}\")"
   ]
  },
  {
   "cell_type": "code",
   "execution_count": 18,
   "id": "41e37740",
   "metadata": {},
   "outputs": [
    {
     "name": "stdout",
     "output_type": "stream",
     "text": [
      "4\n",
      "The global x is 4\n",
      "The local x is 5\n",
      "Hello world!\n",
      "The global x is 5\n"
     ]
    }
   ],
   "source": [
    "x = 4\n",
    "print(x)\n",
    "\n",
    "def hello():\n",
    "    global x\n",
    "    x = 5\n",
    "    print(f\"The local x is {x}\")\n",
    "    print(\"Hello world!\")\n",
    "\n",
    "print(f\"The global x is {x}\")\n",
    "hello()\n",
    "print(f\"The global x is {x}\")"
   ]
  },
  {
   "cell_type": "code",
   "execution_count": 19,
   "id": "c1b1821b",
   "metadata": {},
   "outputs": [
    {
     "data": {
      "text/plain": [
       "<_io.TextIOWrapper name='myfile.txt' mode='r' encoding='cp1252'>"
      ]
     },
     "execution_count": 19,
     "metadata": {},
     "output_type": "execute_result"
    }
   ],
   "source": [
    "# File Handelling \n",
    "f = open('myfile.txt', 'r')\n",
    "f"
   ]
  },
  {
   "cell_type": "code",
   "execution_count": 20,
   "id": "f4e7adbc",
   "metadata": {},
   "outputs": [
    {
     "name": "stdout",
     "output_type": "stream",
     "text": [
      "Hey!!! Python, ML, DL, CV, NLP.\n"
     ]
    }
   ],
   "source": [
    "text = f.read()\n",
    "print(text)\n",
    "f.close()"
   ]
  },
  {
   "cell_type": "code",
   "execution_count": 21,
   "id": "c190115c",
   "metadata": {},
   "outputs": [
    {
     "name": "stdout",
     "output_type": "stream",
     "text": [
      "Hey!!! Python, ML, DL, CV, NLP.\n"
     ]
    }
   ],
   "source": [
    "# Default mode is read\n",
    "f = open('myfile.txt')\n",
    "text = f.read()\n",
    "print(text)\n",
    "f.close()"
   ]
  },
  {
   "cell_type": "code",
   "execution_count": null,
   "id": "9649363e",
   "metadata": {},
   "outputs": [],
   "source": [
    "# It will create the file if exist it will over write it\n",
    "# f = open('myfile.txt', \"wb\")\n",
    "# f.close()"
   ]
  },
  {
   "cell_type": "code",
   "execution_count": 22,
   "id": "184cd022",
   "metadata": {},
   "outputs": [],
   "source": [
    "f = open('myfile.txt', 'a')\n",
    "f.write(\"FAST_API, SQL\")\n",
    "f.close()"
   ]
  },
  {
   "cell_type": "code",
   "execution_count": 32,
   "id": "0a201d46",
   "metadata": {},
   "outputs": [
    {
     "name": "stdout",
     "output_type": "stream",
     "text": [
      " Python, ML, DL, CV, NLP.\n",
      "FAST_API\n",
      "SQL\n",
      "CICD\n",
      "52\n"
     ]
    }
   ],
   "source": [
    "with open('myfile.txt') as data:\n",
    "    data.seek(6)\n",
    "    print(data.read())\n",
    "    print(data.tell())\n",
    "    data.close"
   ]
  },
  {
   "cell_type": "code",
   "execution_count": 27,
   "id": "b34b7be9",
   "metadata": {},
   "outputs": [
    {
     "name": "stdout",
     "output_type": "stream",
     "text": [
      "Hey!!! Python, ML, DL, CV, NLP.\n",
      "\n",
      "FAST_API\n",
      "\n",
      "SQL\n",
      "\n",
      "CICD\n"
     ]
    }
   ],
   "source": [
    "f = open('myfile.txt', 'r')\n",
    "while True:\n",
    "     line = f. readline()\n",
    "     if not line:\n",
    "         break\n",
    "     print(line)\n"
   ]
  },
  {
   "cell_type": "code",
   "execution_count": 35,
   "id": "fbe5d36a",
   "metadata": {},
   "outputs": [],
   "source": [
    "# Lambda functions\n",
    "x = lambda x: x**2"
   ]
  },
  {
   "cell_type": "code",
   "execution_count": 37,
   "id": "1dc927aa",
   "metadata": {},
   "outputs": [
    {
     "data": {
      "text/plain": [
       "81"
      ]
     },
     "execution_count": 37,
     "metadata": {},
     "output_type": "execute_result"
    }
   ],
   "source": [
    "x(9)"
   ]
  },
  {
   "cell_type": "code",
   "execution_count": 38,
   "id": "8452230b",
   "metadata": {},
   "outputs": [
    {
     "data": {
      "text/plain": [
       "10"
      ]
     },
     "execution_count": 38,
     "metadata": {},
     "output_type": "execute_result"
    }
   ],
   "source": [
    "# passng function as a parameter\n",
    "def apply(fx, value):\n",
    "    return 6 + fx(value)\n",
    "apply(x, 2)"
   ]
  },
  {
   "cell_type": "code",
   "execution_count": null,
   "id": "ddfbb0d3",
   "metadata": {},
   "outputs": [],
   "source": []
  },
  {
   "cell_type": "code",
   "execution_count": null,
   "id": "4a8d888c",
   "metadata": {},
   "outputs": [],
   "source": []
  },
  {
   "cell_type": "code",
   "execution_count": null,
   "id": "e5bb79f1",
   "metadata": {},
   "outputs": [],
   "source": []
  },
  {
   "cell_type": "code",
   "execution_count": null,
   "id": "05406e27",
   "metadata": {},
   "outputs": [],
   "source": []
  },
  {
   "cell_type": "code",
   "execution_count": null,
   "id": "f4307211",
   "metadata": {},
   "outputs": [],
   "source": []
  },
  {
   "cell_type": "code",
   "execution_count": null,
   "id": "2ae98110",
   "metadata": {},
   "outputs": [],
   "source": []
  },
  {
   "cell_type": "code",
   "execution_count": null,
   "id": "ec48526a",
   "metadata": {},
   "outputs": [],
   "source": []
  },
  {
   "cell_type": "code",
   "execution_count": null,
   "id": "0b7d679a",
   "metadata": {},
   "outputs": [],
   "source": []
  }
 ],
 "metadata": {
  "kernelspec": {
   "display_name": "Python 3 (ipykernel)",
   "language": "python",
   "name": "python3"
  },
  "language_info": {
   "codemirror_mode": {
    "name": "ipython",
    "version": 3
   },
   "file_extension": ".py",
   "mimetype": "text/x-python",
   "name": "python",
   "nbconvert_exporter": "python",
   "pygments_lexer": "ipython3",
   "version": "3.10.10"
  }
 },
 "nbformat": 4,
 "nbformat_minor": 5
}
