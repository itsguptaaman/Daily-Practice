{
 "cells": [
  {
   "cell_type": "markdown",
   "id": "61fd0d25",
   "metadata": {},
   "source": [
    "Output Format\n",
    "\n",
    "Print the list of integers from l through n as a string, without spaces.\n",
    "\n",
    "Sample Input 0<br>\n",
    "`\n",
    "3\n",
    "`\n",
    "<br>\n",
    "Sample Output 0<br>\n",
    "`\n",
    "123\n",
    "`\n"
   ]
  },
  {
   "cell_type": "code",
   "execution_count": 1,
   "id": "1c8be2c2",
   "metadata": {},
   "outputs": [
    {
     "name": "stdout",
     "output_type": "stream",
     "text": [
      "3\n",
      "123"
     ]
    }
   ],
   "source": [
    "if __name__ == '__main__':\n",
    "    n = int(input())\n",
    "    for i in range(1, n + 1):\n",
    "        print(str(i), end=\"\")"
   ]
  },
  {
   "cell_type": "code",
   "execution_count": null,
   "id": "5826e6ad",
   "metadata": {},
   "outputs": [],
   "source": []
  }
 ],
 "metadata": {
  "kernelspec": {
   "display_name": "Python 3 (ipykernel)",
   "language": "python",
   "name": "python3"
  },
  "language_info": {
   "codemirror_mode": {
    "name": "ipython",
    "version": 3
   },
   "file_extension": ".py",
   "mimetype": "text/x-python",
   "name": "python",
   "nbconvert_exporter": "python",
   "pygments_lexer": "ipython3",
   "version": "3.9.12"
  }
 },
 "nbformat": 4,
 "nbformat_minor": 5
}
