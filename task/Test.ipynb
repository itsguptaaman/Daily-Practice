{
  "nbformat": 4,
  "nbformat_minor": 0,
  "metadata": {
    "colab": {
      "provenance": []
    },
    "kernelspec": {
      "name": "python3",
      "display_name": "Python 3"
    },
    "language_info": {
      "name": "python"
    }
  },
  "cells": [
    {
      "cell_type": "code",
      "execution_count": null,
      "metadata": {
        "id": "7FrOH2gAlIXG"
      },
      "outputs": [],
      "source": []
    },
    {
      "cell_type": "markdown",
      "source": [
        "You have been given a dataset of images of handwritten digits (0-9) along with corresponding labels. Your task is to build a deep learning model using TensorFlow that can accurately classify new handwritten digits.\n",
        "\n",
        "Your model should have the following architecture:\n",
        "\n",
        "Input layer with 784 nodes (one for each pixel in the 28x28 image)\n",
        "Two hidden layers with 256 nodes each\n",
        "Output layer with 10 nodes (one for each possible digit)\n",
        "Your model should use the ReLU activation function for the hidden layers and the softmax activation function for the output layer. Additionally, your model should use the categorical cross-entropy loss function and the Adam optimizer."
      ],
      "metadata": {
        "id": "w0IUVPoZln0s"
      }
    },
    {
      "cell_type": "code",
      "source": [
        "from keras.datasets import mnist\n",
        "import tensorflow as tf"
      ],
      "metadata": {
        "id": "Konnr2AglJDv"
      },
      "execution_count": null,
      "outputs": []
    },
    {
      "cell_type": "code",
      "source": [
        "# loading the dataset\n",
        "mnist = tf.keras.datasets.mnist\n",
        "(X_train_full, y_train_full), (X_test, y_test) = mnist.load_data()"
      ],
      "metadata": {
        "id": "oy2KwiUQlJF-"
      },
      "execution_count": null,
      "outputs": []
    },
    {
      "cell_type": "code",
      "source": [
        "(X_train_full.shape, y_train_full.shape), (X_test.shape, y_test.shape)"
      ],
      "metadata": {
        "colab": {
          "base_uri": "https://localhost:8080/"
        },
        "id": "9wm4DdWOlJIO",
        "outputId": "c42409f2-6227-4f11-fd08-a2ead888bd57"
      },
      "execution_count": null,
      "outputs": [
        {
          "output_type": "execute_result",
          "data": {
            "text/plain": [
              "(((60000, 28, 28), (60000,)), ((10000, 28, 28), (10000,)))"
            ]
          },
          "metadata": {},
          "execution_count": 3
        }
      ]
    },
    {
      "cell_type": "code",
      "source": [
        "# splitting the dataset into training and validation part and normalizing them to 0 to 1\n",
        "X_valid, X_train = X_train_full[: 5000] / 255., X_train_full[5000: ]/255.\n",
        "y_valid, y_train = y_train_full[: 5000], y_train_full[5000:]\n",
        "\n",
        "X_test = X_test/255."
      ],
      "metadata": {
        "id": "Tql_50dklJKT"
      },
      "execution_count": null,
      "outputs": []
    },
    {
      "cell_type": "code",
      "source": [
        "LAYERS = [\n",
        "    tf.keras.layers.Flatten(input_shape=[28, 28], name=\"inputLayer\"),\n",
        "    tf.keras.layers.Dense(256, activation=\"relu\", name=\"hiddenLayer1\"),\n",
        "    tf.keras.layers.Dense(256, activation=\"relu\", name=\"hiddenLayer2\"),\n",
        "    tf.keras.layers.Dense(10, activation=\"softmax\", name=\"outputLayer\")\n",
        "]"
      ],
      "metadata": {
        "id": "JK3QAeHhlJMK"
      },
      "execution_count": null,
      "outputs": []
    },
    {
      "cell_type": "code",
      "source": [
        "from keras.models import Sequential"
      ],
      "metadata": {
        "id": "VmdVuSSwncXU"
      },
      "execution_count": null,
      "outputs": []
    },
    {
      "cell_type": "code",
      "source": [
        "model = Sequential(LAYERS)"
      ],
      "metadata": {
        "id": "UlEonZgzlJOO"
      },
      "execution_count": null,
      "outputs": []
    },
    {
      "cell_type": "code",
      "source": [
        "model.layers"
      ],
      "metadata": {
        "colab": {
          "base_uri": "https://localhost:8080/"
        },
        "id": "r0XPtFOwnvuG",
        "outputId": "eaebfb20-a77d-4f9a-f4a7-9be15867056d"
      },
      "execution_count": null,
      "outputs": [
        {
          "output_type": "execute_result",
          "data": {
            "text/plain": [
              "[<keras.layers.reshaping.flatten.Flatten at 0x7d2fc7986410>,\n",
              " <keras.layers.core.dense.Dense at 0x7d2fc7985510>,\n",
              " <keras.layers.core.dense.Dense at 0x7d2fc7984df0>,\n",
              " <keras.layers.core.dense.Dense at 0x7d2fc7986110>]"
            ]
          },
          "metadata": {},
          "execution_count": 8
        }
      ]
    },
    {
      "cell_type": "code",
      "source": [
        "model.summary()"
      ],
      "metadata": {
        "colab": {
          "base_uri": "https://localhost:8080/"
        },
        "id": "Q40y6Uxzn1rT",
        "outputId": "4b8542cc-098e-47dc-f60e-caeb9ced1cfe"
      },
      "execution_count": null,
      "outputs": [
        {
          "output_type": "stream",
          "name": "stdout",
          "text": [
            "Model: \"sequential\"\n",
            "_________________________________________________________________\n",
            " Layer (type)                Output Shape              Param #   \n",
            "=================================================================\n",
            " inputLayer (Flatten)        (None, 784)               0         \n",
            "                                                                 \n",
            " hiddenLayer1 (Dense)        (None, 256)               200960    \n",
            "                                                                 \n",
            " hiddenLayer2 (Dense)        (None, 256)               65792     \n",
            "                                                                 \n",
            " outputLayer (Dense)         (None, 10)                2570      \n",
            "                                                                 \n",
            "=================================================================\n",
            "Total params: 269,322\n",
            "Trainable params: 269,322\n",
            "Non-trainable params: 0\n",
            "_________________________________________________________________\n"
          ]
        }
      ]
    },
    {
      "cell_type": "code",
      "source": [
        "hidden_layer1 = model.layers[1]\n",
        "model.get_layer(hidden_layer1.name)"
      ],
      "metadata": {
        "colab": {
          "base_uri": "https://localhost:8080/"
        },
        "id": "TdyCMf5en3Ns",
        "outputId": "f7209b67-a06d-4c4c-bbbd-193d74ed22f0"
      },
      "execution_count": null,
      "outputs": [
        {
          "output_type": "execute_result",
          "data": {
            "text/plain": [
              "<keras.layers.core.dense.Dense at 0x7d2fc7985510>"
            ]
          },
          "metadata": {},
          "execution_count": 10
        }
      ]
    },
    {
      "cell_type": "code",
      "source": [
        "LOSS_FUNCTION = \"sparse_categorical_crossentropy\"\n",
        "OPTIMIZER = \"Adam\"\n",
        "METRICS = [\"accuracy\"]"
      ],
      "metadata": {
        "id": "CprAxvWWoFjc"
      },
      "execution_count": null,
      "outputs": []
    },
    {
      "cell_type": "code",
      "source": [
        "model.compile(loss=LOSS_FUNCTION, optimizer=OPTIMIZER, metrics=METRICS)"
      ],
      "metadata": {
        "id": "Bn6WJuCdoHjF"
      },
      "execution_count": null,
      "outputs": []
    },
    {
      "cell_type": "code",
      "source": [
        "EPOCHS = 15\n",
        "VALIDATION_SET = (X_valid, y_valid)\n",
        "history = model.fit(X_train, y_train, epochs=EPOCHS, validation_data=VALIDATION_SET, batch_size=32)"
      ],
      "metadata": {
        "colab": {
          "base_uri": "https://localhost:8080/"
        },
        "id": "eLLbiaOwoHns",
        "outputId": "e5880014-97a9-4da6-e62a-e235cfe900aa"
      },
      "execution_count": null,
      "outputs": [
        {
          "output_type": "stream",
          "name": "stdout",
          "text": [
            "Epoch 1/15\n",
            "1719/1719 [==============================] - 11s 7ms/step - loss: 0.0294 - accuracy: 0.9895 - val_loss: 0.0770 - val_accuracy: 0.9790\n",
            "Epoch 2/15\n",
            "1719/1719 [==============================] - 12s 7ms/step - loss: 0.0225 - accuracy: 0.9927 - val_loss: 0.0833 - val_accuracy: 0.9828\n",
            "Epoch 3/15\n",
            "1719/1719 [==============================] - 12s 7ms/step - loss: 0.0232 - accuracy: 0.9925 - val_loss: 0.0885 - val_accuracy: 0.9808\n",
            "Epoch 4/15\n",
            "1719/1719 [==============================] - 16s 9ms/step - loss: 0.0159 - accuracy: 0.9950 - val_loss: 0.0877 - val_accuracy: 0.9798\n",
            "Epoch 5/15\n",
            "1719/1719 [==============================] - 14s 8ms/step - loss: 0.0203 - accuracy: 0.9937 - val_loss: 0.0833 - val_accuracy: 0.9818\n",
            "Epoch 6/15\n",
            "1719/1719 [==============================] - 11s 6ms/step - loss: 0.0142 - accuracy: 0.9955 - val_loss: 0.1029 - val_accuracy: 0.9812\n",
            "Epoch 7/15\n",
            "1719/1719 [==============================] - 12s 7ms/step - loss: 0.0158 - accuracy: 0.9949 - val_loss: 0.0991 - val_accuracy: 0.9806\n",
            "Epoch 8/15\n",
            "1719/1719 [==============================] - 12s 7ms/step - loss: 0.0161 - accuracy: 0.9948 - val_loss: 0.0848 - val_accuracy: 0.9826\n",
            "Epoch 9/15\n",
            "1719/1719 [==============================] - 12s 7ms/step - loss: 0.0126 - accuracy: 0.9963 - val_loss: 0.1167 - val_accuracy: 0.9788\n",
            "Epoch 10/15\n",
            "1719/1719 [==============================] - 14s 8ms/step - loss: 0.0117 - accuracy: 0.9964 - val_loss: 0.1093 - val_accuracy: 0.9804\n",
            "Epoch 11/15\n",
            "1719/1719 [==============================] - 13s 7ms/step - loss: 0.0119 - accuracy: 0.9963 - val_loss: 0.1069 - val_accuracy: 0.9794\n",
            "Epoch 12/15\n",
            "1719/1719 [==============================] - 12s 7ms/step - loss: 0.0102 - accuracy: 0.9967 - val_loss: 0.1194 - val_accuracy: 0.9814\n",
            "Epoch 13/15\n",
            "1719/1719 [==============================] - 12s 7ms/step - loss: 0.0119 - accuracy: 0.9965 - val_loss: 0.1200 - val_accuracy: 0.9834\n",
            "Epoch 14/15\n",
            "1719/1719 [==============================] - 12s 7ms/step - loss: 0.0110 - accuracy: 0.9967 - val_loss: 0.1421 - val_accuracy: 0.9780\n",
            "Epoch 15/15\n",
            "1719/1719 [==============================] - 12s 7ms/step - loss: 0.0122 - accuracy: 0.9963 - val_loss: 0.1321 - val_accuracy: 0.9806\n"
          ]
        }
      ]
    },
    {
      "cell_type": "code",
      "source": [
        "# Evaluatimg the model\n",
        "model.evaluate(X_test, y_test)"
      ],
      "metadata": {
        "colab": {
          "base_uri": "https://localhost:8080/"
        },
        "id": "ac6yAtJ5oHqb",
        "outputId": "2eb3f3f8-2234-4325-e1e3-6d5a2b10c15b"
      },
      "execution_count": null,
      "outputs": [
        {
          "output_type": "stream",
          "name": "stdout",
          "text": [
            "313/313 [==============================] - 1s 3ms/step - loss: 0.1308 - accuracy: 0.9816\n"
          ]
        },
        {
          "output_type": "execute_result",
          "data": {
            "text/plain": [
              "[0.13076582551002502, 0.9815999865531921]"
            ]
          },
          "metadata": {},
          "execution_count": 19
        }
      ]
    },
    {
      "cell_type": "code",
      "source": [
        "X_new = X_test[:3]\n",
        "y_new = y_test[:3]\n",
        "y_prob = model.predict(X_new)\n",
        "y_prob.round(2)"
      ],
      "metadata": {
        "colab": {
          "base_uri": "https://localhost:8080/"
        },
        "id": "7sG2pjQ9oHsc",
        "outputId": "519bd6a9-a68a-4ab1-b32c-312eef18eebd"
      },
      "execution_count": null,
      "outputs": [
        {
          "output_type": "stream",
          "name": "stdout",
          "text": [
            "1/1 [==============================] - 0s 96ms/step\n"
          ]
        },
        {
          "output_type": "execute_result",
          "data": {
            "text/plain": [
              "array([[0., 0., 0., 0., 0., 0., 0., 1., 0., 0.],\n",
              "       [0., 0., 1., 0., 0., 0., 0., 0., 0., 0.],\n",
              "       [0., 1., 0., 0., 0., 0., 0., 0., 0., 0.]], dtype=float32)"
            ]
          },
          "metadata": {},
          "execution_count": 20
        }
      ]
    },
    {
      "cell_type": "code",
      "source": [
        "import numpy as np\n",
        "import matplotlib.pyplot as plt"
      ],
      "metadata": {
        "id": "jYZaAfBvqdyW"
      },
      "execution_count": null,
      "outputs": []
    },
    {
      "cell_type": "code",
      "source": [
        "y_pred = np.argmax(y_prob, axis=1)\n",
        "y_pred, y_new"
      ],
      "metadata": {
        "colab": {
          "base_uri": "https://localhost:8080/"
        },
        "id": "HfecYVGCqbdp",
        "outputId": "0131a75f-40f8-4718-e3c7-498f867b1c62"
      },
      "execution_count": null,
      "outputs": [
        {
          "output_type": "execute_result",
          "data": {
            "text/plain": [
              "(array([7, 2, 1]), array([7, 2, 1], dtype=uint8))"
            ]
          },
          "metadata": {},
          "execution_count": 25
        }
      ]
    },
    {
      "cell_type": "code",
      "source": [
        "for data, pred, actual in zip(X_new, y_pred, y_new):\n",
        "    plt.imshow(data, cmap=\"binary\")\n",
        "    plt.title(f\"Predicted: {pred}, Actual: {actual}\")\n",
        "    plt.axis(\"off\")\n",
        "    plt.show()\n",
        "    print(\"--\"*20)"
      ],
      "metadata": {
        "colab": {
          "base_uri": "https://localhost:8080/",
          "height": 1000
        },
        "id": "on1pi8VnoHub",
        "outputId": "751a4c8b-9765-4a5f-f0bc-21243451b265"
      },
      "execution_count": null,
      "outputs": [
        {
          "output_type": "display_data",
          "data": {
            "text/plain": [
              "<Figure size 640x480 with 1 Axes>"
            ],
            "image/png": "[encoded data removed]"
          },
          "metadata": {}
        },
        {
          "output_type": "stream",
          "name": "stdout",
          "text": [
            "----------------------------------------\n"
          ]
        },
        {
          "output_type": "display_data",
          "data": {
            "text/plain": [
              "<Figure size 640x480 with 1 Axes>"
            ],
            "image/png": "[encoded data removed]"
          },
          "metadata": {}
        },
        {
          "output_type": "stream",
          "name": "stdout",
          "text": [
            "----------------------------------------\n"
          ]
        },
        {
          "output_type": "display_data",
          "data": {
            "text/plain": [
              "<Figure size 640x480 with 1 Axes>"
            ],
            "image/png": "[encoded data removed]"
          },
          "metadata": {}
        },
        {
          "output_type": "stream",
          "name": "stdout",
          "text": [
            "----------------------------------------\n"
          ]
        }
      ]
    },
    {
      "cell_type": "code",
      "source": [
        "from PIL import Image\n",
        "img = Image.open(\"/content/sample_data/three.png\").convert('L').resize((28, 28), Image.ANTIALIAS)\n",
        "img = np.array(img)\n",
        "# model.predict(img[None,:,:])"
      ],
      "metadata": {
        "colab": {
          "base_uri": "https://localhost:8080/"
        },
        "id": "zFdi-zc_ryMX",
        "outputId": "335d9a75-cdcd-4e71-c962-dbe78f509c4c"
      },
      "execution_count": null,
      "outputs": [
        {
          "output_type": "stream",
          "name": "stderr",
          "text": [
            "<ipython-input-38-612d537603ed>:2: DeprecationWarning: ANTIALIAS is deprecated and will be removed in Pillow 10 (2023-07-01). Use LANCZOS or Resampling.LANCZOS instead.\n",
            "  img = Image.open(\"/content/sample_data/three.png\").convert('L').resize((28, 28), Image.ANTIALIAS)\n"
          ]
        }
      ]
    },
    {
      "cell_type": "code",
      "source": [
        "model.predict(img[None, :, :])"
      ],
      "metadata": {
        "colab": {
          "base_uri": "https://localhost:8080/"
        },
        "id": "CLCdOa9moHyz",
        "outputId": "79f28e43-26fb-450b-f2a9-f4db2b4b6477"
      },
      "execution_count": null,
      "outputs": [
        {
          "output_type": "stream",
          "name": "stdout",
          "text": [
            "1/1 [==============================] - 0s 88ms/step\n"
          ]
        },
        {
          "output_type": "execute_result",
          "data": {
            "text/plain": [
              "array([[0., 0., 0., 1., 0., 0., 0., 0., 0., 0.]], dtype=float32)"
            ]
          },
          "metadata": {},
          "execution_count": 39
        }
      ]
    },
    {
      "cell_type": "code",
      "source": [
        "y_prob = model.predict(img[None, :, :])\n",
        "y_prob.round(2)"
      ],
      "metadata": {
        "colab": {
          "base_uri": "https://localhost:8080/"
        },
        "id": "8TyoJC0Er6Hv",
        "outputId": "38c54f55-a8e4-4097-aca6-75584ad35d12"
      },
      "execution_count": null,
      "outputs": [
        {
          "output_type": "stream",
          "name": "stdout",
          "text": [
            "1/1 [==============================] - 0s 26ms/step\n"
          ]
        },
        {
          "output_type": "execute_result",
          "data": {
            "text/plain": [
              "array([[0., 0., 0., 1., 0., 0., 0., 0., 0., 0.]], dtype=float32)"
            ]
          },
          "metadata": {},
          "execution_count": 40
        }
      ]
    },
    {
      "cell_type": "code",
      "source": [
        "y_pred = [3]"
      ],
      "metadata": {
        "id": "tpsBFI6LsQkj"
      },
      "execution_count": null,
      "outputs": []
    },
    {
      "cell_type": "markdown",
      "source": [
        "Implement an algorithms using opencv that detect and track multiple objects of different shapes and sizes in a real-time video stream, while accurately estimating their positions and orientations"
      ],
      "metadata": {
        "id": "hlxPTyncuIh2"
      }
    },
    {
      "cell_type": "code",
      "source": [
        "# # Install required dependencies\n",
        "# !pip install opencv-python-headless\n",
        "# !pip install tensorflow\n",
        "\n",
        "# # Clone the tensorflow-yolov4-tflite repository\n",
        "# !git clone https://github.com/hunglc007/tensorflow-yolov4-tflite.git\n",
        "!pip install opencv-python-headless numpy"
      ],
      "metadata": {
        "colab": {
          "base_uri": "https://localhost:8080/"
        },
        "id": "vIGwTN1Hvwj8",
        "outputId": "cabae2fc-6e99-465a-d7fc-40d8acb46093"
      },
      "execution_count": null,
      "outputs": [
        {
          "output_type": "stream",
          "name": "stdout",
          "text": [
            "Requirement already satisfied: opencv-python-headless in /usr/local/lib/python3.10/dist-packages (4.8.0.74)\n",
            "Requirement already satisfied: numpy in /usr/local/lib/python3.10/dist-packages (1.22.4)\n"
          ]
        }
      ]
    },
    {
      "cell_type": "code",
      "source": [
        "import cv2\n",
        "import numpy as np\n",
        "import urllib.request\n",
        "\n",
        "# Download the YOLOv4-tf model files from the official repository\n",
        "cfg_url = \"https://raw.githubusercontent.com/AlexeyAB/darknet/master/cfg/yolov4-tiny.cfg\"\n",
        "weights_url = \"https://github.com/AlexeyAB/darknet/releases/download/darknet_yolo_v4_pre/yolov4-tiny.weights\"\n",
        "cfg_path = \"yolov4-tiny.cfg\"\n",
        "weights_path = \"yolov4-tiny.weights\"\n",
        "urllib.request.urlretrieve(cfg_url, cfg_path)\n",
        "urllib.request.urlretrieve(weights_url, weights_path)\n",
        "\n",
        "# Load the YOLOv4-tf model\n",
        "net = cv2.dnn_DetectionModel(cfg_path, weights_path)\n",
        "net.setInputSize(416, 416)\n",
        "net.setInputScale(1.0 / 255)\n",
        "net.setInputSwapRB(True)\n",
        "class_names_path = \"/content/tensorflow-yolov4-tflite/data/classes/coco.names\"\n",
        "with open(class_names_path, \"r\") as f:\n",
        "    class_names = f.read().strip().split(\"\\n\")\n",
        "\n",
        "# Set the confidence threshold and non-maximum suppression threshold\n",
        "conf_threshold = 0.5\n",
        "nms_threshold = 0.3\n",
        "\n",
        "def detect_objects(image):\n",
        "    classes, confidences, boxes = net.detect(image, confThreshold=conf_threshold, nmsThreshold=nms_threshold)\n",
        "\n",
        "    if len(classes) > 0:\n",
        "        for class_id, confidence, box in zip(classes.flatten(), confidences.flatten(), boxes):\n",
        "            label = f\"{class_names[class_id]}: {confidence:.2f}\"\n",
        "            color = (0, 255, 0)\n",
        "            x, y, w, h = box\n",
        "            cv2.rectangle(image, (x, y), (x + w, y + h), color, 2)\n",
        "            cv2.putText(image, label, (x, y - 10), cv2.FONT_HERSHEY_SIMPLEX, 0.5, color, 2)\n",
        "\n",
        "    return image\n",
        "\n",
        "\n",
        "\n",
        "\n"
      ],
      "metadata": {
        "id": "_Oah5wgGs6_8"
      },
      "execution_count": null,
      "outputs": []
    },
    {
      "cell_type": "code",
      "source": [
        "video_stream = cv2.VideoCapture(0)\n",
        "\n",
        "while True:\n",
        "    ret, frame = video_stream.read()\n",
        "    if not ret:\n",
        "        break\n",
        "\n",
        "    frame = detect_objects(frame)\n",
        "\n",
        "    cv2.imshow(\"Object Detection\", frame)\n",
        "\n",
        "    if cv2.waitKey(1) & 0xFF == ord('q'):\n",
        "        break"
      ],
      "metadata": {
        "id": "fr6Nu5Mbx2cb"
      },
      "execution_count": null,
      "outputs": []
    },
    {
      "cell_type": "code",
      "source": [
        "video_stream.release()\n",
        "cv2.destroyAllWindows()"
      ],
      "metadata": {
        "id": "SwPfzGWyvaBo"
      },
      "execution_count": null,
      "outputs": []
    },
    {
      "cell_type": "code",
      "source": [
        "!pip list"
      ],
      "metadata": {
        "colab": {
          "base_uri": "https://localhost:8080/"
        },
        "id": "Z-maaweHzcJ9",
        "outputId": "e55af0d1-631d-45ba-965d-21b0850c47c2"
      },
      "execution_count": null,
      "outputs": [
        {
          "output_type": "stream",
          "name": "stdout",
          "text": [
            "Package                          Version\n",
            "-------------------------------- ---------------------\n",
            "absl-py                          1.4.0\n",
            "aiohttp                          3.8.5\n",
            "aiosignal                        1.3.1\n",
            "alabaster                        0.7.13\n",
            "albumentations                   1.2.1\n",
            "altair                           4.2.2\n",
            "anyio                            3.7.1\n",
            "appdirs                          1.4.4\n",
            "argon2-cffi                      21.3.0\n",
            "argon2-cffi-bindings             21.2.0\n",
            "array-record                     0.4.0\n",
            "arviz                            0.15.1\n",
            "astropy                          5.2.2\n",
            "astunparse                       1.6.3\n",
            "async-timeout                    4.0.2\n",
            "attrs                            23.1.0\n",
            "audioread                        3.0.0\n",
            "autograd                         1.6.2\n",
            "Babel                            2.12.1\n",
            "backcall                         0.2.0\n",
            "beautifulsoup4                   4.11.2\n",
            "bleach                           6.0.0\n",
            "blinker                          1.4\n",
            "blis                             0.7.10\n",
            "blosc2                           2.0.0\n",
            "bokeh                            3.1.1\n",
            "branca                           0.6.0\n",
            "build                            0.10.0\n",
            "CacheControl                     0.13.1\n",
            "cachetools                       5.3.1\n",
            "catalogue                        2.0.9\n",
            "certifi                          2023.7.22\n",
            "cffi                             1.15.1\n",
            "chardet                          4.0.0\n",
            "charset-normalizer               2.0.12\n",
            "chex                             0.1.7\n",
            "click                            8.1.6\n",
            "click-plugins                    1.1.1\n",
            "cligj                            0.7.2\n",
            "cloudpickle                      2.2.1\n",
            "cmake                            3.25.2\n",
            "cmdstanpy                        1.1.0\n",
            "colorcet                         3.0.1\n",
            "colorlover                       0.3.0\n",
            "community                        1.0.0b1\n",
            "confection                       0.1.0\n",
            "cons                             0.4.6\n",
            "contextlib2                      21.6.0\n",
            "contourpy                        1.1.0\n",
            "convertdate                      2.4.0\n",
            "cryptography                     3.4.8\n",
            "cufflinks                        0.17.3\n",
            "cvxopt                           1.3.1\n",
            "cvxpy                            1.3.2\n",
            "cycler                           0.11.0\n",
            "cymem                            2.0.7\n",
            "Cython                           0.29.36\n",
            "dask                             2022.12.1\n",
            "datascience                      0.17.6\n",
            "db-dtypes                        1.1.1\n",
            "dbus-python                      1.2.18\n",
            "debugpy                          1.6.6\n",
            "decorator                        4.4.2\n",
            "defusedxml                       0.7.1\n",
            "distributed                      2022.12.1\n",
            "distro                           1.7.0\n",
            "dlib                             19.24.2\n",
            "dm-tree                          0.1.8\n",
            "docutils                         0.16\n",
            "dopamine-rl                      4.0.6\n",
            "duckdb                           0.8.1\n",
            "earthengine-api                  0.1.360\n",
            "easydict                         1.10\n",
            "ecos                             2.0.12\n",
            "editdistance                     0.6.2\n",
            "en-core-web-sm                   3.5.0\n",
            "entrypoints                      0.4\n",
            "ephem                            4.1.4\n",
            "et-xmlfile                       1.1.0\n",
            "etils                            1.4.0\n",
            "etuples                          0.3.9\n",
            "exceptiongroup                   1.1.2\n",
            "fastai                           2.7.12\n",
            "fastcore                         1.5.29\n",
            "fastdownload                     0.0.7\n",
            "fastjsonschema                   2.18.0\n",
            "fastprogress                     1.0.3\n",
            "fastrlock                        0.8.1\n",
            "filelock                         3.12.2\n",
            "Fiona                            1.9.4.post1\n",
            "firebase-admin                   5.3.0\n",
            "Flask                            2.2.5\n",
            "flatbuffers                      23.5.26\n",
            "flax                             0.7.0\n",
            "folium                           0.14.0\n",
            "fonttools                        4.41.1\n",
            "frozendict                       2.3.8\n",
            "frozenlist                       1.4.0\n",
            "fsspec                           2023.6.0\n",
            "future                           0.18.3\n",
            "gast                             0.4.0\n",
            "gcsfs                            2023.6.0\n",
            "GDAL                             3.4.3\n",
            "gdown                            4.6.6\n",
            "gensim                           4.3.1\n",
            "geographiclib                    2.0\n",
            "geopandas                        0.13.2\n",
            "geopy                            2.3.0\n",
            "gin-config                       0.5.0\n",
            "glob2                            0.7\n",
            "google                           2.0.3\n",
            "google-api-core                  2.11.1\n",
            "google-api-python-client         2.84.0\n",
            "google-auth                      2.17.3\n",
            "google-auth-httplib2             0.1.0\n",
            "google-auth-oauthlib             1.0.0\n",
            "google-cloud-bigquery            3.10.0\n",
            "google-cloud-bigquery-connection 1.12.1\n",
            "google-cloud-bigquery-storage    2.22.0\n",
            "google-cloud-core                2.3.3\n",
            "google-cloud-datastore           2.15.2\n",
            "google-cloud-firestore           2.11.1\n",
            "google-cloud-functions           1.13.1\n",
            "google-cloud-language            2.9.1\n",
            "google-cloud-storage             2.8.0\n",
            "google-cloud-translate           3.11.2\n",
            "google-colab                     1.0.0\n",
            "google-crc32c                    1.5.0\n",
            "google-pasta                     0.2.0\n",
            "google-resumable-media           2.5.0\n",
            "googleapis-common-protos         1.59.1\n",
            "googledrivedownloader            0.4\n",
            "graphviz                         0.20.1\n",
            "greenlet                         2.0.2\n",
            "grpc-google-iam-v1               0.12.6\n",
            "grpcio                           1.56.2\n",
            "grpcio-status                    1.48.2\n",
            "gspread                          3.4.2\n",
            "gspread-dataframe                3.3.1\n",
            "gym                              0.25.2\n",
            "gym-notices                      0.0.8\n",
            "h5netcdf                         1.2.0\n",
            "h5py                             3.8.0\n",
            "holidays                         0.29\n",
            "holoviews                        1.15.4\n",
            "html5lib                         1.1\n",
            "httpimport                       1.3.1\n",
            "httplib2                         0.21.0\n",
            "humanize                         4.6.0\n",
            "hyperopt                         0.2.7\n",
            "idna                             3.4\n",
            "imageio                          2.25.1\n",
            "imageio-ffmpeg                   0.4.8\n",
            "imagesize                        1.4.1\n",
            "imbalanced-learn                 0.10.1\n",
            "imgaug                           0.4.0\n",
            "importlib-metadata               4.6.4\n",
            "importlib-resources              6.0.0\n",
            "imutils                          0.5.4\n",
            "inflect                          6.0.5\n",
            "iniconfig                        2.0.0\n",
            "intel-openmp                     2023.2.0\n",
            "ipykernel                        5.5.6\n",
            "ipython                          7.34.0\n",
            "ipython-genutils                 0.2.0\n",
            "ipython-sql                      0.4.1\n",
            "ipywidgets                       7.7.1\n",
            "itsdangerous                     2.1.2\n",
            "jax                              0.4.13\n",
            "jaxlib                           0.4.13+cuda11.cudnn86\n",
            "jeepney                          0.7.1\n",
            "jieba                            0.42.1\n",
            "Jinja2                           3.1.2\n",
            "joblib                           1.3.1\n",
            "jsonpickle                       3.0.1\n",
            "jsonschema                       4.3.3\n",
            "jupyter-client                   6.1.12\n",
            "jupyter-console                  6.1.0\n",
            "jupyter_core                     5.3.1\n",
            "jupyter-server                   1.24.0\n",
            "jupyterlab-pygments              0.2.2\n",
            "jupyterlab-widgets               3.0.8\n",
            "kaggle                           1.5.16\n",
            "keras                            2.12.0\n",
            "keyring                          23.5.0\n",
            "kiwisolver                       1.4.4\n",
            "langcodes                        3.3.0\n",
            "launchpadlib                     1.10.16\n",
            "lazr.restfulclient               0.14.4\n",
            "lazr.uri                         1.0.6\n",
            "lazy_loader                      0.3\n",
            "libclang                         16.0.6\n",
            "librosa                          0.10.0.post2\n",
            "lightgbm                         3.3.5\n",
            "linkify-it-py                    2.0.2\n",
            "lit                              16.0.6\n",
            "llvmlite                         0.39.1\n",
            "locket                           1.0.0\n",
            "logical-unification              0.4.6\n",
            "LunarCalendar                    0.0.9\n",
            "lxml                             4.9.3\n",
            "Markdown                         3.4.4\n",
            "markdown-it-py                   3.0.0\n",
            "MarkupSafe                       2.1.3\n",
            "matplotlib                       3.7.1\n",
            "matplotlib-inline                0.1.6\n",
            "matplotlib-venn                  0.11.9\n",
            "mdit-py-plugins                  0.4.0\n",
            "mdurl                            0.1.2\n",
            "miniKanren                       1.0.3\n",
            "missingno                        0.5.2\n",
            "mistune                          0.8.4\n",
            "mizani                           0.8.1\n",
            "mkl                              2019.0\n",
            "ml-dtypes                        0.2.0\n",
            "mlxtend                          0.22.0\n",
            "more-itertools                   9.1.0\n",
            "moviepy                          1.0.3\n",
            "mpmath                           1.3.0\n",
            "msgpack                          1.0.5\n",
            "multidict                        6.0.4\n",
            "multipledispatch                 1.0.0\n",
            "multitasking                     0.0.11\n",
            "murmurhash                       1.0.9\n",
            "music21                          8.1.0\n",
            "natsort                          8.3.1\n",
            "nbclient                         0.8.0\n",
            "nbconvert                        6.5.4\n",
            "nbformat                         5.9.1\n",
            "nest-asyncio                     1.5.6\n",
            "networkx                         3.1\n",
            "nibabel                          3.0.2\n",
            "nltk                             3.8.1\n",
            "notebook                         6.4.8\n",
            "numba                            0.56.4\n",
            "numexpr                          2.8.4\n",
            "numpy                            1.22.4\n",
            "oauth2client                     4.1.3\n",
            "oauthlib                         3.2.2\n",
            "opencv-contrib-python            4.7.0.72\n",
            "opencv-python                    4.7.0.72\n",
            "opencv-python-headless           4.8.0.74\n",
            "openpyxl                         3.0.10\n",
            "opt-einsum                       3.3.0\n",
            "optax                            0.1.5\n",
            "orbax-checkpoint                 0.3.0\n",
            "osqp                             0.6.2.post8\n",
            "packaging                        23.1\n",
            "palettable                       3.3.3\n",
            "pandas                           1.5.3\n",
            "pandas-datareader                0.10.0\n",
            "pandas-gbq                       0.17.9\n",
            "pandocfilters                    1.5.0\n",
            "panel                            1.2.0\n",
            "param                            1.13.0\n",
            "parso                            0.8.3\n",
            "partd                            1.4.0\n",
            "pathlib                          1.0.1\n",
            "pathy                            0.10.2\n",
            "patsy                            0.5.3\n",
            "pexpect                          4.8.0\n",
            "pickleshare                      0.7.5\n",
            "Pillow                           9.4.0\n",
            "pip                              23.1.2\n",
            "pip-tools                        6.13.0\n",
            "platformdirs                     3.9.1\n",
            "plotly                           5.13.1\n",
            "plotnine                         0.10.1\n",
            "pluggy                           1.2.0\n",
            "polars                           0.17.3\n",
            "pooch                            1.6.0\n",
            "portpicker                       1.5.2\n",
            "prefetch-generator               1.0.3\n",
            "preshed                          3.0.8\n",
            "prettytable                      0.7.2\n",
            "proglog                          0.1.10\n",
            "progressbar2                     4.2.0\n",
            "prometheus-client                0.17.1\n",
            "promise                          2.3\n",
            "prompt-toolkit                   3.0.39\n",
            "prophet                          1.1.4\n",
            "proto-plus                       1.22.3\n",
            "protobuf                         3.20.3\n",
            "psutil                           5.9.5\n",
            "psycopg2                         2.9.6\n",
            "ptyprocess                       0.7.0\n",
            "py-cpuinfo                       9.0.0\n",
            "py4j                             0.10.9.7\n",
            "pyarrow                          9.0.0\n",
            "pyasn1                           0.5.0\n",
            "pyasn1-modules                   0.3.0\n",
            "pycocotools                      2.0.6\n",
            "pycparser                        2.21\n",
            "pyct                             0.5.0\n",
            "pydantic                         1.10.12\n",
            "pydata-google-auth               1.8.1\n",
            "pydot                            1.4.2\n",
            "pydot-ng                         2.0.0\n",
            "pydotplus                        2.0.2\n",
            "PyDrive                          1.3.1\n",
            "pyerfa                           2.0.0.3\n",
            "pygame                           2.5.0\n",
            "Pygments                         2.14.0\n",
            "PyGObject                        3.42.1\n",
            "PyJWT                            2.3.0\n",
            "pymc                             5.1.2\n",
            "PyMeeus                          0.5.12\n",
            "pymystem3                        0.2.0\n",
            "PyOpenGL                         3.1.7\n",
            "pyparsing                        3.1.0\n",
            "pyproj                           3.6.0\n",
            "pyproject_hooks                  1.0.0\n",
            "pyrsistent                       0.19.3\n",
            "PySocks                          1.7.1\n",
            "pytensor                         2.10.1\n",
            "pytest                           7.2.2\n",
            "python-apt                       0.0.0\n",
            "python-dateutil                  2.8.2\n",
            "python-louvain                   0.16\n",
            "python-slugify                   8.0.1\n",
            "python-utils                     3.7.0\n",
            "pytz                             2022.7.1\n",
            "pyviz-comms                      2.3.2\n",
            "PyWavelets                       1.4.1\n",
            "PyYAML                           6.0.1\n",
            "pyzmq                            23.2.1\n",
            "qdldl                            0.1.7.post0\n",
            "qudida                           0.0.4\n",
            "regex                            2022.10.31\n",
            "requests                         2.27.1\n",
            "requests-oauthlib                1.3.1\n",
            "requirements-parser              0.5.0\n",
            "rich                             13.4.2\n",
            "rpy2                             3.4.2\n",
            "rsa                              4.9\n",
            "scikit-image                     0.19.3\n",
            "scikit-learn                     1.2.2\n",
            "scipy                            1.10.1\n",
            "scs                              3.2.3\n",
            "seaborn                          0.12.2\n",
            "SecretStorage                    3.3.1\n",
            "Send2Trash                       1.8.2\n",
            "setuptools                       67.7.2\n",
            "shapely                          2.0.1\n",
            "six                              1.16.0\n",
            "sklearn-pandas                   2.2.0\n",
            "smart-open                       6.3.0\n",
            "sniffio                          1.3.0\n",
            "snowballstemmer                  2.2.0\n",
            "sortedcontainers                 2.4.0\n",
            "soundfile                        0.12.1\n",
            "soupsieve                        2.4.1\n",
            "soxr                             0.3.5\n",
            "spacy                            3.5.4\n",
            "spacy-legacy                     3.0.12\n",
            "spacy-loggers                    1.0.4\n",
            "Sphinx                           3.5.4\n",
            "sphinxcontrib-applehelp          1.0.4\n",
            "sphinxcontrib-devhelp            1.0.2\n",
            "sphinxcontrib-htmlhelp           2.0.1\n",
            "sphinxcontrib-jsmath             1.0.1\n",
            "sphinxcontrib-qthelp             1.0.3\n",
            "sphinxcontrib-serializinghtml    1.1.5\n",
            "SQLAlchemy                       2.0.19\n",
            "sqlparse                         0.4.4\n",
            "srsly                            2.4.7\n",
            "statsmodels                      0.13.5\n",
            "sympy                            1.11.1\n",
            "tables                           3.8.0\n",
            "tabulate                         0.9.0\n",
            "tblib                            2.0.0\n",
            "tenacity                         8.2.2\n",
            "tensorboard                      2.12.3\n",
            "tensorboard-data-server          0.7.1\n",
            "tensorflow                       2.12.0\n",
            "tensorflow-datasets              4.9.2\n",
            "tensorflow-estimator             2.12.0\n",
            "tensorflow-gcs-config            2.12.0\n",
            "tensorflow-hub                   0.14.0\n",
            "tensorflow-io-gcs-filesystem     0.32.0\n",
            "tensorflow-metadata              1.13.1\n",
            "tensorflow-probability           0.20.1\n",
            "tensorstore                      0.1.40\n",
            "termcolor                        2.3.0\n",
            "terminado                        0.17.1\n",
            "text-unidecode                   1.3\n",
            "textblob                         0.17.1\n",
            "tf-slim                          1.1.0\n",
            "thinc                            8.1.10\n",
            "threadpoolctl                    3.2.0\n",
            "tifffile                         2023.7.18\n",
            "tinycss2                         1.2.1\n",
            "toml                             0.10.2\n",
            "tomli                            2.0.1\n",
            "toolz                            0.12.0\n",
            "torch                            2.0.1+cu118\n",
            "torchaudio                       2.0.2+cu118\n",
            "torchdata                        0.6.1\n",
            "torchsummary                     1.5.1\n",
            "torchtext                        0.15.2\n",
            "torchvision                      0.15.2+cu118\n",
            "tornado                          6.3.1\n",
            "tqdm                             4.65.0\n",
            "traitlets                        5.7.1\n",
            "triton                           2.0.0\n",
            "tweepy                           4.13.0\n",
            "typer                            0.9.0\n",
            "types-setuptools                 68.0.0.3\n",
            "typing_extensions                4.7.1\n",
            "tzlocal                          5.0.1\n",
            "uc-micro-py                      1.0.2\n",
            "uritemplate                      4.1.1\n",
            "urllib3                          1.26.16\n",
            "vega-datasets                    0.9.0\n",
            "wadllib                          1.3.6\n",
            "wasabi                           1.1.2\n",
            "wcwidth                          0.2.6\n",
            "webcolors                        1.13\n",
            "webencodings                     0.5.1\n",
            "websocket-client                 1.6.1\n",
            "Werkzeug                         2.3.6\n",
            "wheel                            0.41.0\n",
            "widgetsnbextension               3.6.4\n",
            "wordcloud                        1.8.2.2\n",
            "wrapt                            1.14.1\n",
            "xarray                           2022.12.0\n",
            "xarray-einstats                  0.6.0\n",
            "xgboost                          1.7.6\n",
            "xlrd                             2.0.1\n",
            "xyzservices                      2023.7.0\n",
            "yarl                             1.9.2\n",
            "yellowbrick                      1.5\n",
            "yfinance                         0.2.25\n",
            "zict                             3.0.0\n",
            "zipp                             3.16.2\n"
          ]
        }
      ]
    },
    {
      "cell_type": "code",
      "source": [],
      "metadata": {
        "id": "DyQdjsv4zcMw"
      },
      "execution_count": null,
      "outputs": []
    },
    {
      "cell_type": "markdown",
      "source": [
        "Write python program that simulates a distributed system with multiple nodes communicating with each other over a network. The program should use coroutines and futures to handle concurrency and should be able to recover from node failures without crashing or losing data. The program should also use non-blocking I/O to maximize performance and scalability."
      ],
      "metadata": {
        "id": "5e5HVYnVzkqV"
      }
    },
    {
      "cell_type": "code",
      "source": [
        "import asyncio\n",
        "import random\n",
        "\n",
        "class DistributedNode:\n",
        "    def __init__(self, node_id, initial_data=None):\n",
        "        self.node_id = node_id\n",
        "        self.data = initial_data if initial_data else {}\n",
        "        self.neighbours = set()\n",
        "\n",
        "    async def handle_connection(self, reader, writer):\n",
        "        data = await reader.read(100)\n",
        "        message = data.decode()\n",
        "\n",
        "        if message.startswith('PUT'):\n",
        "            _, key, value = message.split()\n",
        "            self.data[key] = value\n",
        "            print(f\"Node {self.node_id} received PUT request: {key}={value}\")\n",
        "            self.replicate_to_neighbours(message)\n",
        "        elif message.startswith('GET'):\n",
        "            _, key = message.split()\n",
        "            value = self.data.get(key, \"Not found\")\n",
        "            writer.write(value.encode())\n",
        "            await writer.drain()\n",
        "        else:\n",
        "            print(f\"Node {self.node_id} received an invalid request: {message}\")\n",
        "\n",
        "        writer.close()\n",
        "\n",
        "    async def replicate_to_neighbours(self, message):\n",
        "        # Simulate some network delay\n",
        "        await asyncio.sleep(random.uniform(0.1, 0.5))\n",
        "\n",
        "        for neighbour in self.neighbours:\n",
        "            host, port = neighbour\n",
        "            try:\n",
        "                reader, writer = await asyncio.open_connection(host, port)\n",
        "                writer.write(message.encode())\n",
        "                await writer.drain()\n",
        "                writer.close()\n",
        "                await writer.wait_closed()\n",
        "                print(f\"Node {self.node_id} replicated data to {host}:{port}\")\n",
        "            except:\n",
        "                print(f\"Node {self.node_id} failed to replicate data to {host}:{port}\")\n",
        "\n",
        "    async def run(self, host, port):\n",
        "        server = await asyncio.start_server(self.handle_connection, host, port)\n",
        "        print(f\"Node {self.node_id} is running on {host}:{port}\")\n",
        "\n",
        "        async with server:\n",
        "            await server.serve_forever()\n",
        "\n",
        "    def add_neighbour(self, host, port):\n",
        "        self.neighbours.add((host, port))\n",
        "\n",
        "def main():\n",
        "    nodes = []\n",
        "    num_nodes = 5\n",
        "\n",
        "    for i in range(num_nodes):\n",
        "        node = DistributedNode(node_id=i)\n",
        "        nodes.append(node)\n",
        "\n",
        "    # Connect the nodes in a ring-like topology for simplicity\n",
        "    for i in range(num_nodes):\n",
        "        next_node = nodes[(i + 1) % num_nodes]\n",
        "        nodes[i].add_neighbour('127.0.0.1', 5000 + next_node.node_id)\n",
        "\n",
        "    loop = asyncio.get_event_loop()\n",
        "    tasks = [node.run('127.0.0.1', 5000 + node.node_id) for node in nodes]\n",
        "    loop.run_until_complete(asyncio.gather(*tasks))\n",
        "\n",
        "if __name__ == \"__main__\":\n",
        "    main()\n"
      ],
      "metadata": {
        "colab": {
          "base_uri": "https://localhost:8080/",
          "height": 433
        },
        "id": "yA-DMSRVzcPE",
        "outputId": "24322d7a-b70a-4776-cf16-189bc1b5d62e"
      },
      "execution_count": null,
      "outputs": [
        {
          "output_type": "error",
          "ename": "RuntimeError",
          "evalue": "ignored",
          "traceback": [
            "\u001b[0;31m---------------------------------------------------------------------------\u001b[0m",
            "\u001b[0;31mRuntimeError\u001b[0m                              Traceback (most recent call last)",
            "\u001b[0;32m<ipython-input-60-4c6bf9da9b2f>\u001b[0m in \u001b[0;36m<cell line: 72>\u001b[0;34m()\u001b[0m\n\u001b[1;32m     71\u001b[0m \u001b[0;34m\u001b[0m\u001b[0m\n\u001b[1;32m     72\u001b[0m \u001b[0;32mif\u001b[0m \u001b[0m__name__\u001b[0m \u001b[0;34m==\u001b[0m \u001b[0;34m\"__main__\"\u001b[0m\u001b[0;34m:\u001b[0m\u001b[0;34m\u001b[0m\u001b[0;34m\u001b[0m\u001b[0m\n\u001b[0;32m---> 73\u001b[0;31m     \u001b[0mmain\u001b[0m\u001b[0;34m(\u001b[0m\u001b[0;34m)\u001b[0m\u001b[0;34m\u001b[0m\u001b[0;34m\u001b[0m\u001b[0m\n\u001b[0m",
            "\u001b[0;32m<ipython-input-60-4c6bf9da9b2f>\u001b[0m in \u001b[0;36mmain\u001b[0;34m()\u001b[0m\n\u001b[1;32m     68\u001b[0m     \u001b[0mloop\u001b[0m \u001b[0;34m=\u001b[0m \u001b[0masyncio\u001b[0m\u001b[0;34m.\u001b[0m\u001b[0mget_event_loop\u001b[0m\u001b[0;34m(\u001b[0m\u001b[0;34m)\u001b[0m\u001b[0;34m\u001b[0m\u001b[0;34m\u001b[0m\u001b[0m\n\u001b[1;32m     69\u001b[0m     \u001b[0mtasks\u001b[0m \u001b[0;34m=\u001b[0m \u001b[0;34m[\u001b[0m\u001b[0mnode\u001b[0m\u001b[0;34m.\u001b[0m\u001b[0mrun\u001b[0m\u001b[0;34m(\u001b[0m\u001b[0;34m'127.0.0.1'\u001b[0m\u001b[0;34m,\u001b[0m \u001b[0;36m5000\u001b[0m \u001b[0;34m+\u001b[0m \u001b[0mnode\u001b[0m\u001b[0;34m.\u001b[0m\u001b[0mnode_id\u001b[0m\u001b[0;34m)\u001b[0m \u001b[0;32mfor\u001b[0m \u001b[0mnode\u001b[0m \u001b[0;32min\u001b[0m \u001b[0mnodes\u001b[0m\u001b[0;34m]\u001b[0m\u001b[0;34m\u001b[0m\u001b[0;34m\u001b[0m\u001b[0m\n\u001b[0;32m---> 70\u001b[0;31m     \u001b[0mloop\u001b[0m\u001b[0;34m.\u001b[0m\u001b[0mrun_until_complete\u001b[0m\u001b[0;34m(\u001b[0m\u001b[0masyncio\u001b[0m\u001b[0;34m.\u001b[0m\u001b[0mgather\u001b[0m\u001b[0;34m(\u001b[0m\u001b[0;34m*\u001b[0m\u001b[0mtasks\u001b[0m\u001b[0;34m)\u001b[0m\u001b[0;34m)\u001b[0m\u001b[0;34m\u001b[0m\u001b[0;34m\u001b[0m\u001b[0m\n\u001b[0m\u001b[1;32m     71\u001b[0m \u001b[0;34m\u001b[0m\u001b[0m\n\u001b[1;32m     72\u001b[0m \u001b[0;32mif\u001b[0m \u001b[0m__name__\u001b[0m \u001b[0;34m==\u001b[0m \u001b[0;34m\"__main__\"\u001b[0m\u001b[0;34m:\u001b[0m\u001b[0;34m\u001b[0m\u001b[0;34m\u001b[0m\u001b[0m\n",
            "\u001b[0;32m/usr/lib/python3.10/asyncio/base_events.py\u001b[0m in \u001b[0;36mrun_until_complete\u001b[0;34m(self, future)\u001b[0m\n\u001b[1;32m    620\u001b[0m         \"\"\"\n\u001b[1;32m    621\u001b[0m         \u001b[0mself\u001b[0m\u001b[0;34m.\u001b[0m\u001b[0m_check_closed\u001b[0m\u001b[0;34m(\u001b[0m\u001b[0;34m)\u001b[0m\u001b[0;34m\u001b[0m\u001b[0;34m\u001b[0m\u001b[0m\n\u001b[0;32m--> 622\u001b[0;31m         \u001b[0mself\u001b[0m\u001b[0;34m.\u001b[0m\u001b[0m_check_running\u001b[0m\u001b[0;34m(\u001b[0m\u001b[0;34m)\u001b[0m\u001b[0;34m\u001b[0m\u001b[0;34m\u001b[0m\u001b[0m\n\u001b[0m\u001b[1;32m    623\u001b[0m \u001b[0;34m\u001b[0m\u001b[0m\n\u001b[1;32m    624\u001b[0m         \u001b[0mnew_task\u001b[0m \u001b[0;34m=\u001b[0m \u001b[0;32mnot\u001b[0m \u001b[0mfutures\u001b[0m\u001b[0;34m.\u001b[0m\u001b[0misfuture\u001b[0m\u001b[0;34m(\u001b[0m\u001b[0mfuture\u001b[0m\u001b[0;34m)\u001b[0m\u001b[0;34m\u001b[0m\u001b[0;34m\u001b[0m\u001b[0m\n",
            "\u001b[0;32m/usr/lib/python3.10/asyncio/base_events.py\u001b[0m in \u001b[0;36m_check_running\u001b[0;34m(self)\u001b[0m\n\u001b[1;32m    580\u001b[0m     \u001b[0;32mdef\u001b[0m \u001b[0m_check_running\u001b[0m\u001b[0;34m(\u001b[0m\u001b[0mself\u001b[0m\u001b[0;34m)\u001b[0m\u001b[0;34m:\u001b[0m\u001b[0;34m\u001b[0m\u001b[0;34m\u001b[0m\u001b[0m\n\u001b[1;32m    581\u001b[0m         \u001b[0;32mif\u001b[0m \u001b[0mself\u001b[0m\u001b[0;34m.\u001b[0m\u001b[0mis_running\u001b[0m\u001b[0;34m(\u001b[0m\u001b[0;34m)\u001b[0m\u001b[0;34m:\u001b[0m\u001b[0;34m\u001b[0m\u001b[0;34m\u001b[0m\u001b[0m\n\u001b[0;32m--> 582\u001b[0;31m             \u001b[0;32mraise\u001b[0m \u001b[0mRuntimeError\u001b[0m\u001b[0;34m(\u001b[0m\u001b[0;34m'This event loop is already running'\u001b[0m\u001b[0;34m)\u001b[0m\u001b[0;34m\u001b[0m\u001b[0;34m\u001b[0m\u001b[0m\n\u001b[0m\u001b[1;32m    583\u001b[0m         \u001b[0;32mif\u001b[0m \u001b[0mevents\u001b[0m\u001b[0;34m.\u001b[0m\u001b[0m_get_running_loop\u001b[0m\u001b[0;34m(\u001b[0m\u001b[0;34m)\u001b[0m \u001b[0;32mis\u001b[0m \u001b[0;32mnot\u001b[0m \u001b[0;32mNone\u001b[0m\u001b[0;34m:\u001b[0m\u001b[0;34m\u001b[0m\u001b[0;34m\u001b[0m\u001b[0m\n\u001b[1;32m    584\u001b[0m             raise RuntimeError(\n",
            "\u001b[0;31mRuntimeError\u001b[0m: This event loop is already running"
          ]
        },
        {
          "output_type": "stream",
          "name": "stdout",
          "text": [
            "Node 0 is running on 127.0.0.1:5000\n",
            "Node 1 is running on 127.0.0.1:5001\n",
            "Node 2 is running on 127.0.0.1:5002\n",
            "Node 3 is running on 127.0.0.1:5003\n",
            "Node 4 is running on 127.0.0.1:5004\n"
          ]
        }
      ]
    },
    {
      "cell_type": "markdown",
      "source": [
        "Write a Python program  that takes a text document as input and returns a list of the top 5 most frequent nouns, excluding stop words and punctuation marks."
      ],
      "metadata": {
        "id": "gYXZrIrP5ChU"
      }
    },
    {
      "cell_type": "code",
      "source": [
        "!pip install nltk\n",
        "import nltk\n",
        "nltk.download(\"punkt\")\n",
        "nltk.download(\"averaged_perceptron_tagger\")\n",
        "nltk.download(\"stopwords\")"
      ],
      "metadata": {
        "colab": {
          "base_uri": "https://localhost:8080/"
        },
        "id": "83ngnEXp5RQc",
        "outputId": "a975220e-660f-471e-b8b1-70c14d59bad2"
      },
      "execution_count": null,
      "outputs": [
        {
          "output_type": "stream",
          "name": "stdout",
          "text": [
            "Requirement already satisfied: nltk in /usr/local/lib/python3.10/dist-packages (3.8.1)\n",
            "Requirement already satisfied: click in /usr/local/lib/python3.10/dist-packages (from nltk) (8.1.6)\n",
            "Requirement already satisfied: joblib in /usr/local/lib/python3.10/dist-packages (from nltk) (1.3.1)\n",
            "Requirement already satisfied: regex>=2021.8.3 in /usr/local/lib/python3.10/dist-packages (from nltk) (2022.10.31)\n",
            "Requirement already satisfied: tqdm in /usr/local/lib/python3.10/dist-packages (from nltk) (4.65.0)\n"
          ]
        },
        {
          "output_type": "stream",
          "name": "stderr",
          "text": [
            "[nltk_data] Downloading package punkt to /root/nltk_data...\n",
            "[nltk_data]   Unzipping tokenizers/punkt.zip.\n",
            "[nltk_data] Downloading package averaged_perceptron_tagger to\n",
            "[nltk_data]     /root/nltk_data...\n",
            "[nltk_data]   Unzipping taggers/averaged_perceptron_tagger.zip.\n",
            "[nltk_data] Downloading package stopwords to /root/nltk_data...\n",
            "[nltk_data]   Unzipping corpora/stopwords.zip.\n"
          ]
        },
        {
          "output_type": "execute_result",
          "data": {
            "text/plain": [
              "True"
            ]
          },
          "metadata": {},
          "execution_count": 63
        }
      ]
    },
    {
      "cell_type": "code",
      "source": [
        "import nltk\n",
        "from nltk.corpus import stopwords\n",
        "from nltk.tokenize import word_tokenize\n",
        "from nltk.probability import FreqDist\n",
        "import string\n",
        "\n",
        "def get_top_nouns(text, n=5):\n",
        "    # Tokenize the text\n",
        "    tokens = word_tokenize(text)\n",
        "\n",
        "    # Remove punctuation marks\n",
        "    table = str.maketrans(\"\", \"\", string.punctuation)\n",
        "    tokens = [token.translate(table) for token in tokens if token.translate(table).strip() != \"\"]\n",
        "\n",
        "    # Get part-of-speech tags\n",
        "    pos_tags = nltk.pos_tag(tokens)\n",
        "\n",
        "    # Extract nouns and convert to lowercase\n",
        "    nouns = [word.lower() for word, pos in pos_tags if pos.startswith(\"NN\") and word.lower() not in stopwords.words(\"english\")]\n",
        "\n",
        "    # Calculate frequency distribution of nouns\n",
        "    fdist = FreqDist(nouns)\n",
        "\n",
        "    # Get the top n most frequent nouns\n",
        "    top_nouns = fdist.most_common(n)\n",
        "\n",
        "    return top_nouns\n",
        "\n",
        "if __name__ == \"__main__\":\n",
        "    # Read the input text from a file\n",
        "    file_path = \"/content/sample_data/test.txt\"\n",
        "    with open(file_path, \"r\") as file:\n",
        "        text = file.read()\n",
        "\n",
        "    top_nouns = get_top_nouns(text)\n",
        "\n",
        "    print(\"Top 5 most frequent nouns (excluding stop words and punctuation marks):\")\n",
        "    for noun, frequency in top_nouns:\n",
        "        print(f\"{noun}: {frequency}\")\n"
      ],
      "metadata": {
        "colab": {
          "base_uri": "https://localhost:8080/"
        },
        "id": "k022uMpEzltW",
        "outputId": "227434bf-d89d-4284-9c27-02911b7d3a68"
      },
      "execution_count": null,
      "outputs": [
        {
          "output_type": "stream",
          "name": "stdout",
          "text": [
            "Top 5 most frequent nouns (excluding stop words and punctuation marks):\n",
            "python: 14\n",
            "project: 3\n",
            "code: 3\n",
            "van: 2\n",
            "rossum: 2\n"
          ]
        }
      ]
    },
    {
      "cell_type": "code",
      "source": [],
      "metadata": {
        "id": "5Bd6Ooa25KuK"
      },
      "execution_count": null,
      "outputs": []
    },
    {
      "cell_type": "code",
      "source": [],
      "metadata": {
        "id": "IBIF5vz95Kwd"
      },
      "execution_count": null,
      "outputs": []
    }
  ]
}