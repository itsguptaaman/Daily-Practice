{
 "cells": [
  {
   "cell_type": "markdown",
   "id": "5dac0930",
   "metadata": {},
   "source": [
    "### Implementing URL shortner\n",
    "* The shorten URL should be unique for any URLs."
   ]
  },
  {
   "cell_type": "code",
   "execution_count": 1,
   "id": "e1c01aae",
   "metadata": {},
   "outputs": [],
   "source": [
    "class ShortUrl:\n",
    "    \n",
    "    def __init__(self):\n",
    "        # initilazing 10 billon id's\n",
    "        self.id = 10000000000\n",
    "        # Storing the url in order, not to have duplicate url with different ids\n",
    "        self.url_id = {}\n",
    "    \n",
    "    def encode(self, id):\n",
    "        # base 62 characters\n",
    "        characters = \"0123456789abcdefghijklmnopqrstuvwxyzABCDEFGHIJKLMNOPQRSTUVWXYZ\"\n",
    "        base = len(characters)\n",
    "        ret = []\n",
    "        # convert base10 id into base62 id for having alphanumeric shorten url\n",
    "        while id > 0:\n",
    "            val = id % base\n",
    "            ret.append(characters[val])\n",
    "            id = id // base\n",
    "        # since ret has reversed order of base62 id, reverse ret before return it\n",
    "        return \"\".join(ret[::-1])\n",
    "    \n",
    "    def shorten_url(self, original_url):\n",
    "        if original_url in self.url_id:\n",
    "            id = self.url_id[original_url]\n",
    "            shorten_url = self.encode(self.id)\n",
    "        else:\n",
    "            # store url_id in order not to have duplicated url with different id in the future\n",
    "            self.url_id[original_url] = self.id\n",
    "            shorten_url = self.encode(self.id)\n",
    "            # increase cnt for next url\n",
    "            self.id += 1\n",
    "        return \"short_url.com/\" + shorten_url"
   ]
  },
  {
   "cell_type": "code",
   "execution_count": 2,
   "id": "977fb2e5",
   "metadata": {},
   "outputs": [
    {
     "name": "stdout",
     "output_type": "stream",
     "text": [
      "short_url.com/aUKYOA\n",
      "short_url.com/aUKYOB\n",
      "short_url.com/aUKYOB\n",
      "short_url.com/aUKYOC\n",
      "short_url.com/aUKYOD\n"
     ]
    }
   ],
   "source": [
    "shortener = ShortUrl()\n",
    "print(shortener.shorten_url(\"goooooooooooooogle.com\"))\n",
    "print(shortener.shorten_url(\"goooooooooooooogle.com\"))\n",
    "print(shortener.shorten_url(\"veryloooooooongurl.com\"))\n",
    "print(shortener.shorten_url(\"helllloooooooooooo.com\"))\n",
    "print(shortener.shorten_url(\"https://coding_interview.com/questions/183658/replacing-letters-with-number\"))"
   ]
  },
  {
   "cell_type": "code",
   "execution_count": null,
   "id": "1503f8a6",
   "metadata": {},
   "outputs": [],
   "source": []
  },
  {
   "cell_type": "code",
   "execution_count": null,
   "id": "724926a8",
   "metadata": {},
   "outputs": [],
   "source": []
  },
  {
   "cell_type": "code",
   "execution_count": null,
   "id": "af78884c",
   "metadata": {},
   "outputs": [],
   "source": []
  },
  {
   "cell_type": "code",
   "execution_count": null,
   "id": "e02e80e1",
   "metadata": {},
   "outputs": [],
   "source": []
  }
 ],
 "metadata": {
  "kernelspec": {
   "display_name": "Python 3 (ipykernel)",
   "language": "python",
   "name": "python3"
  },
  "language_info": {
   "codemirror_mode": {
    "name": "ipython",
    "version": 3
   },
   "file_extension": ".py",
   "mimetype": "text/x-python",
   "name": "python",
   "nbconvert_exporter": "python",
   "pygments_lexer": "ipython3",
   "version": "3.9.12"
  }
 },
 "nbformat": 4,
 "nbformat_minor": 5
}
