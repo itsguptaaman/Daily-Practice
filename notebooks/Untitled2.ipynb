{
 "cells": [
  {
   "cell_type": "code",
   "execution_count": 8,
   "id": "8469ddc5",
   "metadata": {},
   "outputs": [],
   "source": [
    "import re"
   ]
  },
  {
   "cell_type": "code",
   "execution_count": 9,
   "id": "fa1c4462",
   "metadata": {},
   "outputs": [],
   "source": [
    "data = \"\"\"\n",
    "1) GARATA NARASIMHA RAO\n",
    "    Advocate - KALLA TULASI DURGAMBA\n",
    "  \n",
    "2) Sri Kadavakollu Naveen Kumar\n",
    "3) J. Ratan Kumar\"\"\""
   ]
  },
  {
   "cell_type": "code",
   "execution_count": 10,
   "id": "f6fbd03c",
   "metadata": {},
   "outputs": [
    {
     "data": {
      "text/plain": [
       "'\\n1) GARATA NARASIMHA RAO\\n    Advocate - KALLA TULASI DURGAMBA\\n  \\n2) Sri Kadavakollu Naveen Kumar\\n3) J. Ratan Kumar'"
      ]
     },
     "execution_count": 10,
     "metadata": {},
     "output_type": "execute_result"
    }
   ],
   "source": [
    "data"
   ]
  },
  {
   "cell_type": "markdown",
   "id": "123c1da2",
   "metadata": {},
   "source": [
    "names='GARATA NARASIMHA RAO,Sri Kadavakollu Naveen Kumar,J. Ratan Kumar'\n",
    "\n",
    "advocate= Advocate - KALLA TULASI DURGAMBA"
   ]
  },
  {
   "cell_type": "code",
   "execution_count": 11,
   "id": "7d7085d8",
   "metadata": {},
   "outputs": [],
   "source": [
    "res = data.split(\"\\n\")\n"
   ]
  },
  {
   "cell_type": "code",
   "execution_count": 13,
   "id": "8372fef8",
   "metadata": {},
   "outputs": [
    {
     "data": {
      "text/plain": [
       "'GARATA NARASIMHA RAO,Sri Kadavakollu Naveen Kumar,J. Ratan Kumar'"
      ]
     },
     "execution_count": 13,
     "metadata": {},
     "output_type": "execute_result"
    }
   ],
   "source": [
    "','.join([i.strip() for i in re.findall(r'(?<=\\d[)]).*?(?=Advocate|\\d[)])|(?<=\\d[)]).*',data)])"
   ]
  },
  {
   "cell_type": "code",
   "execution_count": 3,
   "id": "a065b042",
   "metadata": {},
   "outputs": [],
   "source": [
    "def fact(x):\n",
    "    if x == 0:\n",
    "        return 1\n",
    "    else:\n",
    "        return x * fact(x - 1)"
   ]
  },
  {
   "cell_type": "code",
   "execution_count": 6,
   "id": "b38ed888",
   "metadata": {},
   "outputs": [
    {
     "data": {
      "text/plain": [
       "120"
      ]
     },
     "execution_count": 6,
     "metadata": {},
     "output_type": "execute_result"
    }
   ],
   "source": [
    "fact(5)"
   ]
  },
  {
   "cell_type": "code",
   "execution_count": 16,
   "id": "ff22d900",
   "metadata": {},
   "outputs": [],
   "source": [
    "s = \"     da   ta    \""
   ]
  },
  {
   "cell_type": "code",
   "execution_count": 17,
   "id": "b490074a",
   "metadata": {},
   "outputs": [
    {
     "data": {
      "text/plain": [
       "'da   ta'"
      ]
     },
     "execution_count": 17,
     "metadata": {},
     "output_type": "execute_result"
    }
   ],
   "source": [
    "s.strip()"
   ]
  },
  {
   "cell_type": "code",
   "execution_count": 18,
   "id": "1528bbce",
   "metadata": {},
   "outputs": [
    {
     "data": {
      "text/plain": [
       "16"
      ]
     },
     "execution_count": 18,
     "metadata": {},
     "output_type": "execute_result"
    }
   ],
   "source": [
    "len(s)"
   ]
  },
  {
   "cell_type": "code",
   "execution_count": 19,
   "id": "4f31a493",
   "metadata": {},
   "outputs": [
    {
     "data": {
      "text/plain": [
       "'     da   ta    '"
      ]
     },
     "execution_count": 19,
     "metadata": {},
     "output_type": "execute_result"
    }
   ],
   "source": [
    "s.capitalize()"
   ]
  },
  {
   "cell_type": "code",
   "execution_count": 20,
   "id": "e2e9e1f4",
   "metadata": {},
   "outputs": [
    {
     "data": {
      "text/plain": [
       "'     DA   TA    '"
      ]
     },
     "execution_count": 20,
     "metadata": {},
     "output_type": "execute_result"
    }
   ],
   "source": [
    "s.swapcase()"
   ]
  },
  {
   "cell_type": "code",
   "execution_count": 21,
   "id": "c4e89b7e",
   "metadata": {},
   "outputs": [
    {
     "data": {
      "text/plain": [
       "'    at   ad     '"
      ]
     },
     "execution_count": 21,
     "metadata": {},
     "output_type": "execute_result"
    }
   ],
   "source": [
    "s[::-1]"
   ]
  },
  {
   "cell_type": "code",
   "execution_count": 35,
   "id": "74e573ce",
   "metadata": {},
   "outputs": [],
   "source": [
    "s = [\"A\", \"B\", \"C\", \"D\", \"E\"]"
   ]
  },
  {
   "cell_type": "code",
   "execution_count": 36,
   "id": "32d47d24",
   "metadata": {},
   "outputs": [
    {
     "data": {
      "text/plain": [
       "'A'"
      ]
     },
     "execution_count": 36,
     "metadata": {},
     "output_type": "execute_result"
    }
   ],
   "source": [
    "s[0]"
   ]
  },
  {
   "cell_type": "code",
   "execution_count": 37,
   "id": "8a2aa17c",
   "metadata": {},
   "outputs": [
    {
     "data": {
      "text/plain": [
       "'B'"
      ]
     },
     "execution_count": 37,
     "metadata": {},
     "output_type": "execute_result"
    }
   ],
   "source": [
    "s[1]"
   ]
  },
  {
   "cell_type": "code",
   "execution_count": 39,
   "id": "de105a60",
   "metadata": {},
   "outputs": [
    {
     "data": {
      "text/plain": [
       "['A', 'C', 'E']"
      ]
     },
     "execution_count": 39,
     "metadata": {},
     "output_type": "execute_result"
    }
   ],
   "source": [
    "s[:: 2]"
   ]
  },
  {
   "cell_type": "code",
   "execution_count": 41,
   "id": "bb9abbcc",
   "metadata": {},
   "outputs": [],
   "source": [
    "dt = {1:\"AMAN\"}"
   ]
  },
  {
   "cell_type": "code",
   "execution_count": 42,
   "id": "c9c0dd36",
   "metadata": {},
   "outputs": [
    {
     "data": {
      "text/plain": [
       "'AMAN'"
      ]
     },
     "execution_count": 42,
     "metadata": {},
     "output_type": "execute_result"
    }
   ],
   "source": [
    "dt[1]"
   ]
  },
  {
   "cell_type": "code",
   "execution_count": 43,
   "id": "0d13efd7",
   "metadata": {},
   "outputs": [],
   "source": [
    "s = \"Aman\""
   ]
  },
  {
   "cell_type": "code",
   "execution_count": 45,
   "id": "52516ae4",
   "metadata": {},
   "outputs": [],
   "source": [
    "x = iter(s)"
   ]
  },
  {
   "cell_type": "code",
   "execution_count": 47,
   "id": "5fbf2a1e",
   "metadata": {},
   "outputs": [
    {
     "data": {
      "text/plain": [
       "'A'"
      ]
     },
     "execution_count": 47,
     "metadata": {},
     "output_type": "execute_result"
    }
   ],
   "source": [
    "next(x)"
   ]
  },
  {
   "cell_type": "code",
   "execution_count": 48,
   "id": "9b28d867",
   "metadata": {},
   "outputs": [
    {
     "data": {
      "text/plain": [
       "'m'"
      ]
     },
     "execution_count": 48,
     "metadata": {},
     "output_type": "execute_result"
    }
   ],
   "source": [
    "next(x)"
   ]
  },
  {
   "cell_type": "code",
   "execution_count": 49,
   "id": "94e62f65",
   "metadata": {},
   "outputs": [
    {
     "data": {
      "text/plain": [
       "'a'"
      ]
     },
     "execution_count": 49,
     "metadata": {},
     "output_type": "execute_result"
    }
   ],
   "source": [
    "next(x)"
   ]
  },
  {
   "cell_type": "code",
   "execution_count": 50,
   "id": "7711d27d",
   "metadata": {},
   "outputs": [
    {
     "data": {
      "text/plain": [
       "'n'"
      ]
     },
     "execution_count": 50,
     "metadata": {},
     "output_type": "execute_result"
    }
   ],
   "source": [
    "next(x)"
   ]
  },
  {
   "cell_type": "code",
   "execution_count": 52,
   "id": "c2c4679a",
   "metadata": {},
   "outputs": [],
   "source": [
    "x = range(0, 100)"
   ]
  },
  {
   "cell_type": "code",
   "execution_count": 53,
   "id": "6bdb3741",
   "metadata": {},
   "outputs": [
    {
     "data": {
      "text/plain": [
       "range(0, 100)"
      ]
     },
     "execution_count": 53,
     "metadata": {},
     "output_type": "execute_result"
    }
   ],
   "source": [
    "x"
   ]
  },
  {
   "cell_type": "code",
   "execution_count": 57,
   "id": "b99f7948",
   "metadata": {},
   "outputs": [
    {
     "data": {
      "text/plain": [
       "[0, 1, 2, 3, 4, 5, 6, 7, 8, 9]"
      ]
     },
     "execution_count": 57,
     "metadata": {},
     "output_type": "execute_result"
    }
   ],
   "source": [
    "y = [i for i in range(10)]\n",
    "y"
   ]
  },
  {
   "cell_type": "code",
   "execution_count": 58,
   "id": "b47d24b1",
   "metadata": {},
   "outputs": [],
   "source": [
    "x = []\n",
    "for i in range(10):\n",
    "    x.append(i)"
   ]
  },
  {
   "cell_type": "code",
   "execution_count": 59,
   "id": "ed17a959",
   "metadata": {},
   "outputs": [
    {
     "data": {
      "text/plain": [
       "[0, 1, 2, 3, 4, 5, 6, 7, 8, 9]"
      ]
     },
     "execution_count": 59,
     "metadata": {},
     "output_type": "execute_result"
    }
   ],
   "source": [
    "x"
   ]
  },
  {
   "cell_type": "code",
   "execution_count": 61,
   "id": "c80adb61",
   "metadata": {},
   "outputs": [],
   "source": [
    "def fun1():\n",
    "    print(\"Hello\")\n",
    "    def func2():\n",
    "        print(\"H1\")\n",
    "    func2()"
   ]
  },
  {
   "cell_type": "code",
   "execution_count": null,
   "id": "e0aff992",
   "metadata": {},
   "outputs": [],
   "source": []
  },
  {
   "cell_type": "code",
   "execution_count": 62,
   "id": "11d43537",
   "metadata": {},
   "outputs": [
    {
     "name": "stdout",
     "output_type": "stream",
     "text": [
      "Hello\n",
      "H1\n"
     ]
    }
   ],
   "source": [
    "fun1()"
   ]
  },
  {
   "cell_type": "code",
   "execution_count": 5,
   "id": "c1903417",
   "metadata": {},
   "outputs": [],
   "source": [
    "x = 10\n",
    "def fun1():\n",
    "    print(x)"
   ]
  },
  {
   "cell_type": "code",
   "execution_count": null,
   "id": "7c599392",
   "metadata": {},
   "outputs": [],
   "source": []
  },
  {
   "cell_type": "code",
   "execution_count": null,
   "id": "e8ddc971",
   "metadata": {},
   "outputs": [],
   "source": []
  },
  {
   "cell_type": "code",
   "execution_count": null,
   "id": "939390d3",
   "metadata": {},
   "outputs": [],
   "source": []
  },
  {
   "cell_type": "code",
   "execution_count": null,
   "id": "f58dfa31",
   "metadata": {},
   "outputs": [],
   "source": []
  },
  {
   "cell_type": "code",
   "execution_count": null,
   "id": "1d7bca4f",
   "metadata": {},
   "outputs": [],
   "source": []
  }
 ],
 "metadata": {
  "kernelspec": {
   "display_name": "Python 3 (ipykernel)",
   "language": "python",
   "name": "python3"
  },
  "language_info": {
   "codemirror_mode": {
    "name": "ipython",
    "version": 3
   },
   "file_extension": ".py",
   "mimetype": "text/x-python",
   "name": "python",
   "nbconvert_exporter": "python",
   "pygments_lexer": "ipython3",
   "version": "3.10.10"
  }
 },
 "nbformat": 4,
 "nbformat_minor": 5
}
