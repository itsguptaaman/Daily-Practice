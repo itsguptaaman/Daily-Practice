{
 "cells": [
  {
   "cell_type": "code",
   "execution_count": 1,
   "id": "a68170d3",
   "metadata": {},
   "outputs": [],
   "source": [
    "# Short hand If and else"
   ]
  },
  {
   "cell_type": "code",
   "execution_count": 2,
   "id": "0110042d",
   "metadata": {},
   "outputs": [
    {
     "name": "stdout",
     "output_type": "stream",
     "text": [
      "a = 3303 is greater than b = 330\n"
     ]
    }
   ],
   "source": [
    "a = 3303\n",
    "b = 330\n",
    "\n",
    "print(f\"a = {a} is greater than b = {b}\") if a > b else print(f\"b = {b} is greater than a = {a}\") if b > a else print(\"Both are equal\")"
   ]
  },
  {
   "cell_type": "code",
   "execution_count": 3,
   "id": "f5e3956b",
   "metadata": {},
   "outputs": [
    {
     "name": "stdout",
     "output_type": "stream",
     "text": [
      "9\n"
     ]
    }
   ],
   "source": [
    "c = 9 if a > b else 0\n",
    "print(c)"
   ]
  },
  {
   "cell_type": "code",
   "execution_count": 4,
   "id": "d7e92571",
   "metadata": {},
   "outputs": [
    {
     "name": "stdout",
     "output_type": "stream",
     "text": [
      "12\n",
      "57\n",
      "32\n",
      "98\n",
      "Hello, world!\n",
      "12\n",
      "15\n",
      "1\n",
      "4\n"
     ]
    }
   ],
   "source": [
    "# Enumerates in python\n",
    "marks = [12, 57, 32, 98, 12, 15, 1, 4]\n",
    "\n",
    "for index, mark in enumerate(marks):\n",
    "    print(mark)\n",
    "    if index == 3:\n",
    "        print(\"Hello, world!\")"
   ]
  },
  {
   "cell_type": "code",
   "execution_count": 5,
   "id": "fdc32a5a",
   "metadata": {},
   "outputs": [
    {
     "name": "stdout",
     "output_type": "stream",
     "text": [
      "1\n",
      "2\n",
      "3\n",
      "Hello, world!\n",
      "4\n",
      "5\n",
      "6\n",
      "7\n",
      "8\n"
     ]
    }
   ],
   "source": [
    "# Making index=1 \n",
    "marks = [12, 57, 32, 98, 12, 15, 1, 4]\n",
    "\n",
    "for index, mark in enumerate(marks, start=1):\n",
    "    print(index)\n",
    "    if index == 3:\n",
    "        print(\"Hello, world!\")"
   ]
  },
  {
   "cell_type": "code",
   "execution_count": 6,
   "id": "441d1231",
   "metadata": {},
   "outputs": [],
   "source": [
    "from math import sqrt, pi"
   ]
  },
  {
   "cell_type": "code",
   "execution_count": 7,
   "id": "099a2301",
   "metadata": {},
   "outputs": [
    {
     "data": {
      "text/plain": [
       "6.283185307179586"
      ]
     },
     "execution_count": 7,
     "metadata": {},
     "output_type": "execute_result"
    }
   ],
   "source": [
    "result = sqrt(4) * pi\n",
    "result"
   ]
  },
  {
   "cell_type": "code",
   "execution_count": 8,
   "id": "c4fcf899",
   "metadata": {},
   "outputs": [],
   "source": [
    "# To import all the functions and method in math\n",
    "from math import *"
   ]
  },
  {
   "cell_type": "code",
   "execution_count": 9,
   "id": "a5a807c8",
   "metadata": {},
   "outputs": [
    {
     "name": "stdout",
     "output_type": "stream",
     "text": [
      "3.141592653589793\n"
     ]
    }
   ],
   "source": [
    "# Using alias\n",
    "import math as m\n",
    "print(m.pi)"
   ]
  },
  {
   "cell_type": "code",
   "execution_count": 10,
   "id": "af7720ed",
   "metadata": {},
   "outputs": [],
   "source": [
    "from math import sqrt as s"
   ]
  },
  {
   "cell_type": "code",
   "execution_count": 11,
   "id": "5892db8d",
   "metadata": {},
   "outputs": [
    {
     "data": {
      "text/plain": [
       "2.0"
      ]
     },
     "execution_count": 11,
     "metadata": {},
     "output_type": "execute_result"
    }
   ],
   "source": [
    "s(4)"
   ]
  },
  {
   "cell_type": "code",
   "execution_count": 12,
   "id": "e3c743d0",
   "metadata": {},
   "outputs": [
    {
     "data": {
      "text/plain": [
       "['__doc__',\n",
       " '__loader__',\n",
       " '__name__',\n",
       " '__package__',\n",
       " '__spec__',\n",
       " 'acos',\n",
       " 'acosh',\n",
       " 'asin',\n",
       " 'asinh',\n",
       " 'atan',\n",
       " 'atan2',\n",
       " 'atanh',\n",
       " 'ceil',\n",
       " 'comb',\n",
       " 'copysign',\n",
       " 'cos',\n",
       " 'cosh',\n",
       " 'degrees',\n",
       " 'dist',\n",
       " 'e',\n",
       " 'erf',\n",
       " 'erfc',\n",
       " 'exp',\n",
       " 'expm1',\n",
       " 'fabs',\n",
       " 'factorial',\n",
       " 'floor',\n",
       " 'fmod',\n",
       " 'frexp',\n",
       " 'fsum',\n",
       " 'gamma',\n",
       " 'gcd',\n",
       " 'hypot',\n",
       " 'inf',\n",
       " 'isclose',\n",
       " 'isfinite',\n",
       " 'isinf',\n",
       " 'isnan',\n",
       " 'isqrt',\n",
       " 'lcm',\n",
       " 'ldexp',\n",
       " 'lgamma',\n",
       " 'log',\n",
       " 'log10',\n",
       " 'log1p',\n",
       " 'log2',\n",
       " 'modf',\n",
       " 'nan',\n",
       " 'nextafter',\n",
       " 'perm',\n",
       " 'pi',\n",
       " 'pow',\n",
       " 'prod',\n",
       " 'radians',\n",
       " 'remainder',\n",
       " 'sin',\n",
       " 'sinh',\n",
       " 'sqrt',\n",
       " 'tan',\n",
       " 'tanh',\n",
       " 'tau',\n",
       " 'trunc',\n",
       " 'ulp']"
      ]
     },
     "execution_count": 12,
     "metadata": {},
     "output_type": "execute_result"
    }
   ],
   "source": [
    "# Checking all the methods and functions inside math\n",
    "import math\n",
    "dir(math)"
   ]
  },
  {
   "cell_type": "code",
   "execution_count": 13,
   "id": "6182c590",
   "metadata": {},
   "outputs": [
    {
     "data": {
      "text/plain": [
       "float"
      ]
     },
     "execution_count": 13,
     "metadata": {},
     "output_type": "execute_result"
    }
   ],
   "source": [
    "type(math.nan)"
   ]
  },
  {
   "cell_type": "code",
   "execution_count": 14,
   "id": "5c034c20",
   "metadata": {},
   "outputs": [
    {
     "data": {
      "text/plain": [
       "'__main__'"
      ]
     },
     "execution_count": 14,
     "metadata": {},
     "output_type": "execute_result"
    }
   ],
   "source": [
    "__name__"
   ]
  },
  {
   "cell_type": "code",
   "execution_count": 17,
   "id": "7fc6e6a5",
   "metadata": {},
   "outputs": [
    {
     "name": "stdout",
     "output_type": "stream",
     "text": [
      "4\n",
      "The global x is 4\n",
      "The local x is 5\n",
      "Hello world!\n",
      "The global x is 4\n"
     ]
    }
   ],
   "source": [
    "# Local and Global variables\n",
    "x = 4\n",
    "print(x)\n",
    "\n",
    "def hello():\n",
    "    x = 5\n",
    "    print(f\"The local x is {x}\")\n",
    "    print(\"Hello world!\")\n",
    "\n",
    "print(f\"The global x is {x}\")\n",
    "hello()\n",
    "print(f\"The global x is {x}\")"
   ]
  },
  {
   "cell_type": "code",
   "execution_count": 18,
   "id": "ec029842",
   "metadata": {},
   "outputs": [
    {
     "name": "stdout",
     "output_type": "stream",
     "text": [
      "4\n",
      "The global x is 4\n",
      "The local x is 5\n",
      "Hello world!\n",
      "The global x is 5\n"
     ]
    }
   ],
   "source": [
    "x = 4\n",
    "print(x)\n",
    "\n",
    "def hello():\n",
    "    global x\n",
    "    x = 5\n",
    "    print(f\"The local x is {x}\")\n",
    "    print(\"Hello world!\")\n",
    "\n",
    "print(f\"The global x is {x}\")\n",
    "hello()\n",
    "print(f\"The global x is {x}\")"
   ]
  },
  {
   "cell_type": "code",
   "execution_count": 19,
   "id": "65cd8fa4",
   "metadata": {},
   "outputs": [
    {
     "data": {
      "text/plain": [
       "<_io.TextIOWrapper name='myfile.txt' mode='r' encoding='cp1252'>"
      ]
     },
     "execution_count": 19,
     "metadata": {},
     "output_type": "execute_result"
    }
   ],
   "source": [
    "# File Handelling \n",
    "f = open('myfile.txt', 'r')\n",
    "f"
   ]
  },
  {
   "cell_type": "code",
   "execution_count": 20,
   "id": "2bfe7739",
   "metadata": {},
   "outputs": [
    {
     "name": "stdout",
     "output_type": "stream",
     "text": [
      "Hey!!! Python, ML, DL, CV, NLP.\n"
     ]
    }
   ],
   "source": [
    "text = f.read()\n",
    "print(text)\n",
    "f.close()"
   ]
  },
  {
   "cell_type": "code",
   "execution_count": 21,
   "id": "4ceecfcd",
   "metadata": {},
   "outputs": [
    {
     "name": "stdout",
     "output_type": "stream",
     "text": [
      "Hey!!! Python, ML, DL, CV, NLP.\n"
     ]
    }
   ],
   "source": [
    "# Default mode is read\n",
    "f = open('myfile.txt')\n",
    "text = f.read()\n",
    "print(text)\n",
    "f.close()"
   ]
  },
  {
   "cell_type": "code",
   "execution_count": null,
   "id": "48896d1a",
   "metadata": {},
   "outputs": [],
   "source": [
    "# It will create the file if exist it will over write it\n",
    "# f = open('myfile.txt', \"wb\")\n",
    "# f.close()"
   ]
  },
  {
   "cell_type": "code",
   "execution_count": 22,
   "id": "3ac48561",
   "metadata": {},
   "outputs": [],
   "source": [
    "f = open('myfile.txt', 'a')\n",
    "f.write(\"FAST_API, SQL\")\n",
    "f.close()"
   ]
  },
  {
   "cell_type": "code",
   "execution_count": 32,
   "id": "b754c93c",
   "metadata": {},
   "outputs": [
    {
     "name": "stdout",
     "output_type": "stream",
     "text": [
      " Python, ML, DL, CV, NLP.\n",
      "FAST_API\n",
      "SQL\n",
      "CICD\n",
      "52\n"
     ]
    }
   ],
   "source": [
    "with open('myfile.txt') as data:\n",
    "    data.seek(6)\n",
    "    print(data.read())\n",
    "    print(data.tell())\n",
    "    data.close"
   ]
  },
  {
   "cell_type": "code",
   "execution_count": 27,
   "id": "d733b0ea",
   "metadata": {},
   "outputs": [
    {
     "name": "stdout",
     "output_type": "stream",
     "text": [
      "Hey!!! Python, ML, DL, CV, NLP.\n",
      "\n",
      "FAST_API\n",
      "\n",
      "SQL\n",
      "\n",
      "CICD\n"
     ]
    }
   ],
   "source": [
    "f = open('myfile.txt', 'r')\n",
    "while True:\n",
    "     line = f. readline()\n",
    "     if not line:\n",
    "         break\n",
    "     print(line)\n"
   ]
  },
  {
   "cell_type": "code",
   "execution_count": 35,
   "id": "0e7d4fd2",
   "metadata": {},
   "outputs": [],
   "source": [
    "# Lambda functions\n",
    "x = lambda x: x**2"
   ]
  },
  {
   "cell_type": "code",
   "execution_count": 37,
   "id": "7116569e",
   "metadata": {},
   "outputs": [
    {
     "data": {
      "text/plain": [
       "81"
      ]
     },
     "execution_count": 37,
     "metadata": {},
     "output_type": "execute_result"
    }
   ],
   "source": [
    "x(9)"
   ]
  },
  {
   "cell_type": "code",
   "execution_count": 38,
   "id": "4255bf12",
   "metadata": {},
   "outputs": [
    {
     "data": {
      "text/plain": [
       "10"
      ]
     },
     "execution_count": 38,
     "metadata": {},
     "output_type": "execute_result"
    }
   ],
   "source": [
    "# passng function as a parameter\n",
    "def apply(fx, value):\n",
    "    return 6 + fx(value)\n",
    "apply(x, 2)"
   ]
  },
  {
   "cell_type": "code",
   "execution_count": 40,
   "id": "418299ce",
   "metadata": {},
   "outputs": [
    {
     "data": {
      "text/plain": [
       "[1, 4, 9, 16, 25, 36, 49, 64]"
      ]
     },
     "execution_count": 40,
     "metadata": {},
     "output_type": "execute_result"
    }
   ],
   "source": [
    "# Map\n",
    "l = [1, 2, 3, 4, 5, 6, 7, 8]\n",
    "list(map(x, l))"
   ]
  },
  {
   "cell_type": "code",
   "execution_count": 41,
   "id": "ce87f437",
   "metadata": {},
   "outputs": [
    {
     "data": {
      "text/plain": [
       "[5, 6, 7, 8]"
      ]
     },
     "execution_count": 41,
     "metadata": {},
     "output_type": "execute_result"
    }
   ],
   "source": [
    "# Filter\n",
    "fl = lambda x: x > 4\n",
    "list(filter(fl, l))"
   ]
  },
  {
   "cell_type": "code",
   "execution_count": 42,
   "id": "cda50b51",
   "metadata": {},
   "outputs": [
    {
     "data": {
      "text/plain": [
       "36"
      ]
     },
     "execution_count": 42,
     "metadata": {},
     "output_type": "execute_result"
    }
   ],
   "source": [
    "# Reduce\n",
    "from functools import reduce\n",
    "\n",
    "sm = reduce(lambda x, y: x + y, l)\n",
    "sm"
   ]
  },
  {
   "cell_type": "code",
   "execution_count": 46,
   "id": "af940b9b",
   "metadata": {},
   "outputs": [],
   "source": [
    "a = [4]\n",
    "b = [4]"
   ]
  },
  {
   "cell_type": "code",
   "execution_count": 47,
   "id": "0c7dc9c4",
   "metadata": {},
   "outputs": [
    {
     "data": {
      "text/plain": [
       "False"
      ]
     },
     "execution_count": 47,
     "metadata": {},
     "output_type": "execute_result"
    }
   ],
   "source": [
    "a is b # exact location of object in memory"
   ]
  },
  {
   "cell_type": "code",
   "execution_count": 48,
   "id": "14e4efcf",
   "metadata": {},
   "outputs": [
    {
     "data": {
      "text/plain": [
       "True"
      ]
     },
     "execution_count": 48,
     "metadata": {},
     "output_type": "execute_result"
    }
   ],
   "source": [
    "a == b # value"
   ]
  },
  {
   "cell_type": "code",
   "execution_count": 51,
   "id": "896db35d",
   "metadata": {},
   "outputs": [
    {
     "name": "stdout",
     "output_type": "stream",
     "text": [
      "Shubham Builder\n",
      "Shubham is a Builder\n"
     ]
    }
   ],
   "source": [
    "# Class and Objects\n",
    "class Person:\n",
    "    \n",
    "    name = \"Aman\"\n",
    "    occupation = \"Software Developer\"\n",
    "    networth = 10\n",
    "    \n",
    "    def info(self):\n",
    "        print(f\"{self.name} is a {self.occupation}\")\n",
    "\n",
    "a = Person()\n",
    "a.name = \"Shubham\"\n",
    "a.occupation = \"Builder\"\n",
    "\n",
    "print(a.name, a.occupation)\n",
    "a.info()"
   ]
  },
  {
   "cell_type": "code",
   "execution_count": 56,
   "id": "492b02ba",
   "metadata": {},
   "outputs": [
    {
     "name": "stdout",
     "output_type": "stream",
     "text": [
      "Good morning\n",
      "Hello World\n",
      "Thanks for using this function\n"
     ]
    }
   ],
   "source": [
    "# Decorators\n",
    "def greet(fx):\n",
    "    def mfx(*args, **kwargs):\n",
    "        print(\"Good morning\")\n",
    "        fx(*args, **kwargs)\n",
    "        print(\"Thanks for using this function\")\n",
    "    return mfx\n",
    "\n",
    "@greet\n",
    "def hello():\n",
    "    print(\"Hello World\")\n",
    "\n",
    "def add(a, b):\n",
    "    print(a + b)\n",
    "    \n",
    "hello()"
   ]
  },
  {
   "cell_type": "code",
   "execution_count": 57,
   "id": "13de1bfe",
   "metadata": {},
   "outputs": [
    {
     "name": "stdout",
     "output_type": "stream",
     "text": [
      "Good morning\n",
      "Good morning\n",
      "Hello World\n",
      "Thanks for using this function\n",
      "Thanks for using this function\n"
     ]
    }
   ],
   "source": [
    "greet(hello)()"
   ]
  },
  {
   "cell_type": "code",
   "execution_count": 58,
   "id": "25326b25",
   "metadata": {},
   "outputs": [],
   "source": [
    "# Getters and setters method (Encapsulations)"
   ]
  },
  {
   "cell_type": "code",
   "execution_count": 67,
   "id": "ac37fdbf",
   "metadata": {},
   "outputs": [],
   "source": [
    "class MyClass:\n",
    "    def __init__(self, value):\n",
    "        self._value = value\n",
    "    \n",
    "    def show(self):\n",
    "        print(f\"{self._value}\")\n",
    "        \n",
    "    @property\n",
    "    def ten_value(self):\n",
    "        return self._value * 10\n",
    "    \n",
    "    @ten_value.setter\n",
    "    def ten_value(self, new_value):\n",
    "        self._value = new_value / 10\n"
   ]
  },
  {
   "cell_type": "code",
   "execution_count": 69,
   "id": "797931c3",
   "metadata": {},
   "outputs": [
    {
     "name": "stdout",
     "output_type": "stream",
     "text": [
      "67.0\n",
      "6.7\n"
     ]
    }
   ],
   "source": [
    "obj = MyClass(10)\n",
    "obj.ten_value = 67\n",
    "print(obj.ten_value)\n",
    "obj.show()"
   ]
  },
  {
   "cell_type": "code",
   "execution_count": 81,
   "id": "143c8b08",
   "metadata": {},
   "outputs": [],
   "source": [
    "# Static method\n",
    "class Math:\n",
    "    def __init__(self, num):\n",
    "        self.num = num\n",
    "    \n",
    "    def addtonum(self, n):\n",
    "        self. num = self. num + n\n",
    "    \n",
    "    @staticmethod\n",
    "    def add(a, b):\n",
    "        return a + b\n"
   ]
  },
  {
   "cell_type": "code",
   "execution_count": 82,
   "id": "ac3cfa81",
   "metadata": {},
   "outputs": [
    {
     "name": "stdout",
     "output_type": "stream",
     "text": [
      "5\n"
     ]
    },
    {
     "data": {
      "text/plain": [
       "11"
      ]
     },
     "execution_count": 82,
     "metadata": {},
     "output_type": "execute_result"
    }
   ],
   "source": [
    "a = Math(5)\n",
    "print(a.num)\n",
    "a.addtonum(6)\n",
    "a.num"
   ]
  },
  {
   "cell_type": "code",
   "execution_count": 83,
   "id": "34349b4a",
   "metadata": {},
   "outputs": [
    {
     "data": {
      "text/plain": [
       "7"
      ]
     },
     "execution_count": 83,
     "metadata": {},
     "output_type": "execute_result"
    }
   ],
   "source": [
    "a.add(2, 5)"
   ]
  },
  {
   "cell_type": "code",
   "execution_count": 84,
   "id": "b75361db",
   "metadata": {},
   "outputs": [
    {
     "data": {
      "text/plain": [
       "12"
      ]
     },
     "execution_count": 84,
     "metadata": {},
     "output_type": "execute_result"
    }
   ],
   "source": [
    "Math.add(10,2)"
   ]
  },
  {
   "cell_type": "code",
   "execution_count": null,
   "id": "e94d9469",
   "metadata": {},
   "outputs": [],
   "source": []
  },
  {
   "cell_type": "code",
   "execution_count": null,
   "id": "ab4a4b89",
   "metadata": {},
   "outputs": [],
   "source": []
  },
  {
   "cell_type": "code",
   "execution_count": null,
   "id": "17a83c5d",
   "metadata": {},
   "outputs": [],
   "source": []
  }
 ],
 "metadata": {
  "kernelspec": {
   "display_name": "Python 3 (ipykernel)",
   "language": "python",
   "name": "python3"
  },
  "language_info": {
   "codemirror_mode": {
    "name": "ipython",
    "version": 3
   },
   "file_extension": ".py",
   "mimetype": "text/x-python",
   "name": "python",
   "nbconvert_exporter": "python",
   "pygments_lexer": "ipython3",
   "version": "3.10.10"
  }
 },
 "nbformat": 4,
 "nbformat_minor": 5
}
