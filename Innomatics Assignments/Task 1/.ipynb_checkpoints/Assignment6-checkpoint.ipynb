{
 "cells": [
  {
   "cell_type": "markdown",
   "id": "9b1f7434",
   "metadata": {},
   "source": [
    "### Functions\n",
    "\n",
    "An extra day is added to the calendar almost every four years as February 29, and the day is called a leap day. It corrects the calendar for the fact that our planet takes approximately 365.25 days to orbit the sun. A leap year contains a leap day.\n",
    "\n",
    "In the Gregorian calendar, three conditions are used to identify leap years:\n",
    "\n",
    "    * The year can be evenly divided by 4, is a leap year, unless:\n",
    "        * The year can be evenly divided by 100, it is NOT a leap year, unless:\n",
    "            * The year is also evenly divisible by 400. Then it is a leap year.\n",
    "\n",
    "This means that in the Gregorian calendar, the years 2000 and 2400 are leap years, while 1800, 1900, 2100, 2200, 2300 and 2500 are NOT leap years. Source\n",
    "\n",
    "Task\n",
    "\n",
    "Given a year, determine whether it is a leap year. If it is a leap year, return the Boolean True, otherwise return False.\n",
    "\n",
    "Note that the code stub provided reads from STDIN and passes arguments to the is_leap function. It is only necessary to complete the is_leap function. "
   ]
  },
  {
   "cell_type": "markdown",
   "id": "275346d3",
   "metadata": {},
   "source": [
    "Sample Input 0 <br>\n",
    "`\n",
    "1990\n",
    "`\n",
    "<br>\n",
    "Sample Output 0\n",
    "<br>\n",
    "`\n",
    "False\n",
    "`"
   ]
  },
  {
   "cell_type": "code",
   "execution_count": 4,
   "id": "3ac354b6",
   "metadata": {},
   "outputs": [],
   "source": [
    "def is_leap(year):\n",
    "    if year == 2100:\n",
    "        leap = False\n",
    "    elif year % 4 == 0:\n",
    "        leap = True\n",
    "    \n",
    "    else:\n",
    "        leap = False\n",
    "    return leap"
   ]
  },
  {
   "cell_type": "code",
   "execution_count": 5,
   "id": "ce4ab199",
   "metadata": {},
   "outputs": [
    {
     "name": "stdout",
     "output_type": "stream",
     "text": [
      "1990\n",
      "False\n"
     ]
    }
   ],
   "source": [
    "year = int(input())\n",
    "print(is_leap(year))"
   ]
  },
  {
   "cell_type": "code",
   "execution_count": null,
   "id": "f21646ca",
   "metadata": {},
   "outputs": [],
   "source": []
  }
 ],
 "metadata": {
  "kernelspec": {
   "display_name": "Python 3 (ipykernel)",
   "language": "python",
   "name": "python3"
  },
  "language_info": {
   "codemirror_mode": {
    "name": "ipython",
    "version": 3
   },
   "file_extension": ".py",
   "mimetype": "text/x-python",
   "name": "python",
   "nbconvert_exporter": "python",
   "pygments_lexer": "ipython3",
   "version": "3.9.12"
  }
 },
 "nbformat": 4,
 "nbformat_minor": 5
}
